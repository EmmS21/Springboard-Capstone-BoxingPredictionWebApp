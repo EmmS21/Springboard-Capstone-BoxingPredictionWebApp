{
 "cells": [
  {
   "cell_type": "code",
   "execution_count": 68,
   "metadata": {},
   "outputs": [],
   "source": [
    "import pandas as pd\n",
    "path = 'C:\\\\Users\\\\User\\\\Documents\\\\dataset.csv'\n",
    "boxing = pd.read_csv(path,header=None)\n"
   ]
  },
  {
   "cell_type": "code",
   "execution_count": 324,
   "metadata": {},
   "outputs": [],
   "source": [
    "#select columns of interest\n",
    "ax = boxing[boxing.columns[-2041:]]\n",
    "#concatenate columns \n",
    "df = pd.DataFrame(ax[ax.columns[0:]].apply(lambda x: ' '.join(x.astype(str)),axis=1))\n",
    "df = pd.DataFrame(df[0].str.replace('date','dateday'))\n",
    "#split each fight into a separate column\n",
    "df_split = pd.DataFrame(df_two[0].str.split('date',expand=True))\n",
    "#split fight info \n",
    "def func(df,col):\n",
    "    return df[col].str.extract('day(?P<day>.*?)firstBoxerRating(?P<firstBoxerRating>.*?)firstBoxerWeight(?P<firstBoxerWeight>.*?)judges(?P<JudgeID>.*?)links(?P<Links>.*?)location(?P<location>.*?)metadata(?P<metadata>.*?)numberOfRounds(?P<numberofrounds>.*?)outcome(?P<outcome>.*?)rating(?P<rating>.*?)referee(?P<referee>.*?)secondBoxer(?P<secondBoxer>.*?)secondBoxerLast6(?P<secondBoxerLast6>.*?)secondBoxerRating(?P<secondBoxerRating>.*?)secondBoxerRecord(?P<secondBoxerRecord>.*?)secondBoxerWeight(?P<secondBoxerWeight>.*?)titles(?P<titles>.*?)')"
   ]
  },
  {
   "cell_type": "code",
   "execution_count": 325,
   "metadata": {},
   "outputs": [],
   "source": [
    "for i in range(1,len(df_split.columns)-1):\n",
    "    df_split[['date'+str(i), 'firstBoxerRating'+str(i), 'firstBoxerWeight'+str(i), 'JudgeID'+str(i), 'Links'+str(i),\n",
    "       'location'+str(i), 'metadata'+str(i), 'numberofrounds'+str(i), 'outcome'+str(i), 'rating'+str(i),\n",
    "       'referee'+str(i), 'secondBoxer'+str(i), 'secondBoxerLast6'+str(i), 'secondBoxerRating'+str(i),\n",
    "       'secondBoxerRecord'+str(i), 'secondBoxerWeight'+str(i), 'titles'+str(i)]] = func(df_split,i)\n",
    "df_split.drop([0,1,2,3,4,5,6,7,8,9,10,11,12,13,14,15,16,17,18,19,20,\n",
    "                       21,22,23,24,25,26,27,28,29,30,31,32,33,34,35,36,37,38,39,40,\n",
    "                      41,42,43],axis=1,inplace=True)"
   ]
  },
  {
   "cell_type": "code",
   "execution_count": 326,
   "metadata": {},
   "outputs": [],
   "source": [
    "df_split[['alias','birthdate']]  = boxing[[1,6]]\n",
    "df_split = df_split.set_index(['alias','birthdate']).reset_index()\n",
    "original = pd.read_csv('C:\\\\Users\\\\User\\\\Documents\\\\testingclean.csv')\n",
    "#merge data\n",
    "enriched_data = pd.concat([original,df_split],sort=False).set_index('id')\n",
    "#write to file\n",
    "enriched_data.to_csv(\"C:\\\\Users\\\\User\\\\Documents\\\\enricheddata.csv\")"
   ]
  }
 ],
 "metadata": {
  "kernelspec": {
   "display_name": "Python 3",
   "language": "python",
   "name": "python3"
  },
  "language_info": {
   "codemirror_mode": {
    "name": "ipython",
    "version": 3
   },
   "file_extension": ".py",
   "mimetype": "text/x-python",
   "name": "python",
   "nbconvert_exporter": "python",
   "pygments_lexer": "ipython3",
   "version": "3.7.4"
  }
 },
 "nbformat": 4,
 "nbformat_minor": 2
}
