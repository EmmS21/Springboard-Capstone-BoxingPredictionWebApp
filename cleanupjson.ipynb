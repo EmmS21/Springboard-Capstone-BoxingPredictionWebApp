{
 "cells": [
  {
   "cell_type": "code",
   "execution_count": 25,
   "metadata": {},
   "outputs": [
    {
     "name": "stdout",
     "output_type": "stream",
     "text": [
      "Collecting Naked\n",
      "  Downloading https://files.pythonhosted.org/packages/02/36/b8107b51adca73402ec1860d88f41d958e275e60eea6eeaa9c39ddb89a40/Naked-0.1.31-py2.py3-none-any.whl (590kB)\n",
      "Requirement already satisfied: pyyaml in c:\\users\\user\\anaconda3\\lib\\site-packages (from Naked) (5.1.2)\n",
      "Requirement already satisfied: requests in c:\\users\\user\\anaconda3\\lib\\site-packages (from Naked) (2.22.0)\n",
      "Requirement already satisfied: urllib3!=1.25.0,!=1.25.1,<1.26,>=1.21.1 in c:\\users\\user\\anaconda3\\lib\\site-packages (from requests->Naked) (1.24.2)\n",
      "Requirement already satisfied: idna<2.9,>=2.5 in c:\\users\\user\\anaconda3\\lib\\site-packages (from requests->Naked) (2.8)\n",
      "Requirement already satisfied: chardet<3.1.0,>=3.0.2 in c:\\users\\user\\anaconda3\\lib\\site-packages (from requests->Naked) (3.0.4)\n",
      "Requirement already satisfied: certifi>=2017.4.17 in c:\\users\\user\\anaconda3\\lib\\site-packages (from requests->Naked) (2019.9.11)\n",
      "Installing collected packages: Naked\n",
      "Successfully installed Naked-0.1.31\n",
      "Note: you may need to restart the kernel to use updated packages.\n"
     ]
    }
   ],
   "source": [
    "pip install Naked"
   ]
  },
  {
   "cell_type": "code",
   "execution_count": 183,
   "metadata": {},
   "outputs": [
    {
     "name": "stdout",
     "output_type": "stream",
     "text": [
      "Ran successfully\n"
     ]
    }
   ],
   "source": [
    "from Naked.toolshed.shell import muterun_js\n",
    "import pandas as pd\n",
    "success = muterun_js('index.js')\n",
    "if success.exitcode == 0:\n",
    "    print('Ran successfully')\n",
    "else:\n",
    "    print('Index.js did not produce any output')"
   ]
  },
  {
   "cell_type": "code",
   "execution_count": 238,
   "metadata": {},
   "outputs": [],
   "source": [
    "a = pd.read_json('C:\\\\Users\\\\User\\\\Documents\\\\testing.json',orient='columns')\n",
    "def unpack_json(col_name):\n",
    "    return a[col_name].apply(pd.Series)\n",
    "a = unpack_json(str('boxers'))\n",
    "a[['draw','loss','win']] = unpack_json(str('record'))\n",
    "a[['country','region','town']] = unpack_json(str('residence'))\n",
    "a[['countryid','countryName']] = unpack_json(str('country'))\n",
    "a[['cityId','cityName']] = unpack_json(str('town'))\n",
    "# a = unpack_json(str('residence'))\n",
    "a.drop(['record','residence','country','region','town','cityId'],axis=1,inplace=True)\n",
    "a = a.set_index(['id','name']).reset_index()\n",
    "a.to_csv('C:\\\\Users\\\\User\\\\Documents\\\\testingclean.csv')"
   ]
  },
  {
   "cell_type": "code",
   "execution_count": 240,
   "metadata": {},
   "outputs": [],
   "source": [
    "a.to_csv('C:\\\\Users\\\\User\\\\Documents\\\\testingclean.csv')"
   ]
  }
 ],
 "metadata": {
  "kernelspec": {
   "display_name": "Python 3",
   "language": "python",
   "name": "python3"
  },
  "language_info": {
   "codemirror_mode": {
    "name": "ipython",
    "version": 3
   },
   "file_extension": ".py",
   "mimetype": "text/x-python",
   "name": "python",
   "nbconvert_exporter": "python",
   "pygments_lexer": "ipython3",
   "version": "3.7.4"
  }
 },
 "nbformat": 4,
 "nbformat_minor": 2
}
