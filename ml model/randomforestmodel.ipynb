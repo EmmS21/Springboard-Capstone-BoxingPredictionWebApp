{
 "cells": [
  {
   "cell_type": "code",
   "execution_count": 6,
   "metadata": {},
   "outputs": [
    {
     "name": "stderr",
     "output_type": "stream",
     "text": [
      "C:\\Users\\User\\Anaconda3\\lib\\site-packages\\IPython\\core\\interactiveshell.py:3058: DtypeWarning: Columns (697,700,717,734,751,759,760,762,763,764,765,766,767,768,769,770,771,772,773,775,776,777,779,780,781,782,783,784,785,786,787,788,789,790,792,793,794,796,797,798,799,800,801,802,803,804,805,806,807,809,810,811,813,814,815,816,817,818,819,820,821,822,823,824,826,827,828,830,831,832,833,834,835,836,837,838,839,840,841,843,844,845,847,848,849,850,851,852,853,854,855,856,857,858,860,861,862,864,865,866,867,868,869,870,871,872,873,874,875,877,878,879,881,882,883,884,885,886,887,888,889,890,891,892,894,895,896,898,899,900,901,902,903,904,905,906,907,908,909,911,912,913,915,916,917,918,919,920,921,922,923,924,925,926,928,929,930,932,933,934,935,936,937,938,939,940,941,942,943,945,946,947,949,950,951,952,953,954,955,956,957,958,959,960,962,963,964,966,967,968,969,970,971,972,973,974,975,976,977,979,980,981,983,984,985,986,987,988,989,990,991,992,993,994,996,997,998,1000,1001,1002,1003,1004,1005,1006,1007,1008,1009,1010,1011,1013,1014,1015,1017,1018,1019,1020,1021,1022,1023,1024,1025,1026,1027,1028,1030,1031,1032,1034,1035,1036,1037,1038,1039,1040,1041,1042,1043,1044,1045,1047,1048,1049,1051,1052,1053,1054,1055,1056,1057,1058,1059,1060,1061,1062,1064,1065,1066,1068,1069,1070,1071,1072,1073,1075,1076,1077,1078,1079,1081,1082,1083,1085,1086,1087,1089,1090,1092,1093,1094,1095,1096,1098,1099,1100,1102,1103,1104,1106,1107,1109,1110,1111,1112,1113,1115,1116,1117,1119,1120,1121,1123,1124,1126,1127,1128,1129,1130,1132,1133,1134,1136,1137,1138,1140,1141,1143,1144,1145,1146,1147,1149,1150,1151,1153,1154,1155,1156,1157,1158,1160,1161,1162,1163,1164,1166,1167,1168,1170,1171,1172,1174,1175,1177,1178,1179,1180,1181,1183,1184,1185,1187,1188,1189,1190,1191,1192,1194,1195,1196,1197,1198,1200,1201,1202,1204,1205,1206,1207,1208,1209,1211,1212,1213,1214,1215,1217,1218,1219,1221,1222,1223,1225,1226,1228,1229,1230,1231,1232,1234,1235,1236,1238,1239,1240,1241,1242,1243,1245,1246,1247,1248,1249,1251,1252,1253,1255,1256,1257,1258,1259,1260,1262,1263,1264,1265,1266,1268,1269,1270,1272,1273,1274,1276,1277,1279,1280,1281,1282,1283,1285,1286,1287,1289,1290,1291,1293,1294,1296,1297,1298,1299,1300,1302) have mixed types. Specify dtype option on import or set low_memory=False.\n",
      "  interactivity=interactivity, compiler=compiler, result=result)\n"
     ]
    }
   ],
   "source": [
    "import pandas as pd\n",
    "from itertools import chain\n",
    "from sklearn.ensemble import RandomForestClassifier\n",
    "from sklearn.model_selection import train_test_split,GridSearchCV,cross_val_score,KFold,RandomizedSearchCV,StratifiedKFold\n",
    "from sklearn.preprocessing import LabelEncoder\n",
    "from xgboost import XGBClassifier\n",
    "from sklearn.metrics import accuracy_score,confusion_matrix\n",
    "from sklearn.linear_model import LogisticRegression\n",
    "import numpy as np\n",
    "import matplotlib.pyplot as plt\n",
    "import matplotlib.transforms\n",
    "from vecstack import stacking\n",
    "import seaborn as sns\n",
    "path = 'https://raw.githubusercontent.com/EmmS21/SpringboardCapstoneBoxingPredictionWebApp/master/boxingdata/finalvisuals.csv'\n",
    "data = pd.read_csv(path)"
   ]
  },
  {
   "cell_type": "code",
   "execution_count": 30,
   "metadata": {},
   "outputs": [],
   "source": [
    "#convert to long so I have a row for each bout\n",
    "cols = ['secondBoxer'+str(i) for i in range(1, 85)]\n",
    "two = ['secondBoxerWeight'+str(i) for i in range(1,85)]\n",
    "three = ['secondBoxerLast6'+str(i) for i in range(1,85)]\n",
    "four = ['secondBoxerRating'+str(i) for i in range(1,85)]\n",
    "five = ['secondBoxerRecord'+str(i) for i in range(1,85)]\n",
    "six = ['metadata'+str(i) for i in range(1,85)]\n",
    "seven = ['numberofrounds'+str(i) for i in range(1,85)]\n",
    "eight = ['referee'+str(i) for i in range(1,85)]\n",
    "nine = ['JudgeID'+str(i) for i in range(1,85)]\n",
    "ten = ['firstBoxerWeight'+str(i) for i in range(1,85)]\n",
    "eleven = ['firstBoxerRating'+str(i) for i in range(1,85)]\n",
    "twelve = ['rating'+str(i) for i in range(1,85)]\n",
    "thirteen = ['titles'+str(i) for i in range(1,85)]\n",
    "fourteen = ['date'+str(i) for i in range(1,85)]\n",
    "fifteen = ['outcome'+str(i) for i in range(1,85)]\n",
    "# concated = pd.concat([pd.melt(data,id_vars=['name','global_id'],value_vars=cols,var_name='labels',value_name='opposition') for i in cols])\n",
    "concated = pd.melt(data,id_vars=['name','global_id','sex','division'], value_vars = cols,var_name='label',value_name='opposition')\n",
    "concated_two = pd.melt(data,id_vars=['name','global_id','sex','division'],value_vars=two,var_name='weightb_label',value_name='opp_weight').drop(columns=['global_id','name','sex','division'])\n",
    "concated_three = pd.melt(data,id_vars=['name','global_id','sex','division'],value_vars=three,var_name='last6_label',value_name='opp_last6').drop(columns=['global_id','name','sex','division'])\n",
    "concated_four = pd.melt(data,id_vars=['name','global_id','sex','division'],value_vars=four,var_name='rating_label',value_name='opp_rating').drop(columns=['global_id','name','sex','division'])\n",
    "concated_five = pd.melt(data,id_vars=['name','global_id','sex','division'],value_vars=five,var_name='record_label',value_name='opp_record').drop(columns=['global_id','name','sex','division'])\n",
    "concated_six = pd.melt(data,id_vars=['name','global_id','sex','division'],value_vars=six,var_name='meta_label',value_name='meta').drop(columns=['global_id','name','sex','division'])\n",
    "concated_seven = pd.melt(data,id_vars=['name','global_id','sex','division'],value_vars=seven,var_name='rounds_label',value_name='rounds').drop(columns=['global_id','name','sex','division'])\n",
    "concated_eight = pd.melt(data,id_vars=['name','global_id','sex','division'],value_vars=eight,var_name='ref_label',value_name='ref').drop(columns=['global_id','name','sex','division'])\n",
    "concated_nine = pd.melt(data,id_vars=['name','global_id','sex','division'],value_vars=nine,var_name='judge_label',value_name='judge').drop(columns=['global_id','name','sex','division'])\n",
    "concated_ten = pd.melt(data,id_vars=['name','global_id','sex','division'],value_vars=ten,var_name='weighta_label',value_name='weight').drop(columns=['global_id','name','sex','division'])\n",
    "concated_eleven = pd.melt(data,id_vars=['name','global_id','sex','division'],value_vars=eleven,var_name='boxerratinga_label',value_name='boxer_rating').drop(columns=['global_id','name','sex','division'])\n",
    "concated_twelve = pd.melt(data,id_vars=['name','global_id','sex','division'],value_vars=twelve,var_name='rate_label',value_name='rating').drop(columns=['global_id','name','sex','division'])\n",
    "concated_thirteen = pd.melt(data,id_vars=['name','global_id','sex','division'],value_vars=thirteen,var_name='title_label',value_name='titles').drop(columns=['global_id','name','sex','division'])\n",
    "concated_fourteen = pd.melt(data,id_vars=['name','global_id','sex','division'],value_vars=fourteen,var_name='date_label',value_name='date').drop(columns=['global_id','name','sex','division'])\n",
    "concated_fifteen = pd.melt(data,id_vars=['name','global_id','sex','division'],value_vars=fifteen,var_name='outcome_label',value_name='outcome').drop(columns=['global_id','name','sex','division'])\n",
    "#merge all \n",
    "fully_merged = pd.concat([concated,concated_two,concated_three,concated_four,concated_five,\n",
    "          concated_six,concated_seven,concated_eight,concated_nine,concated_ten,\n",
    "          concated_eleven,concated_twelve,concated_thirteen,concated_fourteen,concated_fifteen],axis=1,sort=False)\n",
    "fully_merged = fully_merged.set_index('name')\n",
    "# fully_merged.index = fully_merged['name']"
   ]
  },
  {
   "cell_type": "code",
   "execution_count": 34,
   "metadata": {},
   "outputs": [],
   "source": [
    "fully_merged = fully_merged.reset_index()\n",
    "fully_merged = fully_merged.drop(columns = ['weightb_label','last6_label','rating_label','record_label','meta_label',\n",
    "                            'rounds_label','ref_label','judge_label','weighta_label','boxerratinga_label',\n",
    "                            'rate_label','title_label','date_label','outcome_label','label'],axis=1)"
   ]
  },
  {
   "cell_type": "code",
   "execution_count": 9,
   "metadata": {},
   "outputs": [],
   "source": [
    "#reordering columns\n",
    "column_titles = ['name','weight','boxer_rating','sex','division','global_id','rating','date','outcome','opposition',\n",
    "                 'opp_last6','opp_rating','opp_record','opp_weight','judge','meta','rounds','ref','titles']\n",
    "fully_merged = fully_merged.reindex(columns=column_titles)"
   ]
  },
  {
   "cell_type": "code",
   "execution_count": 37,
   "metadata": {},
   "outputs": [],
   "source": [
    "#cleanup data\n",
    "fully_merged['outcome'] = fully_merged['outcome'].str.replace('\"','')\n",
    "fully_merged['opposition'] = fully_merged['opposition'].str.replace('\"','')\n",
    "fully_merged['weight'] = fully_merged['weight'].fillna(0).astype(int)\n",
    "#converting last 6 fights to points\n",
    "fully_merged['opp_last6'] = fully_merged.opp_last6.str.count('win')*10+fully_merged.opp_last6.str.count('draw')*5+fully_merged.opp_last6.str.count('loss')*-5"
   ]
  },
  {
   "cell_type": "code",
   "execution_count": 38,
   "metadata": {},
   "outputs": [],
   "source": [
    "#converting opp record to points\n",
    "fully_merged['opp_win'] = fully_merged['opp_record'].str.extract('win(?P<win>.*?)}').fillna(0)\n",
    "fully_merged['opp_loss'] = fully_merged['opp_record'].str.extract('loss(?P<loss>.*?)win').fillna(0)\n",
    "fully_merged['opp_draw'] = fully_merged['opp_record'].str.extract('draw\"(?P<draw>.*?)loss').fillna(0)\n",
    "fully_merged['opp_loss'] =  pd.to_numeric(fully_merged['opp_loss'],errors='coerce')\n",
    "fully_merged['opp_win'] = pd.to_numeric(fully_merged['opp_win'],errors='coerce')\n",
    "fully_merged['opp_draw'] = pd.to_numeric(fully_merged['opp_draw'],errors='coerce')\n",
    "fully_merged.drop(columns=['opp_record'],inplace=True)"
   ]
  },
  {
   "cell_type": "code",
   "execution_count": 39,
   "metadata": {},
   "outputs": [],
   "source": [
    "#droppin columns with non useful data\n",
    "fully_merged.drop(columns=['boxer_rating','opp_rating'],inplace=True)"
   ]
  },
  {
   "cell_type": "code",
   "execution_count": 40,
   "metadata": {},
   "outputs": [],
   "source": [
    "fully_merged['opp_weight'] = fully_merged['opp_weight'].astype(float)\n",
    "fully_merged['date'] = pd.to_datetime(fully_merged['date'])\n",
    "ref_points =fully_merged.judge.str.extractall(r'(\\b\\d+\\b)').unstack().reindex(fully_merged.index)      \n",
    "ref_points.columns = ref_points.columns.map('{0[0]}_{0[1]}'.format)\n",
    "fully_merged[['judge1boxer','judge1opp','judge2boxer','judge2opp','judge3boxer','judge3opp']] = ref_points[['0_0','0_1','0_2','0_3','0_4','0_5']]"
   ]
  },
  {
   "cell_type": "code",
   "execution_count": 41,
   "metadata": {},
   "outputs": [],
   "source": [
    "fully_merged[['judge1boxer','judge1opp','judge2boxer','judge2opp','judge3boxer','judge3opp']]=fully_merged[['judge1boxer','judge1opp','judge2boxer','judge2opp','judge3boxer','judge3opp']].fillna(0)"
   ]
  },
  {
   "cell_type": "code",
   "execution_count": 42,
   "metadata": {},
   "outputs": [],
   "source": [
    "fully_merged.drop(columns=['judge'],inplace=True)"
   ]
  },
  {
   "cell_type": "code",
   "execution_count": 43,
   "metadata": {},
   "outputs": [],
   "source": [
    "fully_merged['ref'] = fully_merged.ref.str.replace(r\"[\\\"\\',]\", '').str.replace('[','').str.replace(']','')\n",
    "fully_merged['final_outcome'] = fully_merged['ref']\n",
    "fully_merged.drop(columns=['ref'],inplace=True)"
   ]
  },
  {
   "cell_type": "code",
   "execution_count": 44,
   "metadata": {},
   "outputs": [],
   "source": [
    "#extract rounds\n",
    "rounds =fully_merged.rounds.str.extractall(r'(\\b\\d+\\b)').unstack().reindex(fully_merged.index)\n",
    "rounds.columns = rounds.columns.map('{0[0]}|{0[1]}'.format)\n",
    "fully_merged[['rounds1','rounds2']] = rounds[['0|0', '0|1']]\n",
    "fully_merged.drop(columns=['rounds'],inplace=True)"
   ]
  },
  {
   "cell_type": "code",
   "execution_count": 45,
   "metadata": {},
   "outputs": [],
   "source": [
    "#converting meta to time\n",
    "fully_merged['meta'] = fully_merged['meta'].str.replace(':','')\n",
    "fully_merged['meta'] = fully_merged['meta'].str[0].fillna(0).astype(int)*60 + fully_merged['meta'].str[1:4].fillna(0).astype(int)\n",
    "#cleaning up titles column\n",
    "fully_merged['titles'] = fully_merged['titles'].str.replace(r\"[\\:\\,\\[\\}\\]]\", '')\n",
    "#not sure how the information in titles is structured? so dropping column for now\n",
    "fully_merged.drop(columns=['titles'],inplace=True)"
   ]
  },
  {
   "cell_type": "code",
   "execution_count": 49,
   "metadata": {},
   "outputs": [],
   "source": [
    "conditions = [(fully_merged['final_outcome'] == 'win KO knockout'),(fully_merged['final_outcome'] == 'draw MD majority decision'),\n",
    "             (fully_merged['final_outcome'] == 'win SD split decision'),(fully_merged['final_outcome'] == 'win TKO technical knockout'),\n",
    "              (fully_merged['final_outcome'] == 'win nan null'),(fully_merged['final_outcome'] == 'loss UD unanimous decision'),\n",
    "              (fully_merged['final_outcome'] == 'win UD unanimous decision'),(fully_merged['final_outcome'] == 'loss KO knockout'),\n",
    "              (fully_merged['final_outcome'] == 'loss TKO technical knockout'),(fully_merged['final_outcome'] == 'loss SD split decision'),\n",
    "              (fully_merged['final_outcome'] == 'loss nan null'),(fully_merged['final_outcome'] == 'win PTS null'),\n",
    "              (fully_merged['final_outcome'] == 'unknown nan null'),(fully_merged['final_outcome'] == 'loss RTD corner retirement'),\n",
    "              (fully_merged['final_outcome'] == 'loss MD majority decision'),(fully_merged['final_outcome'] == 'win KO knockout'),\n",
    "              (fully_merged['final_outcome'] == 'win KO knockout'),(fully_merged['final_outcome'] == 'win KO knockout'),\n",
    "              (fully_merged['final_outcome'] == 'win KO knockout'),(fully_merged['final_outcome'] == 'win KO knockout'),\n",
    "              (fully_merged['final_outcome'] == 'win KO knockout'),(fully_merged['final_outcome'] == 'win KO knockout'),\n",
    "              (fully_merged['final_outcome'] == 'win KO knockout'),(fully_merged['final_outcome'] == 'win KO knockout'),\n",
    "              (fully_merged['final_outcome'] == 'win KO knockout'),(fully_merged['final_outcome'] == 'win KO knockout'),\n",
    "              (fully_merged['final_outcome'] == 'win KO knockout'),(fully_merged['final_outcome'] == 'win KO knockout')\n",
    "             ]"
   ]
  },
  {
   "cell_type": "code",
   "execution_count": 50,
   "metadata": {},
   "outputs": [],
   "source": [
    "# create new outcomes column\n",
    "def cols_outcome(df,outcome_col):\n",
    "    df.loc[(df[outcome_col].str.contains('win KO') == True) | (df[outcome_col].str.contains('win TKO') == True), 'clean_outcome'] = 'Win KO'\n",
    "    df.loc[df[outcome_col].str.contains('draw') == True, 'clean_outcome'] = 'Draw'\n",
    "    df.loc[(df[outcome_col].str.contains('win nan') == True) | (df[outcome_col].str.contains('win DQ') == True) | (df[outcome_col].str.contains('win PTS') == True) | (fully_merged[outcome_col].str.contains('win DQ') == True) | (df[outcome_col].str.contains('win UD') == True) | (df[outcome_col].str.contains('win SD') == True) | (df[outcome_col].str.contains('win MD') == True) | (df[outcome_col].str.contains('win TD') == True) | (df[outcome_col].str.contains('win RTD') == True), 'clean_outcome'] = 'Win Other'\n",
    "    df.loc[(df[outcome_col].str.contains('loss KO') == True) | (df[outcome_col].str.contains('loss TKO')), 'clean_outcome'] = 'Loss KO'\n",
    "    df.loc[df[outcome_col].str.contains('scheduled') == True, 'clean_outcome'] = 'Scheduled'\n",
    "    df.loc[(df[outcome_col].str.contains('loss UD') == True) | (df[outcome_col].str.contains('loss SD') == True) | (df[outcome_col].str.contains('loss nan') == True) | (fully_merged[outcome_col].str.contains('loss RTD') == True) | (df[outcome_col].str.contains('loss MD') == True) | (df[outcome_col].str.contains('loss DQ') == True) | (df[outcome_col].str.contains('loss PTS') == True) | (df[outcome_col].str.contains('loss TD')), 'clean_outcome'] = 'Loss Other'\n",
    "    df.loc[df[outcome_col].str.contains('unknown') == True, 'clean_outcome'] = 'Unknown'\n",
    "    return df['clean_outcome']\n",
    "fully_merged['clean_outcome'] = cols_outcome(fully_merged,'final_outcome')"
   ]
  },
  {
   "cell_type": "code",
   "execution_count": 69,
   "metadata": {},
   "outputs": [],
   "source": [
    "# #adding Tyson Fury- will use this to add a few more boxers\n",
    "# fully_merged.loc[((fully_merged['name'] == 'Tyson Fury').cumsum() <= 30) & (fully_merged['name'] == 'Tyson Fury'), 'clean_outcome'] = 'Win Other'\n",
    "\n"
   ]
  },
  {
   "cell_type": "code",
   "execution_count": 71,
   "metadata": {},
   "outputs": [],
   "source": [
    "fully_merged.drop(columns=['final_outcome','outcome'],inplace=True)"
   ]
  },
  {
   "cell_type": "code",
   "execution_count": 81,
   "metadata": {},
   "outputs": [],
   "source": [
    "dataset = fully_merged[(fully_merged['clean_outcome'].notna()) & (fully_merged['clean_outcome'] != 'Unknown') & (fully_merged['clean_outcome'] != 'Scheduled')]"
   ]
  },
  {
   "cell_type": "code",
   "execution_count": 92,
   "metadata": {
    "scrolled": true
   },
   "outputs": [],
   "source": [
    "fully_merged['gender+division'] = fully_merged['sex'].astype(str) +' '+ fully_merged['division'].astype(str)\n",
    "dataset = fully_merged[(fully_merged['clean_outcome'].notna()) & (fully_merged['clean_outcome'] != 'Unknown') & (fully_merged['clean_outcome'] != 'Scheduled')]\n",
    "#get more data extracted from data scraping\n",
    "filler = pd.read_csv('C:\\\\Users\\\\User\\\\Documents\\\\player_matches.csv')\n",
    "filler = filler[(~filler['date'].str.contains('Council|googletag',na=False)) & (~filler['result'].str.contains('Title|tickets|scheduled',na=False))]\n",
    "filler['clean_outcome'] = filler['result']+ ' ' + filler['method']\n",
    "#rename fight outcomes\n",
    "filler['clean_outcome'] = cols_outcome(filler,'clean_outcome')\n",
    "filler.loc[(filler['clean_outcome']=='W UD')|(filler['clean_outcome']=='W SD')|(filler['clean_outcome']=='W MD')|(filler['clean_outcome']=='W PTS')|(filler['clean_outcome']=='W RTD')|(filler['clean_outcome']=='W DQ')|(filler['clean_outcome']=='W TD'), 'clean_outcome']='Win Other'\n",
    "filler.loc[(filler['clean_outcome']=='W KO')|(filler['clean_outcome']=='W TKO'), 'clean_outcome']='Win KO'\n",
    "filler.loc[(filler['clean_outcome']=='D MD')|(filler['clean_outcome']=='D SD')|(filler['clean_outcome']=='D TD')|(filler['clean_outcome']=='D PTS'), 'clean_outcome']='Draw'\n",
    "filler.loc[(filler['clean_outcome']=='L SD')|(filler['clean_outcome']=='L UD')|(filler['clean_outcome']=='L MD')|(filler['clean_outcome']=='L RTD')|(filler['clean_outcome']=='L PTS')|(filler['clean_outcome']=='L DQ')|(filler['clean_outcome']=='L TD'), 'clean_outcome'] = 'Loss Other'\n",
    "filler.loc[(filler['clean_outcome']=='L KO')|(filler['clean_outcome']=='L TKO'), 'clean_outcome'] = 'Loss KO'\n",
    "filler.loc[(filler['clean_outcome']=='N NC')|(filler['clean_outcome']=='N ND'), 'clean_outcome'] = 'Unknown'\n",
    "filler = filler.rename(columns={'Name':'name','opponent':'opposition'})     \n",
    "#drop columns I don't need\n",
    "filler.drop(columns=['w.l.d','Venue','method','result'],inplace=True)\n",
    "#limit to data where we have a boxer's name\n",
    "fully_m = fully_merged.dropna(subset=['name'])\n",
    "#limit to rows where we don't have data for a single fight a given boxer fought\n",
    "full = fully_m[fully_m['opposition'].isna().groupby(fully_m['name']).transform('all')]\n",
    "#merge to get data where data is missing (and exists in other dataset)\n",
    "full =full.merge(filler,on='name',how='left')\n",
    "full.drop(columns=['opposition_x','clean_outcome_x'],inplace=True)\n",
    "full.rename(columns={'opposition_y':'opposition','clean_outcome_y':'clean_outcome'},inplace=True)\n",
    "#drop duplicates\n",
    "full['duplicate_check'] = full['date_y']+full['opposition']+full['name']\n",
    "full.drop_duplicates('duplicate_check',keep='first',inplace=True)\n",
    "full.drop(columns='duplicate_check',inplace=True)\n",
    "full.drop(columns=['date_y'],inplace=True)\n",
    "full.rename(columns={'date_x':'date'},inplace=True)\n",
    "#merge with dataset\n",
    "dataset = pd.concat([dataset,full],axis=0)\n",
    "#added win percentages for each boxer\n",
    "ltd = dataset.groupby(['name','clean_outcome']).size().unstack(fill_value=0)\n",
    "ltd = ltd.reset_index()\n",
    "ltd['fight_count'] = ltd.sum(axis=1)\n",
    "ltd[['Draw','Loss KO','Loss Other','Unknown','Win KO','Win Other']]=ltd[['Draw','Loss KO','Loss Other','Unknown','Win KO','Win Other']].div(ltd.fight_count, axis=0)\n",
    "dataset = dataset.merge(ltd[['name','Draw','Loss KO','Loss Other','Win KO','Win Other','fight_count']],on='name')\n",
    "# #average judge score cards per fight\n",
    "dataset[['judge1boxer','judge2boxer','judge3boxer']] = dataset[['judge1boxer','judge2boxer','judge3boxer']].astype(int)\n",
    "dataset[['judge1opp','judge2opp','judge3opp']] = dataset[['judge1opp','judge2opp','judge3opp']].astype(int)\n",
    "n=dataset.groupby(by=['name'])['judge1boxer','judge2boxer','judge3boxer'].sum()\n",
    "n.rename(columns={'judge1boxer':'judge1avg','judge2boxer':'judge2avg','judge3boxer':'judge3avg'},inplace=True)\n",
    "m = dataset.groupby(by=['name'])['judge1opp','judge2opp','judge3opp'].sum()\n",
    "m.rename(columns={'judge1opp':'judge1againstavg','judge2opp':'judge2againstavg','judge3opp':'judge3againstavg'},inplace=True)\n",
    "dataset = dataset.merge(n,on='name').merge(m,on='name')\n",
    "dataset[['judge1avg','judge2avg','judge3avg','judge1againstavg','judge2againstavg','judge3againstavg']] = dataset[['judge1avg','judge2avg','judge3avg','judge1againstavg','judge2againstavg','judge3againstavg']].div(dataset.fight_count, axis=0)\n",
    "#average judge points\n",
    "dataset['avgpts']=dataset['judge1avg']+dataset['judge2avg']+dataset['judge3avg']/3\n",
    "#average judge points against boxer\n",
    "dataset['avgptsagainst']=dataset['judge1againstavg']+dataset['judge2againstavg']+dataset['judge3againstavg']/3\n",
    "#average fight length\n",
    "dataset['meta'] = dataset.groupby(by=['name'])['meta'].mean()\n",
    "#knockout ratio\n",
    "dataset['KO ratio'] = dataset['Win KO']/dataset['fight_count']\n",
    "#how many times has boxer been knocked out - ratio\n",
    "dataset['KnockedOut ratio'] = dataset['Loss KO']/dataset['fight_count']\n",
    "#added win percentage for each opponent\n",
    "dataset['opp_fight_count']= dataset['opposition'].map(dataset.drop_duplicates('name').set_index('name')['fight_count'])\n",
    "dataset['opp_lossKO']= dataset['opposition'].map(dataset.drop_duplicates('name').set_index('name')['Loss KO'])\n",
    "dataset['opp_lossOther']= dataset['opposition'].map(dataset.drop_duplicates('name').set_index('name')['Loss Other'])\n",
    "dataset['opp_winKO']= dataset['opposition'].map(dataset.drop_duplicates('name').set_index('name')['Win KO'])\n",
    "dataset['opp_winOther']= dataset['opposition'].map(dataset.drop_duplicates('name').set_index('name')['Win Other'])\n",
    "dataset['opp_avgpts']= dataset['opposition'].map(dataset.drop_duplicates('name').set_index('name')['avgpts'])\n",
    "dataset['opp_avgptsagainst']= dataset['opposition'].map(dataset.drop_duplicates('name').set_index('name')['avgptsagainst'])\n",
    "dataset['opp_KO ratio']= dataset['opposition'].map(dataset.drop_duplicates('name').set_index('name')['KO ratio'])\n",
    "dataset['opp_KnockedOut ratio']= dataset['opposition'].map(dataset.drop_duplicates('name').set_index('name')['KnockedOut ratio'])\n",
    "#get average fight length for opposition\n",
    "dataset['opp_meta']=dataset['opposition'].map(dataset.drop_duplicates('name').set_index('name')['meta'])\n",
    "#boxer weight to opponent weight ratio\n",
    "dataset['weightratio'] = dataset['weight']/dataset['opp_weight']"
   ]
  },
  {
   "cell_type": "code",
   "execution_count": 94,
   "metadata": {},
   "outputs": [],
   "source": [
    "#filter out unknown and nan\n",
    "dataset = dataset[dataset['clean_outcome'].notna()]\n",
    "dataset = dataset[dataset['clean_outcome'] != 'Unknown']\n",
    "#categorical to numerical\n",
    "dataset.loc[(dataset['clean_outcome'] == 'Win KO')|(dataset['clean_outcome'] == 'Win Other'), 'clean_outcome'] = 1\n",
    "dataset.loc[(dataset['clean_outcome'] == 'Draw'), 'clean_outcome'] = 2\n",
    "dataset.loc[(dataset['clean_outcome'] == 'Loss Other')|(dataset['clean_outcome'] == 'Loss KO'), 'clean_outcome'] = 3"
   ]
  },
  {
   "cell_type": "code",
   "execution_count": 105,
   "metadata": {},
   "outputs": [],
   "source": [
    "new = pd.read_csv('C:\\\\Users\\\\User\\\\Downloads\\\\player_profile2.csv')\n",
    "new.rename(columns={'Name':'name'},inplace=True)\n",
    "new = new[['name','age','height','rating1','rating2']]\n",
    "dataset = dataset.merge(new,on='name')"
   ]
  },
  {
   "cell_type": "code",
   "execution_count": 106,
   "metadata": {},
   "outputs": [],
   "source": [
    "#bmi\n",
    "dataset['bmi'] = dataset['weight']/dataset['height']\n",
    "#get opponents age, height and bmi type ratio\n",
    "dataset['opp_age']= dataset['opposition'].map(dataset.drop_duplicates('name').set_index('name')['age'])\n",
    "dataset['opp_height']= dataset['opposition'].map(dataset.drop_duplicates('name').set_index('name')['height'])\n",
    "#current bmi\n",
    "dataset['opp_bmi'] = dataset['opp_weight']/dataset['opp_height']\n",
    "#age,height and BMI as ratio between boxers\n",
    "dataset['age_ratio'] = dataset['age']/dataset['opp_age']\n",
    "dataset['height_ratio'] = dataset['height']/dataset['opp_height']\n",
    "dataset['bmi_ratio'] = dataset['bmi']/dataset['opp_bmi']"
   ]
  },
  {
   "cell_type": "markdown",
   "metadata": {},
   "source": [
    "##### Notes\n",
    "- dealing with a highly imbalanced dataset so getting very low accuracy for draws\n",
    "- want to count the ratio of draws to other outcomes and build a class weighting based on this ratio"
   ]
  },
  {
   "cell_type": "code",
   "execution_count": 108,
   "metadata": {},
   "outputs": [],
   "source": [
    "#merge punch stats data\n",
    "punches = 'C:\\\\Users\\\\User\\\\Documents\\\\GitHub\\\\SpringboardCapstoneBoxingPredictionWebApp\\\\boxingdata\\\\punchingstats.csv'\n",
    "punch_stats = pd.read_csv(punches)\n",
    "punch_stats.drop(columns=['wins','losses','draws','Unnamed: 0.1','Unnamed: 0','average_weight','sex','division'],inplace=True)\n",
    "dataset = dataset.merge(punch_stats,on='name',how='left')\n",
    "#dropping na values\n",
    "dataset[['Jab accuracy','Power punch accuracy','Total punch accuracy','Avg Jabs landed','Avg Power punches landed','Avg Total punches landed','% of Power punches landed against','% of Jabs landed against','% of Total punches landed against','Avg Jabs landed against','Avg Power punches landed against','Avg Total punches landed against']] = dataset[['Jab accuracy','Power punch accuracy','Total punch accuracy','Avg Jabs landed','Avg Power punches landed','Avg Total punches landed','% of Power punches landed against','% of Jabs landed against','% of Total punches landed against','Avg Jabs landed against','Avg Power punches landed against','Avg Total punches landed against']].fillna(0)\n",
    "# I want to stratify the test_train split by gender and division to ensure all are equally represented, starting off by concatenating gender & division\n",
    "strat = dataset['gender+division'] \n",
    "#get opponents punch stats\n",
    "dataset['oppjabaccuracy']= dataset['opposition'].map(dataset.drop_duplicates('name').set_index('name')['Jab accuracy'])\n",
    "dataset['opppoweraccuracy']= dataset['opposition'].map(dataset.drop_duplicates('name').set_index('name')['Power punch accuracy'])\n",
    "dataset['opptotalaccuracy']= dataset['opposition'].map(dataset.drop_duplicates('name').set_index('name')['Total punch accuracy'])\n",
    "dataset['oppavgjabslanded']= dataset['opposition'].map(dataset.drop_duplicates('name').set_index('name')['Avg Jabs landed'])\n",
    "dataset['oppavgpowerlanded']= dataset['opposition'].map(dataset.drop_duplicates('name').set_index('name')['Avg Power punches landed'])\n",
    "dataset['oppavgtotallanded']= dataset['opposition'].map(dataset.drop_duplicates('name').set_index('name')['Avg Total punches landed'])\n",
    "dataset['opppercpowerlandedagainst']= dataset['opposition'].map(dataset.drop_duplicates('name').set_index('name')['% of Power punches landed against'])\n",
    "dataset['opppercejabslandedagainst']= dataset['opposition'].map(dataset.drop_duplicates('name').set_index('name')['% of Jabs landed against'])\n",
    "dataset['oppperctotallandedagainst']= dataset['opposition'].map(dataset.drop_duplicates('name').set_index('name')['% of Total punches landed against'])\n",
    "dataset['oppavgjabsagainst']= dataset['opposition'].map(dataset.drop_duplicates('name').set_index('name')['Avg Jabs landed against'])\n",
    "dataset['oppavgpowerlandedagainst']= dataset['opposition'].map(dataset.drop_duplicates('name').set_index('name')['Avg Power punches landed against'])\n",
    "dataset['oppavgtotalagainst']= dataset['opposition'].map(dataset.drop_duplicates('name').set_index('name')['Avg Total punches landed against'])"
   ]
  },
  {
   "cell_type": "code",
   "execution_count": 132,
   "metadata": {},
   "outputs": [],
   "source": [
    "# dataset.to_csv('C:\\\\Users\\\\User\\\\Documents\\\\GitHub\\\\SpringboardCapstoneBoxingPredictionWebApp\\\\boxingdata\\\\visualsfull.csv')\n"
   ]
  },
  {
   "cell_type": "code",
   "execution_count": 113,
   "metadata": {},
   "outputs": [],
   "source": [
    "# X = dataset.drop(['clean_outcome','opp_bmi','opp_age','opp_meta','bmi','opp_height','age','judge2againstavg','judge1againstavg','judge3againstavg','height_ratio','rating1','rating2','weight','meta','age_ratio','bmi_ratio','height','judge1opp','rating','judge2boxer','judge1boxer','judge2opp','judge3boxer','judge3opp','name','sex','division','opposition','gender+division','global_id','date','rounds1','rounds2'],axis=1) \n",
    "X = dataset[['opp_last6','opp_KO ratio','Win KO','opp_winOther','Loss Other','Loss KO','Win Other','KO ratio','opp_winOther','KnockedOut ratio','opp_winKO','opp_KO ratio','opp_loss','opp_lossOther','opp_win','Draw','opp_lossKO']]\n",
    "X = X.fillna(0)\n",
    "# X.loc[X['rating'] == 'null ', 'rating'] = 0\n",
    "y = dataset['clean_outcome']\n",
    "y = y.fillna(0)\n",
    "X_train, X_test, y_train, y_test = train_test_split(X, y, test_size=0.1, random_state=0, stratify=strat)"
   ]
  },
  {
   "cell_type": "code",
   "execution_count": 114,
   "metadata": {},
   "outputs": [],
   "source": [
    "# building the model, starting off by looking for the best parameters\n",
    "params = {\n",
    "    'n_estimators':[i for i in range(1,201,20)],\n",
    "    'max_depth':[i for i in range(1,10,1)]\n",
    "}\n",
    "rfc = RandomForestClassifier()\n",
    "gridsearch = GridSearchCV(rfc,param_grid=params,cv=10,scoring='f1_weighted',n_jobs=4)\n",
    "gridsearch.fit(X_train,y_train)\n",
    "bestparams = gridsearch.best_params_"
   ]
  },
  {
   "cell_type": "code",
   "execution_count": 115,
   "metadata": {},
   "outputs": [],
   "source": [
    "# class_weight = dict({1:3.6, 2:9.6, 3:6.79}) 1:1.56, 2:25.1, 3:6.79\n",
    "class_weight = dict({1:2, 2:25.1, 3:4.3}) #5.6\n",
    "rc = RandomForestClassifier(**bestparams,class_weight=class_weight,random_state=1)\n",
    "rc.fit(X_train,y_train)\n",
    "preds = rc.predict(X_test)"
   ]
  },
  {
   "cell_type": "code",
   "execution_count": 116,
   "metadata": {},
   "outputs": [
    {
     "data": {
      "text/plain": [
       "0.6239724638156555"
      ]
     },
     "execution_count": 116,
     "metadata": {},
     "output_type": "execute_result"
    }
   ],
   "source": [
    "from sklearn.metrics import f1_score\n",
    "score = f1_score(y_test,preds,average='macro')\n",
    "score"
   ]
  },
  {
   "cell_type": "code",
   "execution_count": 117,
   "metadata": {},
   "outputs": [
    {
     "data": {
      "text/plain": [
       "array([0.63776227, 0.63042213, 0.63214812, 0.6307884 , 0.62984974])"
      ]
     },
     "execution_count": 117,
     "metadata": {},
     "output_type": "execute_result"
    }
   ],
   "source": [
    "#kfold cross validation\n",
    "kfold = KFold(n_splits=5)\n",
    "results = cross_val_score(rc,X_train,y_train,cv=kfold,scoring='f1_macro')\n",
    "results"
   ]
  },
  {
   "cell_type": "code",
   "execution_count": 118,
   "metadata": {
    "scrolled": true
   },
   "outputs": [
    {
     "data": {
      "text/plain": [
       "Text(0.5, 87.0, 'Predicted')"
      ]
     },
     "execution_count": 118,
     "metadata": {},
     "output_type": "execute_result"
    },
    {
     "data": {
      "image/png": "[encoded data removed]",
      "text/plain": [
       "<Figure size 864x864 with 2 Axes>"
      ]
     },
     "metadata": {
      "needs_background": "light"
     },
     "output_type": "display_data"
    }
   ],
   "source": [
    "labels = ['Win','Draw','Loss']        \n",
    "c = confusion_matrix(y_test,preds)\n",
    "#normalize\n",
    "cm = c.astype('float')/c.sum(axis=1)[:, np.newaxis]\n",
    "fig,ax = plt.subplots(figsize=(12,12))\n",
    "ax = sns.heatmap(cm,annot=True, fmt= '.2f',xticklabels=labels,yticklabels=labels)\n",
    "#new matplotlib version cuts off part of first and last row, fixing this\n",
    "bottom, top = ax.get_ylim()\n",
    "ax.set_ylim(bottom + 0.5, top - 0.5)\n",
    "plt.ylabel('Actual')\n",
    "plt.xlabel('Predicted')"
   ]
  },
  {
   "cell_type": "code",
   "execution_count": 119,
   "metadata": {},
   "outputs": [
    {
     "data": {
      "text/plain": [
       "([<matplotlib.axis.YTick at 0x1d881750488>,\n",
       "  <matplotlib.axis.YTick at 0x1d881794288>,\n",
       "  <matplotlib.axis.YTick at 0x1d881751388>,\n",
       "  <matplotlib.axis.YTick at 0x1d88177a888>,\n",
       "  <matplotlib.axis.YTick at 0x1d881777b48>,\n",
       "  <matplotlib.axis.YTick at 0x1d881778888>,\n",
       "  <matplotlib.axis.YTick at 0x1d8817787c8>,\n",
       "  <matplotlib.axis.YTick at 0x1d8817609c8>,\n",
       "  <matplotlib.axis.YTick at 0x1d881772808>,\n",
       "  <matplotlib.axis.YTick at 0x1d881772208>,\n",
       "  <matplotlib.axis.YTick at 0x1d8817828c8>,\n",
       "  <matplotlib.axis.YTick at 0x1d881775c08>,\n",
       "  <matplotlib.axis.YTick at 0x1d881774d48>,\n",
       "  <matplotlib.axis.YTick at 0x1d88175dc88>,\n",
       "  <matplotlib.axis.YTick at 0x1d881775508>,\n",
       "  <matplotlib.axis.YTick at 0x1d881778f48>,\n",
       "  <matplotlib.axis.YTick at 0x1d881758fc8>],\n",
       " <a list of 17 Text yticklabel objects>)"
      ]
     },
     "execution_count": 119,
     "metadata": {},
     "output_type": "execute_result"
    },
    {
     "data": {
      "image/png": "[encoded data removed]",
      "text/plain": [
       "<Figure size 432x288 with 1 Axes>"
      ]
     },
     "metadata": {
      "needs_background": "light"
     },
     "output_type": "display_data"
    }
   ],
   "source": [
    "#feature importance\n",
    "important = rc.feature_importances_\n",
    "indice = np.argsort(important)\n",
    "plt.title('Feature Importance')\n",
    "plt.barh(range(len(indice)),important[indice],color='b',align='center')\n",
    "plt.yticks(range(len(indice)), [X.columns[i] for i in indice])\n"
   ]
  },
  {
   "cell_type": "code",
   "execution_count": 120,
   "metadata": {},
   "outputs": [],
   "source": [
    "#convert back to categorical \n",
    "dataset.loc[dataset['clean_outcome'] == 1, 'clean_outcome'] = 'win'\n",
    "dataset.loc[dataset['clean_outcome'] == 2, 'clean_outcome'] = 'draw'\n",
    "dataset.loc[dataset['clean_outcome'] == 3, 'clean_outcome'] = 'loss'"
   ]
  },
  {
   "cell_type": "code",
   "execution_count": 121,
   "metadata": {},
   "outputs": [],
   "source": [
    "X.rename(columns={'opp_KO ratio':'oppKOratio','Win KO':'winKO','Loss Other':'lossOther','Loss KO':'lossKO','Win Other':'winOther','KO ratio':'KOratio','KnockedOut ratio':'Knockedoutratio'},inplace=True)\n"
   ]
  },
  {
   "cell_type": "code",
   "execution_count": 122,
   "metadata": {},
   "outputs": [
    {
     "name": "stderr",
     "output_type": "stream",
     "text": [
      "C:\\Users\\User\\Anaconda3\\lib\\site-packages\\pandas\\core\\frame.py:4223: SettingWithCopyWarning: \n",
      "A value is trying to be set on a copy of a slice from a DataFrame\n",
      "\n",
      "See the caveats in the documentation: http://pandas.pydata.org/pandas-docs/stable/user_guide/indexing.html#returning-a-view-versus-a-copy\n",
      "  return super().rename(**kwargs)\n"
     ]
    }
   ],
   "source": [
    "X = dataset[['opp_last6','opp_KO ratio','Win KO','opp_winOther','Loss Other','Loss KO','Win Other','KO ratio','KnockedOut ratio','opp_winKO','opp_loss','opp_lossOther','opp_win','Draw','opp_lossKO']]\n",
    "X.rename(columns={'opp_KO ratio':'oppKOratio','Win KO':'winKO','Loss Other':'lossOther','Loss KO':'lossKO','Win Other':'winOther','KO ratio':'KOratio','KnockedOut ratio':'Knockedoutratio'},inplace=True)\n",
    "y = dataset['clean_outcome']\n",
    "X_train, X_test, y_train, y_test = train_test_split(X, y, test_size=0.2, random_state=0, stratify=strat)"
   ]
  },
  {
   "cell_type": "code",
   "execution_count": 137,
   "metadata": {},
   "outputs": [
    {
     "data": {
      "text/plain": [
       "0        NaN\n",
       "1        NaN\n",
       "2        NaN\n",
       "3        0.0\n",
       "4        0.0\n",
       "        ... \n",
       "34044    NaN\n",
       "34045    0.0\n",
       "34046    NaN\n",
       "34047    NaN\n",
       "34048    NaN\n",
       "Name: opp_KO ratio, Length: 34049, dtype: float64"
      ]
     },
     "execution_count": 137,
     "metadata": {},
     "output_type": "execute_result"
    }
   ],
   "source": [
    "dataset['opp_KO ratio']"
   ]
  },
  {
   "cell_type": "code",
   "execution_count": 123,
   "metadata": {},
   "outputs": [
    {
     "name": "stdout",
     "output_type": "stream",
     "text": [
      "0:\tlearn: 1.0166725\ttotal: 103ms\tremaining: 30.9s\n",
      "1:\tlearn: 0.9629392\ttotal: 198ms\tremaining: 29.5s\n",
      "2:\tlearn: 0.9105331\ttotal: 290ms\tremaining: 28.7s\n",
      "3:\tlearn: 0.8739638\ttotal: 376ms\tremaining: 27.8s\n",
      "4:\tlearn: 0.8405526\ttotal: 463ms\tremaining: 27.3s\n",
      "5:\tlearn: 0.8160800\ttotal: 576ms\tremaining: 28.2s\n",
      "6:\tlearn: 0.7945367\ttotal: 668ms\tremaining: 28s\n",
      "7:\tlearn: 0.7658750\ttotal: 765ms\tremaining: 27.9s\n",
      "8:\tlearn: 0.7510884\ttotal: 844ms\tremaining: 27.3s\n",
      "9:\tlearn: 0.7370396\ttotal: 975ms\tremaining: 28.3s\n",
      "10:\tlearn: 0.7267373\ttotal: 1.13s\tremaining: 29.6s\n",
      "11:\tlearn: 0.7186746\ttotal: 1.25s\tremaining: 29.9s\n",
      "12:\tlearn: 0.7069802\ttotal: 1.34s\tremaining: 29.7s\n",
      "13:\tlearn: 0.6966918\ttotal: 1.47s\tremaining: 30s\n",
      "14:\tlearn: 0.6895139\ttotal: 1.59s\tremaining: 30.2s\n",
      "15:\tlearn: 0.6837695\ttotal: 1.71s\tremaining: 30.4s\n",
      "16:\tlearn: 0.6762590\ttotal: 1.81s\tremaining: 30.2s\n",
      "17:\tlearn: 0.6722979\ttotal: 1.91s\tremaining: 29.9s\n",
      "18:\tlearn: 0.6680945\ttotal: 2.01s\tremaining: 29.7s\n",
      "19:\tlearn: 0.6647685\ttotal: 2.08s\tremaining: 29.1s\n",
      "20:\tlearn: 0.6607693\ttotal: 2.17s\tremaining: 28.8s\n",
      "21:\tlearn: 0.6579181\ttotal: 2.26s\tremaining: 28.6s\n",
      "22:\tlearn: 0.6541699\ttotal: 2.34s\tremaining: 28.2s\n",
      "23:\tlearn: 0.6455554\ttotal: 2.42s\tremaining: 27.8s\n",
      "24:\tlearn: 0.6427998\ttotal: 2.5s\tremaining: 27.5s\n",
      "25:\tlearn: 0.6382401\ttotal: 2.57s\tremaining: 27.1s\n",
      "26:\tlearn: 0.6355196\ttotal: 2.64s\tremaining: 26.7s\n",
      "27:\tlearn: 0.6327019\ttotal: 2.71s\tremaining: 26.3s\n",
      "28:\tlearn: 0.6310627\ttotal: 2.79s\tremaining: 26.1s\n",
      "29:\tlearn: 0.6292453\ttotal: 2.87s\tremaining: 25.8s\n",
      "30:\tlearn: 0.6274313\ttotal: 2.96s\tremaining: 25.7s\n",
      "31:\tlearn: 0.6257486\ttotal: 3.04s\tremaining: 25.5s\n",
      "32:\tlearn: 0.6239590\ttotal: 3.11s\tremaining: 25.1s\n",
      "33:\tlearn: 0.6219250\ttotal: 3.19s\tremaining: 24.9s\n",
      "34:\tlearn: 0.6202455\ttotal: 3.26s\tremaining: 24.7s\n",
      "35:\tlearn: 0.6183143\ttotal: 3.33s\tremaining: 24.4s\n",
      "36:\tlearn: 0.6165649\ttotal: 3.42s\tremaining: 24.3s\n",
      "37:\tlearn: 0.6145426\ttotal: 3.54s\tremaining: 24.4s\n",
      "38:\tlearn: 0.6134400\ttotal: 3.64s\tremaining: 24.4s\n",
      "39:\tlearn: 0.6123532\ttotal: 3.75s\tremaining: 24.3s\n",
      "40:\tlearn: 0.6104914\ttotal: 3.83s\tremaining: 24.2s\n",
      "41:\tlearn: 0.6096556\ttotal: 3.93s\tremaining: 24.1s\n",
      "42:\tlearn: 0.6088007\ttotal: 4s\tremaining: 23.9s\n",
      "43:\tlearn: 0.6056415\ttotal: 4.09s\tremaining: 23.8s\n",
      "44:\tlearn: 0.6044078\ttotal: 4.18s\tremaining: 23.7s\n",
      "45:\tlearn: 0.6033925\ttotal: 4.26s\tremaining: 23.5s\n",
      "46:\tlearn: 0.6017794\ttotal: 4.35s\tremaining: 23.4s\n",
      "47:\tlearn: 0.6011123\ttotal: 4.42s\tremaining: 23.2s\n",
      "48:\tlearn: 0.6004490\ttotal: 4.5s\tremaining: 23s\n",
      "49:\tlearn: 0.5988424\ttotal: 4.59s\tremaining: 23s\n",
      "50:\tlearn: 0.5977045\ttotal: 4.7s\tremaining: 22.9s\n",
      "51:\tlearn: 0.5959140\ttotal: 4.81s\tremaining: 23s\n",
      "52:\tlearn: 0.5953355\ttotal: 4.93s\tremaining: 23s\n",
      "53:\tlearn: 0.5940030\ttotal: 5.01s\tremaining: 22.8s\n",
      "54:\tlearn: 0.5931144\ttotal: 5.11s\tremaining: 22.8s\n",
      "55:\tlearn: 0.5923157\ttotal: 5.23s\tremaining: 22.8s\n",
      "56:\tlearn: 0.5914591\ttotal: 5.34s\tremaining: 22.8s\n",
      "57:\tlearn: 0.5906666\ttotal: 5.42s\tremaining: 22.6s\n",
      "58:\tlearn: 0.5902731\ttotal: 5.5s\tremaining: 22.5s\n",
      "59:\tlearn: 0.5899247\ttotal: 5.57s\tremaining: 22.3s\n",
      "60:\tlearn: 0.5892643\ttotal: 5.66s\tremaining: 22.2s\n",
      "61:\tlearn: 0.5885949\ttotal: 5.74s\tremaining: 22s\n",
      "62:\tlearn: 0.5874583\ttotal: 5.81s\tremaining: 21.9s\n",
      "63:\tlearn: 0.5865147\ttotal: 5.89s\tremaining: 21.7s\n",
      "64:\tlearn: 0.5862206\ttotal: 5.96s\tremaining: 21.5s\n",
      "65:\tlearn: 0.5859365\ttotal: 6.03s\tremaining: 21.4s\n",
      "66:\tlearn: 0.5855809\ttotal: 6.09s\tremaining: 21.2s\n",
      "67:\tlearn: 0.5842221\ttotal: 6.18s\tremaining: 21.1s\n",
      "68:\tlearn: 0.5835792\ttotal: 6.24s\tremaining: 20.9s\n",
      "69:\tlearn: 0.5831983\ttotal: 6.33s\tremaining: 20.8s\n",
      "70:\tlearn: 0.5825583\ttotal: 6.39s\tremaining: 20.6s\n",
      "71:\tlearn: 0.5819465\ttotal: 6.46s\tremaining: 20.5s\n",
      "72:\tlearn: 0.5814437\ttotal: 6.54s\tremaining: 20.4s\n",
      "73:\tlearn: 0.5811079\ttotal: 6.62s\tremaining: 20.2s\n",
      "74:\tlearn: 0.5802995\ttotal: 6.69s\tremaining: 20.1s\n",
      "75:\tlearn: 0.5798667\ttotal: 6.77s\tremaining: 19.9s\n",
      "76:\tlearn: 0.5794873\ttotal: 6.88s\tremaining: 19.9s\n",
      "77:\tlearn: 0.5791582\ttotal: 7s\tremaining: 19.9s\n",
      "78:\tlearn: 0.5788850\ttotal: 7.1s\tremaining: 19.9s\n",
      "79:\tlearn: 0.5784706\ttotal: 7.21s\tremaining: 19.8s\n",
      "80:\tlearn: 0.5781008\ttotal: 7.31s\tremaining: 19.8s\n",
      "81:\tlearn: 0.5772551\ttotal: 7.39s\tremaining: 19.7s\n",
      "82:\tlearn: 0.5766605\ttotal: 7.5s\tremaining: 19.6s\n",
      "83:\tlearn: 0.5764036\ttotal: 7.6s\tremaining: 19.6s\n",
      "84:\tlearn: 0.5760330\ttotal: 7.72s\tremaining: 19.5s\n",
      "85:\tlearn: 0.5754800\ttotal: 7.79s\tremaining: 19.4s\n",
      "86:\tlearn: 0.5753074\ttotal: 7.88s\tremaining: 19.3s\n",
      "87:\tlearn: 0.5750127\ttotal: 7.95s\tremaining: 19.1s\n",
      "88:\tlearn: 0.5746433\ttotal: 8.01s\tremaining: 19s\n",
      "89:\tlearn: 0.5742523\ttotal: 8.08s\tremaining: 18.9s\n",
      "90:\tlearn: 0.5739259\ttotal: 8.16s\tremaining: 18.8s\n",
      "91:\tlearn: 0.5735449\ttotal: 8.23s\tremaining: 18.6s\n",
      "92:\tlearn: 0.5730247\ttotal: 8.32s\tremaining: 18.5s\n",
      "93:\tlearn: 0.5726766\ttotal: 8.38s\tremaining: 18.4s\n",
      "94:\tlearn: 0.5724463\ttotal: 8.45s\tremaining: 18.2s\n",
      "95:\tlearn: 0.5722607\ttotal: 8.51s\tremaining: 18.1s\n",
      "96:\tlearn: 0.5718386\ttotal: 8.59s\tremaining: 18s\n",
      "97:\tlearn: 0.5716005\ttotal: 8.66s\tremaining: 17.8s\n",
      "98:\tlearn: 0.5712135\ttotal: 8.73s\tremaining: 17.7s\n",
      "99:\tlearn: 0.5710161\ttotal: 8.82s\tremaining: 17.6s\n",
      "100:\tlearn: 0.5707652\ttotal: 8.93s\tremaining: 17.6s\n",
      "101:\tlearn: 0.5704258\ttotal: 9.05s\tremaining: 17.6s\n",
      "102:\tlearn: 0.5699089\ttotal: 9.16s\tremaining: 17.5s\n",
      "103:\tlearn: 0.5696133\ttotal: 9.26s\tremaining: 17.4s\n",
      "104:\tlearn: 0.5693862\ttotal: 9.34s\tremaining: 17.4s\n",
      "105:\tlearn: 0.5690551\ttotal: 9.46s\tremaining: 17.3s\n",
      "106:\tlearn: 0.5685160\ttotal: 9.55s\tremaining: 17.2s\n",
      "107:\tlearn: 0.5681300\ttotal: 9.65s\tremaining: 17.2s\n",
      "108:\tlearn: 0.5676806\ttotal: 9.74s\tremaining: 17.1s\n",
      "109:\tlearn: 0.5671999\ttotal: 9.81s\tremaining: 17s\n",
      "110:\tlearn: 0.5666956\ttotal: 9.89s\tremaining: 16.8s\n",
      "111:\tlearn: 0.5663244\ttotal: 9.96s\tremaining: 16.7s\n",
      "112:\tlearn: 0.5660284\ttotal: 10s\tremaining: 16.6s\n",
      "113:\tlearn: 0.5655593\ttotal: 10.1s\tremaining: 16.5s\n",
      "114:\tlearn: 0.5648712\ttotal: 10.2s\tremaining: 16.4s\n",
      "115:\tlearn: 0.5637926\ttotal: 10.2s\tremaining: 16.2s\n",
      "116:\tlearn: 0.5634084\ttotal: 10.3s\tremaining: 16.1s\n",
      "117:\tlearn: 0.5629321\ttotal: 10.4s\tremaining: 16s\n",
      "118:\tlearn: 0.5627072\ttotal: 10.4s\tremaining: 15.9s\n",
      "119:\tlearn: 0.5618000\ttotal: 10.5s\tremaining: 15.8s\n",
      "120:\tlearn: 0.5599171\ttotal: 10.6s\tremaining: 15.6s\n",
      "121:\tlearn: 0.5594644\ttotal: 10.6s\tremaining: 15.5s\n",
      "122:\tlearn: 0.5590570\ttotal: 10.7s\tremaining: 15.4s\n",
      "123:\tlearn: 0.5585697\ttotal: 10.8s\tremaining: 15.3s\n",
      "124:\tlearn: 0.5581889\ttotal: 10.9s\tremaining: 15.2s\n",
      "125:\tlearn: 0.5576701\ttotal: 10.9s\tremaining: 15.1s\n",
      "126:\tlearn: 0.5567546\ttotal: 11s\tremaining: 15s\n",
      "127:\tlearn: 0.5562097\ttotal: 11.1s\tremaining: 14.9s\n",
      "128:\tlearn: 0.5557092\ttotal: 11.1s\tremaining: 14.8s\n",
      "129:\tlearn: 0.5553805\ttotal: 11.2s\tremaining: 14.7s\n",
      "130:\tlearn: 0.5547071\ttotal: 11.3s\tremaining: 14.5s\n",
      "131:\tlearn: 0.5543046\ttotal: 11.3s\tremaining: 14.4s\n",
      "132:\tlearn: 0.5537623\ttotal: 11.4s\tremaining: 14.3s\n",
      "133:\tlearn: 0.5531376\ttotal: 11.5s\tremaining: 14.2s\n",
      "134:\tlearn: 0.5528063\ttotal: 11.6s\tremaining: 14.1s\n",
      "135:\tlearn: 0.5524098\ttotal: 11.6s\tremaining: 14s\n",
      "136:\tlearn: 0.5520576\ttotal: 11.7s\tremaining: 13.9s\n",
      "137:\tlearn: 0.5517981\ttotal: 11.8s\tremaining: 13.8s\n",
      "138:\tlearn: 0.5503403\ttotal: 11.9s\tremaining: 13.7s\n",
      "139:\tlearn: 0.5500569\ttotal: 11.9s\tremaining: 13.6s\n",
      "140:\tlearn: 0.5493737\ttotal: 12s\tremaining: 13.6s\n",
      "141:\tlearn: 0.5490573\ttotal: 12.1s\tremaining: 13.4s\n",
      "142:\tlearn: 0.5485791\ttotal: 12.1s\tremaining: 13.3s\n",
      "143:\tlearn: 0.5480144\ttotal: 12.2s\tremaining: 13.2s\n",
      "144:\tlearn: 0.5473722\ttotal: 12.3s\tremaining: 13.1s\n",
      "145:\tlearn: 0.5465767\ttotal: 12.4s\tremaining: 13s\n",
      "146:\tlearn: 0.5463836\ttotal: 12.4s\tremaining: 12.9s\n",
      "147:\tlearn: 0.5461440\ttotal: 12.5s\tremaining: 12.8s\n",
      "148:\tlearn: 0.5459232\ttotal: 12.6s\tremaining: 12.7s\n",
      "149:\tlearn: 0.5456677\ttotal: 12.7s\tremaining: 12.7s\n",
      "150:\tlearn: 0.5448651\ttotal: 12.7s\tremaining: 12.6s\n",
      "151:\tlearn: 0.5445389\ttotal: 12.8s\tremaining: 12.5s\n",
      "152:\tlearn: 0.5442887\ttotal: 12.9s\tremaining: 12.4s\n",
      "153:\tlearn: 0.5439565\ttotal: 12.9s\tremaining: 12.3s\n",
      "154:\tlearn: 0.5436477\ttotal: 13s\tremaining: 12.2s\n",
      "155:\tlearn: 0.5433511\ttotal: 13.1s\tremaining: 12.1s\n",
      "156:\tlearn: 0.5431353\ttotal: 13.2s\tremaining: 12s\n",
      "157:\tlearn: 0.5427183\ttotal: 13.2s\tremaining: 11.9s\n",
      "158:\tlearn: 0.5423371\ttotal: 13.3s\tremaining: 11.8s\n",
      "159:\tlearn: 0.5417343\ttotal: 13.4s\tremaining: 11.7s\n",
      "160:\tlearn: 0.5416312\ttotal: 13.4s\tremaining: 11.6s\n",
      "161:\tlearn: 0.5413787\ttotal: 13.5s\tremaining: 11.5s\n"
     ]
    },
    {
     "name": "stdout",
     "output_type": "stream",
     "text": [
      "162:\tlearn: 0.5411523\ttotal: 13.6s\tremaining: 11.4s\n",
      "163:\tlearn: 0.5408191\ttotal: 13.6s\tremaining: 11.3s\n",
      "164:\tlearn: 0.5403365\ttotal: 13.7s\tremaining: 11.2s\n",
      "165:\tlearn: 0.5398013\ttotal: 13.8s\tremaining: 11.1s\n",
      "166:\tlearn: 0.5396447\ttotal: 13.8s\tremaining: 11s\n",
      "167:\tlearn: 0.5395160\ttotal: 13.9s\tremaining: 10.9s\n",
      "168:\tlearn: 0.5392092\ttotal: 14s\tremaining: 10.8s\n",
      "169:\tlearn: 0.5387096\ttotal: 14s\tremaining: 10.7s\n",
      "170:\tlearn: 0.5383834\ttotal: 14.1s\tremaining: 10.6s\n",
      "171:\tlearn: 0.5379600\ttotal: 14.2s\tremaining: 10.5s\n",
      "172:\tlearn: 0.5375528\ttotal: 14.2s\tremaining: 10.4s\n",
      "173:\tlearn: 0.5372606\ttotal: 14.3s\tremaining: 10.4s\n",
      "174:\tlearn: 0.5368417\ttotal: 14.4s\tremaining: 10.3s\n",
      "175:\tlearn: 0.5364438\ttotal: 14.4s\tremaining: 10.2s\n",
      "176:\tlearn: 0.5361819\ttotal: 14.5s\tremaining: 10.1s\n",
      "177:\tlearn: 0.5360569\ttotal: 14.6s\tremaining: 9.98s\n",
      "178:\tlearn: 0.5356314\ttotal: 14.6s\tremaining: 9.89s\n",
      "179:\tlearn: 0.5354579\ttotal: 14.7s\tremaining: 9.8s\n",
      "180:\tlearn: 0.5350068\ttotal: 14.8s\tremaining: 9.71s\n",
      "181:\tlearn: 0.5347932\ttotal: 14.8s\tremaining: 9.62s\n",
      "182:\tlearn: 0.5345380\ttotal: 14.9s\tremaining: 9.53s\n",
      "183:\tlearn: 0.5342268\ttotal: 15s\tremaining: 9.44s\n",
      "184:\tlearn: 0.5337219\ttotal: 15s\tremaining: 9.35s\n",
      "185:\tlearn: 0.5335039\ttotal: 15.1s\tremaining: 9.26s\n",
      "186:\tlearn: 0.5332961\ttotal: 15.2s\tremaining: 9.17s\n",
      "187:\tlearn: 0.5331495\ttotal: 15.2s\tremaining: 9.08s\n",
      "188:\tlearn: 0.5323817\ttotal: 15.3s\tremaining: 8.99s\n",
      "189:\tlearn: 0.5321663\ttotal: 15.4s\tremaining: 8.93s\n",
      "190:\tlearn: 0.5316357\ttotal: 15.5s\tremaining: 8.85s\n",
      "191:\tlearn: 0.5314502\ttotal: 15.6s\tremaining: 8.8s\n",
      "192:\tlearn: 0.5310962\ttotal: 15.7s\tremaining: 8.72s\n",
      "193:\tlearn: 0.5309622\ttotal: 15.8s\tremaining: 8.66s\n",
      "194:\tlearn: 0.5307404\ttotal: 16s\tremaining: 8.6s\n",
      "195:\tlearn: 0.5305238\ttotal: 16.1s\tremaining: 8.54s\n",
      "196:\tlearn: 0.5303193\ttotal: 16.2s\tremaining: 8.46s\n",
      "197:\tlearn: 0.5300048\ttotal: 16.3s\tremaining: 8.39s\n",
      "198:\tlearn: 0.5298455\ttotal: 16.4s\tremaining: 8.33s\n",
      "199:\tlearn: 0.5295936\ttotal: 16.5s\tremaining: 8.26s\n",
      "200:\tlearn: 0.5295412\ttotal: 16.6s\tremaining: 8.19s\n",
      "201:\tlearn: 0.5293595\ttotal: 16.7s\tremaining: 8.11s\n",
      "202:\tlearn: 0.5292373\ttotal: 16.8s\tremaining: 8.04s\n",
      "203:\tlearn: 0.5289510\ttotal: 16.9s\tremaining: 7.96s\n",
      "204:\tlearn: 0.5288076\ttotal: 17s\tremaining: 7.88s\n",
      "205:\tlearn: 0.5285212\ttotal: 17.1s\tremaining: 7.81s\n",
      "206:\tlearn: 0.5283001\ttotal: 17.2s\tremaining: 7.73s\n",
      "207:\tlearn: 0.5279081\ttotal: 17.3s\tremaining: 7.66s\n",
      "208:\tlearn: 0.5276827\ttotal: 17.4s\tremaining: 7.58s\n",
      "209:\tlearn: 0.5276111\ttotal: 17.5s\tremaining: 7.51s\n",
      "210:\tlearn: 0.5275113\ttotal: 17.7s\tremaining: 7.45s\n",
      "211:\tlearn: 0.5273894\ttotal: 17.8s\tremaining: 7.38s\n",
      "212:\tlearn: 0.5273168\ttotal: 17.9s\tremaining: 7.31s\n",
      "213:\tlearn: 0.5268620\ttotal: 18s\tremaining: 7.23s\n",
      "214:\tlearn: 0.5266245\ttotal: 18.1s\tremaining: 7.15s\n",
      "215:\tlearn: 0.5264127\ttotal: 18.2s\tremaining: 7.07s\n",
      "216:\tlearn: 0.5262126\ttotal: 18.3s\tremaining: 6.99s\n",
      "217:\tlearn: 0.5259033\ttotal: 18.4s\tremaining: 6.9s\n",
      "218:\tlearn: 0.5256554\ttotal: 18.4s\tremaining: 6.82s\n",
      "219:\tlearn: 0.5255403\ttotal: 18.6s\tremaining: 6.75s\n",
      "220:\tlearn: 0.5253603\ttotal: 18.7s\tremaining: 6.68s\n",
      "221:\tlearn: 0.5249671\ttotal: 18.8s\tremaining: 6.61s\n",
      "222:\tlearn: 0.5246822\ttotal: 18.9s\tremaining: 6.53s\n",
      "223:\tlearn: 0.5243590\ttotal: 19s\tremaining: 6.44s\n",
      "224:\tlearn: 0.5241242\ttotal: 19.1s\tremaining: 6.36s\n",
      "225:\tlearn: 0.5236718\ttotal: 19.2s\tremaining: 6.28s\n",
      "226:\tlearn: 0.5235292\ttotal: 19.3s\tremaining: 6.21s\n",
      "227:\tlearn: 0.5231217\ttotal: 19.4s\tremaining: 6.13s\n",
      "228:\tlearn: 0.5229413\ttotal: 19.5s\tremaining: 6.05s\n",
      "229:\tlearn: 0.5227828\ttotal: 19.6s\tremaining: 5.97s\n",
      "230:\tlearn: 0.5225058\ttotal: 19.7s\tremaining: 5.89s\n",
      "231:\tlearn: 0.5223883\ttotal: 19.9s\tremaining: 5.82s\n",
      "232:\tlearn: 0.5222833\ttotal: 20s\tremaining: 5.74s\n",
      "233:\tlearn: 0.5220387\ttotal: 20.1s\tremaining: 5.66s\n",
      "234:\tlearn: 0.5218967\ttotal: 20.1s\tremaining: 5.57s\n",
      "235:\tlearn: 0.5214344\ttotal: 20.2s\tremaining: 5.48s\n",
      "236:\tlearn: 0.5211492\ttotal: 20.3s\tremaining: 5.4s\n",
      "237:\tlearn: 0.5209809\ttotal: 20.4s\tremaining: 5.32s\n",
      "238:\tlearn: 0.5208001\ttotal: 20.5s\tremaining: 5.24s\n",
      "239:\tlearn: 0.5206205\ttotal: 20.6s\tremaining: 5.15s\n",
      "240:\tlearn: 0.5204727\ttotal: 20.7s\tremaining: 5.07s\n",
      "241:\tlearn: 0.5202159\ttotal: 20.8s\tremaining: 4.98s\n",
      "242:\tlearn: 0.5200461\ttotal: 20.8s\tremaining: 4.89s\n",
      "243:\tlearn: 0.5197874\ttotal: 20.9s\tremaining: 4.8s\n",
      "244:\tlearn: 0.5193832\ttotal: 21s\tremaining: 4.71s\n",
      "245:\tlearn: 0.5192108\ttotal: 21s\tremaining: 4.62s\n",
      "246:\tlearn: 0.5190787\ttotal: 21.1s\tremaining: 4.53s\n",
      "247:\tlearn: 0.5186203\ttotal: 21.2s\tremaining: 4.44s\n",
      "248:\tlearn: 0.5184166\ttotal: 21.3s\tremaining: 4.36s\n",
      "249:\tlearn: 0.5179334\ttotal: 21.3s\tremaining: 4.27s\n",
      "250:\tlearn: 0.5177090\ttotal: 21.4s\tremaining: 4.18s\n",
      "251:\tlearn: 0.5171204\ttotal: 21.5s\tremaining: 4.09s\n",
      "252:\tlearn: 0.5169103\ttotal: 21.6s\tremaining: 4s\n",
      "253:\tlearn: 0.5166962\ttotal: 21.6s\tremaining: 3.92s\n",
      "254:\tlearn: 0.5165645\ttotal: 21.7s\tremaining: 3.83s\n",
      "255:\tlearn: 0.5164636\ttotal: 21.8s\tremaining: 3.74s\n",
      "256:\tlearn: 0.5163733\ttotal: 21.8s\tremaining: 3.65s\n",
      "257:\tlearn: 0.5159292\ttotal: 21.9s\tremaining: 3.56s\n",
      "258:\tlearn: 0.5157817\ttotal: 22s\tremaining: 3.48s\n",
      "259:\tlearn: 0.5155739\ttotal: 22s\tremaining: 3.39s\n",
      "260:\tlearn: 0.5153481\ttotal: 22.1s\tremaining: 3.31s\n",
      "261:\tlearn: 0.5151480\ttotal: 22.2s\tremaining: 3.22s\n",
      "262:\tlearn: 0.5148640\ttotal: 22.3s\tremaining: 3.13s\n",
      "263:\tlearn: 0.5143342\ttotal: 22.3s\tremaining: 3.04s\n",
      "264:\tlearn: 0.5140609\ttotal: 22.4s\tremaining: 2.96s\n",
      "265:\tlearn: 0.5138660\ttotal: 22.5s\tremaining: 2.87s\n",
      "266:\tlearn: 0.5136847\ttotal: 22.6s\tremaining: 2.79s\n",
      "267:\tlearn: 0.5135721\ttotal: 22.6s\tremaining: 2.7s\n",
      "268:\tlearn: 0.5132477\ttotal: 22.7s\tremaining: 2.62s\n",
      "269:\tlearn: 0.5132051\ttotal: 22.8s\tremaining: 2.53s\n",
      "270:\tlearn: 0.5129547\ttotal: 22.8s\tremaining: 2.44s\n",
      "271:\tlearn: 0.5128102\ttotal: 22.9s\tremaining: 2.36s\n",
      "272:\tlearn: 0.5126507\ttotal: 23s\tremaining: 2.27s\n",
      "273:\tlearn: 0.5124034\ttotal: 23s\tremaining: 2.19s\n",
      "274:\tlearn: 0.5123642\ttotal: 23.1s\tremaining: 2.1s\n",
      "275:\tlearn: 0.5121808\ttotal: 23.2s\tremaining: 2.02s\n",
      "276:\tlearn: 0.5117251\ttotal: 23.3s\tremaining: 1.93s\n",
      "277:\tlearn: 0.5113989\ttotal: 23.3s\tremaining: 1.84s\n",
      "278:\tlearn: 0.5112942\ttotal: 23.4s\tremaining: 1.76s\n",
      "279:\tlearn: 0.5111277\ttotal: 23.5s\tremaining: 1.68s\n",
      "280:\tlearn: 0.5109344\ttotal: 23.5s\tremaining: 1.59s\n",
      "281:\tlearn: 0.5108443\ttotal: 23.6s\tremaining: 1.51s\n",
      "282:\tlearn: 0.5106013\ttotal: 23.7s\tremaining: 1.42s\n",
      "283:\tlearn: 0.5104909\ttotal: 23.7s\tremaining: 1.34s\n",
      "284:\tlearn: 0.5102519\ttotal: 23.8s\tremaining: 1.25s\n",
      "285:\tlearn: 0.5101081\ttotal: 23.9s\tremaining: 1.17s\n",
      "286:\tlearn: 0.5098969\ttotal: 24s\tremaining: 1.08s\n",
      "287:\tlearn: 0.5097147\ttotal: 24s\tremaining: 1s\n",
      "288:\tlearn: 0.5092728\ttotal: 24.1s\tremaining: 917ms\n",
      "289:\tlearn: 0.5087445\ttotal: 24.2s\tremaining: 833ms\n",
      "290:\tlearn: 0.5084582\ttotal: 24.2s\tremaining: 749ms\n",
      "291:\tlearn: 0.5084082\ttotal: 24.3s\tremaining: 666ms\n",
      "292:\tlearn: 0.5080900\ttotal: 24.4s\tremaining: 582ms\n",
      "293:\tlearn: 0.5079592\ttotal: 24.4s\tremaining: 499ms\n",
      "294:\tlearn: 0.5074339\ttotal: 24.5s\tremaining: 415ms\n",
      "295:\tlearn: 0.5072164\ttotal: 24.6s\tremaining: 332ms\n",
      "296:\tlearn: 0.5071074\ttotal: 24.7s\tremaining: 249ms\n",
      "297:\tlearn: 0.5070295\ttotal: 24.7s\tremaining: 166ms\n",
      "298:\tlearn: 0.5067786\ttotal: 24.8s\tremaining: 83ms\n",
      "299:\tlearn: 0.5065968\ttotal: 24.9s\tremaining: 0us\n"
     ]
    },
    {
     "data": {
      "text/plain": [
       "0.6127178807105796"
      ]
     },
     "execution_count": 123,
     "metadata": {},
     "output_type": "execute_result"
    }
   ],
   "source": [
    "from catboost import CatBoostClassifier,Pool\n",
    "import numpy as np\n",
    "\n",
    "model = CatBoostClassifier\n",
    "params = {'depth':[2, 3, 4],\n",
    "          'loss_function': ['Logloss', 'CrossEntropy'],\n",
    "          'l2_leaf_reg':np.logspace(-20, -19, 3)}\n",
    "# param = catboost_GridSearchCV(X_train, y_train, X_test, params, cat_features)\n",
    "cat = CatBoostClassifier(iterations=300,\n",
    "                         depth=4,\n",
    "                         learning_rate=0.1,\n",
    "                         l2_leaf_reg = 3.5,\n",
    "                         class_weights=[50,5,3],\n",
    "                         leaf_estimation_iterations = 10)\n",
    "cat.fit(X_train,y_train)        \n",
    "y_pred = cat.predict(X_test)\n",
    "accuracy = f1_score(y_test, y_pred,average='macro')\n",
    "accuracy\n",
    "# CatBoostError: To employ param {'use_best_model': True} provide non-empty 'eval_set'.\n",
    "\n",
    "\n",
    "# {\"1\":2,\"3\":4.3,\"2\":25.1}"
   ]
  },
  {
   "cell_type": "code",
   "execution_count": 124,
   "metadata": {},
   "outputs": [
    {
     "data": {
      "text/plain": [
       "Text(0.5, 87.0, 'Predicted')"
      ]
     },
     "execution_count": 124,
     "metadata": {},
     "output_type": "execute_result"
    },
    {
     "data": {
      "image/png": "[encoded data removed]",
      "text/plain": [
       "<Figure size 864x864 with 2 Axes>"
      ]
     },
     "metadata": {
      "needs_background": "light"
     },
     "output_type": "display_data"
    }
   ],
   "source": [
    "labels = ['Win','Draw','Loss']        \n",
    "c = confusion_matrix(y_test,y_pred)\n",
    "#normalize\n",
    "cm = c.astype('float')/c.sum(axis=1)[:, np.newaxis]\n",
    "fig,ax = plt.subplots(figsize=(12,12))\n",
    "ax = sns.heatmap(cm,annot=True, fmt= '.2f',xticklabels=labels,yticklabels=labels)\n",
    "#new matplotlib version cuts off part of first and last row, fixing this\n",
    "bottom, top = ax.get_ylim()\n",
    "ax.set_ylim(bottom + 0.5, top - 0.5)\n",
    "plt.ylabel('Actual')\n",
    "plt.xlabel('Predicted')"
   ]
  },
  {
   "cell_type": "code",
   "execution_count": 126,
   "metadata": {},
   "outputs": [],
   "source": [
    "import pickle\n",
    "filename = \"catboostmodel.pkl\"  \n",
    "pickle.dump(cat, open(filename, 'wb'))"
   ]
  },
  {
   "cell_type": "code",
   "execution_count": null,
   "metadata": {},
   "outputs": [],
   "source": []
  }
 ],
 "metadata": {
  "kernelspec": {
   "display_name": "Python 3",
   "language": "python",
   "name": "python3"
  },
  "language_info": {
   "codemirror_mode": {
    "name": "ipython",
    "version": 3
   },
   "file_extension": ".py",
   "mimetype": "text/x-python",
   "name": "python",
   "nbconvert_exporter": "python",
   "pygments_lexer": "ipython3",
   "version": "3.7.4"
  }
 },
 "nbformat": 4,
 "nbformat_minor": 2
}
