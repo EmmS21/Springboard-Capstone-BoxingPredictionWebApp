{
 "cells": [
  {
   "cell_type": "code",
   "execution_count": 1,
   "metadata": {},
   "outputs": [
    {
     "name": "stderr",
     "output_type": "stream",
     "text": [
      "C:\\Users\\User\\Anaconda3\\lib\\site-packages\\IPython\\core\\interactiveshell.py:3058: DtypeWarning: Columns (39,40,41,42,43,44,46,47,48,49,50,51,52,53,54,55,98,99,100,101,102,103,105,106,107,108,109,110,111,112,113,114,159,160,161,162,163,164,166,167,168,169,170,171,172,173,174,175,219,220,221,222,223,224,226,227,228,229,230,231,232,233,234,235,341,342,343,344,345,346,348,349,350,351,352,353,354,355,356,357,396,400,401,402,403,404,405,407,408,409,410,411,412,413,414,415,416,461,462,463,464,465,466,468,469,470,471,472,473,474,475,476,477,520,521,522,523,524,525,527,528,529,530,531,532,533,534,535,536,576,577,578,579,580,581,582,583,584,585,587,588,589,590,591,592,593,594,595,638,639,640,641,642,643,645,646,647,648,649,650,651,652,653,696,697,698,699,700,701,703,704,705,706,707,708,709,710,711,754,755,756,757,758,759,761,762,763,764,765,766,767,768,769,812,813,814,815,816,817,819,820,821,822,823,824,825,826,827,870,871,872,873,874,875,877,878,879,880,881,882,883,884,885,987,988,989,990,991,992,994,995,996,997,998,999,1000,1001,1002,1009,1010,1011,1012,1013,1014,1015,1016,1017,1018,1019,1020,1021,1022,1023,1024,1034,1035,1036,1037,1038,1039,1040,1041,1042,1043,1044,1045,1046,1047,1048,1049,1059,1060,1061,1062,1063,1064,1065,1066,1067,1068,1069,1070,1071,1072,1073,1074,1084,1085,1086,1087,1088,1089,1090,1091,1092,1093,1094,1095,1096,1097,1098,1099,1100,1101,1102,1103,1104,1105,1106,1107,1108,1109,1110,1111,1112,1113,1114,1115,1116,1117,1118,1119,1120,1121,1122,1123,1158,1159,1160,1161,1162,1163,1164,1165,1166,1167,1168,1169,1170,1171,1172,1173,1183,1184,1185,1190,1192,1193,1195,1196,1208,1209,1210,1211,1212,1213,1214,1215,1216,1217,1218,1219,1220,1221,1222,1223,1233,1234,1235,1236,1237,1238,1239,1240,1241,1242,1243,1244,1245,1246,1247,1248,1258,1259,1260,1284,1285,1286,1287,1288,1289,1290,1291,1292,1293,1294,1295,1296,1297,1298,1299,1300,1310,1311,1312,1313,1314,1315,1316,1317,1318,1319,1320,1321,1322,1323,1324,1325,1326,1327,1328,1329,1330,1331,1332,1333,1334,1335,1336,1337,1338,1339,1340,1341,1342,1343,1344,1345,1346,1347,1348,1349,1350,1360,1361,1362,1363,1364,1365,1366,1367,1368,1369,1370,1371,1372,1373,1374,1375,1376,1386,1387,1388,1389,1390,1391,1392,1393,1394,1395,1396,1397,1398,1399,1400,1401,1402,1412,1413,1414,1415,1416,1417,1418,1419,1420,1421,1422,1423,1424,1425,1426,1427,1428,1464,1465,1466,1467,1468,1469,1470,1471,1472,1473,1474,1475,1476,1477,1478,1479,1480,1481,1482,1483,1484,1485,1486,1487,1488,1489,1490,1491,1492,1493,1494,1495,1496,1497,1498,1499,1500,1501,1502,1503,1513,1514,1515,1516,1517,1518,1519,1520,1521,1522,1523,1524,1525,1526,1527,1528,1529,1530,1531,1532,1533,1534,1535,1536,1537,1538,1539,1540,1541,1542,1543,1544,1545,1546,1547,1548,1549,1550,1551,1552,1553,1554,1555,1556,1557,1558,1559,1560,1561,1562,1563,1564,1565,1566,1567,1568,1569,1570,1571,1572,1573,1574,1575,1576,1577,1578,1579,1580,1581,1582,1583,1584,1585,1586,1587,1588,1589,1590,1591,1592,1593,1594,1595,1596,1597,1598,1599,1600,1601,1602,1603,1604,1605,1606,1607,1608,1609,1610,1611,1612,1613,1614,1615,1616,1617,1618,1619,1620,1621,1622,1623,1624,1625,1626,1627,1628,1629,1630,1631,1632,1633,1634,1635,1636,1637,1638,1639,1640,1641,1642,1643,1644,1645,1646,1647,1648,1649,1650,1651,1652,1653,1654,1655,1656,1657,1658,1659,1660,1661,1662,1663,1664,1665,1666,1667,1668,1669,1670,1671,1672,1673,1674,1675,1676,1677,1678,1679,1680,1681,1682,1683,1684,1685,1686,1687,1688,1689,1690,1691,1692,1693,1694,1695,1696) have mixed types. Specify dtype option on import or set low_memory=False.\n",
      "  interactivity=interactivity, compiler=compiler, result=result)\n"
     ]
    }
   ],
   "source": [
    "import pandas as pd\n",
    "from itertools import chain\n",
    "from sklearn.ensemble import RandomForestClassifier\n",
    "from sklearn.model_selection import train_test_split,GridSearchCV,cross_val_score,KFold\n",
    "from sklearn.preprocessing import LabelEncoder\n",
    "from sklearn.metrics import accuracy_score,confusion_matrix\n",
    "import numpy as np\n",
    "import matplotlib.pyplot as plt\n",
    "import seaborn as sns\n",
    "path = 'https://raw.githubusercontent.com/EmmS21/SpringboardCapstoneBoxingPredictionWebApp/master/boxingdata/visuals.csv'\n",
    "data = pd.read_csv(path)"
   ]
  },
  {
   "cell_type": "code",
   "execution_count": 2,
   "metadata": {},
   "outputs": [],
   "source": [
    "#convert to long so I have a row for each bout\n",
    "cols = ['secondBoxer'+str(i) for i in range(1, 85)]\n",
    "two = ['secondBoxerWeight'+str(i) for i in range(1,85)]\n",
    "three = ['secondBoxerLast6'+str(i) for i in range(1,85)]\n",
    "four = ['secondBoxerRating'+str(i) for i in range(1,85)]\n",
    "five = ['secondBoxerRecord'+str(i) for i in range(1,85)]\n",
    "six = ['metadata'+str(i) for i in range(1,85)]\n",
    "seven = ['numberofrounds'+str(i) for i in range(1,85)]\n",
    "eight = ['referee'+str(i) for i in range(1,85)]\n",
    "nine = ['JudgeID'+str(i) for i in range(1,85)]\n",
    "ten = ['firstBoxerWeight'+str(i) for i in range(1,85)]\n",
    "eleven = ['firstBoxerRating'+str(i) for i in range(1,85)]\n",
    "twelve = ['rating'+str(i) for i in range(1,85)]\n",
    "thirteen = ['titles'+str(i) for i in range(1,85)]\n",
    "fourteen = ['date'+str(i) for i in range(1,85)]\n",
    "fifteen = ['outcome'+str(i) for i in range(1,85)]\n",
    "# concated = pd.concat([pd.melt(data,id_vars=['name','global_id'],value_vars=cols,var_name='labels',value_name='opposition') for i in cols])\n",
    "concated = pd.melt(data,id_vars=['name','global_id','sex','division'], value_vars = cols,var_name='label',value_name='opposition')\n",
    "concated_two = pd.melt(data,id_vars=['name','global_id','sex','division'],value_vars=two,var_name='weightb_label',value_name='opp_weight').drop(columns=['global_id','name','sex','division'])\n",
    "concated_three = pd.melt(data,id_vars=['name','global_id','sex','division'],value_vars=three,var_name='last6_label',value_name='opp_last6').drop(columns=['global_id','name','sex','division'])\n",
    "concated_four = pd.melt(data,id_vars=['name','global_id','sex','division'],value_vars=four,var_name='rating_label',value_name='opp_rating').drop(columns=['global_id','name','sex','division'])\n",
    "concated_five = pd.melt(data,id_vars=['name','global_id','sex','division'],value_vars=five,var_name='record_label',value_name='opp_record').drop(columns=['global_id','name','sex','division'])\n",
    "concated_six = pd.melt(data,id_vars=['name','global_id','sex','division'],value_vars=six,var_name='meta_label',value_name='meta').drop(columns=['global_id','name','sex','division'])\n",
    "concated_seven = pd.melt(data,id_vars=['name','global_id','sex','division'],value_vars=seven,var_name='rounds_label',value_name='rounds').drop(columns=['global_id','name','sex','division'])\n",
    "concated_eight = pd.melt(data,id_vars=['name','global_id','sex','division'],value_vars=eight,var_name='ref_label',value_name='ref').drop(columns=['global_id','name','sex','division'])\n",
    "concated_nine = pd.melt(data,id_vars=['name','global_id','sex','division'],value_vars=nine,var_name='judge_label',value_name='judge').drop(columns=['global_id','name','sex','division'])\n",
    "concated_ten = pd.melt(data,id_vars=['name','global_id','sex','division'],value_vars=ten,var_name='weighta_label',value_name='weight').drop(columns=['global_id','name','sex','division'])\n",
    "concated_eleven = pd.melt(data,id_vars=['name','global_id','sex','division'],value_vars=eleven,var_name='boxerratinga_label',value_name='boxer_rating').drop(columns=['global_id','name','sex','division'])\n",
    "concated_twelve = pd.melt(data,id_vars=['name','global_id','sex','division'],value_vars=twelve,var_name='rate_label',value_name='rating').drop(columns=['global_id','name','sex','division'])\n",
    "concated_thirteen = pd.melt(data,id_vars=['name','global_id','sex','division'],value_vars=thirteen,var_name='title_label',value_name='titles').drop(columns=['global_id','name','sex','division'])\n",
    "concated_fourteen = pd.melt(data,id_vars=['name','global_id','sex','division'],value_vars=fourteen,var_name='date_label',value_name='date').drop(columns=['global_id','name','sex','division'])\n",
    "concated_fifteen = pd.melt(data,id_vars=['name','global_id','sex','division'],value_vars=fifteen,var_name='outcome_label',value_name='outcome').drop(columns=['global_id','name','sex','division'])\n",
    "#merge all \n",
    "fully_merged = pd.concat([concated,concated_two,concated_three,concated_four,concated_five,\n",
    "          concated_six,concated_seven,concated_eight,concated_nine,concated_ten,\n",
    "          concated_eleven,concated_twelve,concated_thirteen,concated_fourteen,concated_fifteen],axis=1,sort=False)\n",
    "fully_merged = fully_merged.set_index('name')\n",
    "# fully_merged.index = fully_merged['name']"
   ]
  },
  {
   "cell_type": "code",
   "execution_count": 3,
   "metadata": {},
   "outputs": [],
   "source": [
    "fully_merged = fully_merged.reset_index()\n",
    "fully_merged = fully_merged.drop(columns = ['weightb_label','last6_label','rating_label','record_label','meta_label',\n",
    "                            'rounds_label','ref_label','judge_label','weighta_label','boxerratinga_label',\n",
    "                            'rate_label','title_label','date_label','outcome_label','label'],axis=1)"
   ]
  },
  {
   "cell_type": "code",
   "execution_count": 4,
   "metadata": {},
   "outputs": [],
   "source": [
    "#reordering columns\n",
    "column_titles = ['name','weight','boxer_rating','sex','division','global_id','rating','date','outcome','opposition',\n",
    "                 'opp_last6','opp_rating','opp_record','opp_weight','judge','meta','rounds','ref','titles']\n",
    "fully_merged = fully_merged.reindex(columns=column_titles)"
   ]
  },
  {
   "cell_type": "code",
   "execution_count": 5,
   "metadata": {},
   "outputs": [],
   "source": [
    "#cleanup data\n",
    "fully_merged['outcome'] = fully_merged['outcome'].str.replace('\"','')\n",
    "fully_merged['opposition'] = fully_merged['opposition'].str.replace('\"','')\n",
    "fully_merged['weight'] = fully_merged['weight'].fillna(0).astype(int)\n",
    "#converting last 6 fights to points\n",
    "fully_merged['opp_last6'] = fully_merged.opp_last6.str.count('win')*10+fully_merged.opp_last6.str.count('draw')*5+fully_merged.opp_last6.str.count('loss')*-5"
   ]
  },
  {
   "cell_type": "code",
   "execution_count": 6,
   "metadata": {},
   "outputs": [],
   "source": [
    "#converting opp record to points\n",
    "fully_merged['opp_win'] = fully_merged['opp_record'].str.extract('win(?P<win>.*?)}').fillna(0)\n",
    "fully_merged['opp_loss'] = fully_merged['opp_record'].str.extract('loss(?P<loss>.*?)win').fillna(0)\n",
    "fully_merged['opp_draw'] = fully_merged['opp_record'].str.extract('draw\"(?P<draw>.*?)loss').fillna(0)\n",
    "fully_merged['opp_loss'] =  pd.to_numeric(fully_merged['opp_loss'],errors='coerce')\n",
    "fully_merged['opp_win'] = pd.to_numeric(fully_merged['opp_win'],errors='coerce')\n",
    "fully_merged['opp_draw'] = pd.to_numeric(fully_merged['opp_draw'],errors='coerce')\n",
    "fully_merged.drop(columns=['opp_record'],inplace=True)"
   ]
  },
  {
   "cell_type": "code",
   "execution_count": 7,
   "metadata": {},
   "outputs": [],
   "source": [
    "#droppin columns with non useful data\n",
    "fully_merged.drop(columns=['boxer_rating','opp_rating'],inplace=True)"
   ]
  },
  {
   "cell_type": "code",
   "execution_count": 8,
   "metadata": {},
   "outputs": [],
   "source": [
    "fully_merged['opp_weight'] = fully_merged['opp_weight'].astype(float)\n",
    "fully_merged['date'] = pd.to_datetime(fully_merged['date'])\n",
    "ref_points =fully_merged.judge.str.extractall(r'(\\b\\d+\\b)').unstack().reindex(fully_merged.index)      \n",
    "ref_points.columns = ref_points.columns.map('{0[0]}_{0[1]}'.format)\n",
    "fully_merged[['judge1boxer','judge1opp','judge2boxer','judge2opp','judge3boxer','judge3opp']] = ref_points[['0_0','0_1','0_2','0_3','0_4','0_5']]"
   ]
  },
  {
   "cell_type": "code",
   "execution_count": 9,
   "metadata": {},
   "outputs": [],
   "source": [
    "fully_merged[['judge1boxer','judge1opp','judge2boxer','judge2opp','judge3boxer','judge3opp']]=fully_merged[['judge1boxer','judge1opp','judge2boxer','judge2opp','judge3boxer','judge3opp']].fillna(0)"
   ]
  },
  {
   "cell_type": "code",
   "execution_count": 10,
   "metadata": {},
   "outputs": [],
   "source": [
    "fully_merged.drop(columns=['judge'],inplace=True)"
   ]
  },
  {
   "cell_type": "code",
   "execution_count": 11,
   "metadata": {},
   "outputs": [],
   "source": [
    "fully_merged['ref'] = fully_merged.ref.str.replace(r\"[\\\"\\',]\", '').str.replace('[','').str.replace(']','')\n",
    "fully_merged['final_outcome'] = fully_merged['ref']\n",
    "fully_merged.drop(columns=['ref'],inplace=True)"
   ]
  },
  {
   "cell_type": "code",
   "execution_count": 12,
   "metadata": {},
   "outputs": [],
   "source": [
    "#extract rounds\n",
    "rounds =fully_merged.rounds.str.extractall(r'(\\b\\d+\\b)').unstack().reindex(fully_merged.index)\n",
    "rounds.columns = rounds.columns.map('{0[0]}|{0[1]}'.format)\n",
    "fully_merged[['rounds1','rounds2']] = rounds[['0|0', '0|1']]\n",
    "fully_merged.drop(columns=['rounds'],inplace=True)"
   ]
  },
  {
   "cell_type": "code",
   "execution_count": 13,
   "metadata": {},
   "outputs": [],
   "source": [
    "#converting meta to time\n",
    "fully_merged['meta'] = fully_merged['meta'].str.replace(':','')\n",
    "fully_merged['meta'] = fully_merged['meta'].str[0].fillna(0).astype(int)*60 + fully_merged['meta'].str[1:4].fillna(0).astype(int)\n",
    "#cleaning up titles column\n",
    "fully_merged['titles'] = fully_merged['titles'].str.replace(r\"[\\:\\,\\[\\}\\]]\", '')\n",
    "#not sure how the information in titles is structured? so dropping column for now\n",
    "fully_merged.drop(columns=['titles'],inplace=True)"
   ]
  },
  {
   "cell_type": "code",
   "execution_count": 14,
   "metadata": {},
   "outputs": [],
   "source": [
    "fullym_merged2 = fully_merged.drop(columns=['outcome','global_id','name'])"
   ]
  },
  {
   "cell_type": "code",
   "execution_count": 16,
   "metadata": {},
   "outputs": [],
   "source": [
    "X = fully_merged.drop(['final_outcome','name','sex','division','opposition','outcome','global_id'],axis=1)\n",
    "X.fillna(0,inplace=True)\n",
    "#need to encode strings as numeric features by using preprocessing module sklearn.preprocessing.LabelEncoder "
   ]
  },
  {
   "cell_type": "code",
   "execution_count": 17,
   "metadata": {},
   "outputs": [],
   "source": [
    "conditions = [(fully_merged['final_outcome'] == 'win KO knockout'),(fully_merged['final_outcome'] == 'draw MD majority decision'),\n",
    "             (fully_merged['final_outcome'] == 'win SD split decision'),(fully_merged['final_outcome'] == 'win TKO technical knockout'),\n",
    "              (fully_merged['final_outcome'] == 'win nan null'),(fully_merged['final_outcome'] == 'loss UD unanimous decision'),\n",
    "              (fully_merged['final_outcome'] == 'win UD unanimous decision'),(fully_merged['final_outcome'] == 'loss KO knockout'),\n",
    "              (fully_merged['final_outcome'] == 'loss TKO technical knockout'),(fully_merged['final_outcome'] == 'loss SD split decision'),\n",
    "              (fully_merged['final_outcome'] == 'loss nan null'),(fully_merged['final_outcome'] == 'win PTS null'),\n",
    "              (fully_merged['final_outcome'] == 'unknown nan null'),(fully_merged['final_outcome'] == 'loss RTD corner retirement'),\n",
    "              (fully_merged['final_outcome'] == 'loss MD majority decision'),(fully_merged['final_outcome'] == 'win KO knockout'),\n",
    "              (fully_merged['final_outcome'] == 'win KO knockout'),(fully_merged['final_outcome'] == 'win KO knockout'),\n",
    "              (fully_merged['final_outcome'] == 'win KO knockout'),(fully_merged['final_outcome'] == 'win KO knockout'),\n",
    "              (fully_merged['final_outcome'] == 'win KO knockout'),(fully_merged['final_outcome'] == 'win KO knockout'),\n",
    "              (fully_merged['final_outcome'] == 'win KO knockout'),(fully_merged['final_outcome'] == 'win KO knockout'),\n",
    "              (fully_merged['final_outcome'] == 'win KO knockout'),(fully_merged['final_outcome'] == 'win KO knockout'),\n",
    "              (fully_merged['final_outcome'] == 'win KO knockout'),(fully_merged['final_outcome'] == 'win KO knockout')\n",
    "             ]"
   ]
  },
  {
   "cell_type": "code",
   "execution_count": 18,
   "metadata": {},
   "outputs": [],
   "source": [
    "# create new outcomes column\n",
    "fully_merged.loc[(fully_merged['final_outcome'].str.contains('win KO') == True) | (fully_merged['final_outcome'].str.contains('win TKO') == True), 'clean_outcome'] = 'Win KO'\n",
    "fully_merged.loc[fully_merged['final_outcome'].str.contains('draw') == True, 'clean_outcome'] = 'Draw'\n",
    "fully_merged.loc[(fully_merged['final_outcome'].str.contains('win nan') == True) | (fully_merged['final_outcome'].str.contains('win DQ') == True) | (fully_merged['final_outcome'].str.contains('win PTS') == True) | (fully_merged['final_outcome'].str.contains('win DQ') == True) | (fully_merged['final_outcome'].str.contains('win UD') == True) | (fully_merged['final_outcome'].str.contains('win SD') == True) | (fully_merged['final_outcome'].str.contains('win MD') == True) | (fully_merged['final_outcome'].str.contains('win TD') == True) | (fully_merged['final_outcome'].str.contains('win RTD') == True), 'clean_outcome'] = 'Win Other'\n",
    "fully_merged.loc[fully_merged['final_outcome'].str.contains('win TKO') == True, 'clean_outcome'] = 'Win TKO'\n",
    "fully_merged.loc[(fully_merged['final_outcome'].str.contains('loss KO') == True) | (fully_merged['final_outcome'].str.contains('loss TKO')), 'clean_outcome'] = 'Loss KO'\n",
    "fully_merged.loc[fully_merged['final_outcome'].str.contains('scheduled') == True, 'clean_outcome'] = 'Scheduled'\n",
    "fully_merged.loc[(fully_merged['final_outcome'].str.contains('loss UD') == True) | (fully_merged['final_outcome'].str.contains('loss SD') == True) | (fully_merged['final_outcome'].str.contains('loss nan') == True) | (fully_merged['final_outcome'].str.contains('loss RTD') == True) | (fully_merged['final_outcome'].str.contains('loss MD') == True) | (fully_merged['final_outcome'].str.contains('loss DQ') == True) | (fully_merged['final_outcome'].str.contains('loss PTS') == True) | (fully_merged['final_outcome'].str.contains('loss TD')), 'clean_outcome'] = 'Loss Other'\n",
    "fully_merged.loc[fully_merged['final_outcome'].str.contains('unknown') == True, 'clean_outcome'] = 'Unknown'"
   ]
  },
  {
   "cell_type": "code",
   "execution_count": 19,
   "metadata": {},
   "outputs": [],
   "source": [
    "fully_merged.drop(columns=['final_outcome','outcome'],inplace=True)"
   ]
  },
  {
   "cell_type": "code",
   "execution_count": 133,
   "metadata": {},
   "outputs": [
    {
     "data": {
      "text/plain": [
       "['name',\n",
       " 'weight',\n",
       " 'sex',\n",
       " 'division',\n",
       " 'global_id',\n",
       " 'rating',\n",
       " 'date',\n",
       " 'opposition',\n",
       " 'opp_last6',\n",
       " 'opp_weight',\n",
       " 'meta',\n",
       " 'opp_win',\n",
       " 'opp_loss',\n",
       " 'opp_draw',\n",
       " 'judge1boxer',\n",
       " 'judge1opp',\n",
       " 'judge2boxer',\n",
       " 'judge2opp',\n",
       " 'judge3boxer',\n",
       " 'judge3opp',\n",
       " 'rounds1',\n",
       " 'rounds2',\n",
       " 'clean_outcome',\n",
       " 'gender+division',\n",
       " 'Draw',\n",
       " 'Loss KO',\n",
       " 'Loss Other',\n",
       " 'Win KO',\n",
       " 'Win Other',\n",
       " 'Win TKO',\n",
       " 'fight_count',\n",
       " 'judge1avg',\n",
       " 'judge2avg',\n",
       " 'judge3avg',\n",
       " 'judge1againstavg',\n",
       " 'judge2againstavg',\n",
       " 'judge3againstavg']"
      ]
     },
     "execution_count": 133,
     "metadata": {},
     "output_type": "execute_result"
    }
   ],
   "source": [
    "list(dataset)"
   ]
  },
  {
   "cell_type": "code",
   "execution_count": 20,
   "metadata": {},
   "outputs": [],
   "source": [
    "dataset = fully_merged[(fully_merged['clean_outcome'].notna()) & (fully_merged['clean_outcome'] != 'Unknown') & (fully_merged['clean_outcome'] != 'Scheduled')]"
   ]
  },
  {
   "cell_type": "code",
   "execution_count": 134,
   "metadata": {
    "scrolled": true
   },
   "outputs": [
    {
     "name": "stderr",
     "output_type": "stream",
     "text": [
      "C:\\Users\\User\\Anaconda3\\lib\\site-packages\\pandas\\core\\indexing.py:494: SettingWithCopyWarning: \n",
      "A value is trying to be set on a copy of a slice from a DataFrame.\n",
      "Try using .loc[row_indexer,col_indexer] = value instead\n",
      "\n",
      "See the caveats in the documentation: http://pandas.pydata.org/pandas-docs/stable/user_guide/indexing.html#returning-a-view-versus-a-copy\n",
      "  self.obj[item] = s\n"
     ]
    }
   ],
   "source": [
    "fully_merged['gender+division'] = fully_merged['sex'].astype(str) +' '+ fully_merged['division'].astype(str)\n",
    "dataset = fully_merged[(fully_merged['clean_outcome'].notna()) & (fully_merged['clean_outcome'] != 'Unknown') & (fully_merged['clean_outcome'] != 'Scheduled')]\n",
    "#categorical to numerical\n",
    "dataset.loc[(dataset['clean_outcome'] == 'Win KO'), 'clean_outcome'] = 1\n",
    "dataset.loc[(dataset['clean_outcome'] == 'Draw'), 'clean_outcome'] = 2\n",
    "dataset.loc[(dataset['clean_outcome'] == 'Win Other'), 'clean_outcome'] = 3\n",
    "dataset.loc[(dataset['clean_outcome'] == 'Win TKO'), 'clean_outcome'] = 4\n",
    "dataset.loc[(dataset['clean_outcome'] == 'Loss Other'), 'clean_outcome'] = 5\n",
    "dataset.loc[(dataset['clean_outcome'] == 'Loss KO'), 'clean_outcome'] = 6\n",
    "#added win percentages for each boxer\n",
    "ltd = dataset.groupby(['name','clean_outcome']).size().unstack(fill_value=0)\n",
    "ltd = ltd.reset_index()\n",
    "ltd['fight_count'] = ltd.sum(axis=1)\n",
    "ltd[['Draw','Loss KO','Loss Other','Win KO','Win Other','Win TKO']]=ltd[[1,2,3,4,5,6]].div(ltd.fight_count, axis=0)\n",
    "dataset = dataset.merge(ltd[['name','Draw','Loss KO','Loss Other','Win KO','Win Other','Win TKO','fight_count']],on='name')\n",
    "#average judge score cards per fight\n",
    "dataset[['judge1boxer','judge2boxer','judge3boxer']] = dataset[['judge1boxer','judge2boxer','judge3boxer']].astype(int)\n",
    "dataset[['judge1opp','judge2opp','judge3opp']] = dataset[['judge1opp','judge2opp','judge3opp']].astype(int)\n",
    "n=dataset.groupby(by=['name'])['judge1boxer','judge2boxer','judge3boxer'].sum()\n",
    "n.rename(columns={'judge1boxer':'judge1avg','judge2boxer':'judge2avg','judge3boxer':'judge3avg'},inplace=True)\n",
    "m = dataset.groupby(by=['name'])['judge1opp','judge2opp','judge3opp'].sum()\n",
    "m.rename(columns={'judge1opp':'judge1againstavg','judge2opp':'judge2againstavg','judge3opp':'judge3againstavg'},inplace=True)\n",
    "dataset = dataset.merge(n,on='name').merge(m,on='name')\n",
    "dataset[['judge1avg','judge2avg','judge3avg','judge1againstavg','judge2againstavg','judge3againstavg']] = dataset[['judge1avg','judge2avg','judge3avg','judge1againstavg','judge2againstavg','judge3againstavg']].div(dataset.fight_count, axis=0)\n",
    "#added win percentage for each opponent through a self join\n",
    "dataset2 = dataset.merge(dataset[['name','Draw','Loss KO','Loss Other','Win KO','Win Other','Win TKO','fight_count','judge1avg','judge2avg','judge3avg','judge1againstavg','judge2againstavg','judge3againstavg']], left_on='opposition',right_on='name',suffixes=('a','opp')).drop(columns=['nameopp'])\n",
    "# I want to stratify the test_train split by gender and division to ensure all are equally represented, starting off by concatenating gender & division\n",
    "strat = dataset['gender+division'] \n",
    "X = dataset.drop(['clean_outcome','judge1opp','judge2boxer','judge2opp','judge3boxer','judge3opp','name','sex','division','opposition','gender+division','global_id','date'],axis=1) \n",
    "X = X.fillna(0)\n",
    "X.loc[X['rating'] == 'null ', 'rating'] = 0\n",
    "y = dataset['clean_outcome']\n",
    "y = y.fillna(0)\n",
    "X_train, X_test, y_train, y_test = train_test_split(X, y, test_size=0.2, random_state=0, stratify=strat)\n",
    "#building the model, starting off by looking for the best parameters\n",
    "params = {\n",
    "    'n_estimators':[i for i in range(1,201,50)],\n",
    "    'max_depth':[i for i in range(1,10,2)]\n",
    "}\n",
    "n_estimators = [i for i in range(0,201,20)]\n",
    "rfc = RandomForestClassifier()\n",
    "gridsearch = GridSearchCV(rfc,param_grid=params,cv=10,scoring='f1_weighted',n_jobs=4)\n",
    "gridsearch.fit(X_train,y_train)\n",
    "bestparams = gridsearch.best_params_"
   ]
  },
  {
   "cell_type": "code",
   "execution_count": 135,
   "metadata": {},
   "outputs": [],
   "source": [
    "rc = RandomForestClassifier(**bestparams)\n",
    "rc.fit(X_train,y_train)\n",
    "preds = rc.predict(X_test)"
   ]
  },
  {
   "cell_type": "code",
   "execution_count": 136,
   "metadata": {},
   "outputs": [
    {
     "data": {
      "text/plain": [
       "0.7634730538922155"
      ]
     },
     "execution_count": 136,
     "metadata": {},
     "output_type": "execute_result"
    }
   ],
   "source": [
    "score = accuracy_score(y_test,preds)\n",
    "score"
   ]
  },
  {
   "cell_type": "code",
   "execution_count": 137,
   "metadata": {},
   "outputs": [
    {
     "data": {
      "text/plain": [
       "array([0.76541265, 0.75536734, 0.76265511, 0.74217057, 0.75965327])"
      ]
     },
     "execution_count": 137,
     "metadata": {},
     "output_type": "execute_result"
    }
   ],
   "source": [
    "#kfold cross validation\n",
    "kfold = KFold(n_splits=5)\n",
    "results = cross_val_score(rc,X_train,y_train,cv=kfold)\n",
    "results"
   ]
  },
  {
   "cell_type": "code",
   "execution_count": 160,
   "metadata": {},
   "outputs": [
    {
     "data": {
      "image/png": "[encoded data removed]",
      "text/plain": [
       "<Figure size 864x864 with 2 Axes>"
      ]
     },
     "metadata": {
      "needs_background": "light"
     },
     "output_type": "display_data"
    }
   ],
   "source": [
    "# labels = np.unique([y_test,preds])\n",
    "import matplotlib.transforms\n",
    "labels = ['Win KO','Draw','Win Other','Win TKO','Loss Other','Loss KO']        \n",
    "c = confusion_matrix(y_test,preds)\n",
    "#normalize\n",
    "cm = c.astype('float')/c.sum(axis=1)[:, np.newaxis]\n",
    "fig,ax = plt.subplots(figsize=(12,12))\n",
    "sns.heatmap(cm,annot=True, fmt= '.2f',xticklabels=labels,yticklabels=labels)\n",
    "\n",
    "plt.show()\n",
    "# plt.ylabel('Actual')\n",
    "# plt.xlabel('Predicted')\n",
    "# plt.show(block=False)"
   ]
  },
  {
   "cell_type": "code",
   "execution_count": 144,
   "metadata": {},
   "outputs": [
    {
     "data": {
      "text/plain": [
       "([<matplotlib.axis.YTick at 0x2b91ead73c8>,\n",
       "  <matplotlib.axis.YTick at 0x2b9179dfe08>,\n",
       "  <matplotlib.axis.YTick at 0x2b91e9f8088>,\n",
       "  <matplotlib.axis.YTick at 0x2b91ea1db88>,\n",
       "  <matplotlib.axis.YTick at 0x2b91e9f03c8>,\n",
       "  <matplotlib.axis.YTick at 0x2b91e9f0088>,\n",
       "  <matplotlib.axis.YTick at 0x2b91ea1e288>,\n",
       "  <matplotlib.axis.YTick at 0x2b91ea1ec88>,\n",
       "  <matplotlib.axis.YTick at 0x2b91ea2b708>,\n",
       "  <matplotlib.axis.YTick at 0x2b91ea091c8>,\n",
       "  <matplotlib.axis.YTick at 0x2b91ea09b08>,\n",
       "  <matplotlib.axis.YTick at 0x2b91ea00748>,\n",
       "  <matplotlib.axis.YTick at 0x2b91ea0e348>,\n",
       "  <matplotlib.axis.YTick at 0x2b91ea0edc8>,\n",
       "  <matplotlib.axis.YTick at 0x2b91ea00e88>,\n",
       "  <matplotlib.axis.YTick at 0x2b91b77c848>,\n",
       "  <matplotlib.axis.YTick at 0x2b91b771248>,\n",
       "  <matplotlib.axis.YTick at 0x2b91b771988>,\n",
       "  <matplotlib.axis.YTick at 0x2b91b76c5c8>,\n",
       "  <matplotlib.axis.YTick at 0x2b91b75d288>,\n",
       "  <matplotlib.axis.YTick at 0x2b91b75dd88>,\n",
       "  <matplotlib.axis.YTick at 0x2b91b757988>,\n",
       "  <matplotlib.axis.YTick at 0x2b91b74f548>,\n",
       "  <matplotlib.axis.YTick at 0x2b91b75dc08>],\n",
       " <a list of 24 Text yticklabel objects>)"
      ]
     },
     "execution_count": 144,
     "metadata": {},
     "output_type": "execute_result"
    },
    {
     "data": {
      "image/png": "[encoded data removed]",
      "text/plain": [
       "<Figure size 432x288 with 1 Axes>"
      ]
     },
     "metadata": {
      "needs_background": "light"
     },
     "output_type": "display_data"
    }
   ],
   "source": [
    "#feature importance\n",
    "important = rc.feature_importances_\n",
    "indice = np.argsort(important)\n",
    "plt.title('Feature Importance')\n",
    "plt.barh(range(len(indice)),important[indice],color='b',align='center')\n",
    "plt.yticks(range(len(indice)), [X.columns[i] for i in indice])\n"
   ]
  },
  {
   "cell_type": "code",
   "execution_count": null,
   "metadata": {},
   "outputs": [],
   "source": []
  }
 ],
 "metadata": {
  "kernelspec": {
   "display_name": "Python 3",
   "language": "python",
   "name": "python3"
  },
  "language_info": {
   "codemirror_mode": {
    "name": "ipython",
    "version": 3
   },
   "file_extension": ".py",
   "mimetype": "text/x-python",
   "name": "python",
   "nbconvert_exporter": "python",
   "pygments_lexer": "ipython3",
   "version": "3.7.4"
  }
 },
 "nbformat": 4,
 "nbformat_minor": 2
}
