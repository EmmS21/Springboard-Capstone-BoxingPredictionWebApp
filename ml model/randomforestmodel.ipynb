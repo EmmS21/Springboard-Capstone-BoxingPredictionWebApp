{
 "cells": [
  {
   "cell_type": "code",
   "execution_count": 1,
   "metadata": {},
   "outputs": [
    {
     "name": "stderr",
     "output_type": "stream",
     "text": [
      "C:\\Users\\User\\Anaconda3\\lib\\site-packages\\IPython\\core\\interactiveshell.py:3058: DtypeWarning: Columns (698,701,718,735,752,760,761,763,764,765,766,767,768,769,770,771,772,773,774,776,777,778,780,781,782,783,784,785,786,787,788,789,790,791,793,794,795,797,798,799,800,801,802,803,804,805,806,807,808,810,811,812,814,815,816,817,818,819,820,821,822,823,824,825,827,828,829,831,832,833,834,835,836,837,838,839,840,841,842,844,845,846,848,849,850,851,852,853,854,855,856,857,858,859,861,862,863,865,866,867,868,869,870,871,872,873,874,875,876,878,879,880,882,883,884,885,886,887,888,889,890,891,892,893,895,896,897,899,900,901,902,903,904,905,906,907,908,909,910,912,913,914,916,917,918,919,920,921,922,923,924,925,926,927,929,930,931,933,934,935,936,937,938,939,940,941,942,943,944,946,947,948,950,951,952,953,954,955,956,957,958,959,960,961,963,964,965,967,968,969,970,971,972,973,974,975,976,977,978,980,981,982,984,985,986,987,988,989,990,991,992,993,994,995,997,998,999,1001,1002,1003,1004,1005,1006,1007,1008,1009,1010,1011,1012,1014,1015,1016,1018,1019,1020,1021,1022,1023,1024,1025,1026,1027,1028,1029,1031,1032,1033,1035,1036,1037,1038,1039,1040,1041,1042,1043,1044,1045,1046,1048,1049,1050,1052,1053,1054,1055,1056,1057,1058,1059,1060,1061,1062,1063,1065,1066,1067,1069,1070,1071,1072,1073,1074,1076,1077,1078,1079,1080,1082,1083,1084,1086,1087,1088,1090,1091,1093,1094,1095,1096,1097,1099,1100,1101,1103,1104,1105,1107,1108,1110,1111,1112,1113,1114,1116,1117,1118,1120,1121,1122,1124,1125,1127,1128,1129,1130,1131,1133,1134,1135,1137,1138,1139,1141,1142,1144,1145,1146,1147,1148,1150,1151,1152,1154,1155,1156,1157,1158,1159,1161,1162,1163,1164,1165,1167,1168,1169,1171,1172,1173,1175,1176,1178,1179,1180,1181,1182,1184,1185,1186,1188,1189,1190,1191,1192,1193,1195,1196,1197,1198,1199,1201,1202,1203,1205,1206,1207,1208,1209,1210,1212,1213,1214,1215,1216,1218,1219,1220,1222,1223,1224,1226,1227,1229,1230,1231,1232,1233,1235,1236,1237,1239,1240,1241,1242,1243,1244,1246,1247,1248,1249,1250,1252,1253,1254,1256,1257,1258,1259,1260,1261,1263,1264,1265,1266,1267,1269,1270,1271,1273,1274,1275,1277,1278,1280,1281,1282,1283,1284,1286,1287,1288,1290,1291,1292,1294,1295,1297,1298,1299,1300,1301,1303) have mixed types. Specify dtype option on import or set low_memory=False.\n",
      "  interactivity=interactivity, compiler=compiler, result=result)\n"
     ]
    }
   ],
   "source": [
    "import pandas as pd\n",
    "from itertools import chain\n",
    "from sklearn.ensemble import RandomForestClassifier\n",
    "from sklearn.model_selection import train_test_split,GridSearchCV,cross_val_score,KFold,RandomizedSearchCV,StratifiedKFold\n",
    "from sklearn.preprocessing import LabelEncoder\n",
    "from xgboost import XGBClassifier\n",
    "from sklearn.metrics import accuracy_score,confusion_matrix\n",
    "from sklearn.linear_model import LogisticRegression\n",
    "import numpy as np\n",
    "import matplotlib.pyplot as plt\n",
    "import matplotlib.transforms\n",
    "from vecstack import stacking\n",
    "import seaborn as sns\n",
    "path = 'https://raw.githubusercontent.com/EmmS21/SpringboardCapstoneBoxingPredictionWebApp/master/boxingdata/visuals.csv'\n",
    "data = pd.read_csv(path)"
   ]
  },
  {
   "cell_type": "code",
   "execution_count": 2,
   "metadata": {},
   "outputs": [],
   "source": [
    "#convert to long so I have a row for each bout\n",
    "cols = ['secondBoxer'+str(i) for i in range(1, 85)]\n",
    "two = ['secondBoxerWeight'+str(i) for i in range(1,85)]\n",
    "three = ['secondBoxerLast6'+str(i) for i in range(1,85)]\n",
    "four = ['secondBoxerRating'+str(i) for i in range(1,85)]\n",
    "five = ['secondBoxerRecord'+str(i) for i in range(1,85)]\n",
    "six = ['metadata'+str(i) for i in range(1,85)]\n",
    "seven = ['numberofrounds'+str(i) for i in range(1,85)]\n",
    "eight = ['referee'+str(i) for i in range(1,85)]\n",
    "nine = ['JudgeID'+str(i) for i in range(1,85)]\n",
    "ten = ['firstBoxerWeight'+str(i) for i in range(1,85)]\n",
    "eleven = ['firstBoxerRating'+str(i) for i in range(1,85)]\n",
    "twelve = ['rating'+str(i) for i in range(1,85)]\n",
    "thirteen = ['titles'+str(i) for i in range(1,85)]\n",
    "fourteen = ['date'+str(i) for i in range(1,85)]\n",
    "fifteen = ['outcome'+str(i) for i in range(1,85)]\n",
    "# concated = pd.concat([pd.melt(data,id_vars=['name','global_id'],value_vars=cols,var_name='labels',value_name='opposition') for i in cols])\n",
    "concated = pd.melt(data,id_vars=['name','global_id','sex','division'], value_vars = cols,var_name='label',value_name='opposition')\n",
    "concated_two = pd.melt(data,id_vars=['name','global_id','sex','division'],value_vars=two,var_name='weightb_label',value_name='opp_weight').drop(columns=['global_id','name','sex','division'])\n",
    "concated_three = pd.melt(data,id_vars=['name','global_id','sex','division'],value_vars=three,var_name='last6_label',value_name='opp_last6').drop(columns=['global_id','name','sex','division'])\n",
    "concated_four = pd.melt(data,id_vars=['name','global_id','sex','division'],value_vars=four,var_name='rating_label',value_name='opp_rating').drop(columns=['global_id','name','sex','division'])\n",
    "concated_five = pd.melt(data,id_vars=['name','global_id','sex','division'],value_vars=five,var_name='record_label',value_name='opp_record').drop(columns=['global_id','name','sex','division'])\n",
    "concated_six = pd.melt(data,id_vars=['name','global_id','sex','division'],value_vars=six,var_name='meta_label',value_name='meta').drop(columns=['global_id','name','sex','division'])\n",
    "concated_seven = pd.melt(data,id_vars=['name','global_id','sex','division'],value_vars=seven,var_name='rounds_label',value_name='rounds').drop(columns=['global_id','name','sex','division'])\n",
    "concated_eight = pd.melt(data,id_vars=['name','global_id','sex','division'],value_vars=eight,var_name='ref_label',value_name='ref').drop(columns=['global_id','name','sex','division'])\n",
    "concated_nine = pd.melt(data,id_vars=['name','global_id','sex','division'],value_vars=nine,var_name='judge_label',value_name='judge').drop(columns=['global_id','name','sex','division'])\n",
    "concated_ten = pd.melt(data,id_vars=['name','global_id','sex','division'],value_vars=ten,var_name='weighta_label',value_name='weight').drop(columns=['global_id','name','sex','division'])\n",
    "concated_eleven = pd.melt(data,id_vars=['name','global_id','sex','division'],value_vars=eleven,var_name='boxerratinga_label',value_name='boxer_rating').drop(columns=['global_id','name','sex','division'])\n",
    "concated_twelve = pd.melt(data,id_vars=['name','global_id','sex','division'],value_vars=twelve,var_name='rate_label',value_name='rating').drop(columns=['global_id','name','sex','division'])\n",
    "concated_thirteen = pd.melt(data,id_vars=['name','global_id','sex','division'],value_vars=thirteen,var_name='title_label',value_name='titles').drop(columns=['global_id','name','sex','division'])\n",
    "concated_fourteen = pd.melt(data,id_vars=['name','global_id','sex','division'],value_vars=fourteen,var_name='date_label',value_name='date').drop(columns=['global_id','name','sex','division'])\n",
    "concated_fifteen = pd.melt(data,id_vars=['name','global_id','sex','division'],value_vars=fifteen,var_name='outcome_label',value_name='outcome').drop(columns=['global_id','name','sex','division'])\n",
    "#merge all \n",
    "fully_merged = pd.concat([concated,concated_two,concated_three,concated_four,concated_five,\n",
    "          concated_six,concated_seven,concated_eight,concated_nine,concated_ten,\n",
    "          concated_eleven,concated_twelve,concated_thirteen,concated_fourteen,concated_fifteen],axis=1,sort=False)\n",
    "fully_merged = fully_merged.set_index('name')\n",
    "# fully_merged.index = fully_merged['name']"
   ]
  },
  {
   "cell_type": "code",
   "execution_count": 3,
   "metadata": {},
   "outputs": [],
   "source": [
    "fully_merged = fully_merged.reset_index()\n",
    "fully_merged = fully_merged.drop(columns = ['weightb_label','last6_label','rating_label','record_label','meta_label',\n",
    "                            'rounds_label','ref_label','judge_label','weighta_label','boxerratinga_label',\n",
    "                            'rate_label','title_label','date_label','outcome_label','label'],axis=1)"
   ]
  },
  {
   "cell_type": "code",
   "execution_count": 4,
   "metadata": {},
   "outputs": [],
   "source": [
    "#reordering columns\n",
    "column_titles = ['name','weight','boxer_rating','sex','division','global_id','rating','date','outcome','opposition',\n",
    "                 'opp_last6','opp_rating','opp_record','opp_weight','judge','meta','rounds','ref','titles']\n",
    "fully_merged = fully_merged.reindex(columns=column_titles)"
   ]
  },
  {
   "cell_type": "code",
   "execution_count": 5,
   "metadata": {},
   "outputs": [],
   "source": [
    "#cleanup data\n",
    "fully_merged['outcome'] = fully_merged['outcome'].str.replace('\"','')\n",
    "fully_merged['opposition'] = fully_merged['opposition'].str.replace('\"','')\n",
    "fully_merged['weight'] = fully_merged['weight'].fillna(0).astype(int)\n",
    "#converting last 6 fights to points\n",
    "fully_merged['opp_last6'] = fully_merged.opp_last6.str.count('win')*10+fully_merged.opp_last6.str.count('draw')*5+fully_merged.opp_last6.str.count('loss')*-5"
   ]
  },
  {
   "cell_type": "code",
   "execution_count": 6,
   "metadata": {},
   "outputs": [],
   "source": [
    "#converting opp record to points\n",
    "fully_merged['opp_win'] = fully_merged['opp_record'].str.extract('win(?P<win>.*?)}').fillna(0)\n",
    "fully_merged['opp_loss'] = fully_merged['opp_record'].str.extract('loss(?P<loss>.*?)win').fillna(0)\n",
    "fully_merged['opp_draw'] = fully_merged['opp_record'].str.extract('draw\"(?P<draw>.*?)loss').fillna(0)\n",
    "fully_merged['opp_loss'] =  pd.to_numeric(fully_merged['opp_loss'],errors='coerce')\n",
    "fully_merged['opp_win'] = pd.to_numeric(fully_merged['opp_win'],errors='coerce')\n",
    "fully_merged['opp_draw'] = pd.to_numeric(fully_merged['opp_draw'],errors='coerce')\n",
    "fully_merged.drop(columns=['opp_record'],inplace=True)"
   ]
  },
  {
   "cell_type": "code",
   "execution_count": 7,
   "metadata": {},
   "outputs": [],
   "source": [
    "#droppin columns with non useful data\n",
    "fully_merged.drop(columns=['boxer_rating','opp_rating'],inplace=True)"
   ]
  },
  {
   "cell_type": "code",
   "execution_count": 8,
   "metadata": {},
   "outputs": [],
   "source": [
    "fully_merged['opp_weight'] = fully_merged['opp_weight'].astype(float)\n",
    "fully_merged['date'] = pd.to_datetime(fully_merged['date'])\n",
    "ref_points =fully_merged.judge.str.extractall(r'(\\b\\d+\\b)').unstack().reindex(fully_merged.index)      \n",
    "ref_points.columns = ref_points.columns.map('{0[0]}_{0[1]}'.format)\n",
    "fully_merged[['judge1boxer','judge1opp','judge2boxer','judge2opp','judge3boxer','judge3opp']] = ref_points[['0_0','0_1','0_2','0_3','0_4','0_5']]"
   ]
  },
  {
   "cell_type": "code",
   "execution_count": 9,
   "metadata": {},
   "outputs": [],
   "source": [
    "fully_merged[['judge1boxer','judge1opp','judge2boxer','judge2opp','judge3boxer','judge3opp']]=fully_merged[['judge1boxer','judge1opp','judge2boxer','judge2opp','judge3boxer','judge3opp']].fillna(0)"
   ]
  },
  {
   "cell_type": "code",
   "execution_count": 10,
   "metadata": {},
   "outputs": [],
   "source": [
    "fully_merged.drop(columns=['judge'],inplace=True)"
   ]
  },
  {
   "cell_type": "code",
   "execution_count": 11,
   "metadata": {},
   "outputs": [],
   "source": [
    "fully_merged['ref'] = fully_merged.ref.str.replace(r\"[\\\"\\',]\", '').str.replace('[','').str.replace(']','')\n",
    "fully_merged['final_outcome'] = fully_merged['ref']\n",
    "fully_merged.drop(columns=['ref'],inplace=True)"
   ]
  },
  {
   "cell_type": "code",
   "execution_count": 12,
   "metadata": {},
   "outputs": [],
   "source": [
    "#extract rounds\n",
    "rounds =fully_merged.rounds.str.extractall(r'(\\b\\d+\\b)').unstack().reindex(fully_merged.index)\n",
    "rounds.columns = rounds.columns.map('{0[0]}|{0[1]}'.format)\n",
    "fully_merged[['rounds1','rounds2']] = rounds[['0|0', '0|1']]\n",
    "fully_merged.drop(columns=['rounds'],inplace=True)"
   ]
  },
  {
   "cell_type": "code",
   "execution_count": 13,
   "metadata": {},
   "outputs": [],
   "source": [
    "#converting meta to time\n",
    "fully_merged['meta'] = fully_merged['meta'].str.replace(':','')\n",
    "fully_merged['meta'] = fully_merged['meta'].str[0].fillna(0).astype(int)*60 + fully_merged['meta'].str[1:4].fillna(0).astype(int)\n",
    "#cleaning up titles column\n",
    "fully_merged['titles'] = fully_merged['titles'].str.replace(r\"[\\:\\,\\[\\}\\]]\", '')\n",
    "#not sure how the information in titles is structured? so dropping column for now\n",
    "fully_merged.drop(columns=['titles'],inplace=True)"
   ]
  },
  {
   "cell_type": "code",
   "execution_count": 14,
   "metadata": {},
   "outputs": [],
   "source": [
    "conditions = [(fully_merged['final_outcome'] == 'win KO knockout'),(fully_merged['final_outcome'] == 'draw MD majority decision'),\n",
    "             (fully_merged['final_outcome'] == 'win SD split decision'),(fully_merged['final_outcome'] == 'win TKO technical knockout'),\n",
    "              (fully_merged['final_outcome'] == 'win nan null'),(fully_merged['final_outcome'] == 'loss UD unanimous decision'),\n",
    "              (fully_merged['final_outcome'] == 'win UD unanimous decision'),(fully_merged['final_outcome'] == 'loss KO knockout'),\n",
    "              (fully_merged['final_outcome'] == 'loss TKO technical knockout'),(fully_merged['final_outcome'] == 'loss SD split decision'),\n",
    "              (fully_merged['final_outcome'] == 'loss nan null'),(fully_merged['final_outcome'] == 'win PTS null'),\n",
    "              (fully_merged['final_outcome'] == 'unknown nan null'),(fully_merged['final_outcome'] == 'loss RTD corner retirement'),\n",
    "              (fully_merged['final_outcome'] == 'loss MD majority decision'),(fully_merged['final_outcome'] == 'win KO knockout'),\n",
    "              (fully_merged['final_outcome'] == 'win KO knockout'),(fully_merged['final_outcome'] == 'win KO knockout'),\n",
    "              (fully_merged['final_outcome'] == 'win KO knockout'),(fully_merged['final_outcome'] == 'win KO knockout'),\n",
    "              (fully_merged['final_outcome'] == 'win KO knockout'),(fully_merged['final_outcome'] == 'win KO knockout'),\n",
    "              (fully_merged['final_outcome'] == 'win KO knockout'),(fully_merged['final_outcome'] == 'win KO knockout'),\n",
    "              (fully_merged['final_outcome'] == 'win KO knockout'),(fully_merged['final_outcome'] == 'win KO knockout'),\n",
    "              (fully_merged['final_outcome'] == 'win KO knockout'),(fully_merged['final_outcome'] == 'win KO knockout')\n",
    "             ]"
   ]
  },
  {
   "cell_type": "code",
   "execution_count": 15,
   "metadata": {},
   "outputs": [],
   "source": [
    "# create new outcomes column\n",
    "def cols_outcome(df,outcome_col):\n",
    "    df.loc[(df[outcome_col].str.contains('win KO') == True) | (df[outcome_col].str.contains('win TKO') == True), 'clean_outcome'] = 'Win KO'\n",
    "    df.loc[df[outcome_col].str.contains('draw') == True, 'clean_outcome'] = 'Draw'\n",
    "    df.loc[(df[outcome_col].str.contains('win nan') == True) | (df[outcome_col].str.contains('win DQ') == True) | (df[outcome_col].str.contains('win PTS') == True) | (fully_merged[outcome_col].str.contains('win DQ') == True) | (df[outcome_col].str.contains('win UD') == True) | (df[outcome_col].str.contains('win SD') == True) | (df[outcome_col].str.contains('win MD') == True) | (df[outcome_col].str.contains('win TD') == True) | (df[outcome_col].str.contains('win RTD') == True), 'clean_outcome'] = 'Win Other'\n",
    "    df.loc[(df[outcome_col].str.contains('loss KO') == True) | (df[outcome_col].str.contains('loss TKO')), 'clean_outcome'] = 'Loss KO'\n",
    "    df.loc[df[outcome_col].str.contains('scheduled') == True, 'clean_outcome'] = 'Scheduled'\n",
    "    df.loc[(df[outcome_col].str.contains('loss UD') == True) | (df[outcome_col].str.contains('loss SD') == True) | (df[outcome_col].str.contains('loss nan') == True) | (fully_merged[outcome_col].str.contains('loss RTD') == True) | (df[outcome_col].str.contains('loss MD') == True) | (df[outcome_col].str.contains('loss DQ') == True) | (df[outcome_col].str.contains('loss PTS') == True) | (df[outcome_col].str.contains('loss TD')), 'clean_outcome'] = 'Loss Other'\n",
    "    df.loc[df[outcome_col].str.contains('unknown') == True, 'clean_outcome'] = 'Unknown'\n",
    "    return df['clean_outcome']\n",
    "fully_merged['clean_outcome'] = cols_outcome(fully_merged,'final_outcome')"
   ]
  },
  {
   "cell_type": "code",
   "execution_count": 16,
   "metadata": {},
   "outputs": [],
   "source": [
    "fully_merged.drop(columns=['final_outcome','outcome'],inplace=True)"
   ]
  },
  {
   "cell_type": "code",
   "execution_count": 17,
   "metadata": {},
   "outputs": [],
   "source": [
    "dataset = fully_merged[(fully_merged['clean_outcome'].notna()) & (fully_merged['clean_outcome'] != 'Unknown') & (fully_merged['clean_outcome'] != 'Scheduled')]"
   ]
  },
  {
   "cell_type": "code",
   "execution_count": 18,
   "metadata": {
    "scrolled": true
   },
   "outputs": [
    {
     "name": "stderr",
     "output_type": "stream",
     "text": [
      "C:\\Users\\User\\Anaconda3\\lib\\site-packages\\ipykernel_launcher.py:33: FutureWarning: Sorting because non-concatenation axis is not aligned. A future version\n",
      "of pandas will change to not sort by default.\n",
      "\n",
      "To accept the future behavior, pass 'sort=False'.\n",
      "\n",
      "To retain the current behavior and silence the warning, pass 'sort=True'.\n",
      "\n"
     ]
    }
   ],
   "source": [
    "fully_merged['gender+division'] = fully_merged['sex'].astype(str) +' '+ fully_merged['division'].astype(str)\n",
    "dataset = fully_merged[(fully_merged['clean_outcome'].notna()) & (fully_merged['clean_outcome'] != 'Unknown') & (fully_merged['clean_outcome'] != 'Scheduled')]\n",
    "#get more data extracted from data scraping\n",
    "filler = pd.read_csv('C:\\\\Users\\\\User\\\\Documents\\\\player_matches.csv')\n",
    "filler = filler[(~filler['date'].str.contains('Council|googletag',na=False)) & (~filler['result'].str.contains('Title|tickets|scheduled',na=False))]\n",
    "filler['clean_outcome'] = filler['result']+ ' ' + filler['method']\n",
    "#rename fight outcomes\n",
    "filler['clean_outcome'] = cols_outcome(filler,'clean_outcome')\n",
    "filler.loc[(filler['clean_outcome']=='W UD')|(filler['clean_outcome']=='W SD')|(filler['clean_outcome']=='W MD')|(filler['clean_outcome']=='W PTS')|(filler['clean_outcome']=='W RTD')|(filler['clean_outcome']=='W DQ')|(filler['clean_outcome']=='W TD'), 'clean_outcome']='Win Other'\n",
    "filler.loc[(filler['clean_outcome']=='W KO')|(filler['clean_outcome']=='W TKO'), 'clean_outcome']='Win KO'\n",
    "filler.loc[(filler['clean_outcome']=='D MD')|(filler['clean_outcome']=='D SD')|(filler['clean_outcome']=='D TD')|(filler['clean_outcome']=='D PTS'), 'clean_outcome']='Draw'\n",
    "filler.loc[(filler['clean_outcome']=='L SD')|(filler['clean_outcome']=='L UD')|(filler['clean_outcome']=='L MD')|(filler['clean_outcome']=='L RTD')|(filler['clean_outcome']=='L PTS')|(filler['clean_outcome']=='L DQ')|(filler['clean_outcome']=='L TD'), 'clean_outcome'] = 'Loss Other'\n",
    "filler.loc[(filler['clean_outcome']=='L KO')|(filler['clean_outcome']=='L TKO'), 'clean_outcome'] = 'Loss KO'\n",
    "filler.loc[(filler['clean_outcome']=='N NC')|(filler['clean_outcome']=='N ND'), 'clean_outcome'] = 'Unknown'\n",
    "filler = filler.rename(columns={'Name':'name','opponent':'opposition'})     \n",
    "#drop columns I don't need\n",
    "filler.drop(columns=['w.l.d','Venue','method','result'],inplace=True)\n",
    "#limit to data where we have a boxer's name\n",
    "fully_m = fully_merged.dropna(subset=['name'])\n",
    "#limit to rows where we don't have data for a single fight a given boxer fought\n",
    "full = fully_m[fully_m['opposition'].isna().groupby(fully_m['name']).transform('all')]\n",
    "#merge to get data where data is missing (and exists in other dataset)\n",
    "full =full.merge(filler,on='name',how='left')\n",
    "full.drop(columns=['opposition_x','clean_outcome_x'],inplace=True)\n",
    "full.rename(columns={'opposition_y':'opposition','clean_outcome_y':'clean_outcome'},inplace=True)\n",
    "#drop duplicates\n",
    "full['duplicate_check'] = full['date_y']+full['opposition']+full['name']\n",
    "full.drop_duplicates('duplicate_check',keep='first',inplace=True)\n",
    "full.drop(columns='duplicate_check',inplace=True)\n",
    "full.drop(columns=['date_y'],inplace=True)\n",
    "full.rename(columns={'date_x':'date'},inplace=True)\n",
    "#merge with dataset\n",
    "dataset = pd.concat([dataset,full],axis=0)\n",
    "#added win percentages for each boxer\n",
    "ltd = dataset.groupby(['name','clean_outcome']).size().unstack(fill_value=0)\n",
    "ltd = ltd.reset_index()\n",
    "ltd['fight_count'] = ltd.sum(axis=1)\n",
    "ltd[['Draw','Loss KO','Loss Other','Unknown','Win KO','Win Other']]=ltd[['Draw','Loss KO','Loss Other','Unknown','Win KO','Win Other']].div(ltd.fight_count, axis=0)\n",
    "dataset = dataset.merge(ltd[['name','Draw','Loss KO','Loss Other','Win KO','Win Other','fight_count']],on='name')\n",
    "# #average judge score cards per fight\n",
    "dataset[['judge1boxer','judge2boxer','judge3boxer']] = dataset[['judge1boxer','judge2boxer','judge3boxer']].astype(int)\n",
    "dataset[['judge1opp','judge2opp','judge3opp']] = dataset[['judge1opp','judge2opp','judge3opp']].astype(int)\n",
    "n=dataset.groupby(by=['name'])['judge1boxer','judge2boxer','judge3boxer'].sum()\n",
    "n.rename(columns={'judge1boxer':'judge1avg','judge2boxer':'judge2avg','judge3boxer':'judge3avg'},inplace=True)\n",
    "m = dataset.groupby(by=['name'])['judge1opp','judge2opp','judge3opp'].sum()\n",
    "m.rename(columns={'judge1opp':'judge1againstavg','judge2opp':'judge2againstavg','judge3opp':'judge3againstavg'},inplace=True)\n",
    "dataset = dataset.merge(n,on='name').merge(m,on='name')\n",
    "dataset[['judge1avg','judge2avg','judge3avg','judge1againstavg','judge2againstavg','judge3againstavg']] = dataset[['judge1avg','judge2avg','judge3avg','judge1againstavg','judge2againstavg','judge3againstavg']].div(dataset.fight_count, axis=0)\n",
    "#average judge points\n",
    "dataset['avgpts']=dataset['judge1avg']+dataset['judge2avg']+dataset['judge3avg']/3\n",
    "#average judge points against boxer\n",
    "dataset['avgptsagainst']=dataset['judge1againstavg']+dataset['judge2againstavg']+dataset['judge3againstavg']/3\n",
    "#average fight length\n",
    "dataset['meta'] = dataset.groupby(by=['name'])['meta'].mean()\n",
    "#knockout ratio\n",
    "dataset['KO ratio'] = dataset['Win KO']/dataset['fight_count']\n",
    "#how many times has boxer been knocked out - ratio\n",
    "dataset['KnockedOut ratio'] = dataset['Loss KO']/dataset['fight_count']\n",
    "#added win percentage for each opponent\n",
    "dataset['opp_fight_count']= dataset['opposition'].map(dataset.drop_duplicates('name').set_index('name')['fight_count'])\n",
    "dataset['opp_lossKO']= dataset['opposition'].map(dataset.drop_duplicates('name').set_index('name')['Loss KO'])\n",
    "dataset['opp_lossOther']= dataset['opposition'].map(dataset.drop_duplicates('name').set_index('name')['Loss Other'])\n",
    "dataset['opp_winKO']= dataset['opposition'].map(dataset.drop_duplicates('name').set_index('name')['Win KO'])\n",
    "dataset['opp_winOther']= dataset['opposition'].map(dataset.drop_duplicates('name').set_index('name')['Win Other'])\n",
    "dataset['opp_avgpts']= dataset['opposition'].map(dataset.drop_duplicates('name').set_index('name')['avgpts'])\n",
    "dataset['opp_avgptsagainst']= dataset['opposition'].map(dataset.drop_duplicates('name').set_index('name')['avgptsagainst'])\n",
    "dataset['opp_KO ratio']= dataset['opposition'].map(dataset.drop_duplicates('name').set_index('name')['KO ratio'])\n",
    "dataset['opp_KnockedOut ratio']= dataset['opposition'].map(dataset.drop_duplicates('name').set_index('name')['KnockedOut ratio'])\n",
    "#get average fight length for opposition\n",
    "dataset['opp_meta']=dataset['opposition'].map(dataset.drop_duplicates('name').set_index('name')['meta'])\n",
    "#boxer weight to opponent weight ratio\n",
    "dataset['weightratio'] = dataset['weight']/dataset['opp_weight']"
   ]
  },
  {
   "cell_type": "code",
   "execution_count": 19,
   "metadata": {},
   "outputs": [],
   "source": [
    "#filter out unknown and nan\n",
    "dataset = dataset[dataset['clean_outcome'].notna()]\n",
    "dataset = dataset[dataset['clean_outcome'] != 'Unknown']\n",
    "#categorical to numerical\n",
    "dataset.loc[(dataset['clean_outcome'] == 'Win KO')|(dataset['clean_outcome'] == 'Win Other'), 'clean_outcome'] = 1\n",
    "dataset.loc[(dataset['clean_outcome'] == 'Draw'), 'clean_outcome'] = 2\n",
    "dataset.loc[(dataset['clean_outcome'] == 'Loss Other')|(dataset['clean_outcome'] == 'Loss KO'), 'clean_outcome'] = 3"
   ]
  },
  {
   "cell_type": "code",
   "execution_count": 20,
   "metadata": {},
   "outputs": [],
   "source": [
    "new = pd.read_csv('C:\\\\Users\\\\User\\\\Downloads\\\\player_profile.csv')\n",
    "new.rename(columns={'Name':'name'},inplace=True)\n",
    "new = new[['name','age','height','rating1','rating2']]\n",
    "dataset = dataset.merge(new,on='name')"
   ]
  },
  {
   "cell_type": "code",
   "execution_count": 21,
   "metadata": {},
   "outputs": [],
   "source": [
    "#bmi\n",
    "dataset['bmi'] = dataset['weight']/dataset['height']\n",
    "#get opponents age, height and bmi type ratio\n",
    "dataset['opp_age']= dataset['opposition'].map(dataset.drop_duplicates('name').set_index('name')['age'])\n",
    "dataset['opp_height']= dataset['opposition'].map(dataset.drop_duplicates('name').set_index('name')['height'])\n",
    "#current bmi\n",
    "dataset['opp_bmi'] = dataset['opp_weight']/dataset['opp_height']\n",
    "#age,height and BMI as ratio between boxers\n",
    "dataset['age_ratio'] = dataset['age']/dataset['opp_age']\n",
    "dataset['height_ratio'] = dataset['height']/dataset['opp_height']\n",
    "dataset['bmi_ratio'] = dataset['bmi']/dataset['opp_bmi']"
   ]
  },
  {
   "cell_type": "markdown",
   "metadata": {},
   "source": [
    "##### Notes\n",
    "- dealing with a highly imbalanced dataset so getting very low accuracy for draws\n",
    "- want to count the ratio of draws to other outcomes and build a class weighting based on this ratio"
   ]
  },
  {
   "cell_type": "code",
   "execution_count": 22,
   "metadata": {},
   "outputs": [],
   "source": [
    "#merge punch stats data\n",
    "punches = 'C:\\\\Users\\\\User\\\\Documents\\\\GitHub\\\\SpringboardCapstoneBoxingPredictionWebApp\\\\boxingdata\\\\punchingstats.csv'\n",
    "punch_stats = pd.read_csv(punches)\n",
    "punch_stats.drop(columns=['wins','losses','draws','Unnamed: 0.1','Unnamed: 0','average_weight','sex','division'],inplace=True)\n",
    "dataset = dataset.merge(punch_stats,on='name',how='left')\n",
    "#dropping na values\n",
    "dataset[['Jab accuracy','Power punch accuracy','Total punch accuracy','Avg Jabs landed','Avg Power punches landed','Avg Total punches landed','% of Power punches landed against','% of Jabs landed against','% of Total punches landed against','Avg Jabs landed against','Avg Power punches landed against','Avg Total punches landed against']] = dataset[['Jab accuracy','Power punch accuracy','Total punch accuracy','Avg Jabs landed','Avg Power punches landed','Avg Total punches landed','% of Power punches landed against','% of Jabs landed against','% of Total punches landed against','Avg Jabs landed against','Avg Power punches landed against','Avg Total punches landed against']].fillna(0)\n",
    "# I want to stratify the test_train split by gender and division to ensure all are equally represented, starting off by concatenating gender & division\n",
    "strat = dataset['gender+division'] \n",
    "#get opponents punch stats\n",
    "dataset['oppjabaccuracy']= dataset['opposition'].map(dataset.drop_duplicates('name').set_index('name')['Jab accuracy'])\n",
    "dataset['opppoweraccuracy']= dataset['opposition'].map(dataset.drop_duplicates('name').set_index('name')['Power punch accuracy'])\n",
    "dataset['opptotalaccuracy']= dataset['opposition'].map(dataset.drop_duplicates('name').set_index('name')['Total punch accuracy'])\n",
    "dataset['oppavgjabslanded']= dataset['opposition'].map(dataset.drop_duplicates('name').set_index('name')['Avg Jabs landed'])\n",
    "dataset['oppavgpowerlanded']= dataset['opposition'].map(dataset.drop_duplicates('name').set_index('name')['Avg Power punches landed'])\n",
    "dataset['oppavgtotallanded']= dataset['opposition'].map(dataset.drop_duplicates('name').set_index('name')['Avg Total punches landed'])\n",
    "dataset['opppercpowerlandedagainst']= dataset['opposition'].map(dataset.drop_duplicates('name').set_index('name')['% of Power punches landed against'])\n",
    "dataset['opppercejabslandedagainst']= dataset['opposition'].map(dataset.drop_duplicates('name').set_index('name')['% of Jabs landed against'])\n",
    "dataset['oppperctotallandedagainst']= dataset['opposition'].map(dataset.drop_duplicates('name').set_index('name')['% of Total punches landed against'])\n",
    "dataset['oppavgjabsagainst']= dataset['opposition'].map(dataset.drop_duplicates('name').set_index('name')['Avg Jabs landed against'])\n",
    "dataset['oppavgpowerlandedagainst']= dataset['opposition'].map(dataset.drop_duplicates('name').set_index('name')['Avg Power punches landed against'])\n",
    "dataset['oppavgtotalagainst']= dataset['opposition'].map(dataset.drop_duplicates('name').set_index('name')['Avg Total punches landed against'])"
   ]
  },
  {
   "cell_type": "code",
   "execution_count": 23,
   "metadata": {},
   "outputs": [],
   "source": [
    "# X = dataset.drop(['clean_outcome','opp_bmi','opp_age','opp_meta','bmi','opp_height','age','judge2againstavg','judge1againstavg','judge3againstavg','height_ratio','rating1','rating2','weight','meta','age_ratio','bmi_ratio','height','judge1opp','rating','judge2boxer','judge1boxer','judge2opp','judge3boxer','judge3opp','name','sex','division','opposition','gender+division','global_id','date','rounds1','rounds2'],axis=1) \n",
    "X = dataset[['opp_last6','opp_KO ratio','Win KO','opp_winOther','Loss Other','Loss KO','Win Other','KO ratio','opp_winOther','KnockedOut ratio','opp_winKO','opp_KO ratio','opp_loss','opp_lossOther','opp_win','Draw','opp_lossKO']]\n",
    "X = X.fillna(0)\n",
    "# X.loc[X['rating'] == 'null ', 'rating'] = 0\n",
    "y = dataset['clean_outcome']\n",
    "y = y.fillna(0)\n",
    "X_train, X_test, y_train, y_test = train_test_split(X, y, test_size=0.1, random_state=0, stratify=strat)"
   ]
  },
  {
   "cell_type": "code",
   "execution_count": 24,
   "metadata": {},
   "outputs": [],
   "source": [
    "# building the model, starting off by looking for the best parameters\n",
    "params = {\n",
    "    'n_estimators':[i for i in range(1,201,20)],\n",
    "    'max_depth':[i for i in range(1,10,1)]\n",
    "}\n",
    "rfc = RandomForestClassifier()\n",
    "gridsearch = GridSearchCV(rfc,param_grid=params,cv=10,scoring='f1_weighted',n_jobs=4)\n",
    "gridsearch.fit(X_train,y_train)\n",
    "bestparams = gridsearch.best_params_"
   ]
  },
  {
   "cell_type": "code",
   "execution_count": 25,
   "metadata": {},
   "outputs": [],
   "source": [
    "# class_weight = dict({1:3.6, 2:9.6, 3:6.79}) 1:1.56, 2:25.1, 3:6.79\n",
    "class_weight = dict({1:2, 2:25.1, 3:4.3}) #5.6\n",
    "rc = RandomForestClassifier(**bestparams,class_weight=class_weight,random_state=1)\n",
    "rc.fit(X_train,y_train)\n",
    "preds = rc.predict(X_test)"
   ]
  },
  {
   "cell_type": "code",
   "execution_count": 26,
   "metadata": {},
   "outputs": [
    {
     "data": {
      "text/plain": [
       "0.6235041369607613"
      ]
     },
     "execution_count": 26,
     "metadata": {},
     "output_type": "execute_result"
    }
   ],
   "source": [
    "from sklearn.metrics import f1_score\n",
    "score = f1_score(y_test,preds,average='macro')\n",
    "score"
   ]
  },
  {
   "cell_type": "code",
   "execution_count": 27,
   "metadata": {},
   "outputs": [
    {
     "data": {
      "text/plain": [
       "array([0.64601313, 0.63085432, 0.62312262, 0.64277003, 0.62583678])"
      ]
     },
     "execution_count": 27,
     "metadata": {},
     "output_type": "execute_result"
    }
   ],
   "source": [
    "#kfold cross validation\n",
    "kfold = KFold(n_splits=5)\n",
    "results = cross_val_score(rc,X_train,y_train,cv=kfold,scoring='f1_macro')\n",
    "results"
   ]
  },
  {
   "cell_type": "code",
   "execution_count": 28,
   "metadata": {
    "scrolled": true
   },
   "outputs": [
    {
     "data": {
      "text/plain": [
       "Text(0.5, 87.0, 'Predicted')"
      ]
     },
     "execution_count": 28,
     "metadata": {},
     "output_type": "execute_result"
    },
    {
     "data": {
      "image/png": "[encoded data removed]",
      "text/plain": [
       "<Figure size 864x864 with 2 Axes>"
      ]
     },
     "metadata": {
      "needs_background": "light"
     },
     "output_type": "display_data"
    }
   ],
   "source": [
    "labels = ['Win','Draw','Loss']        \n",
    "c = confusion_matrix(y_test,preds)\n",
    "#normalize\n",
    "cm = c.astype('float')/c.sum(axis=1)[:, np.newaxis]\n",
    "fig,ax = plt.subplots(figsize=(12,12))\n",
    "ax = sns.heatmap(cm,annot=True, fmt= '.2f',xticklabels=labels,yticklabels=labels)\n",
    "#new matplotlib version cuts off part of first and last row, fixing this\n",
    "bottom, top = ax.get_ylim()\n",
    "ax.set_ylim(bottom + 0.5, top - 0.5)\n",
    "plt.ylabel('Actual')\n",
    "plt.xlabel('Predicted')"
   ]
  },
  {
   "cell_type": "code",
   "execution_count": 29,
   "metadata": {},
   "outputs": [
    {
     "data": {
      "text/plain": [
       "([<matplotlib.axis.YTick at 0x1a1731ab308>,\n",
       "  <matplotlib.axis.YTick at 0x1a1738ca848>,\n",
       "  <matplotlib.axis.YTick at 0x1a173d8e788>,\n",
       "  <matplotlib.axis.YTick at 0x1a173d822c8>,\n",
       "  <matplotlib.axis.YTick at 0x1a173d85e48>,\n",
       "  <matplotlib.axis.YTick at 0x1a1738bb508>,\n",
       "  <matplotlib.axis.YTick at 0x1a1738b6948>,\n",
       "  <matplotlib.axis.YTick at 0x1a1738ace88>,\n",
       "  <matplotlib.axis.YTick at 0x1a1738ac6c8>,\n",
       "  <matplotlib.axis.YTick at 0x1a1738a7c88>,\n",
       "  <matplotlib.axis.YTick at 0x1a1738a2e48>,\n",
       "  <matplotlib.axis.YTick at 0x1a1738b6408>,\n",
       "  <matplotlib.axis.YTick at 0x1a173d829c8>,\n",
       "  <matplotlib.axis.YTick at 0x1a173898908>,\n",
       "  <matplotlib.axis.YTick at 0x1a1738901c8>,\n",
       "  <matplotlib.axis.YTick at 0x1a173891a48>,\n",
       "  <matplotlib.axis.YTick at 0x1a173892588>],\n",
       " <a list of 17 Text yticklabel objects>)"
      ]
     },
     "execution_count": 29,
     "metadata": {},
     "output_type": "execute_result"
    },
    {
     "data": {
      "image/png": "[encoded data removed]",
      "text/plain": [
       "<Figure size 432x288 with 1 Axes>"
      ]
     },
     "metadata": {
      "needs_background": "light"
     },
     "output_type": "display_data"
    }
   ],
   "source": [
    "#feature importance\n",
    "important = rc.feature_importances_\n",
    "indice = np.argsort(important)\n",
    "plt.title('Feature Importance')\n",
    "plt.barh(range(len(indice)),important[indice],color='b',align='center')\n",
    "plt.yticks(range(len(indice)), [X.columns[i] for i in indice])\n"
   ]
  },
  {
   "cell_type": "code",
   "execution_count": 37,
   "metadata": {},
   "outputs": [],
   "source": [
    "#convert back to categorical \n",
    "dataset.loc[dataset['clean_outcome'] == 1, 'clean_outcome'] = 'win'\n",
    "dataset.loc[dataset['clean_outcome'] == 2, 'clean_outcome'] = 'draw'\n",
    "dataset.loc[dataset['clean_outcome'] == 3, 'clean_outcome'] = 'loss'"
   ]
  },
  {
   "cell_type": "code",
   "execution_count": 118,
   "metadata": {},
   "outputs": [
    {
     "name": "stderr",
     "output_type": "stream",
     "text": [
      "C:\\Users\\User\\Anaconda3\\lib\\site-packages\\pandas\\core\\frame.py:4238: SettingWithCopyWarning: \n",
      "A value is trying to be set on a copy of a slice from a DataFrame\n",
      "\n",
      "See the caveats in the documentation: http://pandas.pydata.org/pandas-docs/stable/user_guide/indexing.html#returning-a-view-versus-a-copy\n",
      "  return super().rename(**kwargs)\n"
     ]
    }
   ],
   "source": [
    "X.rename(columns={'opp_KO ratio':'oppKOratio','Win KO':'winKO','Loss Other':'lossOther','Loss KO':'lossKO','Win Other':'winOther','KO ratio':'KOratio','KnockedOut ratio':'Knockedoutratio'},inplace=True)\n"
   ]
  },
  {
   "cell_type": "code",
   "execution_count": 122,
   "metadata": {},
   "outputs": [
    {
     "name": "stderr",
     "output_type": "stream",
     "text": [
      "C:\\Users\\User\\Anaconda3\\lib\\site-packages\\pandas\\core\\frame.py:4238: SettingWithCopyWarning: \n",
      "A value is trying to be set on a copy of a slice from a DataFrame\n",
      "\n",
      "See the caveats in the documentation: http://pandas.pydata.org/pandas-docs/stable/user_guide/indexing.html#returning-a-view-versus-a-copy\n",
      "  return super().rename(**kwargs)\n"
     ]
    }
   ],
   "source": [
    "X = dataset[['opp_last6','opp_KO ratio','Win KO','opp_winOther','Loss Other','Loss KO','Win Other','KO ratio','KnockedOut ratio','opp_winKO','opp_loss','opp_lossOther','opp_win','Draw','opp_lossKO']]\n",
    "X.rename(columns={'opp_KO ratio':'oppKOratio','Win KO':'winKO','Loss Other':'lossOther','Loss KO':'lossKO','Win Other':'winOther','KO ratio':'KOratio','KnockedOut ratio':'Knockedoutratio'},inplace=True)\n",
    "y = dataset['clean_outcome']\n",
    "X_train, X_test, y_train, y_test = train_test_split(X, y, test_size=0.2, random_state=0, stratify=strat)"
   ]
  },
  {
   "cell_type": "code",
   "execution_count": 125,
   "metadata": {},
   "outputs": [
    {
     "name": "stdout",
     "output_type": "stream",
     "text": [
      "0:\tlearn: 1.0146657\ttotal: 313ms\tremaining: 1m 33s\n",
      "1:\tlearn: 0.9536440\ttotal: 484ms\tremaining: 1m 12s\n",
      "2:\tlearn: 0.9105878\ttotal: 768ms\tremaining: 1m 16s\n",
      "3:\tlearn: 0.8783478\ttotal: 1.01s\tremaining: 1m 14s\n",
      "4:\tlearn: 0.8475642\ttotal: 1.19s\tremaining: 1m 10s\n",
      "5:\tlearn: 0.8030587\ttotal: 1.39s\tremaining: 1m 8s\n",
      "6:\tlearn: 0.7873712\ttotal: 1.53s\tremaining: 1m 4s\n",
      "7:\tlearn: 0.7581798\ttotal: 1.71s\tremaining: 1m 2s\n",
      "8:\tlearn: 0.7439152\ttotal: 1.96s\tremaining: 1m 3s\n",
      "9:\tlearn: 0.7328009\ttotal: 2.18s\tremaining: 1m 3s\n",
      "10:\tlearn: 0.7225443\ttotal: 2.46s\tremaining: 1m 4s\n",
      "11:\tlearn: 0.7123333\ttotal: 2.68s\tremaining: 1m 4s\n",
      "12:\tlearn: 0.7022860\ttotal: 2.91s\tremaining: 1m 4s\n",
      "13:\tlearn: 0.6968627\ttotal: 3.12s\tremaining: 1m 3s\n",
      "14:\tlearn: 0.6903076\ttotal: 3.44s\tremaining: 1m 5s\n",
      "15:\tlearn: 0.6841888\ttotal: 3.63s\tremaining: 1m 4s\n",
      "16:\tlearn: 0.6752024\ttotal: 3.89s\tremaining: 1m 4s\n",
      "17:\tlearn: 0.6692997\ttotal: 4.05s\tremaining: 1m 3s\n",
      "18:\tlearn: 0.6650960\ttotal: 4.21s\tremaining: 1m 2s\n",
      "19:\tlearn: 0.6607734\ttotal: 4.37s\tremaining: 1m 1s\n",
      "20:\tlearn: 0.6570430\ttotal: 4.57s\tremaining: 1m\n",
      "21:\tlearn: 0.6543717\ttotal: 4.7s\tremaining: 59.4s\n",
      "22:\tlearn: 0.6510301\ttotal: 4.86s\tremaining: 58.6s\n",
      "23:\tlearn: 0.6436920\ttotal: 5.1s\tremaining: 58.6s\n",
      "24:\tlearn: 0.6409140\ttotal: 5.47s\tremaining: 1m\n",
      "25:\tlearn: 0.6369790\ttotal: 5.68s\tremaining: 59.9s\n",
      "26:\tlearn: 0.6336445\ttotal: 5.93s\tremaining: 60s\n",
      "27:\tlearn: 0.6309968\ttotal: 6.08s\tremaining: 59.1s\n",
      "28:\tlearn: 0.6290833\ttotal: 6.33s\tremaining: 59.1s\n",
      "29:\tlearn: 0.6272874\ttotal: 6.44s\tremaining: 58s\n",
      "30:\tlearn: 0.6252876\ttotal: 6.57s\tremaining: 57s\n",
      "31:\tlearn: 0.6234929\ttotal: 6.75s\tremaining: 56.5s\n",
      "32:\tlearn: 0.6210154\ttotal: 7.01s\tremaining: 56.7s\n",
      "33:\tlearn: 0.6198950\ttotal: 7.14s\tremaining: 55.9s\n",
      "34:\tlearn: 0.6181261\ttotal: 7.35s\tremaining: 55.7s\n",
      "35:\tlearn: 0.6165539\ttotal: 7.5s\tremaining: 55s\n",
      "36:\tlearn: 0.6146884\ttotal: 7.64s\tremaining: 54.3s\n",
      "37:\tlearn: 0.6128557\ttotal: 7.82s\tremaining: 53.9s\n",
      "38:\tlearn: 0.6116675\ttotal: 7.95s\tremaining: 53.2s\n",
      "39:\tlearn: 0.6101014\ttotal: 8.07s\tremaining: 52.5s\n",
      "40:\tlearn: 0.6088360\ttotal: 8.21s\tremaining: 51.8s\n",
      "41:\tlearn: 0.6078775\ttotal: 8.38s\tremaining: 51.5s\n",
      "42:\tlearn: 0.6066575\ttotal: 8.55s\tremaining: 51.1s\n",
      "43:\tlearn: 0.6051897\ttotal: 8.7s\tremaining: 50.6s\n",
      "44:\tlearn: 0.6041209\ttotal: 8.93s\tremaining: 50.6s\n",
      "45:\tlearn: 0.6007877\ttotal: 9.1s\tremaining: 50.2s\n",
      "46:\tlearn: 0.5992645\ttotal: 9.26s\tremaining: 49.8s\n",
      "47:\tlearn: 0.5985591\ttotal: 9.4s\tremaining: 49.3s\n",
      "48:\tlearn: 0.5976574\ttotal: 9.54s\tremaining: 48.9s\n",
      "49:\tlearn: 0.5969053\ttotal: 9.66s\tremaining: 48.3s\n",
      "50:\tlearn: 0.5956803\ttotal: 9.8s\tremaining: 47.9s\n",
      "51:\tlearn: 0.5942650\ttotal: 9.93s\tremaining: 47.4s\n",
      "52:\tlearn: 0.5937682\ttotal: 10.1s\tremaining: 46.9s\n",
      "53:\tlearn: 0.5922311\ttotal: 10.2s\tremaining: 46.6s\n",
      "54:\tlearn: 0.5916620\ttotal: 10.4s\tremaining: 46.3s\n",
      "55:\tlearn: 0.5911842\ttotal: 10.6s\tremaining: 46.1s\n",
      "56:\tlearn: 0.5907303\ttotal: 10.8s\tremaining: 45.9s\n",
      "57:\tlearn: 0.5899364\ttotal: 10.9s\tremaining: 45.5s\n",
      "58:\tlearn: 0.5892725\ttotal: 11s\tremaining: 45s\n",
      "59:\tlearn: 0.5886030\ttotal: 11.2s\tremaining: 44.6s\n",
      "60:\tlearn: 0.5881757\ttotal: 11.3s\tremaining: 44.3s\n",
      "61:\tlearn: 0.5876475\ttotal: 11.4s\tremaining: 43.9s\n",
      "62:\tlearn: 0.5865887\ttotal: 11.6s\tremaining: 43.5s\n",
      "63:\tlearn: 0.5856007\ttotal: 11.7s\tremaining: 43.1s\n",
      "64:\tlearn: 0.5853047\ttotal: 11.8s\tremaining: 42.7s\n",
      "65:\tlearn: 0.5848561\ttotal: 12s\tremaining: 42.4s\n",
      "66:\tlearn: 0.5843656\ttotal: 12.1s\tremaining: 42.2s\n",
      "67:\tlearn: 0.5834857\ttotal: 12.3s\tremaining: 42s\n",
      "68:\tlearn: 0.5828532\ttotal: 12.5s\tremaining: 41.7s\n",
      "69:\tlearn: 0.5824197\ttotal: 12.6s\tremaining: 41.4s\n",
      "70:\tlearn: 0.5820281\ttotal: 12.7s\tremaining: 41.1s\n",
      "71:\tlearn: 0.5814382\ttotal: 12.9s\tremaining: 40.8s\n",
      "72:\tlearn: 0.5809227\ttotal: 13s\tremaining: 40.4s\n",
      "73:\tlearn: 0.5806469\ttotal: 13.1s\tremaining: 40.1s\n",
      "74:\tlearn: 0.5801379\ttotal: 13.3s\tremaining: 39.9s\n",
      "75:\tlearn: 0.5798495\ttotal: 13.4s\tremaining: 39.6s\n",
      "76:\tlearn: 0.5793199\ttotal: 13.5s\tremaining: 39.2s\n",
      "77:\tlearn: 0.5790698\ttotal: 13.7s\tremaining: 38.9s\n",
      "78:\tlearn: 0.5786754\ttotal: 13.8s\tremaining: 38.6s\n",
      "79:\tlearn: 0.5781940\ttotal: 14s\tremaining: 38.4s\n",
      "80:\tlearn: 0.5777795\ttotal: 14.1s\tremaining: 38.3s\n",
      "81:\tlearn: 0.5772311\ttotal: 14.4s\tremaining: 38.2s\n",
      "82:\tlearn: 0.5766574\ttotal: 14.5s\tremaining: 38s\n",
      "83:\tlearn: 0.5764117\ttotal: 14.7s\tremaining: 37.7s\n",
      "84:\tlearn: 0.5761418\ttotal: 14.8s\tremaining: 37.4s\n",
      "85:\tlearn: 0.5756982\ttotal: 14.9s\tremaining: 37.1s\n",
      "86:\tlearn: 0.5755579\ttotal: 15s\tremaining: 36.8s\n",
      "87:\tlearn: 0.5752190\ttotal: 15.2s\tremaining: 36.5s\n",
      "88:\tlearn: 0.5749841\ttotal: 15.3s\tremaining: 36.3s\n",
      "89:\tlearn: 0.5746444\ttotal: 15.4s\tremaining: 36s\n",
      "90:\tlearn: 0.5740073\ttotal: 15.6s\tremaining: 35.8s\n",
      "91:\tlearn: 0.5736010\ttotal: 15.7s\tremaining: 35.6s\n",
      "92:\tlearn: 0.5728875\ttotal: 15.9s\tremaining: 35.5s\n",
      "93:\tlearn: 0.5720034\ttotal: 16.1s\tremaining: 35.2s\n",
      "94:\tlearn: 0.5717100\ttotal: 16.3s\tremaining: 35.1s\n",
      "95:\tlearn: 0.5715029\ttotal: 16.4s\tremaining: 34.9s\n",
      "96:\tlearn: 0.5710500\ttotal: 16.6s\tremaining: 34.7s\n",
      "97:\tlearn: 0.5707240\ttotal: 16.8s\tremaining: 34.5s\n",
      "98:\tlearn: 0.5704819\ttotal: 16.9s\tremaining: 34.3s\n",
      "99:\tlearn: 0.5697063\ttotal: 17.1s\tremaining: 34.1s\n",
      "100:\tlearn: 0.5690202\ttotal: 17.2s\tremaining: 34s\n",
      "101:\tlearn: 0.5686496\ttotal: 17.4s\tremaining: 33.8s\n",
      "102:\tlearn: 0.5682714\ttotal: 17.6s\tremaining: 33.7s\n",
      "103:\tlearn: 0.5676883\ttotal: 17.8s\tremaining: 33.5s\n",
      "104:\tlearn: 0.5673840\ttotal: 18s\tremaining: 33.3s\n",
      "105:\tlearn: 0.5668249\ttotal: 18.1s\tremaining: 33.2s\n",
      "106:\tlearn: 0.5665747\ttotal: 18.3s\tremaining: 33s\n",
      "107:\tlearn: 0.5662367\ttotal: 18.4s\tremaining: 32.8s\n",
      "108:\tlearn: 0.5658506\ttotal: 18.6s\tremaining: 32.6s\n",
      "109:\tlearn: 0.5654974\ttotal: 18.7s\tremaining: 32.3s\n",
      "110:\tlearn: 0.5652917\ttotal: 18.8s\tremaining: 32.1s\n",
      "111:\tlearn: 0.5644902\ttotal: 19s\tremaining: 31.9s\n",
      "112:\tlearn: 0.5641476\ttotal: 19.1s\tremaining: 31.6s\n",
      "113:\tlearn: 0.5633505\ttotal: 19.3s\tremaining: 31.5s\n",
      "114:\tlearn: 0.5629549\ttotal: 19.4s\tremaining: 31.2s\n",
      "115:\tlearn: 0.5620164\ttotal: 19.6s\tremaining: 31.1s\n",
      "116:\tlearn: 0.5614151\ttotal: 19.7s\tremaining: 30.9s\n",
      "117:\tlearn: 0.5606862\ttotal: 19.9s\tremaining: 30.7s\n",
      "118:\tlearn: 0.5599099\ttotal: 20.1s\tremaining: 30.5s\n",
      "119:\tlearn: 0.5596145\ttotal: 20.3s\tremaining: 30.4s\n",
      "120:\tlearn: 0.5593197\ttotal: 20.4s\tremaining: 30.2s\n",
      "121:\tlearn: 0.5591320\ttotal: 20.6s\tremaining: 30s\n",
      "122:\tlearn: 0.5578289\ttotal: 20.7s\tremaining: 29.8s\n",
      "123:\tlearn: 0.5575726\ttotal: 20.9s\tremaining: 29.6s\n",
      "124:\tlearn: 0.5572920\ttotal: 21s\tremaining: 29.4s\n",
      "125:\tlearn: 0.5568063\ttotal: 21.2s\tremaining: 29.3s\n",
      "126:\tlearn: 0.5563194\ttotal: 21.3s\tremaining: 29.1s\n",
      "127:\tlearn: 0.5558905\ttotal: 21.5s\tremaining: 28.9s\n",
      "128:\tlearn: 0.5556777\ttotal: 21.6s\tremaining: 28.7s\n",
      "129:\tlearn: 0.5554006\ttotal: 21.8s\tremaining: 28.5s\n",
      "130:\tlearn: 0.5552027\ttotal: 22s\tremaining: 28.4s\n",
      "131:\tlearn: 0.5546166\ttotal: 22.2s\tremaining: 28.2s\n",
      "132:\tlearn: 0.5540159\ttotal: 22.3s\tremaining: 28s\n",
      "133:\tlearn: 0.5537637\ttotal: 22.5s\tremaining: 27.8s\n",
      "134:\tlearn: 0.5533712\ttotal: 22.6s\tremaining: 27.7s\n",
      "135:\tlearn: 0.5531187\ttotal: 22.8s\tremaining: 27.5s\n",
      "136:\tlearn: 0.5527117\ttotal: 22.9s\tremaining: 27.3s\n",
      "137:\tlearn: 0.5521310\ttotal: 23.1s\tremaining: 27.1s\n",
      "138:\tlearn: 0.5517443\ttotal: 23.2s\tremaining: 26.9s\n",
      "139:\tlearn: 0.5515916\ttotal: 23.4s\tremaining: 26.7s\n",
      "140:\tlearn: 0.5510838\ttotal: 23.5s\tremaining: 26.5s\n",
      "141:\tlearn: 0.5507074\ttotal: 23.7s\tremaining: 26.3s\n",
      "142:\tlearn: 0.5502613\ttotal: 23.8s\tremaining: 26.2s\n",
      "143:\tlearn: 0.5497540\ttotal: 24s\tremaining: 26s\n",
      "144:\tlearn: 0.5494520\ttotal: 24.1s\tremaining: 25.8s\n",
      "145:\tlearn: 0.5491685\ttotal: 24.3s\tremaining: 25.6s\n",
      "146:\tlearn: 0.5486188\ttotal: 24.4s\tremaining: 25.4s\n",
      "147:\tlearn: 0.5480993\ttotal: 24.5s\tremaining: 25.2s\n",
      "148:\tlearn: 0.5476780\ttotal: 24.7s\tremaining: 25s\n",
      "149:\tlearn: 0.5473671\ttotal: 24.8s\tremaining: 24.8s\n",
      "150:\tlearn: 0.5470333\ttotal: 25s\tremaining: 24.7s\n",
      "151:\tlearn: 0.5469207\ttotal: 25.2s\tremaining: 24.5s\n",
      "152:\tlearn: 0.5465900\ttotal: 25.3s\tremaining: 24.3s\n",
      "153:\tlearn: 0.5463754\ttotal: 25.5s\tremaining: 24.1s\n",
      "154:\tlearn: 0.5457313\ttotal: 25.6s\tremaining: 24s\n",
      "155:\tlearn: 0.5454860\ttotal: 25.8s\tremaining: 23.8s\n",
      "156:\tlearn: 0.5453391\ttotal: 25.9s\tremaining: 23.6s\n",
      "157:\tlearn: 0.5449471\ttotal: 26.1s\tremaining: 23.4s\n",
      "158:\tlearn: 0.5445113\ttotal: 26.2s\tremaining: 23.2s\n",
      "159:\tlearn: 0.5441215\ttotal: 26.3s\tremaining: 23s\n",
      "160:\tlearn: 0.5435484\ttotal: 26.5s\tremaining: 22.8s\n",
      "161:\tlearn: 0.5433311\ttotal: 26.6s\tremaining: 22.6s\n"
     ]
    },
    {
     "name": "stdout",
     "output_type": "stream",
     "text": [
      "162:\tlearn: 0.5429680\ttotal: 26.7s\tremaining: 22.4s\n",
      "163:\tlearn: 0.5427366\ttotal: 26.8s\tremaining: 22.2s\n",
      "164:\tlearn: 0.5424697\ttotal: 27s\tremaining: 22.1s\n",
      "165:\tlearn: 0.5421584\ttotal: 27.1s\tremaining: 21.9s\n",
      "166:\tlearn: 0.5418788\ttotal: 27.2s\tremaining: 21.7s\n",
      "167:\tlearn: 0.5414561\ttotal: 27.4s\tremaining: 21.5s\n",
      "168:\tlearn: 0.5412006\ttotal: 27.6s\tremaining: 21.4s\n",
      "169:\tlearn: 0.5410224\ttotal: 27.7s\tremaining: 21.2s\n",
      "170:\tlearn: 0.5406604\ttotal: 27.8s\tremaining: 21s\n",
      "171:\tlearn: 0.5403970\ttotal: 28s\tremaining: 20.8s\n",
      "172:\tlearn: 0.5402250\ttotal: 28.1s\tremaining: 20.6s\n",
      "173:\tlearn: 0.5398045\ttotal: 28.2s\tremaining: 20.4s\n",
      "174:\tlearn: 0.5396834\ttotal: 28.4s\tremaining: 20.3s\n",
      "175:\tlearn: 0.5390230\ttotal: 28.5s\tremaining: 20.1s\n",
      "176:\tlearn: 0.5387476\ttotal: 28.7s\tremaining: 19.9s\n",
      "177:\tlearn: 0.5382096\ttotal: 28.8s\tremaining: 19.7s\n",
      "178:\tlearn: 0.5380331\ttotal: 28.9s\tremaining: 19.6s\n",
      "179:\tlearn: 0.5376617\ttotal: 29.1s\tremaining: 19.4s\n",
      "180:\tlearn: 0.5374345\ttotal: 29.2s\tremaining: 19.2s\n",
      "181:\tlearn: 0.5366326\ttotal: 29.4s\tremaining: 19s\n",
      "182:\tlearn: 0.5362941\ttotal: 29.5s\tremaining: 18.9s\n",
      "183:\tlearn: 0.5360044\ttotal: 29.7s\tremaining: 18.7s\n",
      "184:\tlearn: 0.5357182\ttotal: 29.9s\tremaining: 18.6s\n",
      "185:\tlearn: 0.5352678\ttotal: 30s\tremaining: 18.4s\n",
      "186:\tlearn: 0.5349431\ttotal: 30.1s\tremaining: 18.2s\n",
      "187:\tlearn: 0.5344648\ttotal: 30.2s\tremaining: 18s\n",
      "188:\tlearn: 0.5342422\ttotal: 30.4s\tremaining: 17.8s\n",
      "189:\tlearn: 0.5340497\ttotal: 30.5s\tremaining: 17.6s\n",
      "190:\tlearn: 0.5338446\ttotal: 30.6s\tremaining: 17.5s\n",
      "191:\tlearn: 0.5336026\ttotal: 30.7s\tremaining: 17.3s\n",
      "192:\tlearn: 0.5332848\ttotal: 30.8s\tremaining: 17.1s\n",
      "193:\tlearn: 0.5328112\ttotal: 31s\tremaining: 16.9s\n",
      "194:\tlearn: 0.5326987\ttotal: 31.2s\tremaining: 16.8s\n",
      "195:\tlearn: 0.5324531\ttotal: 31.5s\tremaining: 16.7s\n",
      "196:\tlearn: 0.5323289\ttotal: 31.7s\tremaining: 16.6s\n",
      "197:\tlearn: 0.5322095\ttotal: 31.9s\tremaining: 16.4s\n",
      "198:\tlearn: 0.5320378\ttotal: 32s\tremaining: 16.2s\n",
      "199:\tlearn: 0.5317047\ttotal: 32.1s\tremaining: 16.1s\n",
      "200:\tlearn: 0.5314406\ttotal: 32.3s\tremaining: 15.9s\n",
      "201:\tlearn: 0.5313380\ttotal: 32.4s\tremaining: 15.7s\n",
      "202:\tlearn: 0.5311879\ttotal: 32.5s\tremaining: 15.5s\n",
      "203:\tlearn: 0.5307174\ttotal: 32.6s\tremaining: 15.4s\n",
      "204:\tlearn: 0.5304548\ttotal: 32.8s\tremaining: 15.2s\n",
      "205:\tlearn: 0.5300636\ttotal: 32.9s\tremaining: 15s\n",
      "206:\tlearn: 0.5299065\ttotal: 33s\tremaining: 14.8s\n",
      "207:\tlearn: 0.5297350\ttotal: 33.2s\tremaining: 14.7s\n",
      "208:\tlearn: 0.5293775\ttotal: 33.4s\tremaining: 14.5s\n",
      "209:\tlearn: 0.5288124\ttotal: 33.5s\tremaining: 14.4s\n",
      "210:\tlearn: 0.5285396\ttotal: 33.7s\tremaining: 14.2s\n",
      "211:\tlearn: 0.5284972\ttotal: 33.8s\tremaining: 14s\n",
      "212:\tlearn: 0.5282877\ttotal: 33.9s\tremaining: 13.9s\n",
      "213:\tlearn: 0.5280245\ttotal: 34.1s\tremaining: 13.7s\n",
      "214:\tlearn: 0.5277945\ttotal: 34.2s\tremaining: 13.5s\n",
      "215:\tlearn: 0.5275596\ttotal: 34.3s\tremaining: 13.4s\n",
      "216:\tlearn: 0.5272604\ttotal: 34.5s\tremaining: 13.2s\n",
      "217:\tlearn: 0.5271348\ttotal: 34.6s\tremaining: 13s\n",
      "218:\tlearn: 0.5268278\ttotal: 34.7s\tremaining: 12.8s\n",
      "219:\tlearn: 0.5267038\ttotal: 34.9s\tremaining: 12.7s\n",
      "220:\tlearn: 0.5264899\ttotal: 35s\tremaining: 12.5s\n",
      "221:\tlearn: 0.5262626\ttotal: 35.2s\tremaining: 12.4s\n",
      "222:\tlearn: 0.5260053\ttotal: 35.4s\tremaining: 12.2s\n",
      "223:\tlearn: 0.5256304\ttotal: 35.5s\tremaining: 12.1s\n",
      "224:\tlearn: 0.5254146\ttotal: 35.7s\tremaining: 11.9s\n",
      "225:\tlearn: 0.5252438\ttotal: 35.8s\tremaining: 11.7s\n",
      "226:\tlearn: 0.5245853\ttotal: 36s\tremaining: 11.6s\n",
      "227:\tlearn: 0.5244835\ttotal: 36.1s\tremaining: 11.4s\n",
      "228:\tlearn: 0.5242140\ttotal: 36.3s\tremaining: 11.2s\n",
      "229:\tlearn: 0.5239230\ttotal: 36.5s\tremaining: 11.1s\n",
      "230:\tlearn: 0.5237892\ttotal: 36.6s\tremaining: 10.9s\n",
      "231:\tlearn: 0.5236819\ttotal: 36.8s\tremaining: 10.8s\n",
      "232:\tlearn: 0.5235339\ttotal: 36.9s\tremaining: 10.6s\n",
      "233:\tlearn: 0.5232559\ttotal: 37.1s\tremaining: 10.5s\n",
      "234:\tlearn: 0.5229776\ttotal: 37.3s\tremaining: 10.3s\n",
      "235:\tlearn: 0.5227933\ttotal: 37.5s\tremaining: 10.2s\n",
      "236:\tlearn: 0.5225964\ttotal: 37.6s\tremaining: 9.99s\n",
      "237:\tlearn: 0.5223951\ttotal: 37.7s\tremaining: 9.83s\n",
      "238:\tlearn: 0.5222069\ttotal: 37.9s\tremaining: 9.67s\n",
      "239:\tlearn: 0.5221280\ttotal: 38.1s\tremaining: 9.52s\n",
      "240:\tlearn: 0.5220684\ttotal: 38.2s\tremaining: 9.36s\n",
      "241:\tlearn: 0.5218664\ttotal: 38.4s\tremaining: 9.2s\n",
      "242:\tlearn: 0.5215680\ttotal: 38.5s\tremaining: 9.04s\n",
      "243:\tlearn: 0.5212936\ttotal: 38.7s\tremaining: 8.88s\n",
      "244:\tlearn: 0.5212007\ttotal: 38.9s\tremaining: 8.72s\n",
      "245:\tlearn: 0.5210243\ttotal: 39s\tremaining: 8.57s\n",
      "246:\tlearn: 0.5208304\ttotal: 39.2s\tremaining: 8.41s\n",
      "247:\tlearn: 0.5206349\ttotal: 39.4s\tremaining: 8.25s\n",
      "248:\tlearn: 0.5204700\ttotal: 39.5s\tremaining: 8.09s\n",
      "249:\tlearn: 0.5203776\ttotal: 39.6s\tremaining: 7.92s\n",
      "250:\tlearn: 0.5200579\ttotal: 39.8s\tremaining: 7.76s\n",
      "251:\tlearn: 0.5196498\ttotal: 39.9s\tremaining: 7.6s\n",
      "252:\tlearn: 0.5195852\ttotal: 40s\tremaining: 7.43s\n",
      "253:\tlearn: 0.5194252\ttotal: 40.2s\tremaining: 7.28s\n",
      "254:\tlearn: 0.5190256\ttotal: 40.3s\tremaining: 7.11s\n",
      "255:\tlearn: 0.5188254\ttotal: 40.4s\tremaining: 6.95s\n",
      "256:\tlearn: 0.5186269\ttotal: 40.6s\tremaining: 6.79s\n",
      "257:\tlearn: 0.5185532\ttotal: 40.7s\tremaining: 6.63s\n",
      "258:\tlearn: 0.5184483\ttotal: 40.9s\tremaining: 6.47s\n",
      "259:\tlearn: 0.5182590\ttotal: 41.1s\tremaining: 6.32s\n",
      "260:\tlearn: 0.5179266\ttotal: 41.2s\tremaining: 6.16s\n",
      "261:\tlearn: 0.5178074\ttotal: 41.4s\tremaining: 6s\n",
      "262:\tlearn: 0.5175448\ttotal: 41.5s\tremaining: 5.83s\n",
      "263:\tlearn: 0.5173451\ttotal: 41.6s\tremaining: 5.67s\n",
      "264:\tlearn: 0.5172051\ttotal: 41.7s\tremaining: 5.51s\n",
      "265:\tlearn: 0.5170438\ttotal: 41.9s\tremaining: 5.35s\n",
      "266:\tlearn: 0.5169795\ttotal: 42s\tremaining: 5.18s\n",
      "267:\tlearn: 0.5167114\ttotal: 42.1s\tremaining: 5.03s\n",
      "268:\tlearn: 0.5165606\ttotal: 42.2s\tremaining: 4.87s\n",
      "269:\tlearn: 0.5164686\ttotal: 42.4s\tremaining: 4.71s\n",
      "270:\tlearn: 0.5162663\ttotal: 42.5s\tremaining: 4.55s\n",
      "271:\tlearn: 0.5160392\ttotal: 42.7s\tremaining: 4.39s\n",
      "272:\tlearn: 0.5158750\ttotal: 42.9s\tremaining: 4.24s\n",
      "273:\tlearn: 0.5158065\ttotal: 43s\tremaining: 4.08s\n",
      "274:\tlearn: 0.5156278\ttotal: 43.1s\tremaining: 3.92s\n",
      "275:\tlearn: 0.5154667\ttotal: 43.3s\tremaining: 3.76s\n",
      "276:\tlearn: 0.5153245\ttotal: 43.4s\tremaining: 3.6s\n",
      "277:\tlearn: 0.5150248\ttotal: 43.5s\tremaining: 3.44s\n",
      "278:\tlearn: 0.5149439\ttotal: 43.6s\tremaining: 3.28s\n",
      "279:\tlearn: 0.5147309\ttotal: 43.8s\tremaining: 3.13s\n",
      "280:\tlearn: 0.5144765\ttotal: 43.9s\tremaining: 2.97s\n",
      "281:\tlearn: 0.5141371\ttotal: 44s\tremaining: 2.81s\n",
      "282:\tlearn: 0.5139310\ttotal: 44.2s\tremaining: 2.65s\n",
      "283:\tlearn: 0.5136454\ttotal: 44.3s\tremaining: 2.5s\n",
      "284:\tlearn: 0.5134366\ttotal: 44.5s\tremaining: 2.34s\n",
      "285:\tlearn: 0.5132411\ttotal: 44.6s\tremaining: 2.18s\n",
      "286:\tlearn: 0.5130941\ttotal: 44.8s\tremaining: 2.03s\n",
      "287:\tlearn: 0.5129771\ttotal: 44.9s\tremaining: 1.87s\n",
      "288:\tlearn: 0.5127769\ttotal: 45.1s\tremaining: 1.72s\n",
      "289:\tlearn: 0.5126732\ttotal: 45.2s\tremaining: 1.56s\n",
      "290:\tlearn: 0.5124835\ttotal: 45.3s\tremaining: 1.4s\n",
      "291:\tlearn: 0.5123199\ttotal: 45.5s\tremaining: 1.25s\n",
      "292:\tlearn: 0.5121399\ttotal: 45.6s\tremaining: 1.09s\n",
      "293:\tlearn: 0.5120186\ttotal: 45.7s\tremaining: 933ms\n",
      "294:\tlearn: 0.5119749\ttotal: 45.8s\tremaining: 777ms\n",
      "295:\tlearn: 0.5115663\ttotal: 45.9s\tremaining: 621ms\n",
      "296:\tlearn: 0.5114086\ttotal: 46.1s\tremaining: 466ms\n",
      "297:\tlearn: 0.5112798\ttotal: 46.3s\tremaining: 311ms\n",
      "298:\tlearn: 0.5112252\ttotal: 46.4s\tremaining: 155ms\n",
      "299:\tlearn: 0.5110776\ttotal: 46.6s\tremaining: 0us\n"
     ]
    },
    {
     "data": {
      "text/plain": [
       "0.6143913240171449"
      ]
     },
     "execution_count": 125,
     "metadata": {},
     "output_type": "execute_result"
    }
   ],
   "source": [
    "from catboost import CatBoostClassifier,Pool\n",
    "import numpy as np\n",
    "\n",
    "model = CatBoostClassifier\n",
    "params = {'depth':[2, 3, 4],\n",
    "          'loss_function': ['Logloss', 'CrossEntropy'],\n",
    "          'l2_leaf_reg':np.logspace(-20, -19, 3)}\n",
    "# param = catboost_GridSearchCV(X_train, y_train, X_test, params, cat_features)\n",
    "cat = CatBoostClassifier(iterations=300,\n",
    "                         depth=4,\n",
    "                         learning_rate=0.1,\n",
    "                         l2_leaf_reg = 3.5,\n",
    "                         class_weights=[50,5,3],\n",
    "                         leaf_estimation_iterations = 10)\n",
    "cat.fit(X_train,y_train)        \n",
    "y_pred = cat.predict(X_test)\n",
    "accuracy = f1_score(y_test, y_pred,average='macro')\n",
    "accuracy\n",
    "# CatBoostError: To employ param {'use_best_model': True} provide non-empty 'eval_set'.\n",
    "\n",
    "\n",
    "# {\"1\":2,\"3\":4.3,\"2\":25.1}"
   ]
  },
  {
   "cell_type": "code",
   "execution_count": 127,
   "metadata": {},
   "outputs": [
    {
     "data": {
      "text/plain": [
       "Text(0.5, 87.0, 'Predicted')"
      ]
     },
     "execution_count": 127,
     "metadata": {},
     "output_type": "execute_result"
    },
    {
     "data": {
      "image/png": "[encoded data removed]",
      "text/plain": [
       "<Figure size 864x864 with 2 Axes>"
      ]
     },
     "metadata": {
      "needs_background": "light"
     },
     "output_type": "display_data"
    }
   ],
   "source": [
    "c = confusion_matrix(y_test,y_pred)\n",
    "#normalize\n",
    "cm = c.astype('float')/c.sum(axis=1)[:, np.newaxis]\n",
    "fig,ax = plt.subplots(figsize=(12,12))\n",
    "ax = sns.heatmap(cm,annot=True, fmt= '.2f',xticklabels=labels,yticklabels=labels)\n",
    "#new matplotlib version cuts off part of first and last row, fixing this\n",
    "bottom, top = ax.get_ylim()\n",
    "ax.set_ylim(bottom + 0.5, top - 0.5)\n",
    "plt.ylabel('Actual')\n",
    "plt.xlabel('Predicted')"
   ]
  }
 ],
 "metadata": {
  "kernelspec": {
   "display_name": "Python 3",
   "language": "python",
   "name": "python3"
  },
  "language_info": {
   "codemirror_mode": {
    "name": "ipython",
    "version": 3
   },
   "file_extension": ".py",
   "mimetype": "text/x-python",
   "name": "python",
   "nbconvert_exporter": "python",
   "pygments_lexer": "ipython3",
   "version": "3.7.4"
  }
 },
 "nbformat": 4,
 "nbformat_minor": 2
}
