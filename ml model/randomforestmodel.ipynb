{
 "cells": [
  {
   "cell_type": "code",
   "execution_count": 1,
   "metadata": {},
   "outputs": [
    {
     "name": "stderr",
     "output_type": "stream",
     "text": [
      "C:\\Users\\User\\Anaconda3\\lib\\site-packages\\IPython\\core\\interactiveshell.py:3058: DtypeWarning: Columns (38,39,40,41,42,43,44,45,47,48,49,50,51,52,53,54,55,56,97,98,99,100,101,102,103,104,106,107,108,109,110,111,112,113,114,115,151,154,158,159,160,161,162,163,164,165,167,168,169,170,171,172,173,174,175,176,218,219,220,221,222,223,224,225,227,228,229,230,231,232,233,234,235,236,340,341,342,343,344,345,346,347,349,350,351,352,353,354,355,356,357,358,388,390,391,392,393,394,395,397,398,399,400,401,402,403,404,405,406,408,409,410,411,412,413,414,415,416,417,460,461,462,463,464,465,466,467,469,470,471,472,473,474,475,476,477,478,519,520,521,522,523,524,525,526,528,529,530,531,532,533,534,535,536,537,542,543,544,545,546,547,548,549,550,551,552,553,554,555,556,557,558,559,560,561,562,563,564,565,566,567,568,569,570,571,572,573,574,575,576,577,578,579,580,581,582,583,584,585,586,587,588,589,590,591,592,593,594,595,596,597,598,599,636,637,638,639,640,641,642,643,645,646,647,648,649,650,651,652,653,685,686,687,688,689,690,692,693,694,695,696,697,698,699,700,701,703,704,705,706,707,708,709,710,711,752,753,754,755,756,757,758,759,761,762,763,764,765,766,767,768,769,810,811,812,813,814,815,816,817,819,820,821,822,823,824,825,826,827,868,869,870,871,872,873,874,875,877,878,879,880,881,882,883,884,885,985,986,987,988,989,990,991,992,994,995,996,997,998,999,1000,1001,1002,1009,1010,1011,1012,1013,1014,1015,1016,1017,1018,1019,1020,1021,1022,1023,1024,1034,1035,1036,1037,1038,1039,1040,1041,1042,1043,1044,1045,1046,1047,1048,1049,1059,1060,1061,1062,1063,1064,1065,1066,1067,1068,1069,1070,1071,1072,1073,1074,1084,1085,1086,1087,1088,1089,1090,1091,1092,1093,1094,1095,1096,1097,1098,1099,1100,1101,1102,1103,1104,1105,1106,1107,1108,1109,1110,1111,1112,1113,1114,1115,1116,1117,1118,1119,1120,1121,1122,1123,1158,1159,1160,1161,1162,1163,1164,1165,1166,1167,1168,1169,1170,1171,1172,1173,1183,1184,1185,1190,1192,1193,1195,1196,1208,1209,1210,1211,1212,1213,1214,1215,1216,1217,1218,1219,1220,1221,1222,1223,1233,1234,1235,1236,1237,1238,1239,1240,1241,1242,1243,1244,1245,1246,1247,1248,1258,1259,1260,1284,1285,1286,1287,1288,1289,1290,1291,1292,1293,1294,1295,1296,1297,1298,1299,1300,1310,1311,1312,1313,1314,1315,1316,1317,1318,1319,1320,1321,1322,1323,1324,1325,1326,1327,1328,1329,1330,1331,1332,1333,1334,1335,1336,1337,1338,1339,1340,1341,1342,1343,1344,1345,1346,1347,1348,1349,1350,1360,1361,1362,1363,1364,1365,1366,1367,1368,1369,1370,1371,1372,1373,1374,1375,1376,1386,1387,1388,1389,1390,1391,1392,1393,1394,1395,1396,1397,1398,1399,1400,1401,1402,1412,1413,1414,1415,1416,1417,1418,1419,1420,1421,1422,1423,1424,1425,1426,1427,1428,1464,1465,1466,1467,1468,1469,1470,1471,1472,1473,1474,1475,1476,1477,1478,1479,1480,1481,1482,1483,1484,1485,1486,1487,1488,1489,1490,1491,1492,1493,1494,1495,1496,1497,1498,1499,1500,1501,1502,1503,1513,1514,1515,1516,1517,1518,1519,1520,1521,1522,1523,1524,1525,1526,1527,1528,1529,1530,1531,1532,1533,1534,1535,1536,1537,1538,1539,1540,1541,1542,1543,1544,1545,1546,1547,1548,1549,1550,1551,1552,1553,1554,1555,1556,1557,1558,1559,1560,1561,1562,1563,1564,1565,1566,1567,1568,1569,1570,1571,1572,1573,1574,1575,1576,1577,1578,1579,1580,1581,1582,1583,1584,1585,1586,1587,1588,1589,1590,1591,1592,1593,1594,1595,1596,1597,1598,1599,1600,1601,1602,1603,1604,1605,1606,1607,1608,1609,1610,1611,1612,1613,1614,1615,1616,1617,1618,1619,1620,1621,1622,1623,1624,1625,1626,1627,1628,1629,1630,1631,1632,1633,1634,1635,1636,1637,1638,1639,1640,1641,1642,1643,1644,1645,1646,1647,1648,1649,1650,1651,1652,1653,1654,1655,1656,1657,1658,1659,1660,1661,1662,1663,1664,1665,1666,1667,1668,1669,1670,1671,1672,1673,1674,1675,1676,1677,1678,1679,1680,1681,1682,1683,1684,1685,1686,1687,1688,1689,1690,1691,1692,1693,1694,1695,1696,1993,1994,1996,1997,2000,2001,2002,2003,2004,2005,2008,2009,2010,2012,2013,2014,2017,2018,2019,2020,2021,2022,2025,2026,2027,2029,2030,2031,2034,2035,2036,2037,2038,2039,2042,2043,2044,2046,2047,2048,2051,2052,2053,2054,2055,2056,2059,2060,2061,2063,2064,2065,2068,2069,2070,2071,2072,2073,2076,2077,2078,2080,2081,2082,2085,2086,2087,2088,2089,2090,2093,2094,2095,2097,2098,2099,2102,2103,2104,2105,2106,2107,2110,2111,2112,2114,2115,2116,2119,2120,2121,2122,2123,2124,2127,2128,2129,2131,2132,2133,2136,2137,2138,2139,2140,2141,2144,2145,2146,2148,2149,2150,2153,2154,2155,2156,2157,2158,2161,2162,2163,2165,2166,2167,2170,2171,2172,2173,2174,2175,2178,2179,2180,2182,2183,2184,2187,2188,2189,2190,2191,2192,2195,2196,2197,2199,2200,2201,2204,2205,2206,2207,2208,2209,2212,2213,2214,2216,2217,2218,2221,2222,2223,2224,2225,2226,2229,2230,2231,2233,2234,2235,2238,2239,2240,2241,2242,2243,2246,2247,2248,2250,2251,2252,2255,2256,2257,2258,2259,2260,2263,2264,2265,2267,2268,2269,2272,2273,2274,2275,2276,2277,2280,2281,2282,2284,2285,2286,2289,2290,2291,2292,2293,2294,2297,2298,2299,2301,2302,2303,2306,2307,2308,2309,2310,2311,2314,2315,2316,2318,2319,2320,2323,2324,2325,2326,2327,2328,2331,2332,2333,2335,2336,2337,2340,2341,2342,2343,2344,2345,2348,2349,2350,2352,2353,2354,2357,2358,2359,2360,2361,2362,2365,2366,2367,2369,2370,2371,2374,2375,2376,2377,2378,2379,2382,2383,2384,2386,2387,2388,2391,2392,2393,2394,2395,2396,2399,2400,2401,2403,2404,2405,2408,2409,2410,2411,2412,2413,2416,2417,2418,2420,2421,2422,2425,2426,2427,2428,2429,2430,2433,2434,2435,2437,2438,2439,2442,2443,2444,2445,2446,2447,2450,2451,2452,2454,2455,2456,2459,2460,2461,2462,2463,2464,2467,2468,2469,2471,2472,2473,2476,2477,2478,2479,2480,2481,2484,2485,2486,2488,2489,2490,2491,2493,2494,2495,2496,2497,2498,2501,2502,2503,2505,2506,2507,2510,2511,2512,2513,2514,2515,2518,2519,2520,2522,2523,2524,2527,2528,2529,2530,2531,2532,2535,2536,2537,2539,2540,2541,2544,2545,2546,2547,2548,2549,2552,2553,2554,2556,2557,2558,2561,2562,2563,2564,2565,2566,2569,2570,2571,2573,2574,2575,2578,2579,2580,2581,2582,2583,2586,2587,2588,2590,2591,2592,2595,2596,2597,2598,2599,2600,2603,2604,2605,2607,2608,2609,2612,2613,2614,2615,2616,2617,2620,2621,2622,2624,2625,2626,2629,2630,2631,2632,2633,2634,2637,2638,2639,2641,2642,2643,2646,2647,2648,2649,2650,2651,2654,2655,2656,2658,2659,2660,2663,2664,2665,2666,2667,2668,2671,2672,2673,2675,2676,2677,2680,2681,2682,2683,2684,2685,2688,2689,2690,2692,2693,2694,2697,2698,2699,2700,2701,2702,2705,2706,2707,2709,2710,2711,2714,2715,2716,2717,2718,2719,2722,2723,2724,2726,2727,2728,2731,2732,2733,2734,2735,2736,2739,2740,2741,2743,2744,2745,2748,2749,2750,2751,2752,2753,2756,2757,2758,2760,2761,2762,2765,2766,2767,2768,2769,2770,2773,2774,2775,2777,2778,2779,2782,2783,2784,2785,2786,2787,2790,2791,2792,2794,2795,2796,2799,2800,2801,2802,2803,2804,2807,2808,2809,2811,2812,2813,2816,2817,2819,2820,2824,2825,2826,2828,2829,2830,2833,2834,2836,2837,2841,2842,2843,2845,2846,2847,2850,2851,2853,2854,2858,2859,2860,2862,2863,2864,2867,2868,2870,2871,2875,2876,2877,2879,2880,2881,2884,2885,2887,2888,2892,2893,2894,2896,2897,2898,2901,2902,2904,2905,2909,2910,2911,2913,2914,2915,2918,2919,2921,2922,2926,2927,2928,2930,2931,2932,2935,2936,2938,2939,2943,2944,2945,2947,2948,2949,2952,2953,2954,2955,2956,2960,2961,2962,2964,2965,2966,2969,2970,2972,2973,2977,2978,2979,2981,2982,2983,2986,2987,2988,2989,2990,2994,2995,2996,2998,2999,3000,3003,3004,3006,3007,3011,3012,3013,3017,3018,3019,3020) have mixed types. Specify dtype option on import or set low_memory=False.\n",
      "  interactivity=interactivity, compiler=compiler, result=result)\n"
     ]
    }
   ],
   "source": [
    "import pandas as pd\n",
    "from itertools import chain\n",
    "from sklearn.ensemble import RandomForestClassifier\n",
    "from sklearn.model_selection import train_test_split,GridSearchCV,cross_val_score,KFold,RandomizedSearchCV,StratifiedKFold\n",
    "from sklearn.preprocessing import LabelEncoder\n",
    "from xgboost import XGBClassifier\n",
    "from sklearn.metrics import accuracy_score,confusion_matrix\n",
    "from sklearn.linear_model import LogisticRegression\n",
    "import numpy as np\n",
    "import matplotlib.pyplot as plt\n",
    "import matplotlib.transforms\n",
    "from vecstack import stacking\n",
    "import seaborn as sns\n",
    "path = 'https://raw.githubusercontent.com/EmmS21/SpringboardCapstoneBoxingPredictionWebApp/master/boxingdata/visuals.csv'\n",
    "data = pd.read_csv(path)"
   ]
  },
  {
   "cell_type": "code",
   "execution_count": 2,
   "metadata": {},
   "outputs": [],
   "source": [
    "#convert to long so I have a row for each bout\n",
    "cols = ['secondBoxer'+str(i) for i in range(1, 85)]\n",
    "two = ['secondBoxerWeight'+str(i) for i in range(1,85)]\n",
    "three = ['secondBoxerLast6'+str(i) for i in range(1,85)]\n",
    "four = ['secondBoxerRating'+str(i) for i in range(1,85)]\n",
    "five = ['secondBoxerRecord'+str(i) for i in range(1,85)]\n",
    "six = ['metadata'+str(i) for i in range(1,85)]\n",
    "seven = ['numberofrounds'+str(i) for i in range(1,85)]\n",
    "eight = ['referee'+str(i) for i in range(1,85)]\n",
    "nine = ['JudgeID'+str(i) for i in range(1,85)]\n",
    "ten = ['firstBoxerWeight'+str(i) for i in range(1,85)]\n",
    "eleven = ['firstBoxerRating'+str(i) for i in range(1,85)]\n",
    "twelve = ['rating'+str(i) for i in range(1,85)]\n",
    "thirteen = ['titles'+str(i) for i in range(1,85)]\n",
    "fourteen = ['date'+str(i) for i in range(1,85)]\n",
    "fifteen = ['outcome'+str(i) for i in range(1,85)]\n",
    "# concated = pd.concat([pd.melt(data,id_vars=['name','global_id'],value_vars=cols,var_name='labels',value_name='opposition') for i in cols])\n",
    "concated = pd.melt(data,id_vars=['name','global_id','sex','division'], value_vars = cols,var_name='label',value_name='opposition')\n",
    "concated_two = pd.melt(data,id_vars=['name','global_id','sex','division'],value_vars=two,var_name='weightb_label',value_name='opp_weight').drop(columns=['global_id','name','sex','division'])\n",
    "concated_three = pd.melt(data,id_vars=['name','global_id','sex','division'],value_vars=three,var_name='last6_label',value_name='opp_last6').drop(columns=['global_id','name','sex','division'])\n",
    "concated_four = pd.melt(data,id_vars=['name','global_id','sex','division'],value_vars=four,var_name='rating_label',value_name='opp_rating').drop(columns=['global_id','name','sex','division'])\n",
    "concated_five = pd.melt(data,id_vars=['name','global_id','sex','division'],value_vars=five,var_name='record_label',value_name='opp_record').drop(columns=['global_id','name','sex','division'])\n",
    "concated_six = pd.melt(data,id_vars=['name','global_id','sex','division'],value_vars=six,var_name='meta_label',value_name='meta').drop(columns=['global_id','name','sex','division'])\n",
    "concated_seven = pd.melt(data,id_vars=['name','global_id','sex','division'],value_vars=seven,var_name='rounds_label',value_name='rounds').drop(columns=['global_id','name','sex','division'])\n",
    "concated_eight = pd.melt(data,id_vars=['name','global_id','sex','division'],value_vars=eight,var_name='ref_label',value_name='ref').drop(columns=['global_id','name','sex','division'])\n",
    "concated_nine = pd.melt(data,id_vars=['name','global_id','sex','division'],value_vars=nine,var_name='judge_label',value_name='judge').drop(columns=['global_id','name','sex','division'])\n",
    "concated_ten = pd.melt(data,id_vars=['name','global_id','sex','division'],value_vars=ten,var_name='weighta_label',value_name='weight').drop(columns=['global_id','name','sex','division'])\n",
    "concated_eleven = pd.melt(data,id_vars=['name','global_id','sex','division'],value_vars=eleven,var_name='boxerratinga_label',value_name='boxer_rating').drop(columns=['global_id','name','sex','division'])\n",
    "concated_twelve = pd.melt(data,id_vars=['name','global_id','sex','division'],value_vars=twelve,var_name='rate_label',value_name='rating').drop(columns=['global_id','name','sex','division'])\n",
    "concated_thirteen = pd.melt(data,id_vars=['name','global_id','sex','division'],value_vars=thirteen,var_name='title_label',value_name='titles').drop(columns=['global_id','name','sex','division'])\n",
    "concated_fourteen = pd.melt(data,id_vars=['name','global_id','sex','division'],value_vars=fourteen,var_name='date_label',value_name='date').drop(columns=['global_id','name','sex','division'])\n",
    "concated_fifteen = pd.melt(data,id_vars=['name','global_id','sex','division'],value_vars=fifteen,var_name='outcome_label',value_name='outcome').drop(columns=['global_id','name','sex','division'])\n",
    "#merge all \n",
    "fully_merged = pd.concat([concated,concated_two,concated_three,concated_four,concated_five,\n",
    "          concated_six,concated_seven,concated_eight,concated_nine,concated_ten,\n",
    "          concated_eleven,concated_twelve,concated_thirteen,concated_fourteen,concated_fifteen],axis=1,sort=False)\n",
    "fully_merged = fully_merged.set_index('name')\n",
    "# fully_merged.index = fully_merged['name']"
   ]
  },
  {
   "cell_type": "code",
   "execution_count": 3,
   "metadata": {},
   "outputs": [],
   "source": [
    "fully_merged = fully_merged.reset_index()\n",
    "fully_merged = fully_merged.drop(columns = ['weightb_label','last6_label','rating_label','record_label','meta_label',\n",
    "                            'rounds_label','ref_label','judge_label','weighta_label','boxerratinga_label',\n",
    "                            'rate_label','title_label','date_label','outcome_label','label'],axis=1)"
   ]
  },
  {
   "cell_type": "code",
   "execution_count": 4,
   "metadata": {},
   "outputs": [],
   "source": [
    "#reordering columns\n",
    "column_titles = ['name','weight','boxer_rating','sex','division','global_id','rating','date','outcome','opposition',\n",
    "                 'opp_last6','opp_rating','opp_record','opp_weight','judge','meta','rounds','ref','titles']\n",
    "fully_merged = fully_merged.reindex(columns=column_titles)"
   ]
  },
  {
   "cell_type": "code",
   "execution_count": 5,
   "metadata": {},
   "outputs": [],
   "source": [
    "#cleanup data\n",
    "fully_merged['outcome'] = fully_merged['outcome'].str.replace('\"','')\n",
    "fully_merged['opposition'] = fully_merged['opposition'].str.replace('\"','')\n",
    "fully_merged['weight'] = fully_merged['weight'].fillna(0).astype(int)\n",
    "#converting last 6 fights to points\n",
    "fully_merged['opp_last6'] = fully_merged.opp_last6.str.count('win')*10+fully_merged.opp_last6.str.count('draw')*5+fully_merged.opp_last6.str.count('loss')*-5"
   ]
  },
  {
   "cell_type": "code",
   "execution_count": 6,
   "metadata": {},
   "outputs": [],
   "source": [
    "#converting opp record to points\n",
    "fully_merged['opp_win'] = fully_merged['opp_record'].str.extract('win(?P<win>.*?)}').fillna(0)\n",
    "fully_merged['opp_loss'] = fully_merged['opp_record'].str.extract('loss(?P<loss>.*?)win').fillna(0)\n",
    "fully_merged['opp_draw'] = fully_merged['opp_record'].str.extract('draw\"(?P<draw>.*?)loss').fillna(0)\n",
    "fully_merged['opp_loss'] =  pd.to_numeric(fully_merged['opp_loss'],errors='coerce')\n",
    "fully_merged['opp_win'] = pd.to_numeric(fully_merged['opp_win'],errors='coerce')\n",
    "fully_merged['opp_draw'] = pd.to_numeric(fully_merged['opp_draw'],errors='coerce')\n",
    "fully_merged.drop(columns=['opp_record'],inplace=True)"
   ]
  },
  {
   "cell_type": "code",
   "execution_count": 7,
   "metadata": {},
   "outputs": [],
   "source": [
    "#droppin columns with non useful data\n",
    "fully_merged.drop(columns=['boxer_rating','opp_rating'],inplace=True)"
   ]
  },
  {
   "cell_type": "code",
   "execution_count": 8,
   "metadata": {},
   "outputs": [],
   "source": [
    "fully_merged['opp_weight'] = fully_merged['opp_weight'].astype(float)\n",
    "fully_merged['date'] = pd.to_datetime(fully_merged['date'])\n",
    "ref_points =fully_merged.judge.str.extractall(r'(\\b\\d+\\b)').unstack().reindex(fully_merged.index)      \n",
    "ref_points.columns = ref_points.columns.map('{0[0]}_{0[1]}'.format)\n",
    "fully_merged[['judge1boxer','judge1opp','judge2boxer','judge2opp','judge3boxer','judge3opp']] = ref_points[['0_0','0_1','0_2','0_3','0_4','0_5']]"
   ]
  },
  {
   "cell_type": "code",
   "execution_count": 9,
   "metadata": {},
   "outputs": [],
   "source": [
    "fully_merged[['judge1boxer','judge1opp','judge2boxer','judge2opp','judge3boxer','judge3opp']]=fully_merged[['judge1boxer','judge1opp','judge2boxer','judge2opp','judge3boxer','judge3opp']].fillna(0)"
   ]
  },
  {
   "cell_type": "code",
   "execution_count": 10,
   "metadata": {},
   "outputs": [],
   "source": [
    "fully_merged.drop(columns=['judge'],inplace=True)"
   ]
  },
  {
   "cell_type": "code",
   "execution_count": 11,
   "metadata": {},
   "outputs": [],
   "source": [
    "fully_merged['ref'] = fully_merged.ref.str.replace(r\"[\\\"\\',]\", '').str.replace('[','').str.replace(']','')\n",
    "fully_merged['final_outcome'] = fully_merged['ref']\n",
    "fully_merged.drop(columns=['ref'],inplace=True)"
   ]
  },
  {
   "cell_type": "code",
   "execution_count": 12,
   "metadata": {},
   "outputs": [],
   "source": [
    "#extract rounds\n",
    "rounds =fully_merged.rounds.str.extractall(r'(\\b\\d+\\b)').unstack().reindex(fully_merged.index)\n",
    "rounds.columns = rounds.columns.map('{0[0]}|{0[1]}'.format)\n",
    "fully_merged[['rounds1','rounds2']] = rounds[['0|0', '0|1']]\n",
    "fully_merged.drop(columns=['rounds'],inplace=True)"
   ]
  },
  {
   "cell_type": "code",
   "execution_count": 13,
   "metadata": {},
   "outputs": [],
   "source": [
    "#converting meta to time\n",
    "fully_merged['meta'] = fully_merged['meta'].str.replace(':','')\n",
    "fully_merged['meta'] = fully_merged['meta'].str[0].fillna(0).astype(int)*60 + fully_merged['meta'].str[1:4].fillna(0).astype(int)\n",
    "#cleaning up titles column\n",
    "fully_merged['titles'] = fully_merged['titles'].str.replace(r\"[\\:\\,\\[\\}\\]]\", '')\n",
    "#not sure how the information in titles is structured? so dropping column for now\n",
    "fully_merged.drop(columns=['titles'],inplace=True)"
   ]
  },
  {
   "cell_type": "code",
   "execution_count": 14,
   "metadata": {},
   "outputs": [],
   "source": [
    "fully_merged2 = fully_merged.drop(columns=['outcome','global_id','name'])"
   ]
  },
  {
   "cell_type": "code",
   "execution_count": 15,
   "metadata": {},
   "outputs": [],
   "source": [
    "X = fully_merged.drop(['final_outcome','name','sex','division','opposition','outcome','global_id'],axis=1)\n",
    "X.fillna(0,inplace=True)\n",
    "#need to encode strings as numeric features by using preprocessing module sklearn.preprocessing.LabelEncoder "
   ]
  },
  {
   "cell_type": "code",
   "execution_count": 16,
   "metadata": {},
   "outputs": [],
   "source": [
    "conditions = [(fully_merged['final_outcome'] == 'win KO knockout'),(fully_merged['final_outcome'] == 'draw MD majority decision'),\n",
    "             (fully_merged['final_outcome'] == 'win SD split decision'),(fully_merged['final_outcome'] == 'win TKO technical knockout'),\n",
    "              (fully_merged['final_outcome'] == 'win nan null'),(fully_merged['final_outcome'] == 'loss UD unanimous decision'),\n",
    "              (fully_merged['final_outcome'] == 'win UD unanimous decision'),(fully_merged['final_outcome'] == 'loss KO knockout'),\n",
    "              (fully_merged['final_outcome'] == 'loss TKO technical knockout'),(fully_merged['final_outcome'] == 'loss SD split decision'),\n",
    "              (fully_merged['final_outcome'] == 'loss nan null'),(fully_merged['final_outcome'] == 'win PTS null'),\n",
    "              (fully_merged['final_outcome'] == 'unknown nan null'),(fully_merged['final_outcome'] == 'loss RTD corner retirement'),\n",
    "              (fully_merged['final_outcome'] == 'loss MD majority decision'),(fully_merged['final_outcome'] == 'win KO knockout'),\n",
    "              (fully_merged['final_outcome'] == 'win KO knockout'),(fully_merged['final_outcome'] == 'win KO knockout'),\n",
    "              (fully_merged['final_outcome'] == 'win KO knockout'),(fully_merged['final_outcome'] == 'win KO knockout'),\n",
    "              (fully_merged['final_outcome'] == 'win KO knockout'),(fully_merged['final_outcome'] == 'win KO knockout'),\n",
    "              (fully_merged['final_outcome'] == 'win KO knockout'),(fully_merged['final_outcome'] == 'win KO knockout'),\n",
    "              (fully_merged['final_outcome'] == 'win KO knockout'),(fully_merged['final_outcome'] == 'win KO knockout'),\n",
    "              (fully_merged['final_outcome'] == 'win KO knockout'),(fully_merged['final_outcome'] == 'win KO knockout')\n",
    "             ]"
   ]
  },
  {
   "cell_type": "code",
   "execution_count": 17,
   "metadata": {},
   "outputs": [],
   "source": [
    "# create new outcomes column\n",
    "def cols_outcome(df,outcome_col):\n",
    "    df.loc[(df[outcome_col].str.contains('win KO') == True) | (df[outcome_col].str.contains('win TKO') == True), 'clean_outcome'] = 'Win KO'\n",
    "    df.loc[df[outcome_col].str.contains('draw') == True, 'clean_outcome'] = 'Draw'\n",
    "    df.loc[(df[outcome_col].str.contains('win nan') == True) | (df[outcome_col].str.contains('win DQ') == True) | (df[outcome_col].str.contains('win PTS') == True) | (fully_merged[outcome_col].str.contains('win DQ') == True) | (df[outcome_col].str.contains('win UD') == True) | (df[outcome_col].str.contains('win SD') == True) | (df[outcome_col].str.contains('win MD') == True) | (df[outcome_col].str.contains('win TD') == True) | (df[outcome_col].str.contains('win RTD') == True), 'clean_outcome'] = 'Win Other'\n",
    "    df.loc[(df[outcome_col].str.contains('loss KO') == True) | (df[outcome_col].str.contains('loss TKO')), 'clean_outcome'] = 'Loss KO'\n",
    "    df.loc[df[outcome_col].str.contains('scheduled') == True, 'clean_outcome'] = 'Scheduled'\n",
    "    df.loc[(df[outcome_col].str.contains('loss UD') == True) | (df[outcome_col].str.contains('loss SD') == True) | (df[outcome_col].str.contains('loss nan') == True) | (fully_merged[outcome_col].str.contains('loss RTD') == True) | (df[outcome_col].str.contains('loss MD') == True) | (df[outcome_col].str.contains('loss DQ') == True) | (df[outcome_col].str.contains('loss PTS') == True) | (df[outcome_col].str.contains('loss TD')), 'clean_outcome'] = 'Loss Other'\n",
    "    df.loc[df[outcome_col].str.contains('unknown') == True, 'clean_outcome'] = 'Unknown'\n",
    "    return df['clean_outcome']\n",
    "fully_merged['clean_outcome'] = cols_outcome(fully_merged,'final_outcome')"
   ]
  },
  {
   "cell_type": "code",
   "execution_count": 18,
   "metadata": {},
   "outputs": [],
   "source": [
    "fully_merged.drop(columns=['final_outcome','outcome'],inplace=True)"
   ]
  },
  {
   "cell_type": "code",
   "execution_count": 19,
   "metadata": {},
   "outputs": [],
   "source": [
    "dataset = fully_merged[(fully_merged['clean_outcome'].notna()) & (fully_merged['clean_outcome'] != 'Unknown') & (fully_merged['clean_outcome'] != 'Scheduled')]"
   ]
  },
  {
   "cell_type": "code",
   "execution_count": 20,
   "metadata": {
    "scrolled": true
   },
   "outputs": [
    {
     "name": "stderr",
     "output_type": "stream",
     "text": [
      "C:\\Users\\User\\Anaconda3\\lib\\site-packages\\ipykernel_launcher.py:33: FutureWarning: Sorting because non-concatenation axis is not aligned. A future version\n",
      "of pandas will change to not sort by default.\n",
      "\n",
      "To accept the future behavior, pass 'sort=False'.\n",
      "\n",
      "To retain the current behavior and silence the warning, pass 'sort=True'.\n",
      "\n"
     ]
    }
   ],
   "source": [
    "fully_merged['gender+division'] = fully_merged['sex'].astype(str) +' '+ fully_merged['division'].astype(str)\n",
    "dataset = fully_merged[(fully_merged['clean_outcome'].notna()) & (fully_merged['clean_outcome'] != 'Unknown') & (fully_merged['clean_outcome'] != 'Scheduled')]\n",
    "#get more data extracted from data scraping\n",
    "filler = pd.read_csv('C:\\\\Users\\\\User\\\\Documents\\\\player_matches.csv')\n",
    "filler = filler[(~filler['date'].str.contains('Council|googletag',na=False)) & (~filler['result'].str.contains('Title|tickets|scheduled',na=False))]\n",
    "filler['clean_outcome'] = filler['result']+ ' ' + filler['method']\n",
    "#rename fight outcomes\n",
    "filler['clean_outcome'] = cols_outcome(filler,'clean_outcome')\n",
    "filler.loc[(filler['clean_outcome']=='W UD')|(filler['clean_outcome']=='W SD')|(filler['clean_outcome']=='W MD')|(filler['clean_outcome']=='W PTS')|(filler['clean_outcome']=='W RTD')|(filler['clean_outcome']=='W DQ')|(filler['clean_outcome']=='W TD'), 'clean_outcome']='Win Other'\n",
    "filler.loc[(filler['clean_outcome']=='W KO')|(filler['clean_outcome']=='W TKO'), 'clean_outcome']='Win KO'\n",
    "filler.loc[(filler['clean_outcome']=='D MD')|(filler['clean_outcome']=='D SD')|(filler['clean_outcome']=='D TD')|(filler['clean_outcome']=='D PTS'), 'clean_outcome']='Draw'\n",
    "filler.loc[(filler['clean_outcome']=='L SD')|(filler['clean_outcome']=='L UD')|(filler['clean_outcome']=='L MD')|(filler['clean_outcome']=='L RTD')|(filler['clean_outcome']=='L PTS')|(filler['clean_outcome']=='L DQ')|(filler['clean_outcome']=='L TD'), 'clean_outcome'] = 'Loss Other'\n",
    "filler.loc[(filler['clean_outcome']=='L KO')|(filler['clean_outcome']=='L TKO'), 'clean_outcome'] = 'Loss KO'\n",
    "filler.loc[(filler['clean_outcome']=='N NC')|(filler['clean_outcome']=='N ND'), 'clean_outcome'] = 'Unknown'\n",
    "filler = filler.rename(columns={'Name':'name','opponent':'opposition'})     \n",
    "#drop columns I don't need\n",
    "filler.drop(columns=['w.l.d','Venue','method','result'],inplace=True)\n",
    "#limit to data where we have a boxer's name\n",
    "fully_m = fully_merged.dropna(subset=['name'])\n",
    "#limit to rows where we don't have data for a single fight a given boxer fought\n",
    "full = fully_m[fully_m['opposition'].isna().groupby(fully_m['name']).transform('all')]\n",
    "#merge to get data where data is missing (and exists in other dataset)\n",
    "full =full.merge(filler,on='name',how='left')\n",
    "full.drop(columns=['opposition_x','clean_outcome_x'],inplace=True)\n",
    "full.rename(columns={'opposition_y':'opposition','clean_outcome_y':'clean_outcome'},inplace=True)\n",
    "#drop duplicates\n",
    "full['duplicate_check'] = full['date_y']+full['opposition']+full['name']\n",
    "full.drop_duplicates('duplicate_check',keep='first',inplace=True)\n",
    "full.drop(columns='duplicate_check',inplace=True)\n",
    "full.drop(columns=['date_y'],inplace=True)\n",
    "full.rename(columns={'date_x':'date'},inplace=True)\n",
    "#merge with dataset\n",
    "dataset = pd.concat([dataset,full],axis=0)\n",
    "#added win percentages for each boxer\n",
    "ltd = dataset.groupby(['name','clean_outcome']).size().unstack(fill_value=0)\n",
    "ltd = ltd.reset_index()\n",
    "ltd['fight_count'] = ltd.sum(axis=1)\n",
    "ltd[['Draw','Loss KO','Loss Other','Unknown','Win KO','Win Other']]=ltd[['Draw','Loss KO','Loss Other','Unknown','Win KO','Win Other']].div(ltd.fight_count, axis=0)\n",
    "dataset = dataset.merge(ltd[['name','Draw','Loss KO','Loss Other','Win KO','Win Other','fight_count']],on='name')\n",
    "# #average judge score cards per fight\n",
    "dataset[['judge1boxer','judge2boxer','judge3boxer']] = dataset[['judge1boxer','judge2boxer','judge3boxer']].astype(int)\n",
    "dataset[['judge1opp','judge2opp','judge3opp']] = dataset[['judge1opp','judge2opp','judge3opp']].astype(int)\n",
    "n=dataset.groupby(by=['name'])['judge1boxer','judge2boxer','judge3boxer'].sum()\n",
    "n.rename(columns={'judge1boxer':'judge1avg','judge2boxer':'judge2avg','judge3boxer':'judge3avg'},inplace=True)\n",
    "m = dataset.groupby(by=['name'])['judge1opp','judge2opp','judge3opp'].sum()\n",
    "m.rename(columns={'judge1opp':'judge1againstavg','judge2opp':'judge2againstavg','judge3opp':'judge3againstavg'},inplace=True)\n",
    "dataset = dataset.merge(n,on='name').merge(m,on='name')\n",
    "dataset[['judge1avg','judge2avg','judge3avg','judge1againstavg','judge2againstavg','judge3againstavg']] = dataset[['judge1avg','judge2avg','judge3avg','judge1againstavg','judge2againstavg','judge3againstavg']].div(dataset.fight_count, axis=0)\n",
    "#average fight length\n",
    "dataset['meta'] = dataset.groupby(by=['name'])['meta'].mean()\n",
    "#added win percentage for each opponent\n",
    "dataset['opp_fight_count']= dataset['opposition'].map(dataset.drop_duplicates('name').set_index('name')['fight_count'])\n",
    "dataset['opp_lossKO']= dataset['opposition'].map(dataset.drop_duplicates('name').set_index('name')['Loss KO'])\n",
    "dataset['opp_lossOther']= dataset['opposition'].map(dataset.drop_duplicates('name').set_index('name')['Loss Other'])\n",
    "dataset['opp_winKO']= dataset['opposition'].map(dataset.drop_duplicates('name').set_index('name')['Win KO'])\n",
    "dataset['opp_winOther']= dataset['opposition'].map(dataset.drop_duplicates('name').set_index('name')['Win Other'])\n",
    "dataset['opp_judge1avg']= dataset['opposition'].map(dataset.drop_duplicates('name').set_index('name')['judge1avg'])\n",
    "dataset['opp_judge2avg']= dataset['opposition'].map(dataset.drop_duplicates('name').set_index('name')['judge2avg'])\n",
    "dataset['opp_judge3avg']= dataset['opposition'].map(dataset.drop_duplicates('name').set_index('name')['judge3avg'])\n",
    "#get average fight length for opposition\n",
    "dataset['opp_meta']=dataset['opposition'].map(dataset.drop_duplicates('name').set_index('name')['meta'])\n",
    "#categorical to numerical\n",
    "dataset.loc[(dataset['clean_outcome'] == 'Win KO'), 'clean_outcome'] = 1\n",
    "dataset.loc[(dataset['clean_outcome'] == 'Draw'), 'clean_outcome'] = 2\n",
    "dataset.loc[(dataset['clean_outcome'] == 'Win Other'), 'clean_outcome'] = 3\n",
    "dataset.loc[(dataset['clean_outcome'] == 'Loss Other'), 'clean_outcome'] = 4\n",
    "dataset.loc[(dataset['clean_outcome'] == 'Loss KO'), 'clean_outcome'] = 5"
   ]
  },
  {
   "cell_type": "code",
   "execution_count": 21,
   "metadata": {},
   "outputs": [],
   "source": [
    "#filter out unknown and nan\n",
    "dataset = dataset[dataset['clean_outcome'].notna()]\n",
    "dataset = dataset[dataset['clean_outcome'] != 'Unknown']\n",
    "# I want to stratify the test_train split by gender and division to ensure all are equally represented, starting off by concatenating gender & division\n",
    "strat = dataset['gender+division'] "
   ]
  },
  {
   "cell_type": "code",
   "execution_count": 22,
   "metadata": {},
   "outputs": [],
   "source": [
    "# X = dataset.drop(['clean_outcome','judge1opp','rating','judge2boxer','judge1boxer','judge2opp','judge3boxer','judge3opp','name','sex','division','opposition','gender+division','global_id','date','rounds1','rounds2'],axis=1) \n",
    "X = dataset[['Win KO','Loss Other','Win Other','Loss KO','opp_last6','opp_winOther','opp_winKO','opp_lossOther','opp_lossKO','opp_win','opp_loss','opp_judge1avg','opp_judge3avg','opp_judge2avg']]\n",
    "X = X.fillna(0)\n",
    "# X.loc[X['rating'] == 'null ', 'rating'] = 0\n",
    "y = dataset['clean_outcome']\n",
    "y = y.fillna(0)\n",
    "X_train, X_test, y_train, y_test = train_test_split(X, y, test_size=0.2, random_state=0, stratify=strat)"
   ]
  },
  {
   "cell_type": "code",
   "execution_count": 23,
   "metadata": {},
   "outputs": [],
   "source": [
    "# building the model, starting off by looking for the best parameters\n",
    "params = {\n",
    "    'n_estimators':[i for i in range(1,201,25)],\n",
    "    'max_depth':[i for i in range(1,10,2)]\n",
    "}\n",
    "n_estimators = [i for i in range(0,201,20)]\n",
    "rfc = RandomForestClassifier(class_weight='balanced')\n",
    "gridsearch = GridSearchCV(rfc,param_grid=params,cv=10,scoring='f1_weighted',n_jobs=4)\n",
    "gridsearch.fit(X_train,y_train)\n",
    "bestparams = gridsearch.best_params_"
   ]
  },
  {
   "cell_type": "code",
   "execution_count": 24,
   "metadata": {},
   "outputs": [],
   "source": [
    "rc = RandomForestClassifier(**bestparams)\n",
    "rc.fit(X_train,y_train)\n",
    "preds = rc.predict(X_test)"
   ]
  },
  {
   "cell_type": "code",
   "execution_count": 25,
   "metadata": {},
   "outputs": [
    {
     "data": {
      "text/plain": [
       "0.622341756317238"
      ]
     },
     "execution_count": 25,
     "metadata": {},
     "output_type": "execute_result"
    }
   ],
   "source": [
    "score = accuracy_score(y_test,preds)\n",
    "score"
   ]
  },
  {
   "cell_type": "code",
   "execution_count": 26,
   "metadata": {},
   "outputs": [
    {
     "data": {
      "text/plain": [
       "array([0.61688819, 0.61751368, 0.6247068 , 0.61229277, 0.62167657])"
      ]
     },
     "execution_count": 26,
     "metadata": {},
     "output_type": "execute_result"
    }
   ],
   "source": [
    "#kfold cross validation\n",
    "kfold = KFold(n_splits=5)\n",
    "results = cross_val_score(rc,X_train,y_train,cv=kfold)\n",
    "results"
   ]
  },
  {
   "cell_type": "code",
   "execution_count": 27,
   "metadata": {},
   "outputs": [
    {
     "data": {
      "text/plain": [
       "Text(0.5, 87.0, 'Predicted')"
      ]
     },
     "execution_count": 27,
     "metadata": {},
     "output_type": "execute_result"
    },
    {
     "data": {
      "image/png": "[encoded data removed]",
      "text/plain": [
       "<Figure size 864x864 with 2 Axes>"
      ]
     },
     "metadata": {
      "needs_background": "light"
     },
     "output_type": "display_data"
    }
   ],
   "source": [
    "labels = ['Win KO','Draw','Win Other','Loss Other','Loss KO']        \n",
    "c = confusion_matrix(y_test,preds)\n",
    "#normalize\n",
    "cm = c.astype('float')/c.sum(axis=1)[:, np.newaxis]\n",
    "fig,ax = plt.subplots(figsize=(12,12))\n",
    "ax = sns.heatmap(cm,annot=True, fmt= '.2f',xticklabels=labels,yticklabels=labels)\n",
    "#new matplotlib version cuts off part of first and last row, fixing this\n",
    "bottom, top = ax.get_ylim()\n",
    "ax.set_ylim(bottom + 0.5, top - 0.5)\n",
    "plt.ylabel('Actual')\n",
    "plt.xlabel('Predicted')"
   ]
  },
  {
   "cell_type": "code",
   "execution_count": 621,
   "metadata": {},
   "outputs": [
    {
     "data": {
      "text/plain": [
       "([<matplotlib.axis.YTick at 0x194a9dc96c8>,\n",
       "  <matplotlib.axis.YTick at 0x1947dff9d48>,\n",
       "  <matplotlib.axis.YTick at 0x194a9dcfb08>,\n",
       "  <matplotlib.axis.YTick at 0x194a9ded108>,\n",
       "  <matplotlib.axis.YTick at 0x194a9def248>,\n",
       "  <matplotlib.axis.YTick at 0x194a9def808>,\n",
       "  <matplotlib.axis.YTick at 0x194a9df1c48>,\n",
       "  <matplotlib.axis.YTick at 0x194a9df2d48>,\n",
       "  <matplotlib.axis.YTick at 0x194a9df20c8>,\n",
       "  <matplotlib.axis.YTick at 0x194a9df4448>,\n",
       "  <matplotlib.axis.YTick at 0x194a9df66c8>,\n",
       "  <matplotlib.axis.YTick at 0x194a9df6308>,\n",
       "  <matplotlib.axis.YTick at 0x194a9df87c8>,\n",
       "  <matplotlib.axis.YTick at 0x194a9df43c8>,\n",
       "  <matplotlib.axis.YTick at 0x194a9def088>,\n",
       "  <matplotlib.axis.YTick at 0x194a9dfb488>,\n",
       "  <matplotlib.axis.YTick at 0x194a9dfbfc8>,\n",
       "  <matplotlib.axis.YTick at 0x194a9dfdd48>,\n",
       "  <matplotlib.axis.YTick at 0x194a9dff948>,\n",
       "  <matplotlib.axis.YTick at 0x194a9e01408>,\n",
       "  <matplotlib.axis.YTick at 0x194a9e03248>,\n",
       "  <matplotlib.axis.YTick at 0x194a9e03d48>,\n",
       "  <matplotlib.axis.YTick at 0x194a9e055c8>,\n",
       "  <matplotlib.axis.YTick at 0x194a9e05ac8>,\n",
       "  <matplotlib.axis.YTick at 0x194a9defc88>,\n",
       "  <matplotlib.axis.YTick at 0x194a9e07108>,\n",
       "  <matplotlib.axis.YTick at 0x194a9e09348>,\n",
       "  <matplotlib.axis.YTick at 0x194a9e0b9c8>],\n",
       " <a list of 28 Text yticklabel objects>)"
      ]
     },
     "execution_count": 621,
     "metadata": {},
     "output_type": "execute_result"
    },
    {
     "data": {
      "image/png": "[encoded data removed]",
      "text/plain": [
       "<Figure size 432x288 with 1 Axes>"
      ]
     },
     "metadata": {
      "needs_background": "light"
     },
     "output_type": "display_data"
    }
   ],
   "source": [
    "#feature importance\n",
    "important = rc.feature_importances_\n",
    "indice = np.argsort(important)\n",
    "plt.title('Feature Importance')\n",
    "plt.barh(range(len(indice)),important[indice],color='b',align='center')\n",
    "plt.yticks(range(len(indice)), [X.columns[i] for i in indice])\n"
   ]
  },
  {
   "cell_type": "code",
   "execution_count": 28,
   "metadata": {},
   "outputs": [],
   "source": [
    "#testing XGBoost\n",
    "# X = dataset.drop(['clean_outcome','judge1opp','rating','judge2boxer','judge1boxer','judge2opp','judge3boxer','judge3opp','name','sex','division','opposition','gender+division','global_id','date','rounds1','rounds2'],axis=1) \n",
    "X = dataset[['Win KO','opp_lossKO','opp_last6','Draw','Loss Other','opp_winOther','opp_winKO','Win Other','opp_lossOther','Loss KO','opp_judge3avg']]\n",
    "# X = dataset.drop(['clean_outcome','rating','judge1opp','judge2boxer','judge1boxer','judge2opp','judge3boxer','judge3opp','name','sex','division','opposition','gender+division','global_id','date','rounds1','rounds2'],axis=1) \n",
    "X = X.fillna(0)\n",
    "y = dataset['clean_outcome']\n",
    "y = y.fillna(0)\n",
    "X_train, X_test, y_train, y_test = train_test_split(X, y, test_size=0.2, random_state=0, stratify=strat)"
   ]
  },
  {
   "cell_type": "code",
   "execution_count": 33,
   "metadata": {},
   "outputs": [],
   "source": [
    "#best params\n",
    "xgb = XGBClassifier()\n",
    "params = {'min_child_weight':[5,15],\n",
    "          'subsample':[0.6,0.8,1.0],\n",
    "          'gamma':[1,5,10,15],\n",
    "          'learning_rate': [0.01,0.05,0.1],\n",
    "          'colsample_bytree':[0.6,0.8,1.0],\n",
    "          'max_depth':[2,3,5,10],\n",
    "          'n-estimaors': range(50,1000,50)\n",
    "    }\n",
    "random_search = RandomizedSearchCV(xgb,params,cv=5,n_iter=5,scoring='f1_weighted',random_state=100)\n",
    "random_search.fit(X_train,y_train)\n",
    "xgbest_params = random_search.best_estimator_"
   ]
  },
  {
   "cell_type": "code",
   "execution_count": 34,
   "metadata": {},
   "outputs": [],
   "source": [
    "xgb = XGBClassifier(**bestparams)\n",
    "xgb.fit(X_train,y_train)\n",
    "preds = xgb.predict(X_test)"
   ]
  },
  {
   "cell_type": "code",
   "execution_count": 35,
   "metadata": {},
   "outputs": [
    {
     "data": {
      "text/plain": [
       "0.618714035526645"
      ]
     },
     "execution_count": 35,
     "metadata": {},
     "output_type": "execute_result"
    }
   ],
   "source": [
    "score = accuracy_score(y_test,preds)\n",
    "score"
   ]
  },
  {
   "cell_type": "code",
   "execution_count": 639,
   "metadata": {},
   "outputs": [
    {
     "data": {
      "text/plain": [
       "array([0.61032056, 0.60703675, 0.61594996, 0.60791367, 0.611198  ])"
      ]
     },
     "execution_count": 639,
     "metadata": {},
     "output_type": "execute_result"
    }
   ],
   "source": [
    "#kfold cross validation\n",
    "kfold = KFold(n_splits=5)\n",
    "results = cross_val_score(xgb,X_train,y_train,cv=kfold)\n",
    "results"
   ]
  },
  {
   "cell_type": "code",
   "execution_count": 36,
   "metadata": {},
   "outputs": [
    {
     "data": {
      "text/plain": [
       "{'Win KO': 5.30120006751548,\n",
       " 'opp_lossKO': 2.1435065721428486,\n",
       " 'opp_last6': 3.187252996397541,\n",
       " 'Loss Other': 5.778963905183617,\n",
       " 'Draw': 3.11200078240336,\n",
       " 'opp_winKO': 2.644641004462505,\n",
       " 'Win Other': 4.5012022656645305,\n",
       " 'opp_judge3avg': 1.627214949033663,\n",
       " 'opp_winOther': 2.888688479945661,\n",
       " 'Loss KO': 6.2761997222284105,\n",
       " 'opp_lossOther': 2.1597706097154252}"
      ]
     },
     "execution_count": 36,
     "metadata": {},
     "output_type": "execute_result"
    }
   ],
   "source": [
    "#get feature importance\n",
    "xgb.get_booster().get_score(importance_type=\"gain\")"
   ]
  },
  {
   "cell_type": "code",
   "execution_count": 37,
   "metadata": {},
   "outputs": [
    {
     "data": {
      "text/plain": [
       "Text(0.5, 87.0, 'Predicted')"
      ]
     },
     "execution_count": 37,
     "metadata": {},
     "output_type": "execute_result"
    },
    {
     "data": {
      "image/png": "[encoded data removed]",
      "text/plain": [
       "<Figure size 864x864 with 2 Axes>"
      ]
     },
     "metadata": {
      "needs_background": "light"
     },
     "output_type": "display_data"
    }
   ],
   "source": [
    "labels = ['Win KO','Draw','Win Other','Loss Other','Loss KO']        \n",
    "c = confusion_matrix(y_test,preds)\n",
    "#normalize\n",
    "cm = c.astype('float')/c.sum(axis=1)[:, np.newaxis]\n",
    "fig,ax = plt.subplots(figsize=(12,12))\n",
    "ax = sns.heatmap(cm,annot=True, fmt= '.2f',xticklabels=labels,yticklabels=labels)\n",
    "#new matplotlib version cuts off part of first and last row, fixing this\n",
    "bottom, top = ax.get_ylim()\n",
    "ax.set_ylim(bottom + 0.5, top - 0.5)\n",
    "plt.ylabel('Actual')\n",
    "plt.xlabel('Predicted')"
   ]
  },
  {
   "cell_type": "code",
   "execution_count": 45,
   "metadata": {},
   "outputs": [],
   "source": [
    "#stacking XGBoost and RandomForest then running it past logistic regression\n",
    "X = dataset[['Win KO','opp_win','opp_judge1avg','opp_judge2avg','opp_loss','opp_lossKO','opp_last6','Draw','Loss Other','opp_winOther','opp_winKO','Win Other','opp_lossOther','Loss KO','opp_judge3avg']]\n",
    "X = X.fillna(0)\n",
    "X_train, X_test, y_train, y_test = train_test_split(X, y, test_size=0.2, random_state=0, stratify=strat)\n",
    "models = [\n",
    "    RandomForestClassifier(**bestparams),\n",
    "    XGBClassifier(**bestparams)\n",
    "]\n",
    "S_train,S_test = stacking(models,X_train,\n",
    "                          y_train,X_test,\n",
    "                          regression=False,mode='oof_pred_bag',\n",
    "                          needs_proba=True,metric=accuracy_score\n",
    "                         )"
   ]
  },
  {
   "cell_type": "code",
   "execution_count": 46,
   "metadata": {},
   "outputs": [
    {
     "name": "stderr",
     "output_type": "stream",
     "text": [
      "C:\\Users\\User\\Anaconda3\\lib\\site-packages\\sklearn\\linear_model\\logistic.py:432: FutureWarning: Default solver will be changed to 'lbfgs' in 0.22. Specify a solver to silence this warning.\n",
      "  FutureWarning)\n",
      "C:\\Users\\User\\Anaconda3\\lib\\site-packages\\sklearn\\linear_model\\logistic.py:469: FutureWarning: Default multi_class will be changed to 'auto' in 0.22. Specify the multi_class option to silence this warning.\n",
      "  \"this warning.\", FutureWarning)\n"
     ]
    }
   ],
   "source": [
    "model = LogisticRegression()\n",
    "model = model.fit(S_train,y_train)\n",
    "y_pred = model.predict(S_test)"
   ]
  },
  {
   "cell_type": "code",
   "execution_count": 47,
   "metadata": {},
   "outputs": [
    {
     "name": "stdout",
     "output_type": "stream",
     "text": [
      "Final prediction score: [0.63310]\n"
     ]
    }
   ],
   "source": [
    "print('Final prediction score: [%.5f]' %accuracy_score(y_test,y_pred))"
   ]
  },
  {
   "cell_type": "code",
   "execution_count": 41,
   "metadata": {
    "scrolled": true
   },
   "outputs": [
    {
     "data": {
      "text/plain": [
       "Text(0.5, 69.0, 'Predicted')"
      ]
     },
     "execution_count": 41,
     "metadata": {},
     "output_type": "execute_result"
    },
    {
     "data": {
      "image/png": "[encoded data removed]",
      "text/plain": [
       "<Figure size 720x720 with 2 Axes>"
      ]
     },
     "metadata": {
      "needs_background": "light"
     },
     "output_type": "display_data"
    }
   ],
   "source": [
    "labels = ['Win KO','Draw','Win Other','Loss Other','Loss KO']        \n",
    "c = confusion_matrix(y_test,y_pred)\n",
    "#normalize\n",
    "cm = c.astype('float')/c.sum(axis=1)[:, np.newaxis]\n",
    "fig,ax = plt.subplots(figsize=(10,10))\n",
    "ax = sns.heatmap(cm,annot=True, fmt= '.2f',xticklabels=labels,yticklabels=labels)\n",
    "#new matplotlib version cuts off part of first and last row, fixing this\n",
    "bottom, top = ax.get_ylim()\n",
    "ax.set_ylim(bottom + 0.5, top - 0.5)\n",
    "plt.ylabel('Actual')\n",
    "plt.xlabel('Predicted')"
   ]
  }
 ],
 "metadata": {
  "kernelspec": {
   "display_name": "Python 3",
   "language": "python",
   "name": "python3"
  },
  "language_info": {
   "codemirror_mode": {
    "name": "ipython",
    "version": 3
   },
   "file_extension": ".py",
   "mimetype": "text/x-python",
   "name": "python",
   "nbconvert_exporter": "python",
   "pygments_lexer": "ipython3",
   "version": "3.7.4"
  }
 },
 "nbformat": 4,
 "nbformat_minor": 2
}
