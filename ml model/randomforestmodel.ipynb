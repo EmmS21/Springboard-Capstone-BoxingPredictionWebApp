{
 "cells": [
  {
   "cell_type": "code",
   "execution_count": 1,
   "metadata": {},
   "outputs": [
    {
     "name": "stderr",
     "output_type": "stream",
     "text": [
      "C:\\Users\\User\\Anaconda3\\lib\\site-packages\\IPython\\core\\interactiveshell.py:3058: DtypeWarning: Columns (697,700,717,734,751,759,760,762,763,764,765,766,767,768,769,770,771,772,773,775,776,777,779,780,781,782,783,784,785,786,787,788,789,790,792,793,794,796,797,798,799,800,801,802,803,804,805,806,807,809,810,811,813,814,815,816,817,818,819,820,821,822,823,824,826,827,828,830,831,832,833,834,835,836,837,838,839,840,841,843,844,845,847,848,849,850,851,852,853,854,855,856,857,858,860,861,862,864,865,866,867,868,869,870,871,872,873,874,875,877,878,879,881,882,883,884,885,886,887,888,889,890,891,892,894,895,896,898,899,900,901,902,903,904,905,906,907,908,909,911,912,913,915,916,917,918,919,920,921,922,923,924,925,926,928,929,930,932,933,934,935,936,937,938,939,940,941,942,943,945,946,947,949,950,951,952,953,954,955,956,957,958,959,960,962,963,964,966,967,968,969,970,971,972,973,974,975,976,977,979,980,981,983,984,985,986,987,988,989,990,991,992,993,994,996,997,998,1000,1001,1002,1003,1004,1005,1006,1007,1008,1009,1010,1011,1013,1014,1015,1017,1018,1019,1020,1021,1022,1023,1024,1025,1026,1027,1028,1030,1031,1032,1034,1035,1036,1037,1038,1039,1040,1041,1042,1043,1044,1045,1047,1048,1049,1051,1052,1053,1054,1055,1056,1057,1058,1059,1060,1061,1062,1064,1065,1066,1068,1069,1070,1071,1072,1073,1075,1076,1077,1078,1079,1081,1082,1083,1085,1086,1087,1089,1090,1092,1093,1094,1095,1096,1098,1099,1100,1102,1103,1104,1106,1107,1109,1110,1111,1112,1113,1115,1116,1117,1119,1120,1121,1123,1124,1126,1127,1128,1129,1130,1132,1133,1134,1136,1137,1138,1140,1141,1143,1144,1145,1146,1147,1149,1150,1151,1153,1154,1155,1156,1157,1158,1160,1161,1162,1163,1164,1166,1167,1168,1170,1171,1172,1174,1175,1177,1178,1179,1180,1181,1183,1184,1185,1187,1188,1189,1190,1191,1192,1194,1195,1196,1197,1198,1200,1201,1202,1204,1205,1206,1207,1208,1209,1211,1212,1213,1214,1215,1217,1218,1219,1221,1222,1223,1225,1226,1228,1229,1230,1231,1232,1234,1235,1236,1238,1239,1240,1241,1242,1243,1245,1246,1247,1248,1249,1251,1252,1253,1255,1256,1257,1258,1259,1260,1262,1263,1264,1265,1266,1268,1269,1270,1272,1273,1274,1276,1277,1279,1280,1281,1282,1283,1285,1286,1287,1289,1290,1291,1293,1294,1296,1297,1298,1299,1300,1302) have mixed types. Specify dtype option on import or set low_memory=False.\n",
      "  interactivity=interactivity, compiler=compiler, result=result)\n"
     ]
    }
   ],
   "source": [
    "import pandas as pd\n",
    "from itertools import chain\n",
    "from sklearn.ensemble import RandomForestClassifier\n",
    "from sklearn.model_selection import train_test_split,GridSearchCV,cross_val_score,KFold,RandomizedSearchCV,StratifiedKFold\n",
    "from sklearn.preprocessing import LabelEncoder\n",
    "from xgboost import XGBClassifier\n",
    "from sklearn.metrics import accuracy_score,confusion_matrix\n",
    "from sklearn.linear_model import LogisticRegression\n",
    "import numpy as np\n",
    "import matplotlib.pyplot as plt\n",
    "import matplotlib.transforms\n",
    "from vecstack import stacking\n",
    "import seaborn as sns\n",
    "path = 'https://raw.githubusercontent.com/EmmS21/SpringboardCapstoneBoxingPredictionWebApp/master/boxingdata/visuals.csv'\n",
    "data = pd.read_csv(path)"
   ]
  },
  {
   "cell_type": "code",
   "execution_count": 2,
   "metadata": {},
   "outputs": [],
   "source": [
    "#convert to long so I have a row for each bout\n",
    "cols = ['secondBoxer'+str(i) for i in range(1, 85)]\n",
    "two = ['secondBoxerWeight'+str(i) for i in range(1,85)]\n",
    "three = ['secondBoxerLast6'+str(i) for i in range(1,85)]\n",
    "four = ['secondBoxerRating'+str(i) for i in range(1,85)]\n",
    "five = ['secondBoxerRecord'+str(i) for i in range(1,85)]\n",
    "six = ['metadata'+str(i) for i in range(1,85)]\n",
    "seven = ['numberofrounds'+str(i) for i in range(1,85)]\n",
    "eight = ['referee'+str(i) for i in range(1,85)]\n",
    "nine = ['JudgeID'+str(i) for i in range(1,85)]\n",
    "ten = ['firstBoxerWeight'+str(i) for i in range(1,85)]\n",
    "eleven = ['firstBoxerRating'+str(i) for i in range(1,85)]\n",
    "twelve = ['rating'+str(i) for i in range(1,85)]\n",
    "thirteen = ['titles'+str(i) for i in range(1,85)]\n",
    "fourteen = ['date'+str(i) for i in range(1,85)]\n",
    "fifteen = ['outcome'+str(i) for i in range(1,85)]\n",
    "# concated = pd.concat([pd.melt(data,id_vars=['name','global_id'],value_vars=cols,var_name='labels',value_name='opposition') for i in cols])\n",
    "concated = pd.melt(data,id_vars=['name','global_id','sex','division'], value_vars = cols,var_name='label',value_name='opposition')\n",
    "concated_two = pd.melt(data,id_vars=['name','global_id','sex','division'],value_vars=two,var_name='weightb_label',value_name='opp_weight').drop(columns=['global_id','name','sex','division'])\n",
    "concated_three = pd.melt(data,id_vars=['name','global_id','sex','division'],value_vars=three,var_name='last6_label',value_name='opp_last6').drop(columns=['global_id','name','sex','division'])\n",
    "concated_four = pd.melt(data,id_vars=['name','global_id','sex','division'],value_vars=four,var_name='rating_label',value_name='opp_rating').drop(columns=['global_id','name','sex','division'])\n",
    "concated_five = pd.melt(data,id_vars=['name','global_id','sex','division'],value_vars=five,var_name='record_label',value_name='opp_record').drop(columns=['global_id','name','sex','division'])\n",
    "concated_six = pd.melt(data,id_vars=['name','global_id','sex','division'],value_vars=six,var_name='meta_label',value_name='meta').drop(columns=['global_id','name','sex','division'])\n",
    "concated_seven = pd.melt(data,id_vars=['name','global_id','sex','division'],value_vars=seven,var_name='rounds_label',value_name='rounds').drop(columns=['global_id','name','sex','division'])\n",
    "concated_eight = pd.melt(data,id_vars=['name','global_id','sex','division'],value_vars=eight,var_name='ref_label',value_name='ref').drop(columns=['global_id','name','sex','division'])\n",
    "concated_nine = pd.melt(data,id_vars=['name','global_id','sex','division'],value_vars=nine,var_name='judge_label',value_name='judge').drop(columns=['global_id','name','sex','division'])\n",
    "concated_ten = pd.melt(data,id_vars=['name','global_id','sex','division'],value_vars=ten,var_name='weighta_label',value_name='weight').drop(columns=['global_id','name','sex','division'])\n",
    "concated_eleven = pd.melt(data,id_vars=['name','global_id','sex','division'],value_vars=eleven,var_name='boxerratinga_label',value_name='boxer_rating').drop(columns=['global_id','name','sex','division'])\n",
    "concated_twelve = pd.melt(data,id_vars=['name','global_id','sex','division'],value_vars=twelve,var_name='rate_label',value_name='rating').drop(columns=['global_id','name','sex','division'])\n",
    "concated_thirteen = pd.melt(data,id_vars=['name','global_id','sex','division'],value_vars=thirteen,var_name='title_label',value_name='titles').drop(columns=['global_id','name','sex','division'])\n",
    "concated_fourteen = pd.melt(data,id_vars=['name','global_id','sex','division'],value_vars=fourteen,var_name='date_label',value_name='date').drop(columns=['global_id','name','sex','division'])\n",
    "concated_fifteen = pd.melt(data,id_vars=['name','global_id','sex','division'],value_vars=fifteen,var_name='outcome_label',value_name='outcome').drop(columns=['global_id','name','sex','division'])\n",
    "#merge all \n",
    "fully_merged = pd.concat([concated,concated_two,concated_three,concated_four,concated_five,\n",
    "          concated_six,concated_seven,concated_eight,concated_nine,concated_ten,\n",
    "          concated_eleven,concated_twelve,concated_thirteen,concated_fourteen,concated_fifteen],axis=1,sort=False)\n",
    "fully_merged = fully_merged.set_index('name')\n",
    "# fully_merged.index = fully_merged['name']"
   ]
  },
  {
   "cell_type": "code",
   "execution_count": 3,
   "metadata": {},
   "outputs": [],
   "source": [
    "fully_merged = fully_merged.reset_index()\n",
    "fully_merged = fully_merged.drop(columns = ['weightb_label','last6_label','rating_label','record_label','meta_label',\n",
    "                            'rounds_label','ref_label','judge_label','weighta_label','boxerratinga_label',\n",
    "                            'rate_label','title_label','date_label','outcome_label','label'],axis=1)"
   ]
  },
  {
   "cell_type": "code",
   "execution_count": 4,
   "metadata": {},
   "outputs": [],
   "source": [
    "#reordering columns\n",
    "column_titles = ['name','weight','boxer_rating','sex','division','global_id','rating','date','outcome','opposition',\n",
    "                 'opp_last6','opp_rating','opp_record','opp_weight','judge','meta','rounds','ref','titles']\n",
    "fully_merged = fully_merged.reindex(columns=column_titles)"
   ]
  },
  {
   "cell_type": "code",
   "execution_count": 5,
   "metadata": {},
   "outputs": [],
   "source": [
    "#cleanup data\n",
    "fully_merged['outcome'] = fully_merged['outcome'].str.replace('\"','')\n",
    "fully_merged['opposition'] = fully_merged['opposition'].str.replace('\"','')\n",
    "fully_merged['weight'] = fully_merged['weight'].fillna(0).astype(int)\n",
    "#converting last 6 fights to points\n",
    "fully_merged['opp_last6'] = fully_merged.opp_last6.str.count('win')*10+fully_merged.opp_last6.str.count('draw')*5+fully_merged.opp_last6.str.count('loss')*-5"
   ]
  },
  {
   "cell_type": "code",
   "execution_count": 6,
   "metadata": {},
   "outputs": [],
   "source": [
    "#converting opp record to points\n",
    "fully_merged['opp_win'] = fully_merged['opp_record'].str.extract('win(?P<win>.*?)}').fillna(0)\n",
    "fully_merged['opp_loss'] = fully_merged['opp_record'].str.extract('loss(?P<loss>.*?)win').fillna(0)\n",
    "fully_merged['opp_draw'] = fully_merged['opp_record'].str.extract('draw\"(?P<draw>.*?)loss').fillna(0)\n",
    "fully_merged['opp_loss'] =  pd.to_numeric(fully_merged['opp_loss'],errors='coerce')\n",
    "fully_merged['opp_win'] = pd.to_numeric(fully_merged['opp_win'],errors='coerce')\n",
    "fully_merged['opp_draw'] = pd.to_numeric(fully_merged['opp_draw'],errors='coerce')\n",
    "fully_merged.drop(columns=['opp_record'],inplace=True)"
   ]
  },
  {
   "cell_type": "code",
   "execution_count": 7,
   "metadata": {},
   "outputs": [],
   "source": [
    "#droppin columns with non useful data\n",
    "fully_merged.drop(columns=['boxer_rating','opp_rating'],inplace=True)"
   ]
  },
  {
   "cell_type": "code",
   "execution_count": 8,
   "metadata": {},
   "outputs": [],
   "source": [
    "fully_merged['opp_weight'] = fully_merged['opp_weight'].astype(float)\n",
    "fully_merged['date'] = pd.to_datetime(fully_merged['date'])\n",
    "ref_points =fully_merged.judge.str.extractall(r'(\\b\\d+\\b)').unstack().reindex(fully_merged.index)      \n",
    "ref_points.columns = ref_points.columns.map('{0[0]}_{0[1]}'.format)\n",
    "fully_merged[['judge1boxer','judge1opp','judge2boxer','judge2opp','judge3boxer','judge3opp']] = ref_points[['0_0','0_1','0_2','0_3','0_4','0_5']]"
   ]
  },
  {
   "cell_type": "code",
   "execution_count": 9,
   "metadata": {},
   "outputs": [],
   "source": [
    "fully_merged[['judge1boxer','judge1opp','judge2boxer','judge2opp','judge3boxer','judge3opp']]=fully_merged[['judge1boxer','judge1opp','judge2boxer','judge2opp','judge3boxer','judge3opp']].fillna(0)"
   ]
  },
  {
   "cell_type": "code",
   "execution_count": 10,
   "metadata": {},
   "outputs": [],
   "source": [
    "fully_merged.drop(columns=['judge'],inplace=True)"
   ]
  },
  {
   "cell_type": "code",
   "execution_count": 11,
   "metadata": {},
   "outputs": [],
   "source": [
    "fully_merged['ref'] = fully_merged.ref.str.replace(r\"[\\\"\\',]\", '').str.replace('[','').str.replace(']','')\n",
    "fully_merged['final_outcome'] = fully_merged['ref']\n",
    "fully_merged.drop(columns=['ref'],inplace=True)"
   ]
  },
  {
   "cell_type": "code",
   "execution_count": 12,
   "metadata": {},
   "outputs": [],
   "source": [
    "#extract rounds\n",
    "rounds =fully_merged.rounds.str.extractall(r'(\\b\\d+\\b)').unstack().reindex(fully_merged.index)\n",
    "rounds.columns = rounds.columns.map('{0[0]}|{0[1]}'.format)\n",
    "fully_merged[['rounds1','rounds2']] = rounds[['0|0', '0|1']]\n",
    "fully_merged.drop(columns=['rounds'],inplace=True)"
   ]
  },
  {
   "cell_type": "code",
   "execution_count": 13,
   "metadata": {},
   "outputs": [],
   "source": [
    "#converting meta to time\n",
    "fully_merged['meta'] = fully_merged['meta'].str.replace(':','')\n",
    "fully_merged['meta'] = fully_merged['meta'].str[0].fillna(0).astype(int)*60 + fully_merged['meta'].str[1:4].fillna(0).astype(int)\n",
    "#cleaning up titles column\n",
    "fully_merged['titles'] = fully_merged['titles'].str.replace(r\"[\\:\\,\\[\\}\\]]\", '')\n",
    "#not sure how the information in titles is structured? so dropping column for now\n",
    "fully_merged.drop(columns=['titles'],inplace=True)"
   ]
  },
  {
   "cell_type": "code",
   "execution_count": 14,
   "metadata": {},
   "outputs": [],
   "source": [
    "conditions = [(fully_merged['final_outcome'] == 'win KO knockout'),(fully_merged['final_outcome'] == 'draw MD majority decision'),\n",
    "             (fully_merged['final_outcome'] == 'win SD split decision'),(fully_merged['final_outcome'] == 'win TKO technical knockout'),\n",
    "              (fully_merged['final_outcome'] == 'win nan null'),(fully_merged['final_outcome'] == 'loss UD unanimous decision'),\n",
    "              (fully_merged['final_outcome'] == 'win UD unanimous decision'),(fully_merged['final_outcome'] == 'loss KO knockout'),\n",
    "              (fully_merged['final_outcome'] == 'loss TKO technical knockout'),(fully_merged['final_outcome'] == 'loss SD split decision'),\n",
    "              (fully_merged['final_outcome'] == 'loss nan null'),(fully_merged['final_outcome'] == 'win PTS null'),\n",
    "              (fully_merged['final_outcome'] == 'unknown nan null'),(fully_merged['final_outcome'] == 'loss RTD corner retirement'),\n",
    "              (fully_merged['final_outcome'] == 'loss MD majority decision'),(fully_merged['final_outcome'] == 'win KO knockout'),\n",
    "              (fully_merged['final_outcome'] == 'win KO knockout'),(fully_merged['final_outcome'] == 'win KO knockout'),\n",
    "              (fully_merged['final_outcome'] == 'win KO knockout'),(fully_merged['final_outcome'] == 'win KO knockout'),\n",
    "              (fully_merged['final_outcome'] == 'win KO knockout'),(fully_merged['final_outcome'] == 'win KO knockout'),\n",
    "              (fully_merged['final_outcome'] == 'win KO knockout'),(fully_merged['final_outcome'] == 'win KO knockout'),\n",
    "              (fully_merged['final_outcome'] == 'win KO knockout'),(fully_merged['final_outcome'] == 'win KO knockout'),\n",
    "              (fully_merged['final_outcome'] == 'win KO knockout'),(fully_merged['final_outcome'] == 'win KO knockout')\n",
    "             ]"
   ]
  },
  {
   "cell_type": "code",
   "execution_count": 15,
   "metadata": {},
   "outputs": [],
   "source": [
    "# create new outcomes column\n",
    "def cols_outcome(df,outcome_col):\n",
    "    df.loc[(df[outcome_col].str.contains('win KO') == True) | (df[outcome_col].str.contains('win TKO') == True), 'clean_outcome'] = 'Win KO'\n",
    "    df.loc[df[outcome_col].str.contains('draw') == True, 'clean_outcome'] = 'Draw'\n",
    "    df.loc[(df[outcome_col].str.contains('win nan') == True) | (df[outcome_col].str.contains('win DQ') == True) | (df[outcome_col].str.contains('win PTS') == True) | (fully_merged[outcome_col].str.contains('win DQ') == True) | (df[outcome_col].str.contains('win UD') == True) | (df[outcome_col].str.contains('win SD') == True) | (df[outcome_col].str.contains('win MD') == True) | (df[outcome_col].str.contains('win TD') == True) | (df[outcome_col].str.contains('win RTD') == True), 'clean_outcome'] = 'Win Other'\n",
    "    df.loc[(df[outcome_col].str.contains('loss KO') == True) | (df[outcome_col].str.contains('loss TKO')), 'clean_outcome'] = 'Loss KO'\n",
    "    df.loc[df[outcome_col].str.contains('scheduled') == True, 'clean_outcome'] = 'Scheduled'\n",
    "    df.loc[(df[outcome_col].str.contains('loss UD') == True) | (df[outcome_col].str.contains('loss SD') == True) | (df[outcome_col].str.contains('loss nan') == True) | (fully_merged[outcome_col].str.contains('loss RTD') == True) | (df[outcome_col].str.contains('loss MD') == True) | (df[outcome_col].str.contains('loss DQ') == True) | (df[outcome_col].str.contains('loss PTS') == True) | (df[outcome_col].str.contains('loss TD')), 'clean_outcome'] = 'Loss Other'\n",
    "    df.loc[df[outcome_col].str.contains('unknown') == True, 'clean_outcome'] = 'Unknown'\n",
    "    return df['clean_outcome']\n",
    "fully_merged['clean_outcome'] = cols_outcome(fully_merged,'final_outcome')"
   ]
  },
  {
   "cell_type": "code",
   "execution_count": 16,
   "metadata": {},
   "outputs": [],
   "source": [
    "fully_merged.drop(columns=['final_outcome','outcome'],inplace=True)"
   ]
  },
  {
   "cell_type": "code",
   "execution_count": 17,
   "metadata": {},
   "outputs": [],
   "source": [
    "dataset = fully_merged[(fully_merged['clean_outcome'].notna()) & (fully_merged['clean_outcome'] != 'Unknown') & (fully_merged['clean_outcome'] != 'Scheduled')]"
   ]
  },
  {
   "cell_type": "code",
   "execution_count": 18,
   "metadata": {
    "scrolled": true
   },
   "outputs": [
    {
     "name": "stderr",
     "output_type": "stream",
     "text": [
      "C:\\Users\\User\\Anaconda3\\lib\\site-packages\\ipykernel_launcher.py:33: FutureWarning: Sorting because non-concatenation axis is not aligned. A future version\n",
      "of pandas will change to not sort by default.\n",
      "\n",
      "To accept the future behavior, pass 'sort=False'.\n",
      "\n",
      "To retain the current behavior and silence the warning, pass 'sort=True'.\n",
      "\n"
     ]
    }
   ],
   "source": [
    "fully_merged['gender+division'] = fully_merged['sex'].astype(str) +' '+ fully_merged['division'].astype(str)\n",
    "dataset = fully_merged[(fully_merged['clean_outcome'].notna()) & (fully_merged['clean_outcome'] != 'Unknown') & (fully_merged['clean_outcome'] != 'Scheduled')]\n",
    "#get more data extracted from data scraping\n",
    "filler = pd.read_csv('C:\\\\Users\\\\User\\\\Documents\\\\player_matches.csv')\n",
    "filler = filler[(~filler['date'].str.contains('Council|googletag',na=False)) & (~filler['result'].str.contains('Title|tickets|scheduled',na=False))]\n",
    "filler['clean_outcome'] = filler['result']+ ' ' + filler['method']\n",
    "#rename fight outcomes\n",
    "filler['clean_outcome'] = cols_outcome(filler,'clean_outcome')\n",
    "filler.loc[(filler['clean_outcome']=='W UD')|(filler['clean_outcome']=='W SD')|(filler['clean_outcome']=='W MD')|(filler['clean_outcome']=='W PTS')|(filler['clean_outcome']=='W RTD')|(filler['clean_outcome']=='W DQ')|(filler['clean_outcome']=='W TD'), 'clean_outcome']='Win Other'\n",
    "filler.loc[(filler['clean_outcome']=='W KO')|(filler['clean_outcome']=='W TKO'), 'clean_outcome']='Win KO'\n",
    "filler.loc[(filler['clean_outcome']=='D MD')|(filler['clean_outcome']=='D SD')|(filler['clean_outcome']=='D TD')|(filler['clean_outcome']=='D PTS'), 'clean_outcome']='Draw'\n",
    "filler.loc[(filler['clean_outcome']=='L SD')|(filler['clean_outcome']=='L UD')|(filler['clean_outcome']=='L MD')|(filler['clean_outcome']=='L RTD')|(filler['clean_outcome']=='L PTS')|(filler['clean_outcome']=='L DQ')|(filler['clean_outcome']=='L TD'), 'clean_outcome'] = 'Loss Other'\n",
    "filler.loc[(filler['clean_outcome']=='L KO')|(filler['clean_outcome']=='L TKO'), 'clean_outcome'] = 'Loss KO'\n",
    "filler.loc[(filler['clean_outcome']=='N NC')|(filler['clean_outcome']=='N ND'), 'clean_outcome'] = 'Unknown'\n",
    "filler = filler.rename(columns={'Name':'name','opponent':'opposition'})     \n",
    "#drop columns I don't need\n",
    "filler.drop(columns=['w.l.d','Venue','method','result'],inplace=True)\n",
    "#limit to data where we have a boxer's name\n",
    "fully_m = fully_merged.dropna(subset=['name'])\n",
    "#limit to rows where we don't have data for a single fight a given boxer fought\n",
    "full = fully_m[fully_m['opposition'].isna().groupby(fully_m['name']).transform('all')]\n",
    "#merge to get data where data is missing (and exists in other dataset)\n",
    "full =full.merge(filler,on='name',how='left')\n",
    "full.drop(columns=['opposition_x','clean_outcome_x'],inplace=True)\n",
    "full.rename(columns={'opposition_y':'opposition','clean_outcome_y':'clean_outcome'},inplace=True)\n",
    "#drop duplicates\n",
    "full['duplicate_check'] = full['date_y']+full['opposition']+full['name']\n",
    "full.drop_duplicates('duplicate_check',keep='first',inplace=True)\n",
    "full.drop(columns='duplicate_check',inplace=True)\n",
    "full.drop(columns=['date_y'],inplace=True)\n",
    "full.rename(columns={'date_x':'date'},inplace=True)\n",
    "#merge with dataset\n",
    "dataset = pd.concat([dataset,full],axis=0)\n",
    "#added win percentages for each boxer\n",
    "ltd = dataset.groupby(['name','clean_outcome']).size().unstack(fill_value=0)\n",
    "ltd = ltd.reset_index()\n",
    "ltd['fight_count'] = ltd.sum(axis=1)\n",
    "ltd[['Draw','Loss KO','Loss Other','Unknown','Win KO','Win Other']]=ltd[['Draw','Loss KO','Loss Other','Unknown','Win KO','Win Other']].div(ltd.fight_count, axis=0)\n",
    "dataset = dataset.merge(ltd[['name','Draw','Loss KO','Loss Other','Win KO','Win Other','fight_count']],on='name')\n",
    "# #average judge score cards per fight\n",
    "dataset[['judge1boxer','judge2boxer','judge3boxer']] = dataset[['judge1boxer','judge2boxer','judge3boxer']].astype(int)\n",
    "dataset[['judge1opp','judge2opp','judge3opp']] = dataset[['judge1opp','judge2opp','judge3opp']].astype(int)\n",
    "n=dataset.groupby(by=['name'])['judge1boxer','judge2boxer','judge3boxer'].sum()\n",
    "n.rename(columns={'judge1boxer':'judge1avg','judge2boxer':'judge2avg','judge3boxer':'judge3avg'},inplace=True)\n",
    "m = dataset.groupby(by=['name'])['judge1opp','judge2opp','judge3opp'].sum()\n",
    "m.rename(columns={'judge1opp':'judge1againstavg','judge2opp':'judge2againstavg','judge3opp':'judge3againstavg'},inplace=True)\n",
    "dataset = dataset.merge(n,on='name').merge(m,on='name')\n",
    "dataset[['judge1avg','judge2avg','judge3avg','judge1againstavg','judge2againstavg','judge3againstavg']] = dataset[['judge1avg','judge2avg','judge3avg','judge1againstavg','judge2againstavg','judge3againstavg']].div(dataset.fight_count, axis=0)\n",
    "#average judge points\n",
    "dataset['avgpts']=dataset['judge1avg']+dataset['judge2avg']+dataset['judge3avg']/3\n",
    "#average judge points against boxer\n",
    "dataset['avgptsagainst']=dataset['judge1againstavg']+dataset['judge2againstavg']+dataset['judge3againstavg']/3\n",
    "#average fight length\n",
    "dataset['meta'] = dataset.groupby(by=['name'])['meta'].mean()\n",
    "#knockout ratio\n",
    "dataset['KO ratio'] = dataset['Win KO']/dataset['fight_count']\n",
    "#how many times has boxer been knocked out - ratio\n",
    "dataset['KnockedOut ratio'] = dataset['Loss KO']/dataset['fight_count']\n",
    "#added win percentage for each opponent\n",
    "dataset['opp_fight_count']= dataset['opposition'].map(dataset.drop_duplicates('name').set_index('name')['fight_count'])\n",
    "dataset['opp_lossKO']= dataset['opposition'].map(dataset.drop_duplicates('name').set_index('name')['Loss KO'])\n",
    "dataset['opp_lossOther']= dataset['opposition'].map(dataset.drop_duplicates('name').set_index('name')['Loss Other'])\n",
    "dataset['opp_winKO']= dataset['opposition'].map(dataset.drop_duplicates('name').set_index('name')['Win KO'])\n",
    "dataset['opp_winOther']= dataset['opposition'].map(dataset.drop_duplicates('name').set_index('name')['Win Other'])\n",
    "dataset['opp_avgpts']= dataset['opposition'].map(dataset.drop_duplicates('name').set_index('name')['avgpts'])\n",
    "dataset['opp_avgptsagainst']= dataset['opposition'].map(dataset.drop_duplicates('name').set_index('name')['avgptsagainst'])\n",
    "dataset['opp_KO ratio']= dataset['opposition'].map(dataset.drop_duplicates('name').set_index('name')['KO ratio'])\n",
    "dataset['opp_KnockedOut ratio']= dataset['opposition'].map(dataset.drop_duplicates('name').set_index('name')['KnockedOut ratio'])\n",
    "#get average fight length for opposition\n",
    "dataset['opp_meta']=dataset['opposition'].map(dataset.drop_duplicates('name').set_index('name')['meta'])\n",
    "#boxer weight to opponent weight ratio\n",
    "dataset['weightratio'] = dataset['weight']/dataset['opp_weight']"
   ]
  },
  {
   "cell_type": "code",
   "execution_count": 19,
   "metadata": {},
   "outputs": [],
   "source": [
    "#filter out unknown and nan\n",
    "dataset = dataset[dataset['clean_outcome'].notna()]\n",
    "dataset = dataset[dataset['clean_outcome'] != 'Unknown']\n",
    "#categorical to numerical\n",
    "dataset.loc[(dataset['clean_outcome'] == 'Win KO')|(dataset['clean_outcome'] == 'Win Other'), 'clean_outcome'] = 1\n",
    "dataset.loc[(dataset['clean_outcome'] == 'Draw'), 'clean_outcome'] = 2\n",
    "dataset.loc[(dataset['clean_outcome'] == 'Loss Other')|(dataset['clean_outcome'] == 'Loss KO'), 'clean_outcome'] = 3"
   ]
  },
  {
   "cell_type": "code",
   "execution_count": 20,
   "metadata": {},
   "outputs": [],
   "source": [
    "new = pd.read_csv('C:\\\\Users\\\\User\\\\Downloads\\\\player_profile.csv')\n",
    "new.rename(columns={'Name':'name'},inplace=True)\n",
    "new = new[['name','age','height','rating1','rating2']]\n",
    "dataset = dataset.merge(new,on='name')"
   ]
  },
  {
   "cell_type": "code",
   "execution_count": 21,
   "metadata": {},
   "outputs": [],
   "source": [
    "#bmi\n",
    "dataset['bmi'] = dataset['weight']/dataset['height']\n",
    "#get opponents age, height and bmi type ratio\n",
    "dataset['opp_age']= dataset['opposition'].map(dataset.drop_duplicates('name').set_index('name')['age'])\n",
    "dataset['opp_height']= dataset['opposition'].map(dataset.drop_duplicates('name').set_index('name')['height'])\n",
    "#current bmi\n",
    "dataset['opp_bmi'] = dataset['opp_weight']/dataset['opp_height']\n",
    "#age,height and BMI as ratio between boxers\n",
    "dataset['age_ratio'] = dataset['age']/dataset['opp_age']\n",
    "dataset['height_ratio'] = dataset['height']/dataset['opp_height']\n",
    "dataset['bmi_ratio'] = dataset['bmi']/dataset['opp_bmi']"
   ]
  },
  {
   "cell_type": "markdown",
   "metadata": {},
   "source": [
    "##### Notes\n",
    "- dealing with a highly imbalanced dataset so getting very low accuracy for draws\n",
    "- want to count the ratio of draws to other outcomes and build a class weighting based on this ratio"
   ]
  },
  {
   "cell_type": "code",
   "execution_count": 22,
   "metadata": {},
   "outputs": [],
   "source": [
    "#merge punch stats data\n",
    "punches = 'C:\\\\Users\\\\User\\\\Documents\\\\GitHub\\\\SpringboardCapstoneBoxingPredictionWebApp\\\\boxingdata\\\\punchingstats.csv'\n",
    "punch_stats = pd.read_csv(punches)\n",
    "punch_stats.drop(columns=['wins','losses','draws','Unnamed: 0.1','Unnamed: 0','average_weight','sex','division'],inplace=True)\n",
    "dataset = dataset.merge(punch_stats,on='name',how='left')\n",
    "#dropping na values\n",
    "dataset[['Jab accuracy','Power punch accuracy','Total punch accuracy','Avg Jabs landed','Avg Power punches landed','Avg Total punches landed','% of Power punches landed against','% of Jabs landed against','% of Total punches landed against','Avg Jabs landed against','Avg Power punches landed against','Avg Total punches landed against']] = dataset[['Jab accuracy','Power punch accuracy','Total punch accuracy','Avg Jabs landed','Avg Power punches landed','Avg Total punches landed','% of Power punches landed against','% of Jabs landed against','% of Total punches landed against','Avg Jabs landed against','Avg Power punches landed against','Avg Total punches landed against']].fillna(0)\n",
    "# I want to stratify the test_train split by gender and division to ensure all are equally represented, starting off by concatenating gender & division\n",
    "strat = dataset['gender+division'] \n",
    "#get opponents punch stats\n",
    "dataset['oppjabaccuracy']= dataset['opposition'].map(dataset.drop_duplicates('name').set_index('name')['Jab accuracy'])\n",
    "dataset['opppoweraccuracy']= dataset['opposition'].map(dataset.drop_duplicates('name').set_index('name')['Power punch accuracy'])\n",
    "dataset['opptotalaccuracy']= dataset['opposition'].map(dataset.drop_duplicates('name').set_index('name')['Total punch accuracy'])\n",
    "dataset['oppavgjabslanded']= dataset['opposition'].map(dataset.drop_duplicates('name').set_index('name')['Avg Jabs landed'])\n",
    "dataset['oppavgpowerlanded']= dataset['opposition'].map(dataset.drop_duplicates('name').set_index('name')['Avg Power punches landed'])\n",
    "dataset['oppavgtotallanded']= dataset['opposition'].map(dataset.drop_duplicates('name').set_index('name')['Avg Total punches landed'])\n",
    "dataset['opppercpowerlandedagainst']= dataset['opposition'].map(dataset.drop_duplicates('name').set_index('name')['% of Power punches landed against'])\n",
    "dataset['opppercejabslandedagainst']= dataset['opposition'].map(dataset.drop_duplicates('name').set_index('name')['% of Jabs landed against'])\n",
    "dataset['oppperctotallandedagainst']= dataset['opposition'].map(dataset.drop_duplicates('name').set_index('name')['% of Total punches landed against'])\n",
    "dataset['oppavgjabsagainst']= dataset['opposition'].map(dataset.drop_duplicates('name').set_index('name')['Avg Jabs landed against'])\n",
    "dataset['oppavgpowerlandedagainst']= dataset['opposition'].map(dataset.drop_duplicates('name').set_index('name')['Avg Power punches landed against'])\n",
    "dataset['oppavgtotalagainst']= dataset['opposition'].map(dataset.drop_duplicates('name').set_index('name')['Avg Total punches landed against'])"
   ]
  },
  {
   "cell_type": "code",
   "execution_count": 23,
   "metadata": {},
   "outputs": [],
   "source": [
    "X = dataset.drop(['clean_outcome','opp_bmi','opp_age','opp_meta','bmi','opp_height','age','judge2againstavg','judge1againstavg','judge3againstavg','height_ratio','rating1','rating2','weight','meta','age_ratio','bmi_ratio','height','judge1opp','rating','judge2boxer','judge1boxer','judge2opp','judge3boxer','judge3opp','name','sex','division','opposition','gender+division','global_id','date','rounds1','rounds2'],axis=1) \n",
    "X = dataset[['opp_last6','opp_KO ratio','Win KO','opp_winOther','Loss Other','Loss KO','Win Other','KO ratio','opp_winOther','KnockedOut ratio','opp_winKO','opp_KO ratio','opp_loss','opp_lossOther','opp_win','Draw','opp_lossKO']]\n",
    "X = X.fillna(0)\n",
    "# X.loc[X['rating'] == 'null ', 'rating'] = 0\n",
    "y = dataset['clean_outcome']\n",
    "y = y.fillna(0)\n",
    "X_train, X_test, y_train, y_test = train_test_split(X, y, test_size=0.1, random_state=0, stratify=strat)"
   ]
  },
  {
   "cell_type": "code",
   "execution_count": 24,
   "metadata": {},
   "outputs": [],
   "source": [
    "# building the model, starting off by looking for the best parameters\n",
    "params = {\n",
    "    'n_estimators':[i for i in range(1,201,20)],\n",
    "    'max_depth':[i for i in range(1,10,1)]\n",
    "}\n",
    "rfc = RandomForestClassifier()\n",
    "gridsearch = GridSearchCV(rfc,param_grid=params,cv=10,scoring='f1_weighted',n_jobs=4)\n",
    "gridsearch.fit(X_train,y_train)\n",
    "bestparams = gridsearch.best_params_"
   ]
  },
  {
   "cell_type": "code",
   "execution_count": 25,
   "metadata": {},
   "outputs": [],
   "source": [
    "# class_weight = dict({1:3.6, 2:9.6, 3:6.79}) 1:1.56, 2:25.1, 3:6.79\n",
    "class_weight = dict({1:2, 2:25.1, 3:4.3}) #5.6\n",
    "rc = RandomForestClassifier(**bestparams,class_weight=class_weight,random_state=1)\n",
    "rc.fit(X_train,y_train)\n",
    "preds = rc.predict(X_test)"
   ]
  },
  {
   "cell_type": "code",
   "execution_count": 26,
   "metadata": {},
   "outputs": [
    {
     "data": {
      "text/plain": [
       "0.6236896354437106"
      ]
     },
     "execution_count": 26,
     "metadata": {},
     "output_type": "execute_result"
    }
   ],
   "source": [
    "from sklearn.metrics import f1_score\n",
    "score = f1_score(y_test,preds,average='macro')\n",
    "score"
   ]
  },
  {
   "cell_type": "code",
   "execution_count": 27,
   "metadata": {},
   "outputs": [
    {
     "data": {
      "text/plain": [
       "array([0.64439547, 0.6352632 , 0.62589794, 0.64004602, 0.62740277])"
      ]
     },
     "execution_count": 27,
     "metadata": {},
     "output_type": "execute_result"
    }
   ],
   "source": [
    "#kfold cross validation\n",
    "kfold = KFold(n_splits=5)\n",
    "results = cross_val_score(rc,X_train,y_train,cv=kfold,scoring='f1_macro')\n",
    "results"
   ]
  },
  {
   "cell_type": "code",
   "execution_count": 28,
   "metadata": {
    "scrolled": true
   },
   "outputs": [
    {
     "data": {
      "text/plain": [
       "Text(0.5, 87.0, 'Predicted')"
      ]
     },
     "execution_count": 28,
     "metadata": {},
     "output_type": "execute_result"
    },
    {
     "data": {
      "image/png": "[encoded data removed]",
      "text/plain": [
       "<Figure size 864x864 with 2 Axes>"
      ]
     },
     "metadata": {
      "needs_background": "light"
     },
     "output_type": "display_data"
    }
   ],
   "source": [
    "labels = ['Win','Draw','Loss']        \n",
    "c = confusion_matrix(y_test,preds)\n",
    "#normalize\n",
    "cm = c.astype('float')/c.sum(axis=1)[:, np.newaxis]\n",
    "fig,ax = plt.subplots(figsize=(12,12))\n",
    "ax = sns.heatmap(cm,annot=True, fmt= '.2f',xticklabels=labels,yticklabels=labels)\n",
    "#new matplotlib version cuts off part of first and last row, fixing this\n",
    "bottom, top = ax.get_ylim()\n",
    "ax.set_ylim(bottom + 0.5, top - 0.5)\n",
    "plt.ylabel('Actual')\n",
    "plt.xlabel('Predicted')"
   ]
  },
  {
   "cell_type": "code",
   "execution_count": 29,
   "metadata": {},
   "outputs": [
    {
     "data": {
      "text/plain": [
       "([<matplotlib.axis.YTick at 0x1ad42ac6808>,\n",
       "  <matplotlib.axis.YTick at 0x1ad42ac7e88>,\n",
       "  <matplotlib.axis.YTick at 0x1ad400f2a48>,\n",
       "  <matplotlib.axis.YTick at 0x1ad426021c8>,\n",
       "  <matplotlib.axis.YTick at 0x1ad42602ac8>,\n",
       "  <matplotlib.axis.YTick at 0x1ad42601648>,\n",
       "  <matplotlib.axis.YTick at 0x1ad42607fc8>,\n",
       "  <matplotlib.axis.YTick at 0x1ad42608d08>,\n",
       "  <matplotlib.axis.YTick at 0x1ad426085c8>,\n",
       "  <matplotlib.axis.YTick at 0x1ad4260b508>,\n",
       "  <matplotlib.axis.YTick at 0x1ad4260c3c8>,\n",
       "  <matplotlib.axis.YTick at 0x1ad4260d608>,\n",
       "  <matplotlib.axis.YTick at 0x1ad4260f8c8>,\n",
       "  <matplotlib.axis.YTick at 0x1ad42610848>,\n",
       "  <matplotlib.axis.YTick at 0x1ad4260bc08>,\n",
       "  <matplotlib.axis.YTick at 0x1ad42612888>,\n",
       "  <matplotlib.axis.YTick at 0x1ad426141c8>],\n",
       " <a list of 17 Text yticklabel objects>)"
      ]
     },
     "execution_count": 29,
     "metadata": {},
     "output_type": "execute_result"
    },
    {
     "data": {
      "image/png": "[encoded data removed]",
      "text/plain": [
       "<Figure size 432x288 with 1 Axes>"
      ]
     },
     "metadata": {
      "needs_background": "light"
     },
     "output_type": "display_data"
    }
   ],
   "source": [
    "#feature importance\n",
    "important = rc.feature_importances_\n",
    "indice = np.argsort(important)\n",
    "plt.title('Feature Importance')\n",
    "plt.barh(range(len(indice)),important[indice],color='b',align='center')\n",
    "plt.yticks(range(len(indice)), [X.columns[i] for i in indice])\n"
   ]
  },
  {
   "cell_type": "code",
   "execution_count": 30,
   "metadata": {},
   "outputs": [],
   "source": [
    "#testing XGBoost\n",
    "X = dataset.drop(['clean_outcome','opp_meta','date','division','gender+division','judge1boxer','judge1opp','judge2boxer','judge2opp','judge3boxer','judge3opp','name','opposition','rating','sex','judge1avg','judge2avg','judge3avg','judge1againstavg','judge2againstavg','judge3againstavg','rounds1','rounds2'],axis=1) \n",
    "# X = dataset[['Loss Other','Loss KO','opp_last6','opp_winOther','Draw','opp_winKO','KO ratio','opp_lossOther','opp_KO ratio','opp_lossKO','Win KO','Win Other','avgpts','avgptsagainst']]\n",
    "# X = dataset.drop(['clean_outcome','rating','judge1opp','judge2boxer','judge1boxer','judge2opp','judge3boxer','judge3opp','name','sex','division','opposition','gender+division','global_id','date','rounds1','rounds2'],axis=1) \n",
    "X = X.fillna(0)\n",
    "y = dataset['clean_outcome']\n",
    "y = y.fillna(0)\n",
    "X_train, X_test, y_train, y_test = train_test_split(X, y, test_size=0.2, random_state=0, stratify=strat)"
   ]
  },
  {
   "cell_type": "code",
   "execution_count": 31,
   "metadata": {
    "scrolled": true
   },
   "outputs": [
    {
     "name": "stderr",
     "output_type": "stream",
     "text": [
      "C:\\Users\\User\\Anaconda3\\lib\\site-packages\\sklearn\\metrics\\classification.py:1437: UndefinedMetricWarning: F-score is ill-defined and being set to 0.0 in labels with no predicted samples.\n",
      "  'precision', 'predicted', average, warn_for)\n"
     ]
    },
    {
     "data": {
      "text/plain": [
       "RandomizedSearchCV(cv=5, error_score='raise-deprecating',\n",
       "                   estimator=XGBClassifier(base_score=0.5, booster='gbtree',\n",
       "                                           colsample_bylevel=1,\n",
       "                                           colsample_bynode=1,\n",
       "                                           colsample_bytree=1, gamma=0,\n",
       "                                           learning_rate=0.1, max_delta_step=0,\n",
       "                                           max_depth=3, min_child_weight=1,\n",
       "                                           missing=None, n_estimators=100,\n",
       "                                           n_jobs=1, nthread=None,\n",
       "                                           objective='binary:logistic',\n",
       "                                           random_state=0, reg_alpha=0...\n",
       "                   iid='warn', n_iter=5, n_jobs=None,\n",
       "                   param_distributions={'colsample_bytree': [0.6, 0.8, 1.0],\n",
       "                                        'gamma': [1, 5, 10, 15],\n",
       "                                        'learning_rate': [0.01, 0.05, 0.1],\n",
       "                                        'max_depth': [2, 3, 5, 10],\n",
       "                                        'min_child_weight': [5, 15],\n",
       "                                        'n-estimaors': range(50, 1000, 50),\n",
       "                                        'subsample': [0.6, 0.8, 1.0]},\n",
       "                   pre_dispatch='2*n_jobs', random_state=100, refit=True,\n",
       "                   return_train_score=False, scoring='f1_weighted', verbose=0)"
      ]
     },
     "execution_count": 31,
     "metadata": {},
     "output_type": "execute_result"
    }
   ],
   "source": [
    "#best params\n",
    "xgb = XGBClassifier()\n",
    "params = {'min_child_weight':[5,15],\n",
    "          'subsample':[0.6,0.8,1.0],\n",
    "          'gamma':[1,5,10,15],\n",
    "          'learning_rate': [0.01,0.05,0.1],\n",
    "          'colsample_bytree':[0.6,0.8,1.0],\n",
    "          'max_depth':[2,3,5,10],\n",
    "          'n-estimaors': range(50,1000,50)\n",
    "    }\n",
    "random_search = RandomizedSearchCV(xgb,params,cv=5,n_iter=5,scoring='f1_weighted',random_state=100)\n",
    "random_search.fit(X_train,y_train)\n",
    "# xgbest_params = random_search.best_estimator_"
   ]
  },
  {
   "cell_type": "code",
   "execution_count": 32,
   "metadata": {},
   "outputs": [],
   "source": [
    "xgb = XGBClassifier(**bestparams,class_weight=class_weight,random_state=1)\n",
    "xgb.fit(X_train,y_train)\n",
    "preds = xgb.predict(X_test)"
   ]
  },
  {
   "cell_type": "code",
   "execution_count": 33,
   "metadata": {},
   "outputs": [
    {
     "data": {
      "text/plain": [
       "0.645648738099291"
      ]
     },
     "execution_count": 33,
     "metadata": {},
     "output_type": "execute_result"
    }
   ],
   "source": [
    "score = f1_score(y_test,preds,average='macro')\n",
    "score"
   ]
  },
  {
   "cell_type": "code",
   "execution_count": 34,
   "metadata": {},
   "outputs": [
    {
     "data": {
      "text/plain": [
       "array([0.85788668, 0.85620214, 0.84793262, 0.854189  , 0.84438658])"
      ]
     },
     "execution_count": 34,
     "metadata": {},
     "output_type": "execute_result"
    }
   ],
   "source": [
    "#kfold cross validation\n",
    "kfold = KFold(n_splits=5)\n",
    "results = cross_val_score(xgb,X_train,y_train,cv=kfold)\n",
    "results"
   ]
  },
  {
   "cell_type": "code",
   "execution_count": 35,
   "metadata": {},
   "outputs": [
    {
     "data": {
      "text/plain": [
       "('Loss Other',\n",
       " 'Loss KO',\n",
       " 'opp_last6',\n",
       " 'opp_winOther',\n",
       " 'Draw',\n",
       " 'opp_winKO',\n",
       " 'KO ratio',\n",
       " 'opp_lossOther',\n",
       " 'opp_KO ratio',\n",
       " 'opp_lossKO',\n",
       " 'Win KO',\n",
       " 'Win Other',\n",
       " 'avgpts',\n",
       " 'avgptsagainst')"
      ]
     },
     "execution_count": 35,
     "metadata": {},
     "output_type": "execute_result"
    }
   ],
   "source": [
    "#get feature importance\n",
    "xgb.get_booster().get_score(importance_type=\"gain\")\n",
    "'Loss Other','Loss KO','opp_last6','opp_winOther','Draw','opp_winKO','KO ratio','opp_lossOther','opp_KO ratio','opp_lossKO','Win KO','Win Other','avgpts','avgptsagainst'"
   ]
  },
  {
   "cell_type": "code",
   "execution_count": 36,
   "metadata": {},
   "outputs": [
    {
     "data": {
      "text/plain": [
       "Text(0.5, 87.0, 'Predicted')"
      ]
     },
     "execution_count": 36,
     "metadata": {},
     "output_type": "execute_result"
    },
    {
     "data": {
      "image/png": "[encoded data removed]",
      "text/plain": [
       "<Figure size 864x864 with 2 Axes>"
      ]
     },
     "metadata": {
      "needs_background": "light"
     },
     "output_type": "display_data"
    }
   ],
   "source": [
    "labels = ['Win','Draw','Loss']        \n",
    "c = confusion_matrix(y_test,preds)\n",
    "#normalize\n",
    "cm = c.astype('float')/c.sum(axis=1)[:, np.newaxis]\n",
    "fig,ax = plt.subplots(figsize=(12,12))\n",
    "ax = sns.heatmap(cm,annot=True, fmt= '.2f',xticklabels=labels,yticklabels=labels)\n",
    "#new matplotlib version cuts off part of first and last row, fixing this\n",
    "bottom, top = ax.get_ylim()\n",
    "ax.set_ylim(bottom + 0.5, top - 0.5)\n",
    "plt.ylabel('Actual')\n",
    "plt.xlabel('Predicted')"
   ]
  },
  {
   "cell_type": "code",
   "execution_count": 37,
   "metadata": {},
   "outputs": [],
   "source": [
    "#convert back to categorical \n",
    "dataset.loc[dataset['clean_outcome'] == 1, 'clean_outcome'] = 'win'\n",
    "dataset.loc[dataset['clean_outcome'] == 2, 'clean_outcome'] = 'draw'\n",
    "dataset.loc[dataset['clean_outcome'] == 3, 'clean_outcome'] = 'loss'"
   ]
  },
  {
   "cell_type": "code",
   "execution_count": 59,
   "metadata": {},
   "outputs": [
    {
     "name": "stdout",
     "output_type": "stream",
     "text": [
      "0:\tlearn: 1.0354253\ttotal: 180ms\tremaining: 53.8s\n",
      "1:\tlearn: 0.9827865\ttotal: 343ms\tremaining: 51.1s\n",
      "2:\tlearn: 0.9352345\ttotal: 493ms\tremaining: 48.8s\n",
      "3:\tlearn: 0.9005924\ttotal: 629ms\tremaining: 46.5s\n",
      "4:\tlearn: 0.8725378\ttotal: 813ms\tremaining: 48s\n",
      "5:\tlearn: 0.8357129\ttotal: 989ms\tremaining: 48.5s\n",
      "6:\tlearn: 0.8069957\ttotal: 1.17s\tremaining: 49.1s\n",
      "7:\tlearn: 0.7885202\ttotal: 1.34s\tremaining: 48.9s\n",
      "8:\tlearn: 0.7564442\ttotal: 1.47s\tremaining: 47.6s\n",
      "9:\tlearn: 0.7459448\ttotal: 1.62s\tremaining: 47.1s\n",
      "10:\tlearn: 0.7358218\ttotal: 1.77s\tremaining: 46.5s\n",
      "11:\tlearn: 0.7229292\ttotal: 1.92s\tremaining: 46s\n",
      "12:\tlearn: 0.7101320\ttotal: 2.05s\tremaining: 45.3s\n",
      "13:\tlearn: 0.7026245\ttotal: 2.22s\tremaining: 45.3s\n",
      "14:\tlearn: 0.6960754\ttotal: 2.36s\tremaining: 44.8s\n",
      "15:\tlearn: 0.6890278\ttotal: 2.52s\tremaining: 44.7s\n",
      "16:\tlearn: 0.6829942\ttotal: 2.67s\tremaining: 44.4s\n",
      "17:\tlearn: 0.6757470\ttotal: 2.82s\tremaining: 44.2s\n",
      "18:\tlearn: 0.6706466\ttotal: 2.96s\tremaining: 43.9s\n",
      "19:\tlearn: 0.6653915\ttotal: 3.13s\tremaining: 43.8s\n",
      "20:\tlearn: 0.6584872\ttotal: 3.3s\tremaining: 43.8s\n",
      "21:\tlearn: 0.6543058\ttotal: 3.51s\tremaining: 44.3s\n",
      "22:\tlearn: 0.6511160\ttotal: 3.67s\tremaining: 44.2s\n",
      "23:\tlearn: 0.6483552\ttotal: 3.84s\tremaining: 44.2s\n",
      "24:\tlearn: 0.6454233\ttotal: 3.98s\tremaining: 43.7s\n",
      "25:\tlearn: 0.6426022\ttotal: 4.15s\tremaining: 43.8s\n",
      "26:\tlearn: 0.6404583\ttotal: 4.3s\tremaining: 43.4s\n",
      "27:\tlearn: 0.6374219\ttotal: 4.49s\tremaining: 43.6s\n",
      "28:\tlearn: 0.6361817\ttotal: 4.64s\tremaining: 43.3s\n",
      "29:\tlearn: 0.6341768\ttotal: 4.79s\tremaining: 43.1s\n",
      "30:\tlearn: 0.6283657\ttotal: 4.93s\tremaining: 42.8s\n",
      "31:\tlearn: 0.6256655\ttotal: 5.1s\tremaining: 42.7s\n",
      "32:\tlearn: 0.6238301\ttotal: 5.23s\tremaining: 42.4s\n",
      "33:\tlearn: 0.6225490\ttotal: 5.39s\tremaining: 42.1s\n",
      "34:\tlearn: 0.6213544\ttotal: 5.53s\tremaining: 41.8s\n",
      "35:\tlearn: 0.6201235\ttotal: 5.68s\tremaining: 41.7s\n",
      "36:\tlearn: 0.6183690\ttotal: 5.82s\tremaining: 41.4s\n",
      "37:\tlearn: 0.6171688\ttotal: 5.97s\tremaining: 41.2s\n",
      "38:\tlearn: 0.6155941\ttotal: 6.11s\tremaining: 40.9s\n",
      "39:\tlearn: 0.6146964\ttotal: 6.26s\tremaining: 40.7s\n",
      "40:\tlearn: 0.6135679\ttotal: 6.41s\tremaining: 40.5s\n",
      "41:\tlearn: 0.6129131\ttotal: 6.58s\tremaining: 40.4s\n",
      "42:\tlearn: 0.6125003\ttotal: 6.72s\tremaining: 40.2s\n",
      "43:\tlearn: 0.6104616\ttotal: 6.89s\tremaining: 40.1s\n",
      "44:\tlearn: 0.6090330\ttotal: 7.02s\tremaining: 39.8s\n",
      "45:\tlearn: 0.6084027\ttotal: 7.19s\tremaining: 39.7s\n",
      "46:\tlearn: 0.6073289\ttotal: 7.34s\tremaining: 39.5s\n",
      "47:\tlearn: 0.6067628\ttotal: 7.5s\tremaining: 39.4s\n",
      "48:\tlearn: 0.6026977\ttotal: 7.65s\tremaining: 39.2s\n",
      "49:\tlearn: 0.6016231\ttotal: 7.82s\tremaining: 39.1s\n",
      "50:\tlearn: 0.6009517\ttotal: 7.95s\tremaining: 38.8s\n",
      "51:\tlearn: 0.6004713\ttotal: 8.14s\tremaining: 38.9s\n",
      "52:\tlearn: 0.5998405\ttotal: 8.28s\tremaining: 38.6s\n",
      "53:\tlearn: 0.5993388\ttotal: 8.44s\tremaining: 38.5s\n",
      "54:\tlearn: 0.5971344\ttotal: 8.58s\tremaining: 38.2s\n",
      "55:\tlearn: 0.5962243\ttotal: 8.74s\tremaining: 38.1s\n",
      "56:\tlearn: 0.5954688\ttotal: 8.89s\tremaining: 37.9s\n",
      "57:\tlearn: 0.5948091\ttotal: 9.07s\tremaining: 37.9s\n",
      "58:\tlearn: 0.5940875\ttotal: 9.25s\tremaining: 37.8s\n",
      "59:\tlearn: 0.5932772\ttotal: 9.39s\tremaining: 37.6s\n",
      "60:\tlearn: 0.5925721\ttotal: 9.54s\tremaining: 37.4s\n",
      "61:\tlearn: 0.5913315\ttotal: 9.7s\tremaining: 37.2s\n",
      "62:\tlearn: 0.5907313\ttotal: 9.84s\tremaining: 37s\n",
      "63:\tlearn: 0.5900278\ttotal: 10s\tremaining: 36.9s\n",
      "64:\tlearn: 0.5893440\ttotal: 10.2s\tremaining: 36.7s\n",
      "65:\tlearn: 0.5888190\ttotal: 10.3s\tremaining: 36.5s\n",
      "66:\tlearn: 0.5884212\ttotal: 10.4s\tremaining: 36.3s\n",
      "67:\tlearn: 0.5878486\ttotal: 10.6s\tremaining: 36.2s\n",
      "68:\tlearn: 0.5872032\ttotal: 10.8s\tremaining: 36s\n",
      "69:\tlearn: 0.5865360\ttotal: 10.9s\tremaining: 35.9s\n",
      "70:\tlearn: 0.5854528\ttotal: 11.1s\tremaining: 35.7s\n",
      "71:\tlearn: 0.5849107\ttotal: 11.2s\tremaining: 35.6s\n",
      "72:\tlearn: 0.5842059\ttotal: 11.4s\tremaining: 35.4s\n",
      "73:\tlearn: 0.5834793\ttotal: 11.5s\tremaining: 35.3s\n",
      "74:\tlearn: 0.5828255\ttotal: 11.7s\tremaining: 35.1s\n",
      "75:\tlearn: 0.5824026\ttotal: 11.8s\tremaining: 34.9s\n",
      "76:\tlearn: 0.5818920\ttotal: 12s\tremaining: 34.7s\n",
      "77:\tlearn: 0.5809360\ttotal: 12.1s\tremaining: 34.5s\n",
      "78:\tlearn: 0.5804419\ttotal: 12.3s\tremaining: 34.4s\n",
      "79:\tlearn: 0.5800077\ttotal: 12.4s\tremaining: 34.2s\n",
      "80:\tlearn: 0.5797266\ttotal: 12.6s\tremaining: 34.1s\n",
      "81:\tlearn: 0.5794786\ttotal: 12.8s\tremaining: 33.9s\n",
      "82:\tlearn: 0.5788002\ttotal: 12.9s\tremaining: 33.7s\n",
      "83:\tlearn: 0.5784246\ttotal: 13.1s\tremaining: 33.6s\n",
      "84:\tlearn: 0.5779370\ttotal: 13.2s\tremaining: 33.4s\n",
      "85:\tlearn: 0.5774733\ttotal: 13.4s\tremaining: 33.2s\n",
      "86:\tlearn: 0.5771856\ttotal: 13.5s\tremaining: 33s\n",
      "87:\tlearn: 0.5768136\ttotal: 13.7s\tremaining: 32.9s\n",
      "88:\tlearn: 0.5764313\ttotal: 13.8s\tremaining: 32.7s\n",
      "89:\tlearn: 0.5760587\ttotal: 13.9s\tremaining: 32.5s\n",
      "90:\tlearn: 0.5751941\ttotal: 14.1s\tremaining: 32.4s\n",
      "91:\tlearn: 0.5746029\ttotal: 14.2s\tremaining: 32.2s\n",
      "92:\tlearn: 0.5744335\ttotal: 14.4s\tremaining: 32s\n",
      "93:\tlearn: 0.5739909\ttotal: 14.5s\tremaining: 31.9s\n",
      "94:\tlearn: 0.5733756\ttotal: 14.7s\tremaining: 31.7s\n",
      "95:\tlearn: 0.5731085\ttotal: 14.9s\tremaining: 31.6s\n",
      "96:\tlearn: 0.5724388\ttotal: 15s\tremaining: 31.4s\n",
      "97:\tlearn: 0.5721298\ttotal: 15.2s\tremaining: 31.2s\n",
      "98:\tlearn: 0.5715639\ttotal: 15.3s\tremaining: 31.1s\n",
      "99:\tlearn: 0.5710614\ttotal: 15.5s\tremaining: 30.9s\n",
      "100:\tlearn: 0.5695788\ttotal: 15.6s\tremaining: 30.8s\n",
      "101:\tlearn: 0.5692288\ttotal: 15.8s\tremaining: 30.6s\n",
      "102:\tlearn: 0.5689091\ttotal: 15.9s\tremaining: 30.4s\n",
      "103:\tlearn: 0.5682035\ttotal: 16.1s\tremaining: 30.3s\n",
      "104:\tlearn: 0.5678379\ttotal: 16.2s\tremaining: 30.1s\n",
      "105:\tlearn: 0.5674154\ttotal: 16.4s\tremaining: 29.9s\n",
      "106:\tlearn: 0.5669986\ttotal: 16.5s\tremaining: 29.8s\n",
      "107:\tlearn: 0.5659255\ttotal: 16.7s\tremaining: 29.6s\n",
      "108:\tlearn: 0.5657117\ttotal: 16.8s\tremaining: 29.5s\n",
      "109:\tlearn: 0.5654376\ttotal: 17s\tremaining: 29.3s\n",
      "110:\tlearn: 0.5650934\ttotal: 17.1s\tremaining: 29.1s\n",
      "111:\tlearn: 0.5646411\ttotal: 17.3s\tremaining: 29s\n",
      "112:\tlearn: 0.5642541\ttotal: 17.4s\tremaining: 28.8s\n",
      "113:\tlearn: 0.5637253\ttotal: 17.6s\tremaining: 28.7s\n",
      "114:\tlearn: 0.5631686\ttotal: 17.7s\tremaining: 28.5s\n",
      "115:\tlearn: 0.5628545\ttotal: 17.9s\tremaining: 28.4s\n",
      "116:\tlearn: 0.5625662\ttotal: 18s\tremaining: 28.2s\n",
      "117:\tlearn: 0.5620704\ttotal: 18.2s\tremaining: 28.1s\n",
      "118:\tlearn: 0.5615553\ttotal: 18.3s\tremaining: 27.9s\n",
      "119:\tlearn: 0.5604836\ttotal: 18.5s\tremaining: 27.7s\n",
      "120:\tlearn: 0.5578549\ttotal: 18.7s\tremaining: 27.7s\n",
      "121:\tlearn: 0.5575468\ttotal: 18.9s\tremaining: 27.5s\n",
      "122:\tlearn: 0.5571512\ttotal: 19s\tremaining: 27.4s\n",
      "123:\tlearn: 0.5560459\ttotal: 19.2s\tremaining: 27.2s\n",
      "124:\tlearn: 0.5553132\ttotal: 19.3s\tremaining: 27s\n",
      "125:\tlearn: 0.5543943\ttotal: 19.5s\tremaining: 26.9s\n",
      "126:\tlearn: 0.5535792\ttotal: 19.6s\tremaining: 26.7s\n",
      "127:\tlearn: 0.5529398\ttotal: 19.8s\tremaining: 26.5s\n",
      "128:\tlearn: 0.5525084\ttotal: 19.9s\tremaining: 26.4s\n",
      "129:\tlearn: 0.5520608\ttotal: 20s\tremaining: 26.2s\n",
      "130:\tlearn: 0.5517119\ttotal: 20.2s\tremaining: 26s\n",
      "131:\tlearn: 0.5511811\ttotal: 20.3s\tremaining: 25.9s\n",
      "132:\tlearn: 0.5508593\ttotal: 20.5s\tremaining: 25.7s\n",
      "133:\tlearn: 0.5505220\ttotal: 20.6s\tremaining: 25.6s\n",
      "134:\tlearn: 0.5501357\ttotal: 20.8s\tremaining: 25.4s\n",
      "135:\tlearn: 0.5498193\ttotal: 20.9s\tremaining: 25.2s\n",
      "136:\tlearn: 0.5494439\ttotal: 21.1s\tremaining: 25s\n",
      "137:\tlearn: 0.5492003\ttotal: 21.2s\tremaining: 24.9s\n",
      "138:\tlearn: 0.5481928\ttotal: 21.4s\tremaining: 24.7s\n",
      "139:\tlearn: 0.5479439\ttotal: 21.5s\tremaining: 24.6s\n",
      "140:\tlearn: 0.5474919\ttotal: 21.7s\tremaining: 24.4s\n",
      "141:\tlearn: 0.5468882\ttotal: 21.8s\tremaining: 24.3s\n",
      "142:\tlearn: 0.5467174\ttotal: 22s\tremaining: 24.1s\n",
      "143:\tlearn: 0.5465533\ttotal: 22.1s\tremaining: 24s\n",
      "144:\tlearn: 0.5461712\ttotal: 22.3s\tremaining: 23.8s\n",
      "145:\tlearn: 0.5459199\ttotal: 22.4s\tremaining: 23.6s\n",
      "146:\tlearn: 0.5455323\ttotal: 22.6s\tremaining: 23.5s\n",
      "147:\tlearn: 0.5453575\ttotal: 22.7s\tremaining: 23.3s\n",
      "148:\tlearn: 0.5450495\ttotal: 22.9s\tremaining: 23.2s\n",
      "149:\tlearn: 0.5446513\ttotal: 23s\tremaining: 23s\n",
      "150:\tlearn: 0.5443246\ttotal: 23.2s\tremaining: 22.9s\n",
      "151:\tlearn: 0.5440345\ttotal: 23.3s\tremaining: 22.7s\n",
      "152:\tlearn: 0.5438281\ttotal: 23.5s\tremaining: 22.5s\n",
      "153:\tlearn: 0.5434111\ttotal: 23.6s\tremaining: 22.4s\n",
      "154:\tlearn: 0.5432315\ttotal: 23.8s\tremaining: 22.2s\n",
      "155:\tlearn: 0.5430985\ttotal: 23.9s\tremaining: 22.1s\n",
      "156:\tlearn: 0.5427657\ttotal: 24.1s\tremaining: 21.9s\n",
      "157:\tlearn: 0.5424537\ttotal: 24.2s\tremaining: 21.8s\n",
      "158:\tlearn: 0.5417064\ttotal: 24.4s\tremaining: 21.6s\n",
      "159:\tlearn: 0.5414930\ttotal: 24.5s\tremaining: 21.5s\n",
      "160:\tlearn: 0.5412723\ttotal: 24.7s\tremaining: 21.3s\n",
      "161:\tlearn: 0.5409182\ttotal: 24.8s\tremaining: 21.2s\n"
     ]
    },
    {
     "name": "stdout",
     "output_type": "stream",
     "text": [
      "162:\tlearn: 0.5406801\ttotal: 25s\tremaining: 21s\n",
      "163:\tlearn: 0.5403348\ttotal: 25.1s\tremaining: 20.8s\n",
      "164:\tlearn: 0.5400606\ttotal: 25.3s\tremaining: 20.7s\n",
      "165:\tlearn: 0.5399208\ttotal: 25.4s\tremaining: 20.5s\n",
      "166:\tlearn: 0.5395246\ttotal: 25.6s\tremaining: 20.4s\n",
      "167:\tlearn: 0.5392920\ttotal: 25.7s\tremaining: 20.2s\n",
      "168:\tlearn: 0.5390002\ttotal: 25.8s\tremaining: 20s\n",
      "169:\tlearn: 0.5384210\ttotal: 26s\tremaining: 19.9s\n",
      "170:\tlearn: 0.5381983\ttotal: 26.1s\tremaining: 19.7s\n",
      "171:\tlearn: 0.5376240\ttotal: 26.2s\tremaining: 19.5s\n",
      "172:\tlearn: 0.5372671\ttotal: 26.4s\tremaining: 19.4s\n",
      "173:\tlearn: 0.5369530\ttotal: 26.5s\tremaining: 19.2s\n",
      "174:\tlearn: 0.5367813\ttotal: 26.7s\tremaining: 19.1s\n",
      "175:\tlearn: 0.5363466\ttotal: 26.8s\tremaining: 18.9s\n",
      "176:\tlearn: 0.5360756\ttotal: 27s\tremaining: 18.8s\n",
      "177:\tlearn: 0.5358933\ttotal: 27.1s\tremaining: 18.6s\n",
      "178:\tlearn: 0.5354808\ttotal: 27.3s\tremaining: 18.4s\n",
      "179:\tlearn: 0.5352255\ttotal: 27.4s\tremaining: 18.3s\n",
      "180:\tlearn: 0.5351111\ttotal: 27.6s\tremaining: 18.1s\n",
      "181:\tlearn: 0.5349375\ttotal: 27.7s\tremaining: 18s\n",
      "182:\tlearn: 0.5344184\ttotal: 27.9s\tremaining: 17.8s\n",
      "183:\tlearn: 0.5338236\ttotal: 28s\tremaining: 17.7s\n",
      "184:\tlearn: 0.5333096\ttotal: 28.2s\tremaining: 17.5s\n",
      "185:\tlearn: 0.5330101\ttotal: 28.3s\tremaining: 17.4s\n",
      "186:\tlearn: 0.5328376\ttotal: 28.5s\tremaining: 17.2s\n",
      "187:\tlearn: 0.5325899\ttotal: 28.6s\tremaining: 17.1s\n",
      "188:\tlearn: 0.5323268\ttotal: 28.8s\tremaining: 16.9s\n",
      "189:\tlearn: 0.5319476\ttotal: 28.9s\tremaining: 16.8s\n",
      "190:\tlearn: 0.5316668\ttotal: 29.1s\tremaining: 16.6s\n",
      "191:\tlearn: 0.5311997\ttotal: 29.3s\tremaining: 16.5s\n",
      "192:\tlearn: 0.5309980\ttotal: 29.4s\tremaining: 16.3s\n",
      "193:\tlearn: 0.5306833\ttotal: 29.6s\tremaining: 16.1s\n",
      "194:\tlearn: 0.5304875\ttotal: 29.7s\tremaining: 16s\n",
      "195:\tlearn: 0.5302749\ttotal: 29.8s\tremaining: 15.8s\n",
      "196:\tlearn: 0.5301848\ttotal: 30s\tremaining: 15.7s\n",
      "197:\tlearn: 0.5299189\ttotal: 30.1s\tremaining: 15.5s\n",
      "198:\tlearn: 0.5296785\ttotal: 30.3s\tremaining: 15.4s\n",
      "199:\tlearn: 0.5291407\ttotal: 30.4s\tremaining: 15.2s\n",
      "200:\tlearn: 0.5290417\ttotal: 30.6s\tremaining: 15.1s\n",
      "201:\tlearn: 0.5288457\ttotal: 30.7s\tremaining: 14.9s\n",
      "202:\tlearn: 0.5286376\ttotal: 30.9s\tremaining: 14.7s\n",
      "203:\tlearn: 0.5284387\ttotal: 31s\tremaining: 14.6s\n",
      "204:\tlearn: 0.5279048\ttotal: 31.1s\tremaining: 14.4s\n",
      "205:\tlearn: 0.5277553\ttotal: 31.3s\tremaining: 14.3s\n",
      "206:\tlearn: 0.5275776\ttotal: 31.4s\tremaining: 14.1s\n",
      "207:\tlearn: 0.5273591\ttotal: 31.6s\tremaining: 14s\n",
      "208:\tlearn: 0.5270718\ttotal: 31.7s\tremaining: 13.8s\n",
      "209:\tlearn: 0.5269470\ttotal: 31.9s\tremaining: 13.7s\n",
      "210:\tlearn: 0.5267144\ttotal: 32s\tremaining: 13.5s\n",
      "211:\tlearn: 0.5262851\ttotal: 32.2s\tremaining: 13.4s\n",
      "212:\tlearn: 0.5258157\ttotal: 32.3s\tremaining: 13.2s\n",
      "213:\tlearn: 0.5257098\ttotal: 32.5s\tremaining: 13.1s\n",
      "214:\tlearn: 0.5251958\ttotal: 32.7s\tremaining: 12.9s\n",
      "215:\tlearn: 0.5250148\ttotal: 32.8s\tremaining: 12.8s\n",
      "216:\tlearn: 0.5248357\ttotal: 33s\tremaining: 12.6s\n",
      "217:\tlearn: 0.5247196\ttotal: 33.1s\tremaining: 12.5s\n",
      "218:\tlearn: 0.5244776\ttotal: 33.3s\tremaining: 12.3s\n",
      "219:\tlearn: 0.5241852\ttotal: 33.5s\tremaining: 12.2s\n",
      "220:\tlearn: 0.5240696\ttotal: 33.7s\tremaining: 12.1s\n",
      "221:\tlearn: 0.5238105\ttotal: 34s\tremaining: 11.9s\n",
      "222:\tlearn: 0.5235512\ttotal: 34.1s\tremaining: 11.8s\n",
      "223:\tlearn: 0.5232535\ttotal: 34.3s\tremaining: 11.6s\n",
      "224:\tlearn: 0.5228363\ttotal: 34.4s\tremaining: 11.5s\n",
      "225:\tlearn: 0.5225556\ttotal: 34.6s\tremaining: 11.3s\n",
      "226:\tlearn: 0.5223515\ttotal: 34.8s\tremaining: 11.2s\n",
      "227:\tlearn: 0.5221297\ttotal: 34.9s\tremaining: 11s\n",
      "228:\tlearn: 0.5218477\ttotal: 35.1s\tremaining: 10.9s\n",
      "229:\tlearn: 0.5216218\ttotal: 35.2s\tremaining: 10.7s\n",
      "230:\tlearn: 0.5214935\ttotal: 35.4s\tremaining: 10.6s\n",
      "231:\tlearn: 0.5211702\ttotal: 35.5s\tremaining: 10.4s\n",
      "232:\tlearn: 0.5208803\ttotal: 35.7s\tremaining: 10.3s\n",
      "233:\tlearn: 0.5205828\ttotal: 35.8s\tremaining: 10.1s\n",
      "234:\tlearn: 0.5201702\ttotal: 36s\tremaining: 9.96s\n",
      "235:\tlearn: 0.5200272\ttotal: 36.2s\tremaining: 9.81s\n",
      "236:\tlearn: 0.5198990\ttotal: 36.4s\tremaining: 9.67s\n",
      "237:\tlearn: 0.5194546\ttotal: 36.6s\tremaining: 9.52s\n",
      "238:\tlearn: 0.5191875\ttotal: 36.7s\tremaining: 9.38s\n",
      "239:\tlearn: 0.5188243\ttotal: 36.9s\tremaining: 9.23s\n",
      "240:\tlearn: 0.5186851\ttotal: 37.1s\tremaining: 9.09s\n",
      "241:\tlearn: 0.5186293\ttotal: 37.3s\tremaining: 8.94s\n",
      "242:\tlearn: 0.5183935\ttotal: 37.5s\tremaining: 8.8s\n",
      "243:\tlearn: 0.5182605\ttotal: 37.7s\tremaining: 8.65s\n",
      "244:\tlearn: 0.5181725\ttotal: 37.9s\tremaining: 8.51s\n",
      "245:\tlearn: 0.5179054\ttotal: 38.1s\tremaining: 8.36s\n",
      "246:\tlearn: 0.5176530\ttotal: 38.3s\tremaining: 8.21s\n",
      "247:\tlearn: 0.5174353\ttotal: 38.5s\tremaining: 8.07s\n",
      "248:\tlearn: 0.5172376\ttotal: 38.6s\tremaining: 7.92s\n",
      "249:\tlearn: 0.5170402\ttotal: 38.8s\tremaining: 7.76s\n",
      "250:\tlearn: 0.5168081\ttotal: 39s\tremaining: 7.61s\n",
      "251:\tlearn: 0.5164972\ttotal: 39.2s\tremaining: 7.46s\n",
      "252:\tlearn: 0.5162453\ttotal: 39.3s\tremaining: 7.31s\n",
      "253:\tlearn: 0.5161418\ttotal: 39.5s\tremaining: 7.16s\n",
      "254:\tlearn: 0.5159127\ttotal: 39.7s\tremaining: 7.01s\n",
      "255:\tlearn: 0.5156836\ttotal: 39.9s\tremaining: 6.86s\n",
      "256:\tlearn: 0.5155696\ttotal: 40s\tremaining: 6.7s\n",
      "257:\tlearn: 0.5152703\ttotal: 40.2s\tremaining: 6.54s\n",
      "258:\tlearn: 0.5151414\ttotal: 40.4s\tremaining: 6.39s\n",
      "259:\tlearn: 0.5148841\ttotal: 40.5s\tremaining: 6.24s\n",
      "260:\tlearn: 0.5146360\ttotal: 40.7s\tremaining: 6.08s\n",
      "261:\tlearn: 0.5144154\ttotal: 40.9s\tremaining: 5.93s\n",
      "262:\tlearn: 0.5142459\ttotal: 41s\tremaining: 5.77s\n",
      "263:\tlearn: 0.5139433\ttotal: 41.2s\tremaining: 5.62s\n",
      "264:\tlearn: 0.5136678\ttotal: 41.3s\tremaining: 5.46s\n",
      "265:\tlearn: 0.5134174\ttotal: 41.5s\tremaining: 5.31s\n",
      "266:\tlearn: 0.5132074\ttotal: 41.7s\tremaining: 5.15s\n",
      "267:\tlearn: 0.5131294\ttotal: 41.8s\tremaining: 5s\n",
      "268:\tlearn: 0.5129587\ttotal: 42s\tremaining: 4.84s\n",
      "269:\tlearn: 0.5127919\ttotal: 42.1s\tremaining: 4.68s\n",
      "270:\tlearn: 0.5126327\ttotal: 42.3s\tremaining: 4.53s\n",
      "271:\tlearn: 0.5125451\ttotal: 42.5s\tremaining: 4.37s\n",
      "272:\tlearn: 0.5123865\ttotal: 42.6s\tremaining: 4.22s\n",
      "273:\tlearn: 0.5118600\ttotal: 42.8s\tremaining: 4.06s\n",
      "274:\tlearn: 0.5115595\ttotal: 43s\tremaining: 3.91s\n",
      "275:\tlearn: 0.5113276\ttotal: 43.2s\tremaining: 3.76s\n",
      "276:\tlearn: 0.5111920\ttotal: 43.4s\tremaining: 3.6s\n",
      "277:\tlearn: 0.5111078\ttotal: 43.6s\tremaining: 3.45s\n",
      "278:\tlearn: 0.5109530\ttotal: 43.7s\tremaining: 3.29s\n",
      "279:\tlearn: 0.5105686\ttotal: 43.9s\tremaining: 3.14s\n",
      "280:\tlearn: 0.5103718\ttotal: 44.1s\tremaining: 2.98s\n",
      "281:\tlearn: 0.5101983\ttotal: 44.3s\tremaining: 2.83s\n",
      "282:\tlearn: 0.5100844\ttotal: 44.4s\tremaining: 2.67s\n",
      "283:\tlearn: 0.5099696\ttotal: 44.6s\tremaining: 2.51s\n",
      "284:\tlearn: 0.5098088\ttotal: 44.8s\tremaining: 2.35s\n",
      "285:\tlearn: 0.5096311\ttotal: 44.9s\tremaining: 2.2s\n",
      "286:\tlearn: 0.5094336\ttotal: 45.1s\tremaining: 2.04s\n",
      "287:\tlearn: 0.5088428\ttotal: 45.3s\tremaining: 1.89s\n",
      "288:\tlearn: 0.5086160\ttotal: 45.4s\tremaining: 1.73s\n",
      "289:\tlearn: 0.5082334\ttotal: 45.6s\tremaining: 1.57s\n",
      "290:\tlearn: 0.5081991\ttotal: 45.8s\tremaining: 1.42s\n",
      "291:\tlearn: 0.5080146\ttotal: 45.9s\tremaining: 1.26s\n",
      "292:\tlearn: 0.5078996\ttotal: 46.1s\tremaining: 1.1s\n",
      "293:\tlearn: 0.5077302\ttotal: 46.2s\tremaining: 943ms\n",
      "294:\tlearn: 0.5074808\ttotal: 46.4s\tremaining: 786ms\n",
      "295:\tlearn: 0.5073494\ttotal: 46.5s\tremaining: 629ms\n",
      "296:\tlearn: 0.5071527\ttotal: 46.7s\tremaining: 472ms\n",
      "297:\tlearn: 0.5070558\ttotal: 46.9s\tremaining: 315ms\n",
      "298:\tlearn: 0.5069243\ttotal: 47s\tremaining: 157ms\n",
      "299:\tlearn: 0.5067015\ttotal: 47.2s\tremaining: 0us\n"
     ]
    },
    {
     "data": {
      "text/plain": [
       "0.62985958662246"
      ]
     },
     "execution_count": 59,
     "metadata": {},
     "output_type": "execute_result"
    }
   ],
   "source": [
    "from catboost import CatBoostClassifier\n",
    "import numpy as np\n",
    "model = CatBoostClassifier\n",
    "params = {'depth':[2, 3, 4],\n",
    "          'loss_function': ['Logloss', 'CrossEntropy'],\n",
    "          'l2_leaf_reg':np.logspace(-20, -19, 3)}\n",
    "# param = catboost_GridSearchCV(X_train, y_train, X_test, params, cat_features)\n",
    "cat = CatBoostClassifier(iterations=300,\n",
    "                         depth=4,\n",
    "                         learning_rate=0.1,\n",
    "                         l2_leaf_reg = 3.5,\n",
    "                         class_weights=[2,25,3],\n",
    "                         leaf_estimation_iterations = 10)\n",
    "cat.fit(X_train,y_train)        \n",
    "y_pred = cat.predict(X_test)\n",
    "accuracy = f1_score(y_test, y_pred,average='macro')\n",
    "accuracy\n",
    "# CatBoostError: To employ param {'use_best_model': True} provide non-empty 'eval_set'.\n",
    "\n",
    "\n",
    "# {\"1\":2,\"3\":4.3,\"2\":25.1}"
   ]
  },
  {
   "cell_type": "code",
   "execution_count": 60,
   "metadata": {},
   "outputs": [
    {
     "data": {
      "text/plain": [
       "Text(0.5, 87.0, 'Predicted')"
      ]
     },
     "execution_count": 60,
     "metadata": {},
     "output_type": "execute_result"
    },
    {
     "data": {
      "image/png": "[encoded data removed]",
      "text/plain": [
       "<Figure size 864x864 with 2 Axes>"
      ]
     },
     "metadata": {
      "needs_background": "light"
     },
     "output_type": "display_data"
    }
   ],
   "source": [
    "c = confusion_matrix(y_test,y_pred)\n",
    "#normalize\n",
    "cm = c.astype('float')/c.sum(axis=1)[:, np.newaxis]\n",
    "fig,ax = plt.subplots(figsize=(12,12))\n",
    "ax = sns.heatmap(cm,annot=True, fmt= '.2f',xticklabels=labels,yticklabels=labels)\n",
    "#new matplotlib version cuts off part of first and last row, fixing this\n",
    "bottom, top = ax.get_ylim()\n",
    "ax.set_ylim(bottom + 0.5, top - 0.5)\n",
    "plt.ylabel('Actual')\n",
    "plt.xlabel('Predicted')"
   ]
  },
  {
   "cell_type": "code",
   "execution_count": 61,
   "metadata": {},
   "outputs": [
    {
     "data": {
      "text/plain": [
       "['catmodel.pkl']"
      ]
     },
     "execution_count": 61,
     "metadata": {},
     "output_type": "execute_result"
    }
   ],
   "source": [
    "import pickle\n",
    "import joblib\n",
    "joblib.dump(cat,\"catmodel.pkl\")\n",
    "\n"
   ]
  },
  {
   "cell_type": "code",
   "execution_count": 62,
   "metadata": {},
   "outputs": [
    {
     "data": {
      "text/plain": [
       "array(['James Jackson', 'Vern Earwood', 'Shawn Gates', 'Ryan Edwards',\n",
       "       'Allen Campoy Ruiz', 'Eddie Sisneros', 'Jerry Forrest',\n",
       "       'Ryan Parker', 'Bryan Canady', 'Khalil Brown', 'Lamarco Ellis',\n",
       "       'Demonte Cherry', 'Demetrius Shaw', 'Styris Horne', 'Thomas Hobbs',\n",
       "       'Paris Liles', 'Kwasi Horton', 'Danny Kelly', 'Chandler Cole',\n",
       "       'Mike Balogun', 'Jairus Gladney', 'Nathaniel Copeland',\n",
       "       'Joel Caudle', 'George Harris', 'Sherman Artis Jr',\n",
       "       'Princess Hairston', 'Hasim Rahman Jr', 'Nick Kisner',\n",
       "       'Chandler Whitfield', 'Brian Haneschlager', 'Colby Madison',\n",
       "       'Quian Davis', 'Jordan Mitchell', 'Satori Ashley',\n",
       "       'Stefan Talabisco', 'Anthony Caputo Smith', 'Chazz Witherspoon',\n",
       "       'Joshua Tufte', 'Sahret Delgado', 'Jerome Morris', 'Joey Dawejko',\n",
       "       'Darmani Rock', 'Sonny Conto', 'Carlette Ewell', 'Yohan Banks',\n",
       "       'Paul Koon', 'Edward Hood', 'Izim Izbaki', 'Ron Blair',\n",
       "       'Kendrick Houston', 'Damion Reed', 'Tyrone Williams',\n",
       "       'Travis Kauffman', 'Mose Smith', 'Kwame Benson', 'Milton Martin',\n",
       "       'Shawn Laughery', 'Stanley Wright', 'Seini Draughn',\n",
       "       'Willie Harvey', 'Jeremiah Karpency', 'Joe Hill',\n",
       "       'Michael Polite Coffie', 'Nkosi Solomon', 'Nicoy Clarke',\n",
       "       'Corey Morley', 'George Arias', 'Stephen Kirnon', 'Norman Neely',\n",
       "       'Dell Long', 'Tim Farnsworth', 'Don Haynesworth', 'Michael Manna',\n",
       "       'Moses Johnson', 'Lamont Capers', 'Machiavelli Farrakhan Siberius',\n",
       "       'Davey Louis Vega Sanabria', 'Travis Clark', 'Ryan Covert',\n",
       "       'Dustin Long', 'Maurice Jones', 'Tim Skolnik', 'Chris Brown',\n",
       "       'Cory Phelps', 'Luke Lyons', 'Rocco Nolfi', 'Anthony Congemi',\n",
       "       'Daniel Infante', 'Marlon Williams', 'Cory Schooley',\n",
       "       'Davmond Carter', 'Brandon Spencer', 'Tyrone Guy', 'Tim Bronson',\n",
       "       'Brandon Lynch', 'Lawrence Gabriel', 'Jean Pierre Augustin',\n",
       "       'Roney Hines', 'Omari Braxton', 'James Advincola', 'Jimmie Levins',\n",
       "       'Owen Minor', 'Jake Paradise', 'Justin Richwine', 'Huston Crayton',\n",
       "       'Sam Shewmaker', 'Rodriguez Cade', 'Jeremiah Williams',\n",
       "       'Antwaun Taylor', 'Santino Turnbow', 'Shaun Seymore',\n",
       "       'Michael Davis', 'Joe Gagliardi Jr', 'Kevin Johnson',\n",
       "       'Joseph Raposo', 'Larry Knight', 'Alexis Santos', 'Terrence Hoges',\n",
       "       'Alex Ajabor', 'Cassius Anderson', 'Marquis Valentine',\n",
       "       'Jared Anderson', 'Carlouse Welch', 'Devin Vargas',\n",
       "       'Cleveland Billingsly III', 'Craig Lewis', 'Armonte Summers',\n",
       "       'Henry Wright', 'Chris Vendola', 'Monika Harrison',\n",
       "       'Timothy Moten', 'Deshawn Ross', 'Michael Sunkett',\n",
       "       'Robert Taylor', 'Dylan Courson', 'Curtis Head', 'Matthew Price',\n",
       "       'Darryl Madison', 'Keith Rydell Mayes Jr', 'Willie Jake Jr',\n",
       "       'Jermaine Harris', 'Dell Sefton', 'Jermaine Franklin',\n",
       "       'Alfred Lewis', 'Nate Heaven', 'Kahlil Smoot', 'Jason Bergman',\n",
       "       'Justin Rolfe', 'Gary Kelly', 'Robert Alfonso', 'Amron Sands',\n",
       "       'Luis Molina-Quinones', 'Unjel Pedford', 'Ivan Dychko',\n",
       "       'Michael Marrone', 'Charles Brown', 'Shawndell Terell Winters',\n",
       "       'Danny Calhoun', 'Matt Cameron', 'Francois Russell',\n",
       "       'Nathan Bedwell', 'Junior Anthony Wright', 'Mike Bissett',\n",
       "       'Alejandro Esquilin Santiago', 'Dustin Nichols', 'Jake Reeves',\n",
       "       'Carl Martin', 'David Mundell', 'Raymond Ochieng',\n",
       "       'Dieuly Aristilde', 'Mike Delshaun Ford', 'Anthony Hollaway',\n",
       "       'Deshaun Fowler', 'Stephan Shaw', 'Ed Fountain', 'Lamar Harris',\n",
       "       'Chris Beal', 'Wilmer Vasquez', 'Hector Perez', 'Skylar Thompson',\n",
       "       'Grover Young', 'Wade Bruins', 'Thomas Jones', 'Matthew Greer',\n",
       "       'Tyrone Spong', 'Carlos Negron', 'Ruslan Myrsatayev',\n",
       "       'Hector Hodge', 'Raphael Akpejiori', 'Joseph White',\n",
       "       'Anthony Martinez', 'Paolo Parente', 'Kendall Porter',\n",
       "       'Terrell Jamal Woods', 'Andre Brewer', 'Vercell Webster',\n",
       "       'Johan Lopez', 'Daisha Duran', 'Brant Dooley', 'Jason Saxbury',\n",
       "       'Eddie Jones', 'Leroy Childs', 'Lamar Lewis', 'Maurice Hicks',\n",
       "       'Steven Lyons', 'Keenan Hickmon', 'Harris Tucker',\n",
       "       'Jonathon Guidry', 'Tristan James', 'Steve Henderson',\n",
       "       'Richard Carmack', 'Jody Lee Linthicum', 'Brandon Carmack',\n",
       "       'Brian Imes', 'Preston King', 'James McKenzie Morrison',\n",
       "       'Dakota Talbott', 'Rick Reed', 'Joshua Brown', 'James Roe',\n",
       "       'Phillip Latu', 'Dwight Gipson', 'Ryan Watson', 'Nick Guivas',\n",
       "       'Wayman Carter', 'Lawrence Subelka', 'Trey Lippe', 'Jamie Black',\n",
       "       'Rashard Readus', 'Jonathan Hill', 'Aaron Chavers',\n",
       "       'Mark Anthony Montemayor', \"La'Vonte Jackson\", 'Jonathan Foreman',\n",
       "       'Gregory Corbin', 'Justin Jones', 'Maurenzo Smith',\n",
       "       'Michael Matulis', 'Michael Lamar Johnson', 'Thomas Hawkins',\n",
       "       'Yondell Johnson', 'Thomas Moreno', 'Chase Beach', 'Calvin Albrow',\n",
       "       'Jesse Smith', 'Cornelius Hayes', 'Juan Torres', 'Efe Ajagba',\n",
       "       'Matthew Shefferd', 'Deon Ronny Hale', 'Lester De Paz',\n",
       "       'Greg Richter', 'Ernest Reyna', 'Juan Abel Garza',\n",
       "       'Tyrrell Anthony Herndon', 'Vaughn Parham', 'Matthew Jones',\n",
       "       'Joshua Romero', 'Aaron Johnson', 'Matthew Glover', 'John King',\n",
       "       'Eric Lunsford', 'Rolando Soto', 'Omar Acosta', 'Juan Guajardo',\n",
       "       'Nicholas Tipton', 'Bryan Butler', 'Roman Huerta',\n",
       "       'Corey Williams', 'Mark Martinez', 'Ruben Sanchez', 'Amil Ramos',\n",
       "       'Anjel Osiris', 'Rodolzo Damahl Lewis', 'Heath Soderstrom',\n",
       "       'Kenny Lemos', 'Khalid Smith', 'Isiah Barela', 'David Salazar',\n",
       "       'Dustin Jacoby', 'Dakota Witkopf', 'Donald Pierce', 'Juan Molina',\n",
       "       'Cody Terry East', 'Ronald Baca', 'Trevor Pasha',\n",
       "       'Eric Clive Wahlin', 'Helaman Olguin', 'Edgar Medina',\n",
       "       'Dante Stone', 'Waldo Cortes Acosta', 'Adam Stewart', 'Chad Davis',\n",
       "       'Kingsley Ibeh', 'Dale Sopi', 'Daniel Felix Franco',\n",
       "       'Roberto Thomas White', 'Michael Hunter', 'Ronald Johnson',\n",
       "       'Raphael Zumbano', 'Patrick Mailata', 'Christopher Lovejoy',\n",
       "       'Lorissa Rivas Wallace', 'Antonio Johnson', 'Nadia Meknouzi',\n",
       "       'Joseph Jones', 'Joshua Parrott', 'Justin Kehoe', 'Jose Galaviz',\n",
       "       'Bernardo Marquez', 'Saul Castro', 'Jaudiel Zepeda', 'Tony Lopez',\n",
       "       'Jared Torgeson', 'Oscar Torrez', 'Alexander Flores',\n",
       "       'Gabriel Hernandez', 'Rafael Rios', 'Ivan Pineda',\n",
       "       'Anafernanda Reyes', 'Matt McKinney', 'Dave Mbah', 'Samuel Miller',\n",
       "       'Eric Pen', 'Fernando Caro', 'Ali Colon', 'Jonathan Alas',\n",
       "       'Ignacio Zambrano', 'Iago Kiladze', 'Avery Gibson',\n",
       "       'Christopher Rueda', 'Razvan Cojanu', 'James Wilson',\n",
       "       \"George Fa'avae\", 'Jason Soto', 'Daniel Ramirez', 'Andrew Chatman',\n",
       "       'Isaac Razo', 'Miguel Puente Jr Flores', 'Nicholas Mills',\n",
       "       'Rodney Hernandez', 'George Thompson', 'Evan Gubera',\n",
       "       'Donovan Dennis', 'Joe Cusumano', 'Amir Mansour',\n",
       "       'Brendan Barrett', 'Bryant Jennings', 'Daniel Martz', 'Joe Hanks',\n",
       "       'Jarrell Miller', 'Adam Kownacki', 'Bakhodir Jalolov',\n",
       "       'Anthony Williams', 'Cassius Chaney', 'Ray Austin', 'Steve Vukosa',\n",
       "       'Rydell Booker', 'Rubin Williams', 'Michael Shanks',\n",
       "       'Sherman Williams', 'Deontay Wilder', 'Marvin Hunt',\n",
       "       'Alfredo Cervantes', 'Willie Kyles', 'Luis Ortiz', 'Travis Fulton',\n",
       "       'Byron Polley', 'Stacy Frazier', 'Nick Jones', 'Dominick Guinn',\n",
       "       'Rodney Moore', 'Corey Barlow', 'Oliver McCall', 'Eric Molina',\n",
       "       'Shidevin Brown', 'Carlos Sandoval', 'Carlos Takam',\n",
       "       'Bermane Stiverne', 'Samuel Peter', 'Frank Sanchez Faure'],\n",
       "      dtype=object)"
      ]
     },
     "execution_count": 62,
     "metadata": {},
     "output_type": "execute_result"
    }
   ],
   "source": [
    "a = dataset[dataset['division'] == 'heavy']\n",
    "a['name'].unique()"
   ]
  },
  {
   "cell_type": "code",
   "execution_count": null,
   "metadata": {},
   "outputs": [],
   "source": []
  }
 ],
 "metadata": {
  "kernelspec": {
   "display_name": "Python 3",
   "language": "python",
   "name": "python3"
  },
  "language_info": {
   "codemirror_mode": {
    "name": "ipython",
    "version": 3
   },
   "file_extension": ".py",
   "mimetype": "text/x-python",
   "name": "python",
   "nbconvert_exporter": "python",
   "pygments_lexer": "ipython3",
   "version": "3.7.4"
  }
 },
 "nbformat": 4,
 "nbformat_minor": 2
}
