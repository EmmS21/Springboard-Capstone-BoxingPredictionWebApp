{
 "cells": [
  {
   "cell_type": "code",
   "execution_count": 1,
   "metadata": {},
   "outputs": [],
   "source": [
    "import pandas as pd \n",
    "import numpy as np"
   ]
  },
  {
   "cell_type": "code",
   "execution_count": 2,
   "metadata": {},
   "outputs": [
    {
     "name": "stderr",
     "output_type": "stream",
     "text": [
      "C:\\Users\\User\\Anaconda3\\lib\\site-packages\\IPython\\core\\interactiveshell.py:3058: DtypeWarning: Columns (697,700,717,734,751,759,760,762,763,764,765,766,767,768,769,770,771,772,773,775,776,777,779,780,781,782,783,784,785,786,787,788,789,790,792,793,794,796,797,798,799,800,801,802,803,804,805,806,807,809,810,811,813,814,815,816,817,818,819,820,821,822,823,824,826,827,828,830,831,832,833,834,835,836,837,838,839,840,841,843,844,845,847,848,849,850,851,852,853,854,855,856,857,858,860,861,862,864,865,866,867,868,869,870,871,872,873,874,875,877,878,879,881,882,883,884,885,886,887,888,889,890,891,892,894,895,896,898,899,900,901,902,903,904,905,906,907,908,909,911,912,913,915,916,917,918,919,920,921,922,923,924,925,926,928,929,930,932,933,934,935,936,937,938,939,940,941,942,943,945,946,947,949,950,951,952,953,954,955,956,957,958,959,960,962,963,964,966,967,968,969,970,971,972,973,974,975,976,977,979,980,981,983,984,985,986,987,988,989,990,991,992,993,994,996,997,998,1000,1001,1002,1003,1004,1005,1006,1007,1008,1009,1010,1011,1013,1014,1015,1017,1018,1019,1020,1021,1022,1023,1024,1025,1026,1027,1028,1030,1031,1032,1034,1035,1036,1037,1038,1039,1040,1041,1042,1043,1044,1045,1047,1048,1049,1051,1052,1053,1054,1055,1056,1057,1058,1059,1060,1061,1062,1064,1065,1066,1068,1069,1070,1071,1072,1073,1075,1076,1077,1078,1079,1081,1082,1083,1085,1086,1087,1089,1090,1092,1093,1094,1095,1096,1098,1099,1100,1102,1103,1104,1106,1107,1109,1110,1111,1112,1113,1115,1116,1117,1119,1120,1121,1123,1124,1126,1127,1128,1129,1130,1132,1133,1134,1136,1137,1138,1140,1141,1143,1144,1145,1146,1147,1149,1150,1151,1153,1154,1155,1156,1157,1158,1160,1161,1162,1163,1164,1166,1167,1168,1170,1171,1172,1174,1175,1177,1178,1179,1180,1181,1183,1184,1185,1187,1188,1189,1190,1191,1192,1194,1195,1196,1197,1198,1200,1201,1202,1204,1205,1206,1207,1208,1209,1211,1212,1213,1214,1215,1217,1218,1219,1221,1222,1223,1225,1226,1228,1229,1230,1231,1232,1234,1235,1236,1238,1239,1240,1241,1242,1243,1245,1246,1247,1248,1249,1251,1252,1253,1255,1256,1257,1258,1259,1260,1262,1263,1264,1265,1266,1268,1269,1270,1272,1273,1274,1276,1277,1279,1280,1281,1282,1283,1285,1286,1287,1289,1290,1291,1293,1294,1296,1297,1298,1299,1300,1302) have mixed types. Specify dtype option on import or set low_memory=False.\n",
      "  interactivity=interactivity, compiler=compiler, result=result)\n"
     ]
    }
   ],
   "source": [
    "data = pd.read_csv('https://raw.githubusercontent.com/EmmS21/SpringboardCapstoneBoxingPredictionWebApp/master/boxingdata/visuals.csv')\n",
    "data['bouts_fought'] = data['w'].astype('float')+data['l'].astype('float')+data['d'].astype('float')"
   ]
  },
  {
   "cell_type": "code",
   "execution_count": 3,
   "metadata": {},
   "outputs": [],
   "source": [
    "#merge data to get fighter stance and age\n",
    "new = pd.read_csv('C:\\\\Users\\\\User\\\\Downloads\\\\player_profile.csv')\n",
    "merged_df = pd.merge(data,new[['stance','age','Name']],left_on='name',right_on='Name',how ='left')"
   ]
  },
  {
   "cell_type": "code",
   "execution_count": 4,
   "metadata": {},
   "outputs": [],
   "source": [
    "merged_df['stance'].fillna('unknown',inplace=True)"
   ]
  },
  {
   "cell_type": "code",
   "execution_count": 5,
   "metadata": {},
   "outputs": [],
   "source": [
    "#get the name of the each opponent the boxer has fought \n",
    "second_name = ['secondBoxer'+str(i) for i in range(1,85)]\n",
    "def letter_only(col):\n",
    "    return merged_df[col].astype(str).str.replace('\"','').astype(str)\n",
    "for i in second_name:\n",
    "    merged_df[i] = letter_only(str(i))\n"
   ]
  },
  {
   "cell_type": "code",
   "execution_count": 6,
   "metadata": {},
   "outputs": [],
   "source": [
    "#only want to get stance, age and division for now\n",
    "limited = merged_df[['name','stance','age','sex','division']]"
   ]
  },
  {
   "cell_type": "code",
   "execution_count": 7,
   "metadata": {},
   "outputs": [],
   "source": [
    "#get the stance of each opponent a boxer has fought\n",
    "num = 0 \n",
    "for i in second_name:\n",
    "    num +=1\n",
    "    globals () [i] = pd.merge(merged_df[[i,'outcome'+str(num)]],merged_df[['name','stance']],left_on=i,right_on='name',suffixes=('s'+str(num),'opponent'+str(num)))"
   ]
  },
  {
   "cell_type": "code",
   "execution_count": 8,
   "metadata": {},
   "outputs": [],
   "source": [
    "#wide to long\n",
    "fully_merged = pd.concat([limited,secondBoxer1,secondBoxer2,secondBoxer3,secondBoxer4,secondBoxer5,\n",
    "           secondBoxer6,secondBoxer7,secondBoxer8,secondBoxer9,secondBoxer10,\n",
    "           secondBoxer11,secondBoxer12,secondBoxer13,secondBoxer14,secondBoxer15,\n",
    "           secondBoxer16,secondBoxer17,secondBoxer18,secondBoxer19,secondBoxer20,\n",
    "           secondBoxer21,secondBoxer22,secondBoxer23,secondBoxer24,secondBoxer25,\n",
    "           secondBoxer26,secondBoxer27,secondBoxer28,secondBoxer29,secondBoxer30,\n",
    "           secondBoxer31,secondBoxer32,secondBoxer33,secondBoxer34,secondBoxer35,\n",
    "           secondBoxer36,secondBoxer37,secondBoxer38,secondBoxer39,secondBoxer40,\n",
    "           secondBoxer41,secondBoxer42,secondBoxer43,secondBoxer44,secondBoxer45,\n",
    "           secondBoxer46,secondBoxer47,secondBoxer48,secondBoxer49,secondBoxer50,\n",
    "           secondBoxer51,secondBoxer52,secondBoxer53,secondBoxer54,secondBoxer55,\n",
    "           secondBoxer56,secondBoxer57,secondBoxer58,secondBoxer59,secondBoxer60,\n",
    "           secondBoxer61,secondBoxer62,secondBoxer63,secondBoxer64,secondBoxer65,\n",
    "           secondBoxer66,secondBoxer67,secondBoxer68,secondBoxer69,secondBoxer70,\n",
    "           secondBoxer71,secondBoxer72,secondBoxer73,secondBoxer74,secondBoxer75,\n",
    "           secondBoxer76,secondBoxer77,secondBoxer78,secondBoxer79,secondBoxer80,\n",
    "           secondBoxer81,secondBoxer82,secondBoxer83,secondBoxer84],axis=1)"
   ]
  },
  {
   "cell_type": "code",
   "execution_count": 17,
   "metadata": {},
   "outputs": [],
   "source": [
    "#wide to long return count for wins by stance against other stances\n",
    "select_cols = fully_merged.columns.to_series()\n",
    "count = select_cols.groupby(level=0).cumcount().add(1).astype(str)\n",
    "fully_merged.columns = np.where(select_cols == 'name', 'name' + count, select_cols) \n",
    "fully_merged.columns = np.where(select_cols == 'stance', 'stance' + count, select_cols)"
   ]
  },
  {
   "cell_type": "code",
   "execution_count": 20,
   "metadata": {},
   "outputs": [],
   "source": [
    "# #drop extra names column\n",
    "name_lis = ['name'+str(i) for i in range(2,86)]\n",
    "fully_merged.drop(name_lis,axis=1,inplace=True)"
   ]
  },
  {
   "cell_type": "code",
   "execution_count": 21,
   "metadata": {},
   "outputs": [],
   "source": [
    "fully_merged.reset_index(inplace=True)"
   ]
  },
  {
   "cell_type": "code",
   "execution_count": 22,
   "metadata": {},
   "outputs": [],
   "source": [
    "df2 = pd.concat([fully_merged[['name1','stance1','division','secondBoxer1','stance2','outcome1']].rename(columns={'secondBoxer1':'opponent','stance2':'stance.y','outcome1':'outcome'}),\n",
    "                 fully_merged[['name1','stance1','division','secondBoxer2','stance3','outcome2']].rename(columns={'secondBoxer2':'opponent','stance3':'stance.y','outcome2':'outcome'}),\n",
    "                 fully_merged[['name1','stance1','division','secondBoxer3','stance4','outcome3']].rename(columns={'secondBoxer3':'opponent','stance4':'stance.y','outcome3':'outcome'}),\n",
    "                 fully_merged[['name1','stance1','division','secondBoxer4','stance5','outcome4']].rename(columns={'secondBoxer4':'opponent','stance5':'stance.y','outcome4':'outcome'}),\n",
    "                 fully_merged[['name1','stance1','division','secondBoxer5','stance6','outcome5']].rename(columns={'secondBoxer5':'opponent','stance6':'stance.y','outcome5':'outcome'}),\n",
    "                 fully_merged[['name1','stance1','division','secondBoxer6','stance7','outcome6']].rename(columns={'secondBoxer6':'opponent','stance7':'stance.y','outcome6':'outcome'}),\n",
    "                 fully_merged[['name1','stance1','division','secondBoxer7','stance8','outcome7']].rename(columns={'secondBoxer7':'opponent','stance8':'stance.y','outcome7':'outcome'}),\n",
    "                 fully_merged[['name1','stance1','division','secondBoxer8','stance9','outcome8']].rename(columns={'secondBoxer8':'opponent','stance9':'stance.y','outcome8':'outcome'}),\n",
    "                 fully_merged[['name1','stance1','division','secondBoxer9','stance10','outcome9']].rename(columns={'secondBoxer9':'opponent','stance10':'stance.y','outcome9':'outcome'}),\n",
    "                 fully_merged[['name1','stance1','division','secondBoxer10','stance11','outcome10']].rename(columns={'secondBoxer10':'opponent','stance11':'stance.y','outcome10':'outcome'}),\n",
    "                 fully_merged[['name1','stance1','division','secondBoxer11','stance12','outcome11']].rename(columns={'secondBoxer11':'opponent','stance12':'stance.y','outcome11':'outcome'}),\n",
    "                 fully_merged[['name1','stance1','division','secondBoxer12','stance13','outcome12']].rename(columns={'secondBoxer12':'opponent','stance13':'stance.y','outcome12':'outcome'}),\n",
    "                 fully_merged[['name1','stance1','division','secondBoxer13','stance14','outcome13']].rename(columns={'secondBoxer13':'opponent','stance14':'stance.y','outcome13':'outcome'}),\n",
    "                 fully_merged[['name1','stance1','division','secondBoxer14','stance15','outcome14']].rename(columns={'secondBoxer14':'opponent','stance15':'stance.y','outcome14':'outcome'}),\n",
    "                 fully_merged[['name1','stance1','division','secondBoxer15','stance16','outcome15']].rename(columns={'secondBoxer15':'opponent','stance16':'stance.y','outcome15':'outcome'}),\n",
    "                 fully_merged[['name1','stance1','division','secondBoxer16','stance17','outcome16']].rename(columns={'secondBoxer16':'opponent','stance17':'stance.y','outcome16':'outcome'}),\n",
    "                 fully_merged[['name1','stance1','division','secondBoxer17','stance18','outcome17']].rename(columns={'secondBoxer17':'opponent','stance18':'stance.y','outcome17':'outcome'}),\n",
    "                 fully_merged[['name1','stance1','division','secondBoxer18','stance19','outcome18']].rename(columns={'secondBoxer18':'opponent','stance19':'stance.y','outcome18':'outcome'}),\n",
    "                 fully_merged[['name1','stance1','division','secondBoxer19','stance20','outcome19']].rename(columns={'secondBoxer19':'opponent','stance20':'stance.y','outcome19':'outcome'}),\n",
    "                 fully_merged[['name1','stance1','division','secondBoxer20','stance21','outcome20']].rename(columns={'secondBoxer20':'opponent','stance21':'stance.y','outcome20':'outcome'}),\n",
    "                 fully_merged[['name1','stance1','division','secondBoxer21','stance22','outcome21']].rename(columns={'secondBoxer21':'opponent','stance22':'stance.y','outcome21':'outcome'}),\n",
    "                 fully_merged[['name1','stance1','division','secondBoxer22','stance23','outcome22']].rename(columns={'secondBoxer22':'opponent','stance23':'stance.y','outcome22':'outcome'}),\n",
    "                 fully_merged[['name1','stance1','division','secondBoxer23','stance24','outcome23']].rename(columns={'secondBoxer23':'opponent','stance24':'stance.y','outcome23':'outcome'}),\n",
    "                 fully_merged[['name1','stance1','division','secondBoxer24','stance25','outcome24']].rename(columns={'secondBoxer24':'opponent','stance25':'stance.y','outcome24':'outcome'}),\n",
    "                 fully_merged[['name1','stance1','division','secondBoxer25','stance26','outcome25']].rename(columns={'secondBoxer25':'opponent','stance26':'stance.y','outcome25':'outcome'}),\n",
    "                 fully_merged[['name1','stance1','division','secondBoxer26','stance27','outcome26']].rename(columns={'secondBoxer26':'opponent','stance27':'stance.y','outcome26':'outcome'}),\n",
    "                 fully_merged[['name1','stance1','division','secondBoxer27','stance28','outcome27']].rename(columns={'secondBoxer27':'opponent','stance28':'stance.y','outcome27':'outcome'}),\n",
    "                 fully_merged[['name1','stance1','division','secondBoxer28','stance29','outcome28']].rename(columns={'secondBoxer28':'opponent','stance29':'stance.y','outcome28':'outcome'}),\n",
    "                 fully_merged[['name1','stance1','division','secondBoxer29','stance30','outcome29']].rename(columns={'secondBoxer29':'opponent','stance30':'stance.y','outcome29':'outcome'}),\n",
    "                 fully_merged[['name1','stance1','division','secondBoxer30','stance31','outcome30']].rename(columns={'secondBoxer30':'opponent','stance31':'stance.y','outcome30':'outcome'}),\n",
    "                 fully_merged[['name1','stance1','division','secondBoxer31','stance32','outcome31']].rename(columns={'secondBoxer31':'opponent','stance32':'stance.y','outcome31':'outcome'}),\n",
    "                 fully_merged[['name1','stance1','division','secondBoxer32','stance33','outcome32']].rename(columns={'secondBoxer32':'opponent','stance33':'stance.y','outcome32':'outcome'}),\n",
    "                 fully_merged[['name1','stance1','division','secondBoxer33','stance34','outcome33']].rename(columns={'secondBoxer33':'opponent','stance34':'stance.y','outcome33':'outcome'}),\n",
    "                 fully_merged[['name1','stance1','division','secondBoxer34','stance35','outcome34']].rename(columns={'secondBoxer34':'opponent','stance35':'stance.y','outcome34':'outcome'}),\n",
    "                 fully_merged[['name1','stance1','division','secondBoxer35','stance36','outcome35']].rename(columns={'secondBoxer35':'opponent','stance36':'stance.y','outcome35':'outcome'}),\n",
    "                 fully_merged[['name1','stance1','division','secondBoxer36','stance37','outcome36']].rename(columns={'secondBoxer36':'opponent','stance37':'stance.y','outcome36':'outcome'}),\n",
    "                 fully_merged[['name1','stance1','division','secondBoxer37','stance38','outcome37']].rename(columns={'secondBoxer37':'opponent','stance38':'stance.y','outcome37':'outcome'}),\n",
    "                 fully_merged[['name1','stance1','division','secondBoxer38','stance39','outcome38']].rename(columns={'secondBoxer38':'opponent','stance39':'stance.y','outcome38':'outcome'}),\n",
    "                 fully_merged[['name1','stance1','division','secondBoxer39','stance40','outcome39']].rename(columns={'secondBoxer39':'opponent','stance40':'stance.y','outcome39':'outcome'}),\n",
    "                 fully_merged[['name1','stance1','division','secondBoxer40','stance41','outcome40']].rename(columns={'secondBoxer40':'opponent','stance41':'stance.y','outcome40':'outcome'}),\n",
    "                 fully_merged[['name1','stance1','division','secondBoxer41','stance42','outcome41']].rename(columns={'secondBoxer41':'opponent','stance42':'stance.y','outcome41':'outcome'}),\n",
    "                 fully_merged[['name1','stance1','division','secondBoxer42','stance43','outcome42']].rename(columns={'secondBoxer42':'opponent','stance43':'stance.y','outcome42':'outcome'}),\n",
    "                 fully_merged[['name1','stance1','division','secondBoxer43','stance44','outcome43']].rename(columns={'secondBoxer43':'opponent','stance44':'stance.y','outcome43':'outcome'}),\n",
    "                 fully_merged[['name1','stance1','division','secondBoxer44','stance45','outcome44']].rename(columns={'secondBoxer44':'opponent','stance45':'stance.y','outcome44':'outcome'}),\n",
    "                 fully_merged[['name1','stance1','division','secondBoxer45','stance46','outcome45']].rename(columns={'secondBoxer45':'opponent','stance46':'stance.y','outcome45':'outcome'}),\n",
    "                 fully_merged[['name1','stance1','division','secondBoxer46','stance47','outcome46']].rename(columns={'secondBoxer46':'opponent','stance47':'stance.y','outcome46':'outcome'}),\n",
    "                 fully_merged[['name1','stance1','division','secondBoxer47','stance48','outcome47']].rename(columns={'secondBoxer47':'opponent','stance48':'stance.y','outcome47':'outcome'}),\n",
    "                 fully_merged[['name1','stance1','division','secondBoxer48','stance49','outcome48']].rename(columns={'secondBoxer48':'opponent','stance49':'stance.y','outcome48':'outcome'}),\n",
    "                 fully_merged[['name1','stance1','division','secondBoxer49','stance50','outcome49']].rename(columns={'secondBoxer49':'opponent','stance50':'stance.y','outcome49':'outcome'}),\n",
    "                 fully_merged[['name1','stance1','division','secondBoxer50','stance51','outcome50']].rename(columns={'secondBoxer50':'opponent','stance51':'stance.y','outcome50':'outcome'}),\n",
    "                 fully_merged[['name1','stance1','division','secondBoxer51','stance52','outcome51']].rename(columns={'secondBoxer51':'opponent','stance52':'stance.y','outcome51':'outcome'}),\n",
    "                 fully_merged[['name1','stance1','division','secondBoxer52','stance53','outcome52']].rename(columns={'secondBoxer52':'opponent','stance53':'stance.y','outcome52':'outcome'}),\n",
    "                 fully_merged[['name1','stance1','division','secondBoxer53','stance54','outcome53']].rename(columns={'secondBoxer53':'opponent','stance54':'stance.y','outcome53':'outcome'}),\n",
    "                 fully_merged[['name1','stance1','division','secondBoxer54','stance55','outcome54']].rename(columns={'secondBoxer54':'opponent','stance55':'stance.y','outcome54':'outcome'}),\n",
    "                 fully_merged[['name1','stance1','division','secondBoxer55','stance56','outcome55']].rename(columns={'secondBoxer55':'opponent','stance56':'stance.y','outcome55':'outcome'}),\n",
    "                 fully_merged[['name1','stance1','division','secondBoxer56','stance57','outcome56']].rename(columns={'secondBoxer56':'opponent','stance57':'stance.y','outcome56':'outcome'}),\n",
    "                 fully_merged[['name1','stance1','division','secondBoxer57','stance58','outcome57']].rename(columns={'secondBoxer57':'opponent','stance58':'stance.y','outcome57':'outcome'}),\n",
    "                 fully_merged[['name1','stance1','division','secondBoxer58','stance59','outcome58']].rename(columns={'secondBoxer58':'opponent','stance59':'stance.y','outcome58':'outcome'}),\n",
    "                 fully_merged[['name1','stance1','division','secondBoxer59','stance60','outcome59']].rename(columns={'secondBoxer59':'opponent','stance60':'stance.y','outcome59':'outcome'}),\n",
    "                 fully_merged[['name1','stance1','division','secondBoxer60','stance61','outcome60']].rename(columns={'secondBoxer60':'opponent','stance61':'stance.y','outcome60':'outcome'}),\n",
    "                 fully_merged[['name1','stance1','division','secondBoxer61','stance62','outcome61']].rename(columns={'secondBoxer61':'opponent','stance62':'stance.y','outcome61':'outcome'}),\n",
    "                 fully_merged[['name1','stance1','division','secondBoxer62','stance63','outcome62']].rename(columns={'secondBoxer62':'opponent','stance63':'stance.y','outcome62':'outcome'}),\n",
    "                 fully_merged[['name1','stance1','division','secondBoxer63','stance64','outcome63']].rename(columns={'secondBoxer63':'opponent','stance64':'stance.y','outcome63':'outcome'}),\n",
    "                 fully_merged[['name1','stance1','division','secondBoxer64','stance65','outcome64']].rename(columns={'secondBoxer64':'opponent','stance65':'stance.y','outcome64':'outcome'}),\n",
    "                 fully_merged[['name1','stance1','division','secondBoxer65','stance66','outcome65']].rename(columns={'secondBoxer65':'opponent','stance66':'stance.y','outcome65':'outcome'}),\n",
    "                 fully_merged[['name1','stance1','division','secondBoxer66','stance67','outcome66']].rename(columns={'secondBoxer66':'opponent','stance67':'stance.y','outcome66':'outcome'}),\n",
    "                 fully_merged[['name1','stance1','division','secondBoxer67','stance68','outcome67']].rename(columns={'secondBoxer67':'opponent','stance68':'stance.y','outcome67':'outcome'}),\n",
    "                 fully_merged[['name1','stance1','division','secondBoxer68','stance69','outcome68']].rename(columns={'secondBoxer68':'opponent','stance69':'stance.y','outcome68':'outcome'}),\n",
    "                 fully_merged[['name1','stance1','division','secondBoxer69','stance70','outcome69']].rename(columns={'secondBoxer69':'opponent','stance70':'stance.y','outcome69':'outcome'}),\n",
    "                 fully_merged[['name1','stance1','division','secondBoxer70','stance71','outcome70']].rename(columns={'secondBoxer70':'opponent','stance71':'stance.y','outcome70':'outcome'}),\n",
    "                 fully_merged[['name1','stance1','division','secondBoxer71','stance72','outcome71']].rename(columns={'secondBoxer71':'opponent','stance72':'stance.y','outcome71':'outcome'}),\n",
    "                 fully_merged[['name1','stance1','division','secondBoxer72','stance73','outcome72']].rename(columns={'secondBoxer72':'opponent','stance73':'stance.y','outcome72':'outcome'}),\n",
    "                 fully_merged[['name1','stance1','division','secondBoxer73','stance74','outcome73']].rename(columns={'secondBoxer73':'opponent','stance74':'stance.y','outcome73':'outcome'}),\n",
    "                 fully_merged[['name1','stance1','division','secondBoxer74','stance75','outcome74']].rename(columns={'secondBoxer74':'opponent','stance75':'stance.y','outcome74':'outcome'}),\n",
    "                 fully_merged[['name1','stance1','division','secondBoxer75','stance76','outcome75']].rename(columns={'secondBoxer75':'opponent','stance76':'stance.y','outcome75':'outcome'}),\n",
    "                 fully_merged[['name1','stance1','division','secondBoxer76','stance77','outcome76']].rename(columns={'secondBoxer76':'opponent','stance77':'stance.y','outcome76':'outcome'}),\n",
    "                 fully_merged[['name1','stance1','division','secondBoxer77','stance78','outcome77']].rename(columns={'secondBoxer77':'opponent','stance78':'stance.y','outcome77':'outcome'}),\n",
    "                 fully_merged[['name1','stance1','division','secondBoxer78','stance79','outcome78']].rename(columns={'secondBoxer78':'opponent','stance79':'stance.y','outcome78':'outcome'}),\n",
    "                 fully_merged[['name1','stance1','division','secondBoxer79','stance80','outcome79']].rename(columns={'secondBoxer79':'opponent','stance80':'stance.y','outcome79':'outcome'}),\n",
    "                 fully_merged[['name1','stance1','division','secondBoxer80','stance81','outcome80']].rename(columns={'secondBoxer80':'opponent','stance81':'stance.y','outcome80':'outcome'}),\n",
    "                 fully_merged[['name1','stance1','division','secondBoxer81','stance82','outcome81']].rename(columns={'secondBoxer81':'opponent','stance82':'stance.y','outcome81':'outcome'}),\n",
    "                 fully_merged[['name1','stance1','division','secondBoxer82','stance83','outcome82']].rename(columns={'secondBoxer82':'opponent','stance83':'stance.y','outcome82':'outcome'}),\n",
    "                 fully_merged[['name1','stance1','division','secondBoxer83','stance84','outcome83']].rename(columns={'secondBoxer83':'opponent','stance84':'stance.y','outcome83':'outcome'}),\n",
    "                 fully_merged[['name1','stance1','division','secondBoxer84','stance85','outcome84']].rename(columns={'secondBoxer84':'opponent','stance85':'stance.y','outcome84':'outcome'})])"
   ]
  },
  {
   "cell_type": "code",
   "execution_count": 23,
   "metadata": {},
   "outputs": [],
   "source": [
    "#remove quotation markes and replace nan values with unknown\n",
    "df2['outcome'] = df2['outcome'].str.replace('\"','')\n",
    "df2[['outcome','division']] = df2[['outcome','division']].fillna('unknown')\n",
    "#for wins by stance\n",
    "df3 = df2[df2['outcome'].str.contains('win')].groupby(['stance1', 'stance.y','division'])['outcome'].count().reset_index()"
   ]
  },
  {
   "cell_type": "code",
   "execution_count": 24,
   "metadata": {},
   "outputs": [],
   "source": [
    "#realised that I also wanted a gender filter for my visualisations\n",
    "x = df2.merge(fully_merged[['name1','age','sex']], on = 'name1')\n",
    "x = x.reindex(columns=['name1','age','stance1','division','opponent','stance.y','outcome'])\n",
    "x = x.merge(fully_merged[['name1','age']], left_on= 'opponent',right_on='name1')\n",
    "x = x.merge(data[['name','sex']],left_on='name1_x',right_on='name')\n",
    "x = x.reindex(columns=['name1_x','age_x','sex','stance1','division','opponent','stance.y','outcome','name1_y','age_y','sex'])\n",
    "x = x.rename(columns = {'name1_x':'name','age_x':'age',})\n",
    "# #this is to return a heatmap showing wins by stance comparison\n",
    "# x.to_csv('C:\\\\Users\\\\User\\\\long_formadata2.csv')"
   ]
  },
  {
   "cell_type": "code",
   "execution_count": 25,
   "metadata": {},
   "outputs": [],
   "source": [
    "long_data = pd.read_csv('C:\\\\Users\\\\User\\\\long_formadata.csv')\n",
    "#count wins by stance\n",
    "df = long_data[long_data['outcome'].str.contains('win',na=False)].groupby(['stance1', 'stance.y','division'])['outcome'].count().reset_index()\n",
    "#count total fights by stance\n",
    "df2 = long_data[['division','outcome']].groupby('division').count().reset_index()\n",
    "df2.rename(columns={'outcome':'total'},inplace=True)\n",
    "df = df.merge(df2,on='division')\n",
    "df['win_rate'] =df['outcome']/df['total'] *100"
   ]
  },
  {
   "cell_type": "code",
   "execution_count": 27,
   "metadata": {},
   "outputs": [],
   "source": [
    "x = long_data.merge(fully_merged[['name1','age']], on = 'name1')\n",
    "x = x.reindex(columns=['name1','age','stance1','division','opponent','stance.y','outcome'])\n",
    "x = x.merge(fully_merged[['name1','age']], left_on= 'opponent',right_on='name1')\n",
    "x = x.merge(data[['name','sex']],left_on='name1_x',right_on='name')\n",
    "x = x.reindex(columns=['name1_x','age_x','sex','stance1','division','opponent','stance.y','outcome','name1_y','age_y','sex'])\n",
    "x = x.rename(columns = {'name1_x':'name','age_x':'age',})\n",
    "#adding age range\n",
    "ranges = [15,20,25,30,35,40,45,50,55,65]\n",
    "x['age_range'] = pd.cut(x['age'],ranges,labels=['15-20','20-25','25-30','30-35','35-40','40-45','45-50','50-55','55-65'])\n",
    "x['opp_age_range'] = pd.cut(x['age_y'],ranges,labels=['15-20','20-25','25-30','30-35','35-40','40-45','45-50','50-55','55-65'])\n",
    "#drop duplicate columns\n",
    "x = x.loc[:,~x.columns.duplicated()]\n",
    "x.rename(columns={'age_y':'opp_age'},inplace=True)\n",
    "x = x.drop(columns=['name1_y'])\n",
    "x = x.reindex(columns=['name','age','age_range','sex','stance1','division','opponent','stance.y','outcome','opp_age','opp_age_range'])\n",
    "#save to csv\n",
    "x.to_csv('C:\\\\Users\\\\User\\\\Documents\\\\GitHub\\\\SpringboardCapstoneBoxingPredictionWebApp\\\\boxingdata\\\\longformateddata2.csv')"
   ]
  },
  {
   "cell_type": "code",
   "execution_count": null,
   "metadata": {},
   "outputs": [],
   "source": []
  }
 ],
 "metadata": {
  "kernelspec": {
   "display_name": "Python 3",
   "language": "python",
   "name": "python3"
  },
  "language_info": {
   "codemirror_mode": {
    "name": "ipython",
    "version": 3
   },
   "file_extension": ".py",
   "mimetype": "text/x-python",
   "name": "python",
   "nbconvert_exporter": "python",
   "pygments_lexer": "ipython3",
   "version": "3.7.4"
  }
 },
 "nbformat": 4,
 "nbformat_minor": 2
}
