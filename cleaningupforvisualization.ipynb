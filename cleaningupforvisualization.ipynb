{
 "cells": [
  {
   "cell_type": "code",
   "execution_count": 132,
   "metadata": {},
   "outputs": [],
   "source": [
    "import pandas as pd \n",
    "import numpy as np"
   ]
  },
  {
   "cell_type": "code",
   "execution_count": 133,
   "metadata": {},
   "outputs": [
    {
     "name": "stderr",
     "output_type": "stream",
     "text": [
      "C:\\Users\\User\\Anaconda3\\lib\\site-packages\\IPython\\core\\interactiveshell.py:3058: DtypeWarning: Columns (38,39,40,41,42,43,44,45,47,48,49,50,51,52,53,54,55,56,97,98,99,100,101,102,103,104,106,107,108,109,110,111,112,113,114,115,151,154,158,159,160,161,162,163,164,165,167,168,169,170,171,172,173,174,175,176,218,219,220,221,222,223,224,225,227,228,229,230,231,232,233,234,235,236,340,341,342,343,344,345,346,347,349,350,351,352,353,354,355,356,357,358,388,390,391,392,393,394,395,397,398,399,400,401,402,403,404,405,406,408,409,410,411,412,413,414,415,416,417,460,461,462,463,464,465,466,467,469,470,471,472,473,474,475,476,477,478,519,520,521,522,523,524,525,526,528,529,530,531,532,533,534,535,536,537,542,543,544,545,546,547,548,549,550,551,552,553,554,555,556,557,558,559,560,561,562,563,564,565,566,567,568,569,570,571,572,573,574,575,576,577,578,579,580,581,582,583,584,585,586,587,588,589,590,591,592,593,594,595,596,597,598,599,636,637,638,639,640,641,642,643,645,646,647,648,649,650,651,652,653,685,686,687,688,689,690,692,693,694,695,696,697,698,699,700,701,703,704,705,706,707,708,709,710,711,752,753,754,755,756,757,758,759,761,762,763,764,765,766,767,768,769,810,811,812,813,814,815,816,817,819,820,821,822,823,824,825,826,827,868,869,870,871,872,873,874,875,877,878,879,880,881,882,883,884,885,985,986,987,988,989,990,991,992,994,995,996,997,998,999,1000,1001,1002,1009,1010,1011,1012,1013,1014,1015,1016,1017,1018,1019,1020,1021,1022,1023,1024,1034,1035,1036,1037,1038,1039,1040,1041,1042,1043,1044,1045,1046,1047,1048,1049,1059,1060,1061,1062,1063,1064,1065,1066,1067,1068,1069,1070,1071,1072,1073,1074,1084,1085,1086,1087,1088,1089,1090,1091,1092,1093,1094,1095,1096,1097,1098,1099,1100,1101,1102,1103,1104,1105,1106,1107,1108,1109,1110,1111,1112,1113,1114,1115,1116,1117,1118,1119,1120,1121,1122,1123,1158,1159,1160,1161,1162,1163,1164,1165,1166,1167,1168,1169,1170,1171,1172,1173,1183,1184,1185,1190,1192,1193,1195,1196,1208,1209,1210,1211,1212,1213,1214,1215,1216,1217,1218,1219,1220,1221,1222,1223,1233,1234,1235,1236,1237,1238,1239,1240,1241,1242,1243,1244,1245,1246,1247,1248,1258,1259,1260,1284,1285,1286,1287,1288,1289,1290,1291,1292,1293,1294,1295,1296,1297,1298,1299,1300,1310,1311,1312,1313,1314,1315,1316,1317,1318,1319,1320,1321,1322,1323,1324,1325,1326,1327,1328,1329,1330,1331,1332,1333,1334,1335,1336,1337,1338,1339,1340,1341,1342,1343,1344,1345,1346,1347,1348,1349,1350,1360,1361,1362,1363,1364,1365,1366,1367,1368,1369,1370,1371,1372,1373,1374,1375,1376,1386,1387,1388,1389,1390,1391,1392,1393,1394,1395,1396,1397,1398,1399,1400,1401,1402,1412,1413,1414,1415,1416,1417,1418,1419,1420,1421,1422,1423,1424,1425,1426,1427,1428,1464,1465,1466,1467,1468,1469,1470,1471,1472,1473,1474,1475,1476,1477,1478,1479,1480,1481,1482,1483,1484,1485,1486,1487,1488,1489,1490,1491,1492,1493,1494,1495,1496,1497,1498,1499,1500,1501,1502,1503,1513,1514,1515,1516,1517,1518,1519,1520,1521,1522,1523,1524,1525,1526,1527,1528,1529,1530,1531,1532,1533,1534,1535,1536,1537,1538,1539,1540,1541,1542,1543,1544,1545,1546,1547,1548,1549,1550,1551,1552,1553,1554,1555,1556,1557,1558,1559,1560,1561,1562,1563,1564,1565,1566,1567,1568,1569,1570,1571,1572,1573,1574,1575,1576,1577,1578,1579,1580,1581,1582,1583,1584,1585,1586,1587,1588,1589,1590,1591,1592,1593,1594,1595,1596,1597,1598,1599,1600,1601,1602,1603,1604,1605,1606,1607,1608,1609,1610,1611,1612,1613,1614,1615,1616,1617,1618,1619,1620,1621,1622,1623,1624,1625,1626,1627,1628,1629,1630,1631,1632,1633,1634,1635,1636,1637,1638,1639,1640,1641,1642,1643,1644,1645,1646,1647,1648,1649,1650,1651,1652,1653,1654,1655,1656,1657,1658,1659,1660,1661,1662,1663,1664,1665,1666,1667,1668,1669,1670,1671,1672,1673,1674,1675,1676,1677,1678,1679,1680,1681,1682,1683,1684,1685,1686,1687,1688,1689,1690,1691,1692,1693,1694,1695,1696,1993,1994,1996,1997,2000,2001,2002,2003,2004,2005,2008,2009,2010,2012,2013,2014,2017,2018,2019,2020,2021,2022,2025,2026,2027,2029,2030,2031,2034,2035,2036,2037,2038,2039,2042,2043,2044,2046,2047,2048,2051,2052,2053,2054,2055,2056,2059,2060,2061,2063,2064,2065,2068,2069,2070,2071,2072,2073,2076,2077,2078,2080,2081,2082,2085,2086,2087,2088,2089,2090,2093,2094,2095,2097,2098,2099,2102,2103,2104,2105,2106,2107,2110,2111,2112,2114,2115,2116,2119,2120,2121,2122,2123,2124,2127,2128,2129,2131,2132,2133,2136,2137,2138,2139,2140,2141,2144,2145,2146,2148,2149,2150,2153,2154,2155,2156,2157,2158,2161,2162,2163,2165,2166,2167,2170,2171,2172,2173,2174,2175,2178,2179,2180,2182,2183,2184,2187,2188,2189,2190,2191,2192,2195,2196,2197,2199,2200,2201,2204,2205,2206,2207,2208,2209,2212,2213,2214,2216,2217,2218,2221,2222,2223,2224,2225,2226,2229,2230,2231,2233,2234,2235,2238,2239,2240,2241,2242,2243,2246,2247,2248,2250,2251,2252,2255,2256,2257,2258,2259,2260,2263,2264,2265,2267,2268,2269,2272,2273,2274,2275,2276,2277,2280,2281,2282,2284,2285,2286,2289,2290,2291,2292,2293,2294,2297,2298,2299,2301,2302,2303,2306,2307,2308,2309,2310,2311,2314,2315,2316,2318,2319,2320,2323,2324,2325,2326,2327,2328,2331,2332,2333,2335,2336,2337,2340,2341,2342,2343,2344,2345,2348,2349,2350,2352,2353,2354,2357,2358,2359,2360,2361,2362,2365,2366,2367,2369,2370,2371,2374,2375,2376,2377,2378,2379,2382,2383,2384,2386,2387,2388,2391,2392,2393,2394,2395,2396,2399,2400,2401,2403,2404,2405,2408,2409,2410,2411,2412,2413,2416,2417,2418,2420,2421,2422,2425,2426,2427,2428,2429,2430,2433,2434,2435,2437,2438,2439,2442,2443,2444,2445,2446,2447,2450,2451,2452,2454,2455,2456,2459,2460,2461,2462,2463,2464,2467,2468,2469,2471,2472,2473,2476,2477,2478,2479,2480,2481,2484,2485,2486,2488,2489,2490,2491,2493,2494,2495,2496,2497,2498,2501,2502,2503,2505,2506,2507,2510,2511,2512,2513,2514,2515,2518,2519,2520,2522,2523,2524,2527,2528,2529,2530,2531,2532,2535,2536,2537,2539,2540,2541,2544,2545,2546,2547,2548,2549,2552,2553,2554,2556,2557,2558,2561,2562,2563,2564,2565,2566,2569,2570,2571,2573,2574,2575,2578,2579,2580,2581,2582,2583,2586,2587,2588,2590,2591,2592,2595,2596,2597,2598,2599,2600,2603,2604,2605,2607,2608,2609,2612,2613,2614,2615,2616,2617,2620,2621,2622,2624,2625,2626,2629,2630,2631,2632,2633,2634,2637,2638,2639,2641,2642,2643,2646,2647,2648,2649,2650,2651,2654,2655,2656,2658,2659,2660,2663,2664,2665,2666,2667,2668,2671,2672,2673,2675,2676,2677,2680,2681,2682,2683,2684,2685,2688,2689,2690,2692,2693,2694,2697,2698,2699,2700,2701,2702,2705,2706,2707,2709,2710,2711,2714,2715,2716,2717,2718,2719,2722,2723,2724,2726,2727,2728,2731,2732,2733,2734,2735,2736,2739,2740,2741,2743,2744,2745,2748,2749,2750,2751,2752,2753,2756,2757,2758,2760,2761,2762,2765,2766,2767,2768,2769,2770,2773,2774,2775,2777,2778,2779,2782,2783,2784,2785,2786,2787,2790,2791,2792,2794,2795,2796,2799,2800,2801,2802,2803,2804,2807,2808,2809,2811,2812,2813,2816,2817,2819,2820,2824,2825,2826,2828,2829,2830,2833,2834,2836,2837,2841,2842,2843,2845,2846,2847,2850,2851,2853,2854,2858,2859,2860,2862,2863,2864,2867,2868,2870,2871,2875,2876,2877,2879,2880,2881,2884,2885,2887,2888,2892,2893,2894,2896,2897,2898,2901,2902,2904,2905,2909,2910,2911,2913,2914,2915,2918,2919,2921,2922,2926,2927,2928,2930,2931,2932,2935,2936,2938,2939,2943,2944,2945,2947,2948,2949,2952,2953,2954,2955,2956,2960,2961,2962,2964,2965,2966,2969,2970,2972,2973,2977,2978,2979,2981,2982,2983,2986,2987,2988,2989,2990,2994,2995,2996,2998,2999,3000,3003,3004,3006,3007,3011,3012,3013,3017,3018,3019,3020) have mixed types. Specify dtype option on import or set low_memory=False.\n",
      "  interactivity=interactivity, compiler=compiler, result=result)\n"
     ]
    }
   ],
   "source": [
    "data = pd.read_csv('https://raw.githubusercontent.com/EmmS21/SpringboardCapstoneBoxingPredictionWebApp/master/boxingdata/visuals.csv')\n",
    "data['bouts_fought'] = data['w'].astype('float')+data['l'].astype('float')+data['d'].astype('float')"
   ]
  },
  {
   "cell_type": "code",
   "execution_count": 134,
   "metadata": {},
   "outputs": [],
   "source": [
    "#merge data to get fighter stance and age\n",
    "new = pd.read_csv('C:\\\\Users\\\\User\\\\Downloads\\\\player_profile.csv')\n",
    "merged_df = pd.merge(data,new[['stance','age','Name']],left_on='name',right_on='Name',how ='left')"
   ]
  },
  {
   "cell_type": "code",
   "execution_count": 135,
   "metadata": {},
   "outputs": [
    {
     "ename": "KeyError",
     "evalue": "'stance'",
     "output_type": "error",
     "traceback": [
      "\u001b[1;31m---------------------------------------------------------------------------\u001b[0m",
      "\u001b[1;31mKeyError\u001b[0m                                  Traceback (most recent call last)",
      "\u001b[1;32m~\\Anaconda3\\lib\\site-packages\\pandas\\core\\indexes\\base.py\u001b[0m in \u001b[0;36mget_loc\u001b[1;34m(self, key, method, tolerance)\u001b[0m\n\u001b[0;32m   2896\u001b[0m             \u001b[1;32mtry\u001b[0m\u001b[1;33m:\u001b[0m\u001b[1;33m\u001b[0m\u001b[1;33m\u001b[0m\u001b[0m\n\u001b[1;32m-> 2897\u001b[1;33m                 \u001b[1;32mreturn\u001b[0m \u001b[0mself\u001b[0m\u001b[1;33m.\u001b[0m\u001b[0m_engine\u001b[0m\u001b[1;33m.\u001b[0m\u001b[0mget_loc\u001b[0m\u001b[1;33m(\u001b[0m\u001b[0mkey\u001b[0m\u001b[1;33m)\u001b[0m\u001b[1;33m\u001b[0m\u001b[1;33m\u001b[0m\u001b[0m\n\u001b[0m\u001b[0;32m   2898\u001b[0m             \u001b[1;32mexcept\u001b[0m \u001b[0mKeyError\u001b[0m\u001b[1;33m:\u001b[0m\u001b[1;33m\u001b[0m\u001b[1;33m\u001b[0m\u001b[0m\n",
      "\u001b[1;32mpandas/_libs/index.pyx\u001b[0m in \u001b[0;36mpandas._libs.index.IndexEngine.get_loc\u001b[1;34m()\u001b[0m\n",
      "\u001b[1;32mpandas/_libs/index.pyx\u001b[0m in \u001b[0;36mpandas._libs.index.IndexEngine.get_loc\u001b[1;34m()\u001b[0m\n",
      "\u001b[1;32mpandas/_libs/hashtable_class_helper.pxi\u001b[0m in \u001b[0;36mpandas._libs.hashtable.PyObjectHashTable.get_item\u001b[1;34m()\u001b[0m\n",
      "\u001b[1;32mpandas/_libs/hashtable_class_helper.pxi\u001b[0m in \u001b[0;36mpandas._libs.hashtable.PyObjectHashTable.get_item\u001b[1;34m()\u001b[0m\n",
      "\u001b[1;31mKeyError\u001b[0m: 'stance'",
      "\nDuring handling of the above exception, another exception occurred:\n",
      "\u001b[1;31mKeyError\u001b[0m                                  Traceback (most recent call last)",
      "\u001b[1;32m<ipython-input-135-de0a30bbe0b0>\u001b[0m in \u001b[0;36m<module>\u001b[1;34m\u001b[0m\n\u001b[1;32m----> 1\u001b[1;33m \u001b[0mmerged_df\u001b[0m\u001b[1;33m[\u001b[0m\u001b[1;34m'stance'\u001b[0m\u001b[1;33m]\u001b[0m\u001b[1;33m.\u001b[0m\u001b[0mfillna\u001b[0m\u001b[1;33m(\u001b[0m\u001b[1;34m'unknown'\u001b[0m\u001b[1;33m,\u001b[0m\u001b[0minplace\u001b[0m\u001b[1;33m=\u001b[0m\u001b[1;32mTrue\u001b[0m\u001b[1;33m)\u001b[0m\u001b[1;33m\u001b[0m\u001b[1;33m\u001b[0m\u001b[0m\n\u001b[0m",
      "\u001b[1;32m~\\Anaconda3\\lib\\site-packages\\pandas\\core\\frame.py\u001b[0m in \u001b[0;36m__getitem__\u001b[1;34m(self, key)\u001b[0m\n\u001b[0;32m   2993\u001b[0m             \u001b[1;32mif\u001b[0m \u001b[0mself\u001b[0m\u001b[1;33m.\u001b[0m\u001b[0mcolumns\u001b[0m\u001b[1;33m.\u001b[0m\u001b[0mnlevels\u001b[0m \u001b[1;33m>\u001b[0m \u001b[1;36m1\u001b[0m\u001b[1;33m:\u001b[0m\u001b[1;33m\u001b[0m\u001b[1;33m\u001b[0m\u001b[0m\n\u001b[0;32m   2994\u001b[0m                 \u001b[1;32mreturn\u001b[0m \u001b[0mself\u001b[0m\u001b[1;33m.\u001b[0m\u001b[0m_getitem_multilevel\u001b[0m\u001b[1;33m(\u001b[0m\u001b[0mkey\u001b[0m\u001b[1;33m)\u001b[0m\u001b[1;33m\u001b[0m\u001b[1;33m\u001b[0m\u001b[0m\n\u001b[1;32m-> 2995\u001b[1;33m             \u001b[0mindexer\u001b[0m \u001b[1;33m=\u001b[0m \u001b[0mself\u001b[0m\u001b[1;33m.\u001b[0m\u001b[0mcolumns\u001b[0m\u001b[1;33m.\u001b[0m\u001b[0mget_loc\u001b[0m\u001b[1;33m(\u001b[0m\u001b[0mkey\u001b[0m\u001b[1;33m)\u001b[0m\u001b[1;33m\u001b[0m\u001b[1;33m\u001b[0m\u001b[0m\n\u001b[0m\u001b[0;32m   2996\u001b[0m             \u001b[1;32mif\u001b[0m \u001b[0mis_integer\u001b[0m\u001b[1;33m(\u001b[0m\u001b[0mindexer\u001b[0m\u001b[1;33m)\u001b[0m\u001b[1;33m:\u001b[0m\u001b[1;33m\u001b[0m\u001b[1;33m\u001b[0m\u001b[0m\n\u001b[0;32m   2997\u001b[0m                 \u001b[0mindexer\u001b[0m \u001b[1;33m=\u001b[0m \u001b[1;33m[\u001b[0m\u001b[0mindexer\u001b[0m\u001b[1;33m]\u001b[0m\u001b[1;33m\u001b[0m\u001b[1;33m\u001b[0m\u001b[0m\n",
      "\u001b[1;32m~\\Anaconda3\\lib\\site-packages\\pandas\\core\\indexes\\base.py\u001b[0m in \u001b[0;36mget_loc\u001b[1;34m(self, key, method, tolerance)\u001b[0m\n\u001b[0;32m   2897\u001b[0m                 \u001b[1;32mreturn\u001b[0m \u001b[0mself\u001b[0m\u001b[1;33m.\u001b[0m\u001b[0m_engine\u001b[0m\u001b[1;33m.\u001b[0m\u001b[0mget_loc\u001b[0m\u001b[1;33m(\u001b[0m\u001b[0mkey\u001b[0m\u001b[1;33m)\u001b[0m\u001b[1;33m\u001b[0m\u001b[1;33m\u001b[0m\u001b[0m\n\u001b[0;32m   2898\u001b[0m             \u001b[1;32mexcept\u001b[0m \u001b[0mKeyError\u001b[0m\u001b[1;33m:\u001b[0m\u001b[1;33m\u001b[0m\u001b[1;33m\u001b[0m\u001b[0m\n\u001b[1;32m-> 2899\u001b[1;33m                 \u001b[1;32mreturn\u001b[0m \u001b[0mself\u001b[0m\u001b[1;33m.\u001b[0m\u001b[0m_engine\u001b[0m\u001b[1;33m.\u001b[0m\u001b[0mget_loc\u001b[0m\u001b[1;33m(\u001b[0m\u001b[0mself\u001b[0m\u001b[1;33m.\u001b[0m\u001b[0m_maybe_cast_indexer\u001b[0m\u001b[1;33m(\u001b[0m\u001b[0mkey\u001b[0m\u001b[1;33m)\u001b[0m\u001b[1;33m)\u001b[0m\u001b[1;33m\u001b[0m\u001b[1;33m\u001b[0m\u001b[0m\n\u001b[0m\u001b[0;32m   2900\u001b[0m         \u001b[0mindexer\u001b[0m \u001b[1;33m=\u001b[0m \u001b[0mself\u001b[0m\u001b[1;33m.\u001b[0m\u001b[0mget_indexer\u001b[0m\u001b[1;33m(\u001b[0m\u001b[1;33m[\u001b[0m\u001b[0mkey\u001b[0m\u001b[1;33m]\u001b[0m\u001b[1;33m,\u001b[0m \u001b[0mmethod\u001b[0m\u001b[1;33m=\u001b[0m\u001b[0mmethod\u001b[0m\u001b[1;33m,\u001b[0m \u001b[0mtolerance\u001b[0m\u001b[1;33m=\u001b[0m\u001b[0mtolerance\u001b[0m\u001b[1;33m)\u001b[0m\u001b[1;33m\u001b[0m\u001b[1;33m\u001b[0m\u001b[0m\n\u001b[0;32m   2901\u001b[0m         \u001b[1;32mif\u001b[0m \u001b[0mindexer\u001b[0m\u001b[1;33m.\u001b[0m\u001b[0mndim\u001b[0m \u001b[1;33m>\u001b[0m \u001b[1;36m1\u001b[0m \u001b[1;32mor\u001b[0m \u001b[0mindexer\u001b[0m\u001b[1;33m.\u001b[0m\u001b[0msize\u001b[0m \u001b[1;33m>\u001b[0m \u001b[1;36m1\u001b[0m\u001b[1;33m:\u001b[0m\u001b[1;33m\u001b[0m\u001b[1;33m\u001b[0m\u001b[0m\n",
      "\u001b[1;32mpandas/_libs/index.pyx\u001b[0m in \u001b[0;36mpandas._libs.index.IndexEngine.get_loc\u001b[1;34m()\u001b[0m\n",
      "\u001b[1;32mpandas/_libs/index.pyx\u001b[0m in \u001b[0;36mpandas._libs.index.IndexEngine.get_loc\u001b[1;34m()\u001b[0m\n",
      "\u001b[1;32mpandas/_libs/hashtable_class_helper.pxi\u001b[0m in \u001b[0;36mpandas._libs.hashtable.PyObjectHashTable.get_item\u001b[1;34m()\u001b[0m\n",
      "\u001b[1;32mpandas/_libs/hashtable_class_helper.pxi\u001b[0m in \u001b[0;36mpandas._libs.hashtable.PyObjectHashTable.get_item\u001b[1;34m()\u001b[0m\n",
      "\u001b[1;31mKeyError\u001b[0m: 'stance'"
     ]
    }
   ],
   "source": [
    "merged_df['stance'].fillna('unknown',inplace=True)"
   ]
  },
  {
   "cell_type": "code",
   "execution_count": null,
   "metadata": {},
   "outputs": [],
   "source": [
    "#get the name of the each opponent the boxer has fought \n",
    "second_name = ['secondBoxer'+str(i) for i in range(1,85)]\n",
    "def letter_only(col):\n",
    "    return merged_df[col].astype(str).str.replace('\"','').astype(str)\n",
    "for i in second_name:\n",
    "    merged_df[i] = letter_only(str(i))\n"
   ]
  },
  {
   "cell_type": "code",
   "execution_count": null,
   "metadata": {},
   "outputs": [],
   "source": [
    "#only want to get stance, age and division for now\n",
    "limited = merged_df[['name','stance','age','sex','division']]"
   ]
  },
  {
   "cell_type": "code",
   "execution_count": null,
   "metadata": {},
   "outputs": [],
   "source": [
    "#get the stance of each opponent a boxer has fought\n",
    "num = 0 \n",
    "for i in second_name:\n",
    "    num +=1\n",
    "    globals () [i] = pd.merge(merged_df[[i,'outcome'+str(num)]],merged_df[['name','stance']],left_on=i,right_on='name',suffixes=('s'+str(num),'opponent'+str(num)))"
   ]
  },
  {
   "cell_type": "code",
   "execution_count": null,
   "metadata": {},
   "outputs": [],
   "source": [
    "#wide to long\n",
    "fully_merged = pd.concat([limited,secondBoxer1,secondBoxer2,secondBoxer3,secondBoxer4,secondBoxer5,\n",
    "           secondBoxer6,secondBoxer7,secondBoxer8,secondBoxer9,secondBoxer10,\n",
    "           secondBoxer11,secondBoxer12,secondBoxer13,secondBoxer14,secondBoxer15,\n",
    "           secondBoxer16,secondBoxer17,secondBoxer18,secondBoxer19,secondBoxer20,\n",
    "           secondBoxer21,secondBoxer22,secondBoxer23,secondBoxer24,secondBoxer25,\n",
    "           secondBoxer26,secondBoxer27,secondBoxer28,secondBoxer29,secondBoxer30,\n",
    "           secondBoxer31,secondBoxer32,secondBoxer33,secondBoxer34,secondBoxer35,\n",
    "           secondBoxer36,secondBoxer37,secondBoxer38,secondBoxer39,secondBoxer40,\n",
    "           secondBoxer41,secondBoxer42,secondBoxer43,secondBoxer44,secondBoxer45,\n",
    "           secondBoxer46,secondBoxer47,secondBoxer48,secondBoxer49,secondBoxer50,\n",
    "           secondBoxer51,secondBoxer52,secondBoxer53,secondBoxer54,secondBoxer55,\n",
    "           secondBoxer56,secondBoxer57,secondBoxer58,secondBoxer59,secondBoxer60,\n",
    "           secondBoxer61,secondBoxer62,secondBoxer63,secondBoxer64,secondBoxer65,\n",
    "           secondBoxer66,secondBoxer67,secondBoxer68,secondBoxer69,secondBoxer70,\n",
    "           secondBoxer71,secondBoxer72,secondBoxer73,secondBoxer74,secondBoxer75,\n",
    "           secondBoxer76,secondBoxer77,secondBoxer78,secondBoxer79,secondBoxer80,\n",
    "           secondBoxer81,secondBoxer82,secondBoxer83,secondBoxer84],axis=1)"
   ]
  },
  {
   "cell_type": "code",
   "execution_count": null,
   "metadata": {},
   "outputs": [],
   "source": [
    "#wide to long return count for wins by stance against other stances\n",
    "select_cols = fully_merged.columns.to_series()\n",
    "count = select_cols.groupby(level=0).cumcount().add(1).astype(str)\n",
    "fully_merged.columns = np.where(select_cols == 'name', 'name' + count, select_cols) \n",
    "fully_merged.columns = np.where(select_cols == 'stance', 'stance' + count, select_cols)"
   ]
  },
  {
   "cell_type": "code",
   "execution_count": null,
   "metadata": {},
   "outputs": [],
   "source": [
    "# #drop extra names column\n",
    "name_lis = ['name'+str(i) for i in range(2,86)]\n",
    "fully_merged.drop(name_lis,axis=1,inplace=True)"
   ]
  },
  {
   "cell_type": "code",
   "execution_count": null,
   "metadata": {},
   "outputs": [],
   "source": [
    "fully_merged.reset_index(inplace=True)"
   ]
  },
  {
   "cell_type": "code",
   "execution_count": null,
   "metadata": {},
   "outputs": [],
   "source": [
    "df2 = pd.concat([fully_merged[['name1','stance1','division','secondBoxer1','stance2','outcome1']].rename(columns={'secondBoxer1':'opponent','stance2':'stance.y','outcome1':'outcome'}),\n",
    "                 fully_merged[['name1','stance1','division','secondBoxer2','stance3','outcome2']].rename(columns={'secondBoxer2':'opponent','stance3':'stance.y','outcome2':'outcome'}),\n",
    "                 fully_merged[['name1','stance1','division','secondBoxer3','stance4','outcome3']].rename(columns={'secondBoxer3':'opponent','stance4':'stance.y','outcome3':'outcome'}),\n",
    "                 fully_merged[['name1','stance1','division','secondBoxer4','stance5','outcome4']].rename(columns={'secondBoxer4':'opponent','stance5':'stance.y','outcome4':'outcome'}),\n",
    "                 fully_merged[['name1','stance1','division','secondBoxer5','stance6','outcome5']].rename(columns={'secondBoxer5':'opponent','stance6':'stance.y','outcome5':'outcome'}),\n",
    "                 fully_merged[['name1','stance1','division','secondBoxer6','stance7','outcome6']].rename(columns={'secondBoxer6':'opponent','stance7':'stance.y','outcome6':'outcome'}),\n",
    "                 fully_merged[['name1','stance1','division','secondBoxer7','stance8','outcome7']].rename(columns={'secondBoxer7':'opponent','stance8':'stance.y','outcome7':'outcome'}),\n",
    "                 fully_merged[['name1','stance1','division','secondBoxer8','stance9','outcome8']].rename(columns={'secondBoxer8':'opponent','stance9':'stance.y','outcome8':'outcome'}),\n",
    "                 fully_merged[['name1','stance1','division','secondBoxer9','stance10','outcome9']].rename(columns={'secondBoxer9':'opponent','stance10':'stance.y','outcome9':'outcome'}),\n",
    "                 fully_merged[['name1','stance1','division','secondBoxer10','stance11','outcome10']].rename(columns={'secondBoxer10':'opponent','stance11':'stance.y','outcome10':'outcome'}),\n",
    "                 fully_merged[['name1','stance1','division','secondBoxer11','stance12','outcome11']].rename(columns={'secondBoxer11':'opponent','stance12':'stance.y','outcome11':'outcome'}),\n",
    "                 fully_merged[['name1','stance1','division','secondBoxer12','stance13','outcome12']].rename(columns={'secondBoxer12':'opponent','stance13':'stance.y','outcome12':'outcome'}),\n",
    "                 fully_merged[['name1','stance1','division','secondBoxer13','stance14','outcome13']].rename(columns={'secondBoxer13':'opponent','stance14':'stance.y','outcome13':'outcome'}),\n",
    "                 fully_merged[['name1','stance1','division','secondBoxer14','stance15','outcome14']].rename(columns={'secondBoxer14':'opponent','stance15':'stance.y','outcome14':'outcome'}),\n",
    "                 fully_merged[['name1','stance1','division','secondBoxer15','stance16','outcome15']].rename(columns={'secondBoxer15':'opponent','stance16':'stance.y','outcome15':'outcome'}),\n",
    "                 fully_merged[['name1','stance1','division','secondBoxer16','stance17','outcome16']].rename(columns={'secondBoxer16':'opponent','stance17':'stance.y','outcome16':'outcome'}),\n",
    "                 fully_merged[['name1','stance1','division','secondBoxer17','stance18','outcome17']].rename(columns={'secondBoxer17':'opponent','stance18':'stance.y','outcome17':'outcome'}),\n",
    "                 fully_merged[['name1','stance1','division','secondBoxer18','stance19','outcome18']].rename(columns={'secondBoxer18':'opponent','stance19':'stance.y','outcome18':'outcome'}),\n",
    "                 fully_merged[['name1','stance1','division','secondBoxer19','stance20','outcome19']].rename(columns={'secondBoxer19':'opponent','stance20':'stance.y','outcome19':'outcome'}),\n",
    "                 fully_merged[['name1','stance1','division','secondBoxer20','stance21','outcome20']].rename(columns={'secondBoxer20':'opponent','stance21':'stance.y','outcome20':'outcome'}),\n",
    "                 fully_merged[['name1','stance1','division','secondBoxer21','stance22','outcome21']].rename(columns={'secondBoxer21':'opponent','stance22':'stance.y','outcome21':'outcome'}),\n",
    "                 fully_merged[['name1','stance1','division','secondBoxer22','stance23','outcome22']].rename(columns={'secondBoxer22':'opponent','stance23':'stance.y','outcome22':'outcome'}),\n",
    "                 fully_merged[['name1','stance1','division','secondBoxer23','stance24','outcome23']].rename(columns={'secondBoxer23':'opponent','stance24':'stance.y','outcome23':'outcome'}),\n",
    "                 fully_merged[['name1','stance1','division','secondBoxer24','stance25','outcome24']].rename(columns={'secondBoxer24':'opponent','stance25':'stance.y','outcome24':'outcome'}),\n",
    "                 fully_merged[['name1','stance1','division','secondBoxer25','stance26','outcome25']].rename(columns={'secondBoxer25':'opponent','stance26':'stance.y','outcome25':'outcome'}),\n",
    "                 fully_merged[['name1','stance1','division','secondBoxer26','stance27','outcome26']].rename(columns={'secondBoxer26':'opponent','stance27':'stance.y','outcome26':'outcome'}),\n",
    "                 fully_merged[['name1','stance1','division','secondBoxer27','stance28','outcome27']].rename(columns={'secondBoxer27':'opponent','stance28':'stance.y','outcome27':'outcome'}),\n",
    "                 fully_merged[['name1','stance1','division','secondBoxer28','stance29','outcome28']].rename(columns={'secondBoxer28':'opponent','stance29':'stance.y','outcome28':'outcome'}),\n",
    "                 fully_merged[['name1','stance1','division','secondBoxer29','stance30','outcome29']].rename(columns={'secondBoxer29':'opponent','stance30':'stance.y','outcome29':'outcome'}),\n",
    "                 fully_merged[['name1','stance1','division','secondBoxer30','stance31','outcome30']].rename(columns={'secondBoxer30':'opponent','stance31':'stance.y','outcome30':'outcome'}),\n",
    "                 fully_merged[['name1','stance1','division','secondBoxer31','stance32','outcome31']].rename(columns={'secondBoxer31':'opponent','stance32':'stance.y','outcome31':'outcome'}),\n",
    "                 fully_merged[['name1','stance1','division','secondBoxer32','stance33','outcome32']].rename(columns={'secondBoxer32':'opponent','stance33':'stance.y','outcome32':'outcome'}),\n",
    "                 fully_merged[['name1','stance1','division','secondBoxer33','stance34','outcome33']].rename(columns={'secondBoxer33':'opponent','stance34':'stance.y','outcome33':'outcome'}),\n",
    "                 fully_merged[['name1','stance1','division','secondBoxer34','stance35','outcome34']].rename(columns={'secondBoxer34':'opponent','stance35':'stance.y','outcome34':'outcome'}),\n",
    "                 fully_merged[['name1','stance1','division','secondBoxer35','stance36','outcome35']].rename(columns={'secondBoxer35':'opponent','stance36':'stance.y','outcome35':'outcome'}),\n",
    "                 fully_merged[['name1','stance1','division','secondBoxer36','stance37','outcome36']].rename(columns={'secondBoxer36':'opponent','stance37':'stance.y','outcome36':'outcome'}),\n",
    "                 fully_merged[['name1','stance1','division','secondBoxer37','stance38','outcome37']].rename(columns={'secondBoxer37':'opponent','stance38':'stance.y','outcome37':'outcome'}),\n",
    "                 fully_merged[['name1','stance1','division','secondBoxer38','stance39','outcome38']].rename(columns={'secondBoxer38':'opponent','stance39':'stance.y','outcome38':'outcome'}),\n",
    "                 fully_merged[['name1','stance1','division','secondBoxer39','stance40','outcome39']].rename(columns={'secondBoxer39':'opponent','stance40':'stance.y','outcome39':'outcome'}),\n",
    "                 fully_merged[['name1','stance1','division','secondBoxer40','stance41','outcome40']].rename(columns={'secondBoxer40':'opponent','stance41':'stance.y','outcome40':'outcome'}),\n",
    "                 fully_merged[['name1','stance1','division','secondBoxer41','stance42','outcome41']].rename(columns={'secondBoxer41':'opponent','stance42':'stance.y','outcome41':'outcome'}),\n",
    "                 fully_merged[['name1','stance1','division','secondBoxer42','stance43','outcome42']].rename(columns={'secondBoxer42':'opponent','stance43':'stance.y','outcome42':'outcome'}),\n",
    "                 fully_merged[['name1','stance1','division','secondBoxer43','stance44','outcome43']].rename(columns={'secondBoxer43':'opponent','stance44':'stance.y','outcome43':'outcome'}),\n",
    "                 fully_merged[['name1','stance1','division','secondBoxer44','stance45','outcome44']].rename(columns={'secondBoxer44':'opponent','stance45':'stance.y','outcome44':'outcome'}),\n",
    "                 fully_merged[['name1','stance1','division','secondBoxer45','stance46','outcome45']].rename(columns={'secondBoxer45':'opponent','stance46':'stance.y','outcome45':'outcome'}),\n",
    "                 fully_merged[['name1','stance1','division','secondBoxer46','stance47','outcome46']].rename(columns={'secondBoxer46':'opponent','stance47':'stance.y','outcome46':'outcome'}),\n",
    "                 fully_merged[['name1','stance1','division','secondBoxer47','stance48','outcome47']].rename(columns={'secondBoxer47':'opponent','stance48':'stance.y','outcome47':'outcome'}),\n",
    "                 fully_merged[['name1','stance1','division','secondBoxer48','stance49','outcome48']].rename(columns={'secondBoxer48':'opponent','stance49':'stance.y','outcome48':'outcome'}),\n",
    "                 fully_merged[['name1','stance1','division','secondBoxer49','stance50','outcome49']].rename(columns={'secondBoxer49':'opponent','stance50':'stance.y','outcome49':'outcome'}),\n",
    "                 fully_merged[['name1','stance1','division','secondBoxer50','stance51','outcome50']].rename(columns={'secondBoxer50':'opponent','stance51':'stance.y','outcome50':'outcome'}),\n",
    "                 fully_merged[['name1','stance1','division','secondBoxer51','stance52','outcome51']].rename(columns={'secondBoxer51':'opponent','stance52':'stance.y','outcome51':'outcome'}),\n",
    "                 fully_merged[['name1','stance1','division','secondBoxer52','stance53','outcome52']].rename(columns={'secondBoxer52':'opponent','stance53':'stance.y','outcome52':'outcome'}),\n",
    "                 fully_merged[['name1','stance1','division','secondBoxer53','stance54','outcome53']].rename(columns={'secondBoxer53':'opponent','stance54':'stance.y','outcome53':'outcome'}),\n",
    "                 fully_merged[['name1','stance1','division','secondBoxer54','stance55','outcome54']].rename(columns={'secondBoxer54':'opponent','stance55':'stance.y','outcome54':'outcome'}),\n",
    "                 fully_merged[['name1','stance1','division','secondBoxer55','stance56','outcome55']].rename(columns={'secondBoxer55':'opponent','stance56':'stance.y','outcome55':'outcome'}),\n",
    "                 fully_merged[['name1','stance1','division','secondBoxer56','stance57','outcome56']].rename(columns={'secondBoxer56':'opponent','stance57':'stance.y','outcome56':'outcome'}),\n",
    "                 fully_merged[['name1','stance1','division','secondBoxer57','stance58','outcome57']].rename(columns={'secondBoxer57':'opponent','stance58':'stance.y','outcome57':'outcome'}),\n",
    "                 fully_merged[['name1','stance1','division','secondBoxer58','stance59','outcome58']].rename(columns={'secondBoxer58':'opponent','stance59':'stance.y','outcome58':'outcome'}),\n",
    "                 fully_merged[['name1','stance1','division','secondBoxer59','stance60','outcome59']].rename(columns={'secondBoxer59':'opponent','stance60':'stance.y','outcome59':'outcome'}),\n",
    "                 fully_merged[['name1','stance1','division','secondBoxer60','stance61','outcome60']].rename(columns={'secondBoxer60':'opponent','stance61':'stance.y','outcome60':'outcome'}),\n",
    "                 fully_merged[['name1','stance1','division','secondBoxer61','stance62','outcome61']].rename(columns={'secondBoxer61':'opponent','stance62':'stance.y','outcome61':'outcome'}),\n",
    "                 fully_merged[['name1','stance1','division','secondBoxer62','stance63','outcome62']].rename(columns={'secondBoxer62':'opponent','stance63':'stance.y','outcome62':'outcome'}),\n",
    "                 fully_merged[['name1','stance1','division','secondBoxer63','stance64','outcome63']].rename(columns={'secondBoxer63':'opponent','stance64':'stance.y','outcome63':'outcome'}),\n",
    "                 fully_merged[['name1','stance1','division','secondBoxer64','stance65','outcome64']].rename(columns={'secondBoxer64':'opponent','stance65':'stance.y','outcome64':'outcome'}),\n",
    "                 fully_merged[['name1','stance1','division','secondBoxer65','stance66','outcome65']].rename(columns={'secondBoxer65':'opponent','stance66':'stance.y','outcome65':'outcome'}),\n",
    "                 fully_merged[['name1','stance1','division','secondBoxer66','stance67','outcome66']].rename(columns={'secondBoxer66':'opponent','stance67':'stance.y','outcome66':'outcome'}),\n",
    "                 fully_merged[['name1','stance1','division','secondBoxer67','stance68','outcome67']].rename(columns={'secondBoxer67':'opponent','stance68':'stance.y','outcome67':'outcome'}),\n",
    "                 fully_merged[['name1','stance1','division','secondBoxer68','stance69','outcome68']].rename(columns={'secondBoxer68':'opponent','stance69':'stance.y','outcome68':'outcome'}),\n",
    "                 fully_merged[['name1','stance1','division','secondBoxer69','stance70','outcome69']].rename(columns={'secondBoxer69':'opponent','stance70':'stance.y','outcome69':'outcome'}),\n",
    "                 fully_merged[['name1','stance1','division','secondBoxer70','stance71','outcome70']].rename(columns={'secondBoxer70':'opponent','stance71':'stance.y','outcome70':'outcome'}),\n",
    "                 fully_merged[['name1','stance1','division','secondBoxer71','stance72','outcome71']].rename(columns={'secondBoxer71':'opponent','stance72':'stance.y','outcome71':'outcome'}),\n",
    "                 fully_merged[['name1','stance1','division','secondBoxer72','stance73','outcome72']].rename(columns={'secondBoxer72':'opponent','stance73':'stance.y','outcome72':'outcome'}),\n",
    "                 fully_merged[['name1','stance1','division','secondBoxer73','stance74','outcome73']].rename(columns={'secondBoxer73':'opponent','stance74':'stance.y','outcome73':'outcome'}),\n",
    "                 fully_merged[['name1','stance1','division','secondBoxer74','stance75','outcome74']].rename(columns={'secondBoxer74':'opponent','stance75':'stance.y','outcome74':'outcome'}),\n",
    "                 fully_merged[['name1','stance1','division','secondBoxer75','stance76','outcome75']].rename(columns={'secondBoxer75':'opponent','stance76':'stance.y','outcome75':'outcome'}),\n",
    "                 fully_merged[['name1','stance1','division','secondBoxer76','stance77','outcome76']].rename(columns={'secondBoxer76':'opponent','stance77':'stance.y','outcome76':'outcome'}),\n",
    "                 fully_merged[['name1','stance1','division','secondBoxer77','stance78','outcome77']].rename(columns={'secondBoxer77':'opponent','stance78':'stance.y','outcome77':'outcome'}),\n",
    "                 fully_merged[['name1','stance1','division','secondBoxer78','stance79','outcome78']].rename(columns={'secondBoxer78':'opponent','stance79':'stance.y','outcome78':'outcome'}),\n",
    "                 fully_merged[['name1','stance1','division','secondBoxer79','stance80','outcome79']].rename(columns={'secondBoxer79':'opponent','stance80':'stance.y','outcome79':'outcome'}),\n",
    "                 fully_merged[['name1','stance1','division','secondBoxer80','stance81','outcome80']].rename(columns={'secondBoxer80':'opponent','stance81':'stance.y','outcome80':'outcome'}),\n",
    "                 fully_merged[['name1','stance1','division','secondBoxer81','stance82','outcome81']].rename(columns={'secondBoxer81':'opponent','stance82':'stance.y','outcome81':'outcome'}),\n",
    "                 fully_merged[['name1','stance1','division','secondBoxer82','stance83','outcome82']].rename(columns={'secondBoxer82':'opponent','stance83':'stance.y','outcome82':'outcome'}),\n",
    "                 fully_merged[['name1','stance1','division','secondBoxer83','stance84','outcome83']].rename(columns={'secondBoxer83':'opponent','stance84':'stance.y','outcome83':'outcome'}),\n",
    "                 fully_merged[['name1','stance1','division','secondBoxer84','stance85','outcome84']].rename(columns={'secondBoxer84':'opponent','stance85':'stance.y','outcome84':'outcome'})])"
   ]
  },
  {
   "cell_type": "code",
   "execution_count": null,
   "metadata": {},
   "outputs": [],
   "source": [
    "#remove quotation markes and replace nan values with unknown\n",
    "df2['outcome'] = df2['outcome'].str.replace('\"','')\n",
    "df2[['outcome','division']] = df2[['outcome','division']].fillna('unknown')\n",
    "#for wins by stance\n",
    "df3 = df2[df2['outcome'].str.contains('win')].groupby(['stance1', 'stance.y','division'])['outcome'].count().reset_index()"
   ]
  },
  {
   "cell_type": "code",
   "execution_count": null,
   "metadata": {},
   "outputs": [],
   "source": [
    "#realised that I also wanted a gender filter for my visualisations\n",
    "x = df2.merge(fully_merged[['name1','age','sex']], on = 'name1')\n",
    "x = x.reindex(columns=['name1','age','stance1','division','opponent','stance.y','outcome'])\n",
    "x = x.merge(fully_merged[['name1','age']], left_on= 'opponent',right_on='name1')\n",
    "x = x.merge(data[['name','sex']],left_on='name1_x',right_on='name')\n",
    "x = x.reindex(columns=['name1_x','age_x','sex','stance1','division','opponent','stance.y','outcome','name1_y','age_y','sex'])\n",
    "x = x.rename(columns = {'name1_x':'name','age_x':'age',})\n",
    "# #this is to return a heatmap showing wins by stance comparison\n",
    "# x.to_csv('C:\\\\Users\\\\User\\\\long_formadata2.csv')"
   ]
  },
  {
   "cell_type": "code",
   "execution_count": 136,
   "metadata": {},
   "outputs": [],
   "source": [
    "long_data = pd.read_csv('C:\\\\Users\\\\User\\\\long_formadata.csv')\n",
    "#count wins by stance\n",
    "df = long_data[long_data['outcome'].str.contains('win',na=False)].groupby(['stance1', 'stance.y','division'])['outcome'].count().reset_index()\n",
    "#count total fights by stance\n",
    "df2 = long_data[['division','outcome']].groupby('division').count().reset_index()\n",
    "df2.rename(columns={'outcome':'total'},inplace=True)\n",
    "df = df.merge(df2,on='division')\n",
    "df['win_rate'] =df['outcome']/df['total'] *100"
   ]
  },
  {
   "cell_type": "code",
   "execution_count": 137,
   "metadata": {},
   "outputs": [],
   "source": [
    "x = long_data.merge(fully_merged[['name1','age']], on = 'name1')\n",
    "x = x.reindex(columns=['name1','age','stance1','division','opponent','stance.y','outcome'])\n",
    "x = x.merge(fully_merged[['name1','age']], left_on= 'opponent',right_on='name1')\n",
    "x = x.merge(data[['name','sex']],left_on='name1_x',right_on='name')\n",
    "x = x.reindex(columns=['name1_x','age_x','sex','stance1','division','opponent','stance.y','outcome','name1_y','age_y','sex'])\n",
    "x = x.rename(columns = {'name1_x':'name','age_x':'age',})\n",
    "#adding age range\n",
    "ranges = [15,20,25,30,35,40,45,50,55,65]\n",
    "x['age_range'] = pd.cut(x['age'],ranges,labels=['15-20','20-25','25-30','30-35','35-40','40-45','45-50','50-55','55-65'])\n",
    "x['opp_age_range'] = pd.cut(x['age_y'],ranges,labels=['15-20','20-25','25-30','30-35','35-40','40-45','45-50','50-55','55-65'])\n",
    "#drop duplicate columns\n",
    "x = x.loc[:,~x.columns.duplicated()]\n",
    "x.rename(columns={'age_y':'opp_age'},inplace=True)\n",
    "x = x.drop(columns=['name1_y'])\n",
    "x = x.reindex(columns=['name','age','age_range','sex','stance1','division','opponent','stance.y','outcome','opp_age','opp_age_range'])\n",
    "#save to csv\n",
    "x.to_csv('C:\\\\Users\\\\User\\\\Documents\\\\GitHub\\\\SpringboardCapstoneBoxingPredictionWebApp\\\\boxingdata\\\\longformateddata2.csv')"
   ]
  },
  {
   "cell_type": "code",
   "execution_count": null,
   "metadata": {},
   "outputs": [],
   "source": []
  }
 ],
 "metadata": {
  "kernelspec": {
   "display_name": "Python 3",
   "language": "python",
   "name": "python3"
  },
  "language_info": {
   "codemirror_mode": {
    "name": "ipython",
    "version": 3
   },
   "file_extension": ".py",
   "mimetype": "text/x-python",
   "name": "python",
   "nbconvert_exporter": "python",
   "pygments_lexer": "ipython3",
   "version": "3.7.4"
  }
 },
 "nbformat": 4,
 "nbformat_minor": 2
}
