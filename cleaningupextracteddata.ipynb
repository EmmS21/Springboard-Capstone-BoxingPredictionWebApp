{
 "cells": [
  {
   "cell_type": "code",
   "execution_count": 93,
   "metadata": {},
   "outputs": [],
   "source": [
    "import pandas as pd\n",
    "from itertools import chain\n",
    "import glob\n",
    "import numpy as np\n",
    "file = pd.concat([pd.read_csv(f, index_col=None,header=None) for f in glob.glob('C:\\\\Users\\\\User\\\\Documents\\\\datasets\\\\fin*.csv')])\n",
    "file2  = pd.concat([pd.read_csv(f, index_col=None,header=None) for f in glob.glob('C:\\\\Users\\\\User\\\\Documents\\\\datasets\\\\final*.csv')])\n",
    "file3  = pd.concat([pd.read_csv(f, index_col=None,header=None) for f in glob.glob('C:\\\\Users\\\\User\\\\Documents\\\\datasets\\\\leak*.csv')])\n",
    "file4 = pd.read_csv('C:\\\\Users\\\\User\\\\Documents\\\\datasets\\\\fin100.csv')\n",
    "file_full = pd.concat([file,file2,file3,file4])"
   ]
  },
  {
   "cell_type": "code",
   "execution_count": 94,
   "metadata": {},
   "outputs": [],
   "source": [
    "df = pd.DataFrame(file_full[file_full.columns[0:]].apply(lambda x: ' '.join(x.astype(str)),axis=1))\n",
    "df = pd.DataFrame(df[0].str.replace('date','dateday'))\n",
    "#split each fight into a separate column\n",
    "df_split = pd.DataFrame(df[0].str.split('date',expand=True))\n",
    "def func(df,col):\n",
    "    return df[col].str.extract('day(?P<day>.*?)firstBoxerRating(?P<firstBoxerRating>.*?)firstBoxerWeight(?P<firstBoxerWeight>.*?)judges(?P<JudgeID>.*?)links(?P<Links>.*?)location(?P<location>.*?)metadata(?P<metadata>.*?)numberOfRounds(?P<numberofrounds>.*?)outcome(?P<outcome>.*?)rating(?P<rating>.*?)referee(?P<referee>.*?)secondBoxer(?P<secondBoxer>.*?)secondBoxerLast6(?P<secondBoxerLast6>.*?)secondBoxerRating(?P<secondBoxerRating>.*?)secondBoxerRecord(?P<secondBoxerRecord>.*?)secondBoxerWeight(?P<secondBoxerWeight>.*?)titles(?P<titles>.*?){')\n",
    "for i in range(1,len(df_split.columns)-1):\n",
    "    df_split[['date'+str(i), 'firstBoxerRating'+str(i), 'firstBoxerWeight'+str(i), 'JudgeID'+str(i), 'Links'+str(i),\n",
    "       'location'+str(i), 'metadata'+str(i), 'numberofrounds'+str(i), 'outcome'+str(i), 'rating'+str(i),\n",
    "       'referee'+str(i), 'secondBoxer'+str(i), 'secondBoxerLast6'+str(i), 'secondBoxerRating'+str(i),\n",
    "       'secondBoxerRecord'+str(i), 'secondBoxerWeight'+str(i), 'titles'+str(i)]] = func(df_split,i)"
   ]
  },
  {
   "cell_type": "code",
   "execution_count": 95,
   "metadata": {},
   "outputs": [],
   "source": [
    "titles = ['titles'+str(i) for i in range(1,85)]\n",
    "masked = df_split[titles].astype(str)\n",
    "df_split['global_id']=masked.apply(','.join,axis=1).str.extract(r'(\\d{6})', expand = False).fillna('')\n",
    "# df_split['global_id'] = masked.apply(','.join,axis=1).str.extract(r'(\\d{4})', expand = False).fillna('')"
   ]
  },
  {
   "cell_type": "code",
   "execution_count": 96,
   "metadata": {},
   "outputs": [],
   "source": [
    "#get name,global id and other details and merge with dataset\n",
    "new_file = pd.read_csv(\"C:\\\\Users\\\\User\\\\Documents\\\\GitHub\\\\SpringboardCapstoneBoxingPredictionWebApp\\\\boxingdata\\\\df2.csv\")\n",
    "new_file['global_id'] = new_file.players_links.str.extract('(\\d+)')\n",
    "new_file['global_id'] = new_file.global_id.astype('float64')\n",
    "df_split['global_id'] = pd.to_numeric(df_split['global_id'])"
   ]
  },
  {
   "cell_type": "code",
   "execution_count": 114,
   "metadata": {},
   "outputs": [],
   "source": [
    "merged = pd.merge(new_file, df_split, how='outer', on='global_id')\n",
    "merged.drop_duplicates(subset='global_id',inplace=True)"
   ]
  },
  {
   "cell_type": "code",
   "execution_count": 115,
   "metadata": {},
   "outputs": [],
   "source": [
    "#cleaning up data\n",
    "def date_clean(date_col):\n",
    "    x = merged[date_col].str.replace('[\":]','')\n",
    "    return pd.to_datetime(x,errors='coerce')\n",
    "#create list of column names we want to iterate through\n",
    "def list_var(col_name):\n",
    "    return [col_name+str(i) for i in range(1,85)]\n",
    "#update date columns\n",
    "var_names = list_var('date')\n",
    "for i in var_names:\n",
    "    merged[i] = date_clean(i)"
   ]
  },
  {
   "cell_type": "code",
   "execution_count": 116,
   "metadata": {},
   "outputs": [],
   "source": [
    "#cleanup first boxer rating\n",
    "def remove_colon(col_name):\n",
    "    return merged[col_name].str.replace(':','')\n",
    "#weights need to be converted to float\n",
    "def firstweight(col_name):\n",
    "    a = remove_colon(col_name)\n",
    "    return pd.to_numeric(a,errors='coerce')\n",
    "#extract scorecard from judges column\n",
    "def score_card(col_name):\n",
    "    return merged[col_name].str.findall('scorecard:(?P<scorecards>.*?)}')\n",
    "#update first boxer rating columns\n",
    "boxer_var = list_var('firstBoxerRating')\n",
    "for i in boxer_var:\n",
    "    merged[i] = remove_colon(i)\n",
    "#update weight\n",
    "weight_var = list_var('firstBoxerWeight')\n",
    "for i in weight_var:\n",
    "    merged[i] = firstweight(i)\n",
    "#extract score card\n",
    "scorecard_var = list_var('JudgeID')\n",
    "for i in scorecard_var:\n",
    "    merged[i] = score_card(i)\n",
    "#update location\n",
    "location_var = list_var('location')\n",
    "for i in location_var:\n",
    "    merged[i] = remove_colon(i)\n",
    "#update num of rounds\n",
    "rounds_var = list_var('numberofrounds')\n",
    "for i in rounds_var:\n",
    "    merged[i] = remove_colon(i)\n",
    "#update outcome\n",
    "outcome_var = list_var('outcome')\n",
    "for i in outcome_var:\n",
    "    merged[i] = remove_colon(i)\n",
    "#update rating\n",
    "rating_var = list_var('rating')\n",
    "for i in rating_var:\n",
    "    merged[i] = remove_colon(i)"
   ]
  },
  {
   "cell_type": "code",
   "execution_count": 131,
   "metadata": {
    "scrolled": true
   },
   "outputs": [],
   "source": [
    "#function creates errors so trying for loop instead\n",
    "ref_outcome = list_var('referee')\n",
    "for i in ref_outcome:\n",
    "    merged[i] = merged[i].str.findall('result:(?P<result>.*?)]')"
   ]
  },
  {
   "cell_type": "code",
   "execution_count": 132,
   "metadata": {},
   "outputs": [],
   "source": [
    "secondboxer_var = list_var('secondBoxer')\n",
    "for i in secondboxer_var:\n",
    "    merged[i] = merged[i].str.extract('name:(?P<name>.*?)}')\n",
    "secondboxlast_var = list_var('secondBoxerLast6')\n",
    "for i in secondboxlast_var:\n",
    "    merged[i] = remove_colon(i)\n",
    "secondboxrate_var = list_var('secondBoxerRating')\n",
    "for i in secondboxrate_var:\n",
    "    merged[i] = remove_colon(i)\n",
    "secondboxrec_var = list_var('secondBoxerRecord')\n",
    "for i in secondboxrec_var:\n",
    "    merged[i] = remove_colon(i)\n",
    "secondboxweight_var = list_var('secondBoxerWeight')\n",
    "for i in secondboxweight_var:\n",
    "    merged[i] = firstweight(i)"
   ]
  },
  {
   "cell_type": "code",
   "execution_count": 133,
   "metadata": {},
   "outputs": [],
   "source": [
    "#extract time from metadata\n",
    "def split_time(col):\n",
    "    return merged[col].str.extract('(\\d*\\:\\d+)',expand=True)\n",
    "times = list_var('metadata')\n",
    "for i in times:\n",
    "    merged[i] = split_time(i)"
   ]
  },
  {
   "cell_type": "code",
   "execution_count": 134,
   "metadata": {},
   "outputs": [],
   "source": [
    "drop_cols = list(range(0,86))\n",
    "merged.drop(drop_cols,axis=1,inplace=True)"
   ]
  },
  {
   "cell_type": "code",
   "execution_count": 40,
   "metadata": {
    "scrolled": true
   },
   "outputs": [],
   "source": [
    "# create columns with counts of outcomes from referee\n",
    "# ref_outcomes = list_var('referee')\n",
    "# merged2 = pd.concat([merged,merged[ref_outcome].astype(str).stack().str.replace('\\[|\\\"','').str.extract('(\\w+\\s\\w+)').groupby(level=0)[0].apply(pd.Series.value_counts).unstack(fill_value=0)],axis=1)"
   ]
  },
  {
   "cell_type": "code",
   "execution_count": 137,
   "metadata": {},
   "outputs": [],
   "source": [
    "merged.to_csv('C:\\\\Users\\\\User\\\\Documents\\\\finalvisuals.csv')"
   ]
  },
  {
   "cell_type": "code",
   "execution_count": null,
   "metadata": {},
   "outputs": [],
   "source": []
  }
 ],
 "metadata": {
  "kernelspec": {
   "display_name": "Python 3",
   "language": "python",
   "name": "python3"
  },
  "language_info": {
   "codemirror_mode": {
    "name": "ipython",
    "version": 3
   },
   "file_extension": ".py",
   "mimetype": "text/x-python",
   "name": "python",
   "nbconvert_exporter": "python",
   "pygments_lexer": "ipython3",
   "version": "3.7.4"
  }
 },
 "nbformat": 4,
 "nbformat_minor": 2
}
