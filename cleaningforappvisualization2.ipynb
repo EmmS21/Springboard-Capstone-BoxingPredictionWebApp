{
 "cells": [
  {
   "cell_type": "code",
   "execution_count": 2,
   "metadata": {},
   "outputs": [],
   "source": [
    "import pandas as pd"
   ]
  },
  {
   "cell_type": "code",
   "execution_count": 3,
   "metadata": {},
   "outputs": [
    {
     "name": "stderr",
     "output_type": "stream",
     "text": [
      "C:\\Users\\User\\Anaconda3\\lib\\site-packages\\IPython\\core\\interactiveshell.py:3058: DtypeWarning: Columns (682,685,699,702,716,719,733,736,744,745,747,748,749,750,751,752,753,754,755,756,757,758,760,761,762,764,765,766,767,768,769,770,771,772,773,774,775,777,778,779,781,782,783,784,785,786,787,788,789,790,791,792,794,795,796,798,799,800,801,802,803,804,805,806,807,808,809,811,812,813,815,816,817,818,819,820,821,822,823,824,825,826,828,829,830,832,833,834,835,836,837,838,839,840,841,842,843,845,846,847,849,850,851,852,853,854,855,856,857,858,859,860,862,863,864,866,867,868,869,870,871,872,873,874,875,876,877,879,880,881,883,884,885,886,887,888,889,890,891,892,893,894,896,897,898,900,901,902,903,904,905,906,907,908,909,910,911,913,914,915,917,918,919,920,921,922,923,924,925,926,927,928,930,931,932,934,935,936,937,938,939,940,941,942,943,944,945,947,948,949,951,952,953,954,955,956,957,958,959,960,961,962,964,965,966,968,969,970,971,972,973,974,975,976,977,978,979,981,982,983,985,986,987,988,989,990,991,992,993,994,995,996,998,999,1000,1002,1003,1004,1005,1006,1007,1008,1009,1010,1011,1012,1013,1015,1016,1017,1019,1020,1021,1022,1023,1024,1025,1026,1027,1028,1029,1030,1032,1033,1034,1036,1037,1038,1039,1040,1041,1042,1043,1044,1045,1046,1047,1049,1050,1051,1053,1054,1055,1056,1057,1058,1060,1061,1062,1063,1064,1066,1067,1068,1070,1071,1072,1074,1075,1077,1078,1079,1080,1081,1083,1084,1085,1087,1088,1089,1091,1092,1094,1095,1096,1097,1098,1100,1101,1102,1104,1105,1106,1108,1109,1111,1112,1113,1114,1115,1117,1118,1119,1121,1122,1123,1125,1126,1128,1129,1130,1131,1132,1134,1135,1136,1138,1139,1140,1141,1142,1143,1145,1146,1147,1148,1149,1151,1152,1153,1155,1156,1157,1159,1160,1162,1163,1164,1165,1166,1168,1169,1170,1172,1173,1174,1175,1176,1177,1179,1180,1181,1182,1183,1185,1186,1187,1189,1190,1191,1192,1193,1194,1196,1197,1198,1199,1200,1202,1203,1204,1206,1207,1208,1210,1211,1213,1214,1215,1216,1217,1219,1220,1221,1223,1224,1225,1226,1227,1228,1230,1231,1232,1233,1234,1236,1237,1238,1240,1241,1242,1243,1244,1245,1247,1248,1249,1250,1251,1253,1254,1255,1257,1258,1259,1261,1262,1264,1265,1266,1267,1268,1270,1271,1272,1274,1275,1276,1278,1279,1281,1282,1283,1284,1285,1287,1441,1442,1443,1444,1445,1446,1447,1448,1449,1450,1451,1452,1453,1454,1455,1456,1457,1458,1459,1460,1461,1462,1463,1464,1465,1466,1467,1468,1469,1470,1471,1472,1473,1474,1475,1476,1477,1478,1479,1480,1481,1482,1483,1484,1485,1486,1487,1488,1489,1490,1491,1492,1493,1494,1495,1496,1497,1498,1499,1500,1501,1502,1503,1504,1505,1506,1507,1508,1509,1510,1511,1512,1513,1514,1515,1516,1517,1518,1519,1520,1521,1522,1523,1524,1525,1526,1527,1528,1529,1530,1531,1532,1533,1534,1535,1536,1537,1538,1539,1540,1541,1542,1543,1544,1545,1546,1547,1548,1549,1550,1551,1552,1553,1554,1555,1556,1557,1558,1559,1560,1561,1562,1563,1564,1565,1566,1567,1568,1569,1570,1571,1572,1573,1574,1575,1576,1577,1578,1579,1580,1581,1582,1583,1584,1585,1586,1587,1588,1589,1590,1591,1592,1593,1594,1595,1596,1597,1598,1599,1600,1601,1602,1603,1604,1605,1606,1607,1608,1609,1610,1611,1612,1613,1614,1615,1616,1617,1618,1619,1620,1621,1622,1623,1624,1625,1626,1627,1628,1629,1630,1631,1632,1633,1634,1635,1636,1637,1638,1639,1640,1641,1642,1643,1644,1645,1646,1647,1648,1649,1650,1651,1652,1653,1654,1655,1656,1657,1658,1659,1660,1661,1662,1663,1664,1665,1666,1667,1668,1669,1670,1671,1672,1673,1674,1675,1676,1677,1678,1679,1680,1681,1682,1683,1684,1685,1686,1687,1688,1689,1690,1691,1692,1693,1694,1695) have mixed types. Specify dtype option on import or set low_memory=False.\n",
      "  interactivity=interactivity, compiler=compiler, result=result)\n",
      "C:\\Users\\User\\Anaconda3\\lib\\site-packages\\IPython\\core\\interactiveshell.py:3058: DtypeWarning: Columns (1,3,4,6,7,8,9,11) have mixed types. Specify dtype option on import or set low_memory=False.\n",
      "  interactivity=interactivity, compiler=compiler, result=result)\n"
     ]
    }
   ],
   "source": [
    "path = 'https://raw.githubusercontent.com/EmmS21/SpringboardCapstoneBoxingPredictionWebApp/master/boxingdata/visuals.csv'\n",
    "path_two = 'https://raw.githubusercontent.com/EmmS21/SpringboardCapstoneBoxingPredictionWebApp/master/boxingdata/longformateddata2.csv'\n",
    "data = pd.read_csv(path)\n",
    "data['division'] = data['division'].fillna('unknown')\n",
    "data['bouts_fought'] = data['w'].astype('float')+data['l'].astype('float')+data['d'].astype('float')\n",
    "#uploading data for heatmap\n",
    "long_data = pd.read_csv(path_two)\n",
    "#count wins by stance\n",
    "df = long_data[long_data['outcome'].str.contains('win',na=False)].groupby(['stance1', 'stance.y','division','sex'])['outcome'].count().reset_index()\n",
    "#dataframe of total wins,losses and draws by age range\n",
    "wins = long_data[long_data['outcome'].str.contains('win',na=False)].groupby(['age_range', 'opp_age_range','division','sex'])['outcome'].count().reset_index()\n",
    "loss = long_data[long_data['outcome'].str.contains('loss',na=False)].groupby(['age_range', 'opp_age_range','division','sex'])['outcome'].count().reset_index()\n",
    "draw = long_data[long_data['outcome'].str.contains('draw',na=False)].groupby(['age_range', 'opp_age_range','division','sex'])['outcome'].count().reset_index()\n",
    "#other fight outcomes - nan, unknown etc\n",
    "outcomes = ['win','draw','loss']\n",
    "outcomeslist = '|'.join(outcomes)\n",
    "other = long_data[~long_data['outcome'].str.contains(outcomeslist,na=False)].groupby(['age_range', 'opp_age_range','division','sex'])['outcome'].count().reset_index()\n",
    "#merge all outcomes\n",
    "fight_outcomes = pd.DataFrame()\n",
    "fight_outcomes[['age_range','opp_age_range','division','sex','wins']] = wins[['age_range','opp_age_range','division','sex','outcome']]\n",
    "fight_outcomes = fight_outcomes.merge(loss, on=['age_range','opp_age_range','division','sex']).rename(columns={'outcome':'loss'}).merge(draw, on=['age_range','opp_age_range','division','sex']).rename(columns={'outcome':'draw'}).merge(other, on=['age_range','opp_age_range','division','sex']).rename(columns={'outcome':'other'})\n",
    "#calculate win rates by different age groups\n",
    "fight_outcomes['total_fights'] = fight_outcomes[['wins','loss','draw','other']].sum(axis=1)\n",
    "fight_outcomes['win_rate']=(fight_outcomes['wins']/fight_outcomes['total_fights'])*100\n",
    "#count total fights by stance\n",
    "df2 = long_data[['division','outcome']].groupby('division').count().reset_index()\n",
    "df2.rename(columns={'outcome':'total'},inplace=True)\n",
    "df = df.merge(df2,on='division')\n",
    "#calculate wins in percentages\n",
    "df['win_rate'] =df['outcome']/df['total'] *100\n",
    "#filter out where stance1 is unknown\n",
    "df = df[df.stance1 != 'unknown']\n",
    "#cleaning data for top boxer table\n",
    "firstBoxer = ['firstBoxerWeight'+str(i) for i in range(1,85)]\n",
    "secondBoxer = ['secondBoxerWeight'+str(i) for i in range(1,85)]\n",
    "opp_rating = ['secondBoxerRating'+str(i) for i in range(1,85)]\n",
    "#average weight of boxer\n",
    "data['average_weight'] = data[firstBoxer].mean(axis=1)\n",
    "#average opponent weight\n",
    "data['average_opponent_weight'] = data[secondBoxer].mean(axis=1)\n",
    "#extract wins and losses\n",
    "def wins(col):\n",
    "    return data[col].astype(str).str.extract('win(?P<win>.*?)}')\n",
    "def draws(col):\n",
    "    return data[col].astype(str).str.extract('draw(?P<draw>.*?)l')\n",
    "opp_rank = ['secondBoxerRecord'+str(i) for i in range(1,85)]\n",
    "#update columns with wins and losses\n",
    "for i in opp_rank:\n",
    "    data['opp_wins'+str(i)] = wins(i)\n",
    "for i in opp_rank:\n",
    "    data['opp_draws'+str(i)] = draws(i)\n",
    "opp_drawsd = ['opp_draws'+str(i) for i in opp_rank]\n",
    "opp_winsd = ['opp_wins'+str(i) for i in opp_rank]\n",
    "#remove quotation marks\n",
    "data[opp_drawsd] = data[opp_drawsd].apply(lambda x: x.str.replace('\"',''))\n",
    "data[opp_winsd] = data[opp_drawsd].apply(lambda x: x.str.replace('\"',''))\n",
    "#replace all letters with number 0\n",
    "data[opp_drawsd] = data[opp_drawsd].replace(regex='([a-zA-Z])', value=0)\n",
    "data[opp_winsd] = data[opp_winsd].replace(regex='([a-zA-Z])', value=0)\n",
    "#assume win is 10 points and draw is 5 points\n",
    "data[opp_winsd] = data[opp_winsd].astype(float)*10\n",
    "data[opp_drawsd] = data[opp_drawsd].astype(float)*5\n",
    "#new column with total points\n",
    "data['opp_points'] = data[opp_winsd].sum(axis=1) + data[opp_drawsd].sum(axis=1)\n",
    "#divide points by number of bouts fought\n",
    "data['opp_points'] = data['opp_points']/data['bouts_fought']\n",
    "#get type of wins from referee column\n",
    "ref_outcome = ['referee'+str(i) for i in range(1,85)]\n",
    "topten = pd.concat([data,data[ref_outcome].astype(str).stack().str.replace('\\[|\\\"','').str.extract('(\\w+\\s\\w+)').groupby(level=0)[0].apply(pd.Series.value_counts).unstack(fill_value=0)],axis=1)\n",
    "topten = topten[['name','w','d','l','location','division','average_weight','average_opponent_weight','opp_points','bouts_fought','win KO','win SD', 'win TKO', 'win UD','sex']]\n",
    "topten.rename(columns={'w':'wins','d':'draws','l':'losses','win KO':'win by knockout','win SD':'win by split decision','win TKO':'win by technical knockout','win UD':'win by unanimous decision'},inplace=True)\n",
    "topten['total_points'] = ((topten['wins']*10 +(topten['draws']*5) - (topten['losses']*5)))+topten['opp_points']\n",
    "topten.to_csv(\"C://Users//User//Documents//GitHub//SpringboardCapstoneBoxingPredictionWebApp//boxingdata//topten.csv\")\n",
    "data.to_csv(\"C://Users//User//Documents//GitHub//SpringboardCapstoneBoxingPredictionWebApp//boxingdata//vizdata.csv\")"
   ]
  }
 ],
 "metadata": {
  "kernelspec": {
   "display_name": "Python 3",
   "language": "python",
   "name": "python3"
  },
  "language_info": {
   "codemirror_mode": {
    "name": "ipython",
    "version": 3
   },
   "file_extension": ".py",
   "mimetype": "text/x-python",
   "name": "python",
   "nbconvert_exporter": "python",
   "pygments_lexer": "ipython3",
   "version": "3.7.4"
  }
 },
 "nbformat": 4,
 "nbformat_minor": 2
}
