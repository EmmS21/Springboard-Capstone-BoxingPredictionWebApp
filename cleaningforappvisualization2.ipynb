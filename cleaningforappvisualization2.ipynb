{
 "cells": [
  {
   "cell_type": "code",
   "execution_count": 40,
   "metadata": {},
   "outputs": [],
   "source": [
    "import pandas as pd"
   ]
  },
  {
   "cell_type": "code",
   "execution_count": 41,
   "metadata": {
    "scrolled": true
   },
   "outputs": [
    {
     "name": "stderr",
     "output_type": "stream",
     "text": [
      "C:\\Users\\User\\Anaconda3\\lib\\site-packages\\IPython\\core\\interactiveshell.py:3058: DtypeWarning: Columns (697,700,717,734,751,759,760,762,763,764,765,766,767,768,769,770,771,772,773,775,776,777,779,780,781,782,783,784,785,786,787,788,789,790,792,793,794,796,797,798,799,800,801,802,803,804,805,806,807,809,810,811,813,814,815,816,817,818,819,820,821,822,823,824,826,827,828,830,831,832,833,834,835,836,837,838,839,840,841,843,844,845,847,848,849,850,851,852,853,854,855,856,857,858,860,861,862,864,865,866,867,868,869,870,871,872,873,874,875,877,878,879,881,882,883,884,885,886,887,888,889,890,891,892,894,895,896,898,899,900,901,902,903,904,905,906,907,908,909,911,912,913,915,916,917,918,919,920,921,922,923,924,925,926,928,929,930,932,933,934,935,936,937,938,939,940,941,942,943,945,946,947,949,950,951,952,953,954,955,956,957,958,959,960,962,963,964,966,967,968,969,970,971,972,973,974,975,976,977,979,980,981,983,984,985,986,987,988,989,990,991,992,993,994,996,997,998,1000,1001,1002,1003,1004,1005,1006,1007,1008,1009,1010,1011,1013,1014,1015,1017,1018,1019,1020,1021,1022,1023,1024,1025,1026,1027,1028,1030,1031,1032,1034,1035,1036,1037,1038,1039,1040,1041,1042,1043,1044,1045,1047,1048,1049,1051,1052,1053,1054,1055,1056,1057,1058,1059,1060,1061,1062,1064,1065,1066,1068,1069,1070,1071,1072,1073,1075,1076,1077,1078,1079,1081,1082,1083,1085,1086,1087,1089,1090,1092,1093,1094,1095,1096,1098,1099,1100,1102,1103,1104,1106,1107,1109,1110,1111,1112,1113,1115,1116,1117,1119,1120,1121,1123,1124,1126,1127,1128,1129,1130,1132,1133,1134,1136,1137,1138,1140,1141,1143,1144,1145,1146,1147,1149,1150,1151,1153,1154,1155,1156,1157,1158,1160,1161,1162,1163,1164,1166,1167,1168,1170,1171,1172,1174,1175,1177,1178,1179,1180,1181,1183,1184,1185,1187,1188,1189,1190,1191,1192,1194,1195,1196,1197,1198,1200,1201,1202,1204,1205,1206,1207,1208,1209,1211,1212,1213,1214,1215,1217,1218,1219,1221,1222,1223,1225,1226,1228,1229,1230,1231,1232,1234,1235,1236,1238,1239,1240,1241,1242,1243,1245,1246,1247,1248,1249,1251,1252,1253,1255,1256,1257,1258,1259,1260,1262,1263,1264,1265,1266,1268,1269,1270,1272,1273,1274,1276,1277,1279,1280,1281,1282,1283,1285,1286,1287,1289,1290,1291,1293,1294,1296,1297,1298,1299,1300,1302) have mixed types. Specify dtype option on import or set low_memory=False.\n",
      "  interactivity=interactivity, compiler=compiler, result=result)\n",
      "C:\\Users\\User\\Anaconda3\\lib\\site-packages\\IPython\\core\\interactiveshell.py:3058: DtypeWarning: Columns (2,4,5,7,8,9,10,12) have mixed types. Specify dtype option on import or set low_memory=False.\n",
      "  interactivity=interactivity, compiler=compiler, result=result)\n"
     ]
    }
   ],
   "source": [
    "path = 'https://raw.githubusercontent.com/EmmS21/SpringboardCapstoneBoxingPredictionWebApp/master/boxingdata/visuals.csv'\n",
    "path_two = 'https://raw.githubusercontent.com/EmmS21/SpringboardCapstoneBoxingPredictionWebApp/master/boxingdata/longformateddata2.csv'\n",
    "data = pd.read_csv(path)\n",
    "data['division'] = data['division'].fillna('unknown')\n",
    "data['bouts_fought'] = data['w'].astype('float')+data['l'].astype('float')+data['d'].astype('float')\n",
    "#uploading data for heatmap\n",
    "long_data = pd.read_csv(path_two)\n",
    "#count wins by stance\n",
    "df = long_data[long_data['outcome'].str.contains('win',na=False)].groupby(['stance1', 'stance.y','division','sex'])['outcome'].count().reset_index()\n",
    "#dataframe of total wins,losses and draws by age range\n",
    "wins = long_data[long_data['outcome'].str.contains('win',na=False)].groupby(['age_range', 'opp_age_range','division','sex'])['outcome'].count().reset_index()\n",
    "loss = long_data[long_data['outcome'].str.contains('loss',na=False)].groupby(['age_range', 'opp_age_range','division','sex'])['outcome'].count().reset_index()\n",
    "draw = long_data[long_data['outcome'].str.contains('draw',na=False)].groupby(['age_range', 'opp_age_range','division','sex'])['outcome'].count().reset_index()\n",
    "#other fight outcomes - nan, unknown etc\n",
    "outcomes = ['win','draw','loss']\n",
    "outcomeslist = '|'.join(outcomes)\n",
    "other = long_data[~long_data['outcome'].str.contains(outcomeslist,na=False)].groupby(['age_range', 'opp_age_range','division','sex'])['outcome'].count().reset_index()\n",
    "#merge all outcomes\n",
    "fight_outcomes = pd.DataFrame()\n",
    "fight_outcomes[['age_range','opp_age_range','division','sex','wins']] = wins[['age_range','opp_age_range','division','sex','outcome']]\n",
    "fight_outcomes = fight_outcomes.merge(loss, on=['age_range','opp_age_range','division','sex']).rename(columns={'outcome':'loss'}).merge(draw, on=['age_range','opp_age_range','division','sex']).rename(columns={'outcome':'draw'}).merge(other, on=['age_range','opp_age_range','division','sex']).rename(columns={'outcome':'other'})\n",
    "#calculate win rates by different age groups\n",
    "fight_outcomes['total_fights'] = fight_outcomes[['wins','loss','draw','other']].sum(axis=1)\n",
    "fight_outcomes['win_rate']=(fight_outcomes['wins']/fight_outcomes['total_fights'])*100\n",
    "#count total fights by stance\n",
    "df2 = long_data[['division','outcome']].groupby('division').count().reset_index()\n",
    "df2.rename(columns={'outcome':'total'},inplace=True)\n",
    "df = df.merge(df2,on='division')\n",
    "#calculate wins in percentages\n",
    "df['win_rate'] =df['outcome']/df['total'] *100\n",
    "#filter out where stance1 is unknown\n",
    "df = df[df.stance1 != 'unknown']\n",
    "#cleaning data for top boxer table\n",
    "firstBoxer = ['firstBoxerWeight'+str(i) for i in range(1,85)]\n",
    "secondBoxer = ['secondBoxerWeight'+str(i) for i in range(1,85)]\n",
    "opp_rating = ['secondBoxerRating'+str(i) for i in range(1,85)]\n",
    "#average weight of boxer\n",
    "data['average_weight'] = data[firstBoxer].mean(axis=1)\n",
    "#average opponent weight\n",
    "data['average_opponent_weight'] = data[secondBoxer].mean(axis=1)\n",
    "#extract wins and losses\n",
    "def wins(col):\n",
    "    return data[col].astype(str).str.extract('win(?P<win>.*?)}')\n",
    "def draws(col):\n",
    "    return data[col].astype(str).str.extract('draw(?P<draw>.*?)l')\n",
    "opp_rank = ['secondBoxerRecord'+str(i) for i in range(1,85)]\n",
    "#update columns with wins and losses\n",
    "for i in opp_rank:\n",
    "    data['opp_wins'+str(i)] = wins(i)\n",
    "for i in opp_rank:\n",
    "    data['opp_draws'+str(i)] = draws(i)\n",
    "opp_drawsd = ['opp_draws'+str(i) for i in opp_rank]\n",
    "opp_winsd = ['opp_wins'+str(i) for i in opp_rank]\n",
    "#remove quotation marks\n",
    "data[opp_drawsd] = data[opp_drawsd].apply(lambda x: x.str.replace('\"',''))\n",
    "data[opp_winsd] = data[opp_drawsd].apply(lambda x: x.str.replace('\"',''))\n",
    "#replace all letters with number 0\n",
    "data[opp_drawsd] = data[opp_drawsd].replace(regex='([a-zA-Z])', value=0)\n",
    "data[opp_winsd] = data[opp_winsd].replace(regex='([a-zA-Z])', value=0)\n",
    "#assume win is 10 points and draw is 5 points\n",
    "data[opp_winsd] = data[opp_winsd].astype(float)*10\n",
    "data[opp_drawsd] = data[opp_drawsd].astype(float)*5\n",
    "#new column with total points\n",
    "data['opp_points'] = data[opp_winsd].sum(axis=1) + data[opp_drawsd].sum(axis=1)\n",
    "#divide points by number of bouts fought\n",
    "data['opp_points'] = data['opp_points']/data['bouts_fought']\n",
    "#get type of wins from referee column\n",
    "ref_outcome = ['referee'+str(i) for i in range(1,85)]\n",
    "topten = pd.concat([data,data[ref_outcome].astype(str).stack().str.replace('\\[|\\\"','').str.extract('(\\w+\\s\\w+)').groupby(level=0)[0].apply(pd.Series.value_counts).unstack(fill_value=0)],axis=1)\n",
    "topten = topten[['name','w','d','l','location','division','average_weight','average_opponent_weight','opp_points','bouts_fought','win KO','win SD', 'win TKO', 'win UD','sex']]\n",
    "topten.rename(columns={'w':'wins','d':'draws','l':'losses','win KO':'win by knockout','win SD':'win by split decision','win TKO':'win by technical knockout','win UD':'win by unanimous decision'},inplace=True)\n",
    "topten['total_points'] = ((topten['wins']*10 +(topten['draws']*5) - (topten['losses']*25)))+topten['opp_points']\n",
    "opp_names = ['secondBoxer'+str(i) for i in range(1,85)]\n",
    "outcome_cols = ['outcome'+str(i) for i in range(1,85)]\n",
    "#remove quotation marks from secondboxer name\n",
    "data[opp_names] = data[opp_names].astype(str).apply(lambda x: x.str.replace('\"',''))\n",
    "#get points for each opponent, if negative convert to zero\n",
    "data[opp_names]=data[opp_names].apply(lambda x : x.map(dict(zip(topten.name,topten.total_points))))\n",
    "data[opp_names] = data[opp_names].fillna(0)\n",
    "data[opp_names] = data[opp_names].mask(data[opp_names] < 0, 0)\n",
    "data[outcome_cols] = data[outcome_cols].astype(str).apply(lambda x: x.str.replace('\"',''))\n",
    "#add opp points to total points if outcome was a win\n",
    "topten['total_points'] = (data[opp_names].where(data[outcome_cols].eq('win ').values, 0).sum(axis=1)/5) + (topten['total_points'])\n",
    "topten.to_csv(\"C://Users//User//Documents//GitHub//SpringboardCapstoneBoxingPredictionWebApp//boxingdata//topten.csv\")\n",
    "data.to_csv(\"C://Users//User//Documents//GitHub//SpringboardCapstoneBoxingPredictionWebApp//boxingdata//vizdata.csv\")\n",
    "df.to_csv(\"C://Users//User//Documents//GitHub//SpringboardCapstoneBoxingPredictionWebApp//boxingdata//df.csv\")\n",
    "fight_outcomes.to_csv(\"C://Users//User//Documents//GitHub//SpringboardCapstoneBoxingPredictionWebApp//boxingdata//fightoutcomes.csv\")"
   ]
  }
 ],
 "metadata": {
  "kernelspec": {
   "display_name": "Python 3",
   "language": "python",
   "name": "python3"
  },
  "language_info": {
   "codemirror_mode": {
    "name": "ipython",
    "version": 3
   },
   "file_extension": ".py",
   "mimetype": "text/x-python",
   "name": "python",
   "nbconvert_exporter": "python",
   "pygments_lexer": "ipython3",
   "version": "3.7.4"
  }
 },
 "nbformat": 4,
 "nbformat_minor": 2
}
