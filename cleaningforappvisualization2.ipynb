{
 "cells": [
  {
   "cell_type": "code",
   "execution_count": 1,
   "metadata": {},
   "outputs": [],
   "source": [
    "import pandas as pd"
   ]
  },
  {
   "cell_type": "code",
   "execution_count": 2,
   "metadata": {
    "scrolled": true
   },
   "outputs": [
    {
     "name": "stderr",
     "output_type": "stream",
     "text": [
      "C:\\Users\\User\\Anaconda3\\lib\\site-packages\\IPython\\core\\interactiveshell.py:3058: DtypeWarning: Columns (39,40,41,42,43,44,46,47,48,49,50,51,52,53,54,55,98,99,100,101,102,103,105,106,107,108,109,110,111,112,113,114,159,160,161,162,163,164,166,167,168,169,170,171,172,173,174,175,219,220,221,222,223,224,226,227,228,229,230,231,232,233,234,235,341,342,343,344,345,346,348,349,350,351,352,353,354,355,356,357,396,400,401,402,403,404,405,407,408,409,410,411,412,413,414,415,416,461,462,463,464,465,466,468,469,470,471,472,473,474,475,476,477,520,521,522,523,524,525,527,528,529,530,531,532,533,534,535,536,576,577,578,579,580,581,582,583,584,585,587,588,589,590,591,592,593,594,595,638,639,640,641,642,643,645,646,647,648,649,650,651,652,653,696,697,698,699,700,701,703,704,705,706,707,708,709,710,711,754,755,756,757,758,759,761,762,763,764,765,766,767,768,769,812,813,814,815,816,817,819,820,821,822,823,824,825,826,827,870,871,872,873,874,875,877,878,879,880,881,882,883,884,885,987,988,989,990,991,992,994,995,996,997,998,999,1000,1001,1002,1009,1010,1011,1012,1013,1014,1015,1016,1017,1018,1019,1020,1021,1022,1023,1024,1034,1035,1036,1037,1038,1039,1040,1041,1042,1043,1044,1045,1046,1047,1048,1049,1059,1060,1061,1062,1063,1064,1065,1066,1067,1068,1069,1070,1071,1072,1073,1074,1084,1085,1086,1087,1088,1089,1090,1091,1092,1093,1094,1095,1096,1097,1098,1099,1100,1101,1102,1103,1104,1105,1106,1107,1108,1109,1110,1111,1112,1113,1114,1115,1116,1117,1118,1119,1120,1121,1122,1123,1158,1159,1160,1161,1162,1163,1164,1165,1166,1167,1168,1169,1170,1171,1172,1173,1183,1184,1185,1190,1192,1193,1195,1196,1208,1209,1210,1211,1212,1213,1214,1215,1216,1217,1218,1219,1220,1221,1222,1223,1233,1234,1235,1236,1237,1238,1239,1240,1241,1242,1243,1244,1245,1246,1247,1248,1258,1259,1260,1284,1285,1286,1287,1288,1289,1290,1291,1292,1293,1294,1295,1296,1297,1298,1299,1300,1310,1311,1312,1313,1314,1315,1316,1317,1318,1319,1320,1321,1322,1323,1324,1325,1326,1327,1328,1329,1330,1331,1332,1333,1334,1335,1336,1337,1338,1339,1340,1341,1342,1343,1344,1345,1346,1347,1348,1349,1350,1360,1361,1362,1363,1364,1365,1366,1367,1368,1369,1370,1371,1372,1373,1374,1375,1376,1386,1387,1388,1389,1390,1391,1392,1393,1394,1395,1396,1397,1398,1399,1400,1401,1402,1412,1413,1414,1415,1416,1417,1418,1419,1420,1421,1422,1423,1424,1425,1426,1427,1428,1464,1465,1466,1467,1468,1469,1470,1471,1472,1473,1474,1475,1476,1477,1478,1479,1480,1481,1482,1483,1484,1485,1486,1487,1488,1489,1490,1491,1492,1493,1494,1495,1496,1497,1498,1499,1500,1501,1502,1503,1513,1514,1515,1516,1517,1518,1519,1520,1521,1522,1523,1524,1525,1526,1527,1528,1529,1530,1531,1532,1533,1534,1535,1536,1537,1538,1539,1540,1541,1542,1543,1544,1545,1546,1547,1548,1549,1550,1551,1552,1553,1554,1555,1556,1557,1558,1559,1560,1561,1562,1563,1564,1565,1566,1567,1568,1569,1570,1571,1572,1573,1574,1575,1576,1577,1578,1579,1580,1581,1582,1583,1584,1585,1586,1587,1588,1589,1590,1591,1592,1593,1594,1595,1596,1597,1598,1599,1600,1601,1602,1603,1604,1605,1606,1607,1608,1609,1610,1611,1612,1613,1614,1615,1616,1617,1618,1619,1620,1621,1622,1623,1624,1625,1626,1627,1628,1629,1630,1631,1632,1633,1634,1635,1636,1637,1638,1639,1640,1641,1642,1643,1644,1645,1646,1647,1648,1649,1650,1651,1652,1653,1654,1655,1656,1657,1658,1659,1660,1661,1662,1663,1664,1665,1666,1667,1668,1669,1670,1671,1672,1673,1674,1675,1676,1677,1678,1679,1680,1681,1682,1683,1684,1685,1686,1687,1688,1689,1690,1691,1692,1693,1694,1695,1696) have mixed types. Specify dtype option on import or set low_memory=False.\n",
      "  interactivity=interactivity, compiler=compiler, result=result)\n",
      "C:\\Users\\User\\Anaconda3\\lib\\site-packages\\IPython\\core\\interactiveshell.py:3058: DtypeWarning: Columns (3,7,8,9,11) have mixed types. Specify dtype option on import or set low_memory=False.\n",
      "  interactivity=interactivity, compiler=compiler, result=result)\n"
     ]
    }
   ],
   "source": [
    "path = 'https://raw.githubusercontent.com/EmmS21/SpringboardCapstoneBoxingPredictionWebApp/master/boxingdata/visuals.csv'\n",
    "path_two = 'https://raw.githubusercontent.com/EmmS21/SpringboardCapstoneBoxingPredictionWebApp/master/boxingdata/longformateddata2.csv'\n",
    "data = pd.read_csv(path)\n",
    "data['division'] = data['division'].fillna('unknown')\n",
    "data['bouts_fought'] = data['w'].astype('float')+data['l'].astype('float')+data['d'].astype('float')\n",
    "#uploading data for heatmap\n",
    "long_data = pd.read_csv(path_two)\n",
    "#count wins by stance\n",
    "df = long_data[long_data['outcome'].str.contains('win',na=False)].groupby(['stance1', 'stance.y','division','sex'])['outcome'].count().reset_index()\n",
    "#dataframe of total wins,losses and draws by age range\n",
    "wins = long_data[long_data['outcome'].str.contains('win',na=False)].groupby(['age_range', 'opp_age_range','division','sex'])['outcome'].count().reset_index()\n",
    "loss = long_data[long_data['outcome'].str.contains('loss',na=False)].groupby(['age_range', 'opp_age_range','division','sex'])['outcome'].count().reset_index()\n",
    "draw = long_data[long_data['outcome'].str.contains('draw',na=False)].groupby(['age_range', 'opp_age_range','division','sex'])['outcome'].count().reset_index()\n",
    "#other fight outcomes - nan, unknown etc\n",
    "outcomes = ['win','draw','loss']\n",
    "outcomeslist = '|'.join(outcomes)\n",
    "other = long_data[~long_data['outcome'].str.contains(outcomeslist,na=False)].groupby(['age_range', 'opp_age_range','division','sex'])['outcome'].count().reset_index()\n",
    "#merge all outcomes\n",
    "fight_outcomes = pd.DataFrame()\n",
    "fight_outcomes[['age_range','opp_age_range','division','sex','wins']] = wins[['age_range','opp_age_range','division','sex','outcome']]\n",
    "fight_outcomes = fight_outcomes.merge(loss, on=['age_range','opp_age_range','division','sex']).rename(columns={'outcome':'loss'}).merge(draw, on=['age_range','opp_age_range','division','sex']).rename(columns={'outcome':'draw'}).merge(other, on=['age_range','opp_age_range','division','sex']).rename(columns={'outcome':'other'})\n",
    "#calculate win rates by different age groups\n",
    "fight_outcomes['total_fights'] = fight_outcomes[['wins','loss','draw','other']].sum(axis=1)\n",
    "fight_outcomes['win_rate']=(fight_outcomes['wins']/fight_outcomes['total_fights'])*100\n",
    "#count total fights by stance\n",
    "df2 = long_data[['division','outcome']].groupby('division').count().reset_index()\n",
    "df2.rename(columns={'outcome':'total'},inplace=True)\n",
    "df = df.merge(df2,on='division')\n",
    "#calculate wins in percentages\n",
    "df['win_rate'] =df['outcome']/df['total'] *100\n",
    "#filter out where stance1 is unknown\n",
    "df = df[df.stance1 != 'unknown']\n",
    "#cleaning data for top boxer table\n",
    "firstBoxer = ['firstBoxerWeight'+str(i) for i in range(1,85)]\n",
    "secondBoxer = ['secondBoxerWeight'+str(i) for i in range(1,85)]\n",
    "opp_rating = ['secondBoxerRating'+str(i) for i in range(1,85)]\n",
    "#average weight of boxer\n",
    "data['average_weight'] = data[firstBoxer].mean(axis=1)\n",
    "#average opponent weight\n",
    "data['average_opponent_weight'] = data[secondBoxer].mean(axis=1)\n",
    "#extract wins and losses\n",
    "def wins(col):\n",
    "    return data[col].astype(str).str.extract('win(?P<win>.*?)}')\n",
    "def draws(col):\n",
    "    return data[col].astype(str).str.extract('draw(?P<draw>.*?)l')\n",
    "opp_rank = ['secondBoxerRecord'+str(i) for i in range(1,85)]\n",
    "#update columns with wins and losses\n",
    "for i in opp_rank:\n",
    "    data['opp_wins'+str(i)] = wins(i)\n",
    "for i in opp_rank:\n",
    "    data['opp_draws'+str(i)] = draws(i)\n",
    "opp_drawsd = ['opp_draws'+str(i) for i in opp_rank]\n",
    "opp_winsd = ['opp_wins'+str(i) for i in opp_rank]\n",
    "#remove quotation marks\n",
    "data[opp_drawsd] = data[opp_drawsd].apply(lambda x: x.str.replace('\"',''))\n",
    "data[opp_winsd] = data[opp_drawsd].apply(lambda x: x.str.replace('\"',''))\n",
    "#replace all letters with number 0\n",
    "data[opp_drawsd] = data[opp_drawsd].replace(regex='([a-zA-Z])', value=0)\n",
    "data[opp_winsd] = data[opp_winsd].replace(regex='([a-zA-Z])', value=0)\n",
    "#assume win is 10 points and draw is 5 points\n",
    "data[opp_winsd] = data[opp_winsd].astype(float)*10\n",
    "data[opp_drawsd] = data[opp_drawsd].astype(float)*5\n",
    "#new column with total points\n",
    "data['opp_points'] = data[opp_winsd].sum(axis=1) + data[opp_drawsd].sum(axis=1)\n",
    "#divide points by number of bouts fought\n",
    "data['opp_points'] = data['opp_points']/data['bouts_fought']\n",
    "#get type of wins from referee column\n",
    "ref_outcome = ['referee'+str(i) for i in range(1,85)]\n",
    "topten = pd.concat([data,data[ref_outcome].astype(str).stack().str.replace('\\[|\\\"','').str.extract('(\\w+\\s\\w+)').groupby(level=0)[0].apply(pd.Series.value_counts).unstack(fill_value=0)],axis=1)\n",
    "topten = topten[['name','w','d','l','location','division','average_weight','average_opponent_weight','opp_points','bouts_fought','win KO','win SD', 'win TKO', 'win UD','sex']]\n",
    "topten.rename(columns={'w':'wins','d':'draws','l':'losses','win KO':'win by knockout','win SD':'win by split decision','win TKO':'win by technical knockout','win UD':'win by unanimous decision'},inplace=True)\n",
    "topten['total_points'] = ((topten['wins']*10 +(topten['draws']*5) - (topten['losses']*10)))+topten['opp_points']\n",
    "opp_names = ['secondBoxer'+str(i) for i in range(1,85)]\n",
    "outcome_cols = ['outcome'+str(i) for i in range(1,85)]\n",
    "#remove quotation marks from secondboxer name\n",
    "data[opp_names] = data[opp_names].astype(str).apply(lambda x: x.str.replace('\"',''))\n",
    "#get points for each opponent, if negative convert to zero\n",
    "data[opp_names]=data[opp_names].apply(lambda x : x.map(dict(zip(topten.name,topten.total_points))))\n",
    "data[opp_names] = data[opp_names].fillna(0)\n",
    "data[opp_names] = data[opp_names].mask(data[opp_names] < 0, 0)\n",
    "data[outcome_cols] = data[outcome_cols].astype(str).apply(lambda x: x.str.replace('\"',''))\n",
    "#add opp points to total points if outcome was a win\n",
    "topten['total_points'] = (data[opp_names].where(data[outcome_cols].eq('win ').values, 0).sum(axis=1)/5) + (topten['total_points'])\n",
    "topten.to_csv(\"C://Users//User//Documents//GitHub//SpringboardCapstoneBoxingPredictionWebApp//boxingdata//topten.csv\")\n",
    "data.to_csv(\"C://Users//User//Documents//GitHub//SpringboardCapstoneBoxingPredictionWebApp//boxingdata//vizdata.csv\")\n",
    "df.to_csv(\"C://Users//User//Documents//GitHub//SpringboardCapstoneBoxingPredictionWebApp//boxingdata//df.csv\")\n",
    "fight_outcomes.to_csv(\"C://Users//User//Documents//GitHub//SpringboardCapstoneBoxingPredictionWebApp//boxingdata//fightoutcomes.csv\")"
   ]
  }
 ],
 "metadata": {
  "kernelspec": {
   "display_name": "Python 3",
   "language": "python",
   "name": "python3"
  },
  "language_info": {
   "codemirror_mode": {
    "name": "ipython",
    "version": 3
   },
   "file_extension": ".py",
   "mimetype": "text/x-python",
   "name": "python",
   "nbconvert_exporter": "python",
   "pygments_lexer": "ipython3",
   "version": "3.7.4"
  }
 },
 "nbformat": 4,
 "nbformat_minor": 2
}
